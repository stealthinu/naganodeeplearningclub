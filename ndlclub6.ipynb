{
 "nbformat": 4,
 "nbformat_minor": 0,
 "metadata": {
  "colab": {
   "name": "ndlclub6.ipynb",
   "version": "0.3.2",
   "provenance": [],
   "collapsed_sections": [],
   "toc_visible": true
  },
  "kernelspec": {
   "name": "python3",
   "display_name": "Python 3"
  },
  "accelerator": "TPU"
 },
 "cells": [
  {
   "metadata": {
    "id": "wMPEqPVxpmq0",
    "colab_type": "code",
    "colab": {}
   },
   "cell_type": "code",
   "source": [
    "import numpy as np\n",
    "import tensorflow as tf\n",
    "import matplotlib.pyplot as plt\n",
    "from scipy.misc import toimage\n",
    "from tensorflow.keras.datasets import mnist"
   ],
   "execution_count": 0,
   "outputs": []
  },
  {
   "metadata": {
    "id": "ZoETQ-mmXwBp",
    "colab_type": "code",
    "colab": {}
   },
   "cell_type": "code",
   "source": [
    "from tensorflow.keras.utils import to_categorical"
   ],
   "execution_count": 0,
   "outputs": []
  },
  {
   "metadata": {
    "id": "nBvWTK2AslAd",
    "colab_type": "text"
   },
   "cell_type": "markdown",
   "source": [
    "# TensorBoardColab"
   ]
  },
  {
   "metadata": {
    "id": "ErtyX5bPX_Xz",
    "colab_type": "text"
   },
   "cell_type": "markdown",
   "source": [
    ""
   ]
  },
  {
   "metadata": {
    "id": "s1KNGkTt_53G",
    "colab_type": "text"
   },
   "cell_type": "markdown",
   "source": [
    "TensorBoardというtensorflowベースのエンジンを使っている場合に、学習ヒストリやネットワークのグラフなどを確認できるツールをcolabから使えるようにするもの。"
   ]
  },
  {
   "metadata": {
    "id": "AM0d1z62sm8c",
    "colab_type": "code",
    "outputId": "cf909356-733b-425c-8c65-783cf2db0daa",
    "executionInfo": {
     "status": "ok",
     "timestamp": 1546496295879,
     "user_tz": -540,
     "elapsed": 5170,
     "user": {
      "displayName": "Kiyoshi SATOH",
      "photoUrl": "https://lh5.googleusercontent.com/-Axv1tw7iUyw/AAAAAAAAAAI/AAAAAAAAALU/27WeD4XMZh0/s64/photo.jpg",
      "userId": "17263090257850830810"
     }
    },
    "colab": {
     "base_uri": "https://localhost:8080/",
     "height": 51
    }
   },
   "cell_type": "code",
   "source": [
    "!pip install tensorboardcolab\n",
    "from tensorboardcolab import *\n"
   ],
   "execution_count": 0,
   "outputs": [
    {
     "output_type": "stream",
     "text": [
      "Requirement already satisfied: tensorboardcolab in /usr/local/lib/python3.6/dist-packages (0.0.22)\n"
     ],
     "name": "stdout"
    },
    {
     "output_type": "stream",
     "text": [
      "Using TensorFlow backend.\n"
     ],
     "name": "stderr"
    }
   ]
  },
  {
   "metadata": {
    "id": "pIzHkAfusqz8",
    "colab_type": "code",
    "outputId": "0aea75eb-b790-4b47-a17a-44383781b958",
    "executionInfo": {
     "status": "ok",
     "timestamp": 1546496315203,
     "user_tz": -540,
     "elapsed": 18128,
     "user": {
      "displayName": "Kiyoshi SATOH",
      "photoUrl": "https://lh5.googleusercontent.com/-Axv1tw7iUyw/AAAAAAAAAAI/AAAAAAAAALU/27WeD4XMZh0/s64/photo.jpg",
      "userId": "17263090257850830810"
     }
    },
    "colab": {
     "base_uri": "https://localhost:8080/",
     "height": 68
    }
   },
   "cell_type": "code",
   "source": [
    "tbc = TensorBoardColab()\n",
    "summary_writer = tbc.get_writer()"
   ],
   "execution_count": 0,
   "outputs": [
    {
     "output_type": "stream",
     "text": [
      "Wait for 8 seconds...\n",
      "TensorBoard link:\n",
      "https://2282f099.ngrok.io\n"
     ],
     "name": "stdout"
    }
   ]
  },
  {
   "metadata": {
    "id": "dZ5uTr3yZGRK",
    "colab_type": "text"
   },
   "cell_type": "markdown",
   "source": [
    "# 学習データ準備"
   ]
  },
  {
   "metadata": {
    "id": "lHdGaJACp3VK",
    "colab_type": "code",
    "colab": {}
   },
   "cell_type": "code",
   "source": [
    "(X_train, Y_train), (X_test, Y_test) = tf.keras.datasets.mnist.load_data()\n",
    "\n",
    "x_train = X_train.astype('float32')\n",
    "x_test = X_test.astype('float32')\n",
    "x_train /= 255\n",
    "x_test /= 255\n",
    "y_train = to_categorical(Y_train, 10)\n",
    "y_test = to_categorical(Y_test, 10)"
   ],
   "execution_count": 0,
   "outputs": []
  },
  {
   "metadata": {
    "id": "sD4S2SFkqMb2",
    "colab_type": "code",
    "colab": {}
   },
   "cell_type": "code",
   "source": [
    "import cv2"
   ],
   "execution_count": 0,
   "outputs": []
  },
  {
   "metadata": {
    "id": "W1OJL3WzsEo-",
    "colab_type": "code",
    "outputId": "8a285c2f-7a04-41f1-9f94-757f58a18b98",
    "executionInfo": {
     "status": "ok",
     "timestamp": 1546055101199,
     "user_tz": -540,
     "elapsed": 675,
     "user": {
      "displayName": "Kiyoshi SATOH",
      "photoUrl": "https://lh5.googleusercontent.com/-Axv1tw7iUyw/AAAAAAAAAAI/AAAAAAAAALU/27WeD4XMZh0/s64/photo.jpg",
      "userId": "17263090257850830810"
     }
    },
    "colab": {
     "base_uri": "https://localhost:8080/",
     "height": 364
    }
   },
   "cell_type": "code",
   "source": [
    "plt.imshow(X_train[0])"
   ],
   "execution_count": 0,
   "outputs": [
    {
     "output_type": "execute_result",
     "data": {
      "text/plain": [
       "<matplotlib.image.AxesImage at 0x7f5e7a240a20>"
      ]
     },
     "metadata": {
      "tags": []
     },
     "execution_count": 8
    },
    {
     "output_type": "display_data",
     "data": {
      "image/png": "[encoded data removed]",
      "text/plain": [
       "<matplotlib.figure.Figure at 0x7f5e7a25fcc0>"
      ]
     },
     "metadata": {
      "tags": []
     }
    }
   ]
  },
  {
   "metadata": {
    "id": "FoW-cYArtmv_",
    "colab_type": "code",
    "colab": {}
   },
   "cell_type": "code",
   "source": [
    "img = cv2.resize(X_train[0], (28,28))"
   ],
   "execution_count": 0,
   "outputs": []
  },
  {
   "metadata": {
    "id": "TflQLw1swM-Y",
    "colab_type": "code",
    "colab": {}
   },
   "cell_type": "code",
   "source": [
    "def affine_image(img, x, y, angle, scale=1.0):\n",
    "  w = 28\n",
    "  h = 28\n",
    "\n",
    "  center = (w/2, h/2)\n",
    "  rotation_matrix = cv2.getRotationMatrix2D(center, angle, scale)\n",
    "\n",
    "  # 平行移動して(x, y)の位置に置く\n",
    "  affine_matrix = rotation_matrix.copy()\n",
    "  affine_matrix[0][2] = affine_matrix[0][2] - w/2 + x\n",
    "  affine_matrix[1][2] = affine_matrix[1][2] - h/2 + y\n",
    "\n",
    "  img_rot = cv2.warpAffine(img, affine_matrix, (w, h), flags=cv2.INTER_CUBIC)\n",
    "\n",
    "  return img_rot"
   ],
   "execution_count": 0,
   "outputs": []
  },
  {
   "metadata": {
    "id": "27WLcV82xajR",
    "colab_type": "code",
    "colab": {}
   },
   "cell_type": "code",
   "source": [
    "img_rot = affine_image(img, 8, 8, 0, 0.8)"
   ],
   "execution_count": 0,
   "outputs": []
  },
  {
   "metadata": {
    "id": "kj-FcCsKth3P",
    "colab_type": "code",
    "outputId": "c853b118-d1be-4b48-df61-cc624f2dea81",
    "executionInfo": {
     "status": "ok",
     "timestamp": 1544935381437,
     "user_tz": -540,
     "elapsed": 3244,
     "user": {
      "displayName": "Kiyoshi SATOH",
      "photoUrl": "https://lh5.googleusercontent.com/-Axv1tw7iUyw/AAAAAAAAAAI/AAAAAAAAALU/27WeD4XMZh0/s64/photo.jpg",
      "userId": "17263090257850830810"
     }
    },
    "colab": {
     "base_uri": "https://localhost:8080/",
     "height": 364
    }
   },
   "cell_type": "code",
   "source": [
    "plt.imshow(img_rot)"
   ],
   "execution_count": 0,
   "outputs": [
    {
     "output_type": "execute_result",
     "data": {
      "text/plain": [
       "<matplotlib.image.AxesImage at 0x7f05c1c37160>"
      ]
     },
     "metadata": {
      "tags": []
     },
     "execution_count": 10
    },
    {
     "output_type": "display_data",
     "data": {
      "image/png": "[encoded data removed]",
      "text/plain": [
       "<matplotlib.figure.Figure at 0x7f05c1c81208>"
      ]
     },
     "metadata": {
      "tags": []
     }
    }
   ]
  },
  {
   "metadata": {
    "id": "ieN12JCJZR1f",
    "colab_type": "text"
   },
   "cell_type": "markdown",
   "source": [
    "# 小さなCNN"
   ]
  },
  {
   "metadata": {
    "id": "dbv-XOcFx5Zv",
    "colab_type": "code",
    "colab": {}
   },
   "cell_type": "code",
   "source": [
    "from tensorflow.keras.models import Sequential\n",
    "from tensorflow.keras.layers import Dense, Dropout, Activation, Flatten\n",
    "from tensorflow.keras.layers import Conv2D, MaxPooling2D\n",
    "from tensorflow.keras.layers import BatchNormalization, Dropout\n",
    "from tensorflow.keras.optimizers import SGD, Adam"
   ],
   "execution_count": 0,
   "outputs": []
  },
  {
   "metadata": {
    "id": "WLjBKidLx9A-",
    "colab_type": "code",
    "colab": {}
   },
   "cell_type": "code",
   "source": [
    "model = Sequential()\n",
    "\n",
    "model.add(Conv2D(100, 3, padding='same', input_shape=(28, 28, 1)))\n",
    "model.add(Activation('relu'))\n",
    "model.add(BatchNormalization())\n",
    "model.add(Dropout(0.25))\n",
    "\n",
    "model.add(MaxPooling2D(pool_size=(2, 2)))\n",
    "\n",
    "model.add(Conv2D(200, 3, padding='same'))\n",
    "model.add(Activation('relu'))\n",
    "model.add(BatchNormalization())\n",
    "model.add(Dropout(0.25))\n",
    "\n",
    "model.add(Conv2D(200, 3, padding='same'))\n",
    "model.add(Activation('relu'))\n",
    "model.add(BatchNormalization())\n",
    "model.add(Dropout(0.25))\n",
    "\n",
    "model.add(MaxPooling2D(pool_size=(2, 2)))\n",
    "\n",
    "model.add(Conv2D(200, 3, padding='same'))\n",
    "model.add(Activation('relu'))\n",
    "model.add(BatchNormalization())\n",
    "model.add(Dropout(0.25))\n",
    "\n",
    "model.add(Conv2D(200, 3, padding='same'))\n",
    "model.add(Activation('relu'))\n",
    "model.add(BatchNormalization())\n",
    "model.add(Dropout(0.25))\n",
    "\n",
    "model.add(Flatten())\n",
    "\n",
    "model.add(Dense(200))\n",
    "\n",
    "model.add(Dense(10))\n",
    "model.add(Activation('softmax'))"
   ],
   "execution_count": 0,
   "outputs": []
  },
  {
   "metadata": {
    "id": "4sSLPWzYyxfo",
    "colab_type": "code",
    "colab": {}
   },
   "cell_type": "code",
   "source": [
    "model.compile(loss='categorical_crossentropy',\n",
    "              optimizer=SGD(momentum=0.9, nesterov=True),\n",
    "              metrics=['accuracy'])\n"
   ],
   "execution_count": 0,
   "outputs": []
  },
  {
   "metadata": {
    "id": "h0AVOnXly8ho",
    "colab_type": "code",
    "outputId": "34467b84-3107-4235-fbb0-bc6e4110c270",
    "executionInfo": {
     "status": "ok",
     "timestamp": 1542873353369,
     "user_tz": -540,
     "elapsed": 23128,
     "user": {
      "displayName": "Kiyoshi SATOH",
      "photoUrl": "https://lh5.googleusercontent.com/-Axv1tw7iUyw/AAAAAAAAAAI/AAAAAAAAALU/27WeD4XMZh0/s64/photo.jpg",
      "userId": "17263090257850830810"
     }
    },
    "colab": {
     "base_uri": "https://localhost:8080/",
     "height": 377
    }
   },
   "cell_type": "code",
   "source": [
    "import os\n",
    "tpu_model = tf.contrib.tpu.keras_to_tpu_model(\n",
    "    model,\n",
    "    strategy=tf.contrib.tpu.TPUDistributionStrategy(\n",
    "        tf.contrib.cluster_resolver.TPUClusterResolver(tpu='grpc://' + os.environ['COLAB_TPU_ADDR'])\n",
    "    )\n",
    ")"
   ],
   "execution_count": 0,
   "outputs": [
    {
     "output_type": "stream",
     "text": [
      "INFO:tensorflow:Querying Tensorflow master (b'grpc://10.19.184.202:8470') for TPU system metadata.\n",
      "INFO:tensorflow:Found TPU system:\n",
      "INFO:tensorflow:*** Num TPU Cores: 8\n",
      "INFO:tensorflow:*** Num TPU Workers: 1\n",
      "INFO:tensorflow:*** Num TPU Cores Per Worker: 8\n",
      "INFO:tensorflow:*** Available Device: _DeviceAttributes(/job:worker/replica:0/task:0/device:CPU:0, CPU, -1, 2042703823478942447)\n",
      "INFO:tensorflow:*** Available Device: _DeviceAttributes(/job:worker/replica:0/task:0/device:XLA_CPU:0, XLA_CPU, 17179869184, 11437009436083969393)\n",
      "INFO:tensorflow:*** Available Device: _DeviceAttributes(/job:worker/replica:0/task:0/device:XLA_GPU:0, XLA_GPU, 17179869184, 5855631250713975829)\n",
      "INFO:tensorflow:*** Available Device: _DeviceAttributes(/job:worker/replica:0/task:0/device:TPU:0, TPU, 17179869184, 15865175564536549733)\n",
      "INFO:tensorflow:*** Available Device: _DeviceAttributes(/job:worker/replica:0/task:0/device:TPU:1, TPU, 17179869184, 14307886007535200058)\n",
      "INFO:tensorflow:*** Available Device: _DeviceAttributes(/job:worker/replica:0/task:0/device:TPU:2, TPU, 17179869184, 4800449887343887024)\n",
      "INFO:tensorflow:*** Available Device: _DeviceAttributes(/job:worker/replica:0/task:0/device:TPU:3, TPU, 17179869184, 4718087111069042038)\n",
      "INFO:tensorflow:*** Available Device: _DeviceAttributes(/job:worker/replica:0/task:0/device:TPU:4, TPU, 17179869184, 9836406967729811840)\n",
      "INFO:tensorflow:*** Available Device: _DeviceAttributes(/job:worker/replica:0/task:0/device:TPU:5, TPU, 17179869184, 13034155759116163948)\n",
      "INFO:tensorflow:*** Available Device: _DeviceAttributes(/job:worker/replica:0/task:0/device:TPU:6, TPU, 17179869184, 7696300446158374706)\n",
      "INFO:tensorflow:*** Available Device: _DeviceAttributes(/job:worker/replica:0/task:0/device:TPU:7, TPU, 17179869184, 565508403955882246)\n",
      "INFO:tensorflow:*** Available Device: _DeviceAttributes(/job:worker/replica:0/task:0/device:TPU_SYSTEM:0, TPU_SYSTEM, 17179869184, 1078381775912437932)\n",
      "WARNING:tensorflow:tpu_model (from tensorflow.contrib.tpu.python.tpu.keras_support) is experimental and may change or be removed at any time, and without warning.\n",
      "INFO:tensorflow:Cloning SGD {'lr': 0.009999999776482582, 'momentum': 0.8999999761581421, 'decay': 0.0, 'nesterov': True}\n",
      "INFO:tensorflow:Cloning SGD {'lr': 0.009999999776482582, 'momentum': 0.8999999761581421, 'decay': 0.0, 'nesterov': True}\n"
     ],
     "name": "stdout"
    }
   ]
  },
  {
   "metadata": {
    "id": "T_MFhboSZ7zx",
    "colab_type": "code",
    "colab": {}
   },
   "cell_type": "code",
   "source": [
    "tpu_model.compile(\n",
    "    loss=tf.keras.losses.categorical_crossentropy,\n",
    "    optimizer=tf.train.AdamOptimizer(learning_rate=1e-3, ),\n",
    "    metrics=['categorical_accuracy'])\n"
   ],
   "execution_count": 0,
   "outputs": []
  },
  {
   "metadata": {
    "id": "1ovx6naQ0HJO",
    "colab_type": "code",
    "outputId": "c53ff280-934c-404e-cf69-8eb5cf1c15b1",
    "executionInfo": {
     "status": "ok",
     "timestamp": 1542873402320,
     "user_tz": -540,
     "elapsed": 72059,
     "user": {
      "displayName": "Kiyoshi SATOH",
      "photoUrl": "https://lh5.googleusercontent.com/-Axv1tw7iUyw/AAAAAAAAAAI/AAAAAAAAALU/27WeD4XMZh0/s64/photo.jpg",
      "userId": "17263090257850830810"
     }
    },
    "colab": {
     "base_uri": "https://localhost:8080/",
     "height": 428
    }
   },
   "cell_type": "code",
   "source": [
    "tpu_model.fit(\n",
    "    x=x_train.reshape(60000, 28, 28, 1), y=y_train,\n",
    "    batch_size=1000, epochs=5,\n",
    "    validation_data=(x_test.reshape(10000, 28, 28, 1), y_test)\n",
    ")\n"
   ],
   "execution_count": 0,
   "outputs": [
    {
     "output_type": "stream",
     "text": [
      "Train on 60000 samples, validate on 10000 samples\n",
      "Epoch 1/5\n",
      "INFO:tensorflow:New input shapes; (re-)compiling: mode=train (# of cores 8), [TensorSpec(shape=(125,), dtype=tf.int32, name='core_id0'), TensorSpec(shape=(125, 28, 28, 1), dtype=tf.float32, name='conv2d_input_10'), TensorSpec(shape=(125, 10), dtype=tf.float32, name='activation_5_target_50')]\n",
      "INFO:tensorflow:Overriding default placeholder.\n",
      "INFO:tensorflow:Remapping placeholder for conv2d_input\n",
      "INFO:tensorflow:Started compiling\n",
      "INFO:tensorflow:Finished compiling. Time elapsed: 4.446039915084839 secs\n",
      "INFO:tensorflow:Setting weights on TPU model.\n",
      "59000/60000 [============================>.] - ETA: 0s - loss: 2.5000 - categorical_accuracy: 0.8053INFO:tensorflow:New input shapes; (re-)compiling: mode=eval (# of cores 8), [TensorSpec(shape=(125,), dtype=tf.int32, name='core_id_10'), TensorSpec(shape=(125, 28, 28, 1), dtype=tf.float32, name='conv2d_input_10'), TensorSpec(shape=(125, 10), dtype=tf.float32, name='activation_5_target_50')]\n",
      "INFO:tensorflow:Overriding default placeholder.\n",
      "INFO:tensorflow:Remapping placeholder for conv2d_input\n",
      "INFO:tensorflow:Started compiling\n",
      "INFO:tensorflow:Finished compiling. Time elapsed: 2.1667673587799072 secs\n",
      "60000/60000 [==============================] - 20s 331us/step - loss: 2.4858 - categorical_accuracy: 0.8067 - val_loss: 2.2501 - val_categorical_accuracy: 0.5088\n",
      "Epoch 2/5\n",
      "60000/60000 [==============================] - 7s 121us/step - loss: 0.5315 - categorical_accuracy: 0.9550 - val_loss: 3.3682 - val_categorical_accuracy: 0.4782\n",
      "Epoch 3/5\n",
      "60000/60000 [==============================] - 7s 119us/step - loss: 0.1450 - categorical_accuracy: 0.9821 - val_loss: 3.6429 - val_categorical_accuracy: 0.5406\n",
      "Epoch 4/5\n",
      "60000/60000 [==============================] - 7s 119us/step - loss: 0.1221 - categorical_accuracy: 0.9851 - val_loss: 2.6916 - val_categorical_accuracy: 0.5973\n",
      "Epoch 5/5\n",
      "60000/60000 [==============================] - 7s 118us/step - loss: 0.0895 - categorical_accuracy: 0.9883 - val_loss: 3.3553 - val_categorical_accuracy: 0.5366\n"
     ],
     "name": "stdout"
    },
    {
     "output_type": "execute_result",
     "data": {
      "text/plain": [
       "<tensorflow.python.keras.callbacks.History at 0x7fef05241e80>"
      ]
     },
     "metadata": {
      "tags": []
     },
     "execution_count": 15
    }
   ]
  },
  {
   "metadata": {
    "id": "GnMvxhkkd5EE",
    "colab_type": "code",
    "outputId": "6e3bff44-6650-481e-a7cf-1e76a2e697f8",
    "executionInfo": {
     "status": "ok",
     "timestamp": 1542873403358,
     "user_tz": -540,
     "elapsed": 73085,
     "user": {
      "displayName": "Kiyoshi SATOH",
      "photoUrl": "https://lh5.googleusercontent.com/-Axv1tw7iUyw/AAAAAAAAAAI/AAAAAAAAALU/27WeD4XMZh0/s64/photo.jpg",
      "userId": "17263090257850830810"
     }
    },
    "colab": {
     "base_uri": "https://localhost:8080/",
     "height": 34
    }
   },
   "cell_type": "code",
   "source": [
    "cpu_model = tpu_model.sync_to_cpu()"
   ],
   "execution_count": 0,
   "outputs": [
    {
     "output_type": "stream",
     "text": [
      "INFO:tensorflow:Copying TPU weights to the CPU\n"
     ],
     "name": "stdout"
    }
   ]
  },
  {
   "metadata": {
    "id": "y3jZZ147Olwk",
    "colab_type": "code",
    "colab": {}
   },
   "cell_type": "code",
   "source": [
    "def test_mnist_cnn(x_test, y_test):\n",
    "    test_num = 10\n",
    "    start = np.random.randint(x_test.shape[0] - test_num)\n",
    "    x = x_test[start:start+test_num]\n",
    "    y = y_test[start:start+test_num]\n",
    "\n",
    "    fig, subplts = plt.subplots(ncols=10, figsize=(20, 2))\n",
    "    for i in range(10):\n",
    "        subplts[i].imshow(x[i])\n",
    "\n",
    "    print(np.argmax(y, axis=1))\n",
    "\n",
    "    preds = cpu_model.predict(x.reshape(test_num,28,28,1))\n",
    "    print(np.argmax(preds, axis=1))"
   ],
   "execution_count": 0,
   "outputs": []
  },
  {
   "metadata": {
    "id": "qwOkxzgxOotU",
    "colab_type": "code",
    "outputId": "011a697e-ab09-4c67-d60a-30644e127623",
    "executionInfo": {
     "status": "ok",
     "timestamp": 1542873404633,
     "user_tz": -540,
     "elapsed": 74338,
     "user": {
      "displayName": "Kiyoshi SATOH",
      "photoUrl": "https://lh5.googleusercontent.com/-Axv1tw7iUyw/AAAAAAAAAAI/AAAAAAAAALU/27WeD4XMZh0/s64/photo.jpg",
      "userId": "17263090257850830810"
     }
    },
    "colab": {
     "base_uri": "https://localhost:8080/",
     "height": 199
    }
   },
   "cell_type": "code",
   "source": [
    "test_mnist_cnn(x_test, y_test)"
   ],
   "execution_count": 0,
   "outputs": [
    {
     "output_type": "stream",
     "text": [
      "[6 8 2 4 6 7 9 3 3 9]\n",
      "[4 8 1 1 6 1 9 1 8 9]\n"
     ],
     "name": "stdout"
    },
    {
     "output_type": "display_data",
     "data": {
      "image/png": "[encoded data removed]",
      "text/plain": [
       "<matplotlib.figure.Figure at 0x7fef026d36a0>"
      ]
     },
     "metadata": {
      "tags": []
     }
    }
   ]
  },
  {
   "metadata": {
    "id": "8ox8ESetfXkR",
    "colab_type": "code",
    "colab": {}
   },
   "cell_type": "code",
   "source": [
    "import math\n",
    "def test2_mnist_cnn(scale=0.5):\n",
    "    size = 28\n",
    "    test_num = 10\n",
    "    x  = np.zeros((test_num, size, size), dtype = 'float32')\n",
    "    start = np.random.randint(x_test.shape[0] - test_num)\n",
    "    x_orig = x_test[start:start+test_num]\n",
    "    y = y_test[start:start+test_num]\n",
    "    for i in range(10):\n",
    "      padding_size = math.floor(size - size*scale)\n",
    "      x0 = np.random.randint(padding_size) - math.floor(padding_size/2) + math.floor(size/2) \n",
    "      y0 = np.random.randint(padding_size) - math.floor(padding_size/2) + math.floor(size/2)\n",
    "      #x[i] = affine_image(x_orig[i], x0, y0, 0, scale)\n",
    "      x[i] = affine_image(x_orig[i], 10, 10, 0, scale)\n",
    "\n",
    "    fig, subplts = plt.subplots(ncols=10, figsize=(20, 2))\n",
    "    for i in range(10):\n",
    "        subplts[i].imshow(x[i])\n",
    "\n",
    "    print(np.argmax(y, axis=1))\n",
    "\n",
    "    preds = cpu_model.predict(x.reshape(test_num,28,28,1))\n",
    "    print(np.argmax(preds, axis=1))"
   ],
   "execution_count": 0,
   "outputs": []
  },
  {
   "metadata": {
    "id": "B03RuOmT4Gxn",
    "colab_type": "code",
    "outputId": "7e803883-ce52-4a61-f551-7b944738500d",
    "executionInfo": {
     "status": "ok",
     "timestamp": 1542873405684,
     "user_tz": -540,
     "elapsed": 75377,
     "user": {
      "displayName": "Kiyoshi SATOH",
      "photoUrl": "https://lh5.googleusercontent.com/-Axv1tw7iUyw/AAAAAAAAAAI/AAAAAAAAALU/27WeD4XMZh0/s64/photo.jpg",
      "userId": "17263090257850830810"
     }
    },
    "colab": {
     "base_uri": "https://localhost:8080/",
     "height": 199
    }
   },
   "cell_type": "code",
   "source": [
    "test2_mnist_cnn(0.6)"
   ],
   "execution_count": 0,
   "outputs": [
    {
     "output_type": "stream",
     "text": [
      "[8 9 6 4 2 6 4 7 5 5]\n",
      "[1 1 1 1 1 1 1 1 1 1]\n"
     ],
     "name": "stdout"
    },
    {
     "output_type": "display_data",
     "data": {
      "image/png": "[encoded data removed]",
      "text/plain": [
       "<matplotlib.figure.Figure at 0x7fef023ab0b8>"
      ]
     },
     "metadata": {
      "tags": []
     }
    }
   ]
  },
  {
   "metadata": {
    "id": "H6l0a5M4UOrD",
    "colab_type": "code",
    "colab": {}
   },
   "cell_type": "code",
   "source": [
    "def test3_mnist_cnn(scale=0.8):\n",
    "    size = 28\n",
    "    test_num = 10\n",
    "    x  = np.zeros((test_num, size, size), dtype = 'float32')\n",
    "    start = np.random.randint(x_test.shape[0] - test_num)\n",
    "    x_orig = x_test[start:start+test_num]\n",
    "    y = y_test[start:start+test_num]\n",
    "    for i in range(10):\n",
    "      padding_size = math.floor(size - size*scale)\n",
    "      x0 = np.random.randint(padding_size) - math.floor(padding_size/2) + math.floor(size/2) \n",
    "      y0 = np.random.randint(padding_size) - math.floor(padding_size/2) + math.floor(size/2)\n",
    "      x[i] = affine_image(x_orig[i], x0, y0, 0, scale)\n",
    "\n",
    "    fig, subplts = plt.subplots(ncols=10, figsize=(20, 2))\n",
    "    for i in range(10):\n",
    "        subplts[i].imshow(x[i])\n"
   ],
   "execution_count": 0,
   "outputs": []
  },
  {
   "metadata": {
    "id": "b-idErYHp377",
    "colab_type": "code",
    "outputId": "45a75b4c-d548-4274-c912-10c5b5991a8e",
    "executionInfo": {
     "status": "ok",
     "timestamp": 1542873405963,
     "user_tz": -540,
     "elapsed": 75645,
     "user": {
      "displayName": "Kiyoshi SATOH",
      "photoUrl": "https://lh5.googleusercontent.com/-Axv1tw7iUyw/AAAAAAAAAAI/AAAAAAAAALU/27WeD4XMZh0/s64/photo.jpg",
      "userId": "17263090257850830810"
     }
    },
    "colab": {
     "base_uri": "https://localhost:8080/",
     "height": 165
    }
   },
   "cell_type": "code",
   "source": [
    "test3_mnist_cnn(0.5)"
   ],
   "execution_count": 0,
   "outputs": [
    {
     "output_type": "display_data",
     "data": {
      "image/png": "[encoded data removed]",
      "text/plain": [
       "<matplotlib.figure.Figure at 0x7fef02114cc0>"
      ]
     },
     "metadata": {
      "tags": []
     }
    }
   ]
  },
  {
   "metadata": {
    "id": "I2iRW92Dp6SK",
    "colab_type": "code",
    "colab": {}
   },
   "cell_type": "code",
   "source": [
    ""
   ],
   "execution_count": 0,
   "outputs": []
  },
  {
   "metadata": {
    "id": "wd9WqeXDzTlt",
    "colab_type": "code",
    "colab": {}
   },
   "cell_type": "code",
   "source": [
    "def make_train_mnist(X_orig):\n",
    "  size = 28\n",
    "  num = X_orig.shape[0]\n",
    "  affined_x = np.zeros((num, size, size), dtype = 'float32')\n",
    "  for i in range(num):\n",
    "    scale = 1.0 - np.random.rand()*0.6 # scale = 0.0 ... 0.6\n",
    "    padding_size = math.floor(size - size*scale)\n",
    "    if padding_size >= 1:\n",
    "      x0 = np.random.randint(padding_size) - math.floor(padding_size/2) + math.floor(size/2) \n",
    "      y0 = np.random.randint(padding_size) - math.floor(padding_size/2) + math.floor(size/2)\n",
    "    else:\n",
    "      x0 = math.floor(size/2) \n",
    "      y0 = math.floor(size/2) \n",
    "    affined_x[i] = affine_image(X_orig[i], x0, y0, 0, scale)\n",
    "  return affined_x"
   ],
   "execution_count": 0,
   "outputs": []
  },
  {
   "metadata": {
    "id": "iNIUiT9C0Kiw",
    "colab_type": "code",
    "colab": {}
   },
   "cell_type": "code",
   "source": [
    "affined_x_train = make_train_mnist(x_train)\n",
    "affined_x_test = make_train_mnist(x_test)"
   ],
   "execution_count": 0,
   "outputs": []
  },
  {
   "metadata": {
    "id": "aj6eaV4K0L8F",
    "colab_type": "code",
    "outputId": "e94a6d84-dac3-461a-ab39-8cb6a6695079",
    "executionInfo": {
     "status": "ok",
     "timestamp": 1542873409187,
     "user_tz": -540,
     "elapsed": 78855,
     "user": {
      "displayName": "Kiyoshi SATOH",
      "photoUrl": "https://lh5.googleusercontent.com/-Axv1tw7iUyw/AAAAAAAAAAI/AAAAAAAAALU/27WeD4XMZh0/s64/photo.jpg",
      "userId": "17263090257850830810"
     }
    },
    "colab": {
     "base_uri": "https://localhost:8080/",
     "height": 364
    }
   },
   "cell_type": "code",
   "source": [
    "plt.imshow(affined_x_train[119])"
   ],
   "execution_count": 0,
   "outputs": [
    {
     "output_type": "execute_result",
     "data": {
      "text/plain": [
       "<matplotlib.image.AxesImage at 0x7fef01dbff98>"
      ]
     },
     "metadata": {
      "tags": []
     },
     "execution_count": 25
    },
    {
     "output_type": "display_data",
     "data": {
      "image/png": "[encoded data removed]",
      "text/plain": [
       "<matplotlib.figure.Figure at 0x7fef01e12128>"
      ]
     },
     "metadata": {
      "tags": []
     }
    }
   ]
  },
  {
   "metadata": {
    "id": "kvomEpP703cn",
    "colab_type": "code",
    "outputId": "a3d7958c-a774-4e64-fd20-eb87ebbfe5a7",
    "executionInfo": {
     "status": "ok",
     "timestamp": 1542873425602,
     "user_tz": -540,
     "elapsed": 95259,
     "user": {
      "displayName": "Kiyoshi SATOH",
      "photoUrl": "https://lh5.googleusercontent.com/-Axv1tw7iUyw/AAAAAAAAAAI/AAAAAAAAALU/27WeD4XMZh0/s64/photo.jpg",
      "userId": "17263090257850830810"
     }
    },
    "colab": {
     "base_uri": "https://localhost:8080/",
     "height": 119
    }
   },
   "cell_type": "code",
   "source": [
    "affined_x_train = make_train_mnist(x_train)\n",
    "affined_x_test = make_train_mnist(x_test)\n",
    "\n",
    "tpu_model.fit(\n",
    "    x=affined_x_train.reshape(60000, 28, 28, 1), y=y_train,\n",
    "    batch_size=1000, epochs=2,\n",
    "    validation_data=(affined_x_test.reshape(10000, 28, 28, 1), y_test)\n",
    ")"
   ],
   "execution_count": 0,
   "outputs": [
    {
     "output_type": "stream",
     "text": [
      "Train on 60000 samples, validate on 10000 samples\n",
      "Epoch 1/2\n",
      "60000/60000 [==============================] - 7s 120us/step - loss: 0.8776 - categorical_accuracy: 0.8829 - val_loss: 5.4546 - val_categorical_accuracy: 0.2905\n",
      "Epoch 2/2\n",
      "60000/60000 [==============================] - 7s 116us/step - loss: 0.2057 - categorical_accuracy: 0.9598 - val_loss: 0.6504 - val_categorical_accuracy: 0.7768\n"
     ],
     "name": "stdout"
    },
    {
     "output_type": "execute_result",
     "data": {
      "text/plain": [
       "<tensorflow.python.keras.callbacks.History at 0x7fef01e126a0>"
      ]
     },
     "metadata": {
      "tags": []
     },
     "execution_count": 26
    }
   ]
  },
  {
   "metadata": {
    "id": "qNfb6qX7-pT3",
    "colab_type": "code",
    "outputId": "7b8d84ea-d9f0-41b8-8c21-668e5ae33e6f",
    "executionInfo": {
     "status": "ok",
     "timestamp": 1542873425873,
     "user_tz": -540,
     "elapsed": 95520,
     "user": {
      "displayName": "Kiyoshi SATOH",
      "photoUrl": "https://lh5.googleusercontent.com/-Axv1tw7iUyw/AAAAAAAAAAI/AAAAAAAAALU/27WeD4XMZh0/s64/photo.jpg",
      "userId": "17263090257850830810"
     }
    },
    "colab": {
     "base_uri": "https://localhost:8080/",
     "height": 34
    }
   },
   "cell_type": "code",
   "source": [
    "cpu_model = tpu_model.sync_to_cpu()"
   ],
   "execution_count": 0,
   "outputs": [
    {
     "output_type": "stream",
     "text": [
      "INFO:tensorflow:Copying TPU weights to the CPU\n"
     ],
     "name": "stdout"
    }
   ]
  },
  {
   "metadata": {
    "id": "p3Kv1RK83Ng5",
    "colab_type": "code",
    "outputId": "17868ae3-cb03-47c5-f154-bc1f5191b0f1",
    "executionInfo": {
     "status": "ok",
     "timestamp": 1542873427571,
     "user_tz": -540,
     "elapsed": 97209,
     "user": {
      "displayName": "Kiyoshi SATOH",
      "photoUrl": "https://lh5.googleusercontent.com/-Axv1tw7iUyw/AAAAAAAAAAI/AAAAAAAAALU/27WeD4XMZh0/s64/photo.jpg",
      "userId": "17263090257850830810"
     }
    },
    "colab": {
     "base_uri": "https://localhost:8080/",
     "height": 199
    }
   },
   "cell_type": "code",
   "source": [
    "test_mnist_cnn(affined_x_test, y_test)"
   ],
   "execution_count": 0,
   "outputs": [
    {
     "output_type": "stream",
     "text": [
      "[7 5 4 0 8 9 9 1 0 5]\n",
      "[9 5 4 0 8 9 9 1 6 6]\n"
     ],
     "name": "stdout"
    },
    {
     "output_type": "display_data",
     "data": {
      "image/png": "[encoded data removed]",
      "text/plain": [
       "<matplotlib.figure.Figure at 0x7fef01d97e80>"
      ]
     },
     "metadata": {
      "tags": []
     }
    }
   ]
  },
  {
   "metadata": {
    "id": "PqHIfUx8aW3O",
    "colab_type": "text"
   },
   "cell_type": "markdown",
   "source": [
    "# AEを作る\n",
    "\n",
    "https://qiita.com/koshian2/items/603106c228ac6b7d8356\n",
    "のU-Netで作る"
   ]
  },
  {
   "metadata": {
    "colab_type": "code",
    "id": "eCsJ5kx9FU53",
    "colab": {}
   },
   "cell_type": "code",
   "source": [
    "import numpy as np\n",
    "import tensorflow as tf\n",
    "import matplotlib.pyplot as plt\n",
    "from tensorflow.keras.utils import to_categorical\n",
    "from scipy.misc import toimage\n",
    "from tensorflow.keras.datasets import mnist"
   ],
   "execution_count": 0,
   "outputs": []
  },
  {
   "metadata": {
    "colab_type": "code",
    "id": "OAlb6briFU6F",
    "colab": {}
   },
   "cell_type": "code",
   "source": [
    "(X_train, Y_train), (X_test, Y_test) = tf.keras.datasets.mnist.load_data()\n",
    "\n",
    "x_train = X_train.astype('float32')\n",
    "x_test = X_test.astype('float32')\n",
    "x_train /= 255\n",
    "x_test /= 255\n",
    "y_train = to_categorical(Y_train, 10)\n",
    "y_test = to_categorical(Y_test, 10)"
   ],
   "execution_count": 0,
   "outputs": []
  },
  {
   "metadata": {
    "id": "YWItj5OTbQPe",
    "colab_type": "code",
    "colab": {}
   },
   "cell_type": "code",
   "source": [
    "from tensorflow.keras.layers import Conv2D, BatchNormalization, Activation, Input, Concatenate, MaxPool2D, Conv2DTranspose, Add\n",
    "from tensorflow.keras.models import Model\n",
    "from tensorflow.keras.callbacks import Callback, History\n",
    "import tensorflow.keras.backend as K\n",
    "from keras.objectives import mean_squared_error\n",
    "import os, tarfile, shutil, pickle\n",
    "from PIL import Image"
   ],
   "execution_count": 0,
   "outputs": []
  },
  {
   "metadata": {
    "id": "TO87uffi5r5K",
    "colab_type": "code",
    "colab": {}
   },
   "cell_type": "code",
   "source": [
    "def create_block(input, depth):\n",
    "    x = input\n",
    "    for i in range(2):\n",
    "        x = Conv2D(depth, 3, padding=\"same\")(x)\n",
    "        x = BatchNormalization()(x)\n",
    "        x = Activation(\"relu\")(x)\n",
    "    return x\n",
    "\n",
    "def create_autoencoder():\n",
    "    input = Input((28,28,1))\n",
    "    # Encoder\n",
    "    block1 = create_block(input, 32)\n",
    "    x = MaxPool2D(2)(block1)\n",
    "    block2 = create_block(x, 64)\n",
    "    x = MaxPool2D(2)(block2)\n",
    "    block3 = create_block(x, 128)\n",
    "    # Middle\n",
    "    x = create_block(block3, 256)\n",
    "    # Decoder\n",
    "    x = Conv2DTranspose(128, kernel_size=2, strides=2)(x) # TPUだとUpsamplingやK.resize_imageが使えない\n",
    "    x = create_block(x, 128)\n",
    "    x = Conv2DTranspose(64, kernel_size=2, strides=2)(x)\n",
    "    x = create_block(x, 64)\n",
    "    # output\n",
    "    x = Conv2D(1, 1)(x)\n",
    "    x = Activation(\"sigmoid\")(x)\n",
    "\n",
    "    return Model(input, x)\n",
    "\n",
    "def loss_function(y_true, y_pred):\n",
    "    mses = mean_squared_error(y_true, y_pred)\n",
    "    return K.sum(mses, axis=1)\n"
   ],
   "execution_count": 0,
   "outputs": []
  },
  {
   "metadata": {
    "id": "iwJG3if0dl2I",
    "colab_type": "code",
    "colab": {}
   },
   "cell_type": "code",
   "source": [
    "class SamplingCallback(Callback):\n",
    "    def __init__(self, model, predict_images, output_dir):\n",
    "        self.model = model\n",
    "        self.predict_images = (predict_images[:128] / 255.0).astype(np.float32) #128の倍数にする\n",
    "        self.output_dir = output_dir\n",
    "        if os.path.exists(output_dir):\n",
    "            shutil.rmtree(output_dir)\n",
    "        os.mkdir(output_dir)\n",
    "\n",
    "    def combine_images(self, preds):\n",
    "        ny, nx, nc = preds.shape[1:]\n",
    "        combined = np.zeros((ny*10, nx*10, nc), dtype=np.float32)\n",
    "\n",
    "        for i in range(preds.shape[0]):\n",
    "            col_i = i % 10\n",
    "            row_i = i // 10\n",
    "            combined[row_i*ny:(row_i+1)*ny, col_i*nx:(col_i+1)*nx, :] = preds[i,:,:,:]\n",
    "        combined = (combined*255.0).astype(np.uint8)\n",
    "        return combined\n",
    "\n",
    "    def on_train_begin(self, logs):\n",
    "        combined = self.combine_images(self.predict_images[:100])\n",
    "        with Image.fromarray(combined) as img:\n",
    "            img.save(f\"{self.output_dir}/groundtruth.png\")\n",
    "\n",
    "    def on_epoch_end(self, epoch, logs):\n",
    "        preds = self.model.predict(self.predict_images)[:100]\n",
    "        combined = self.combine_images(preds)\n",
    "        with Image.fromarray(combined) as img:\n",
    "            img.save(f\"{self.output_dir}/epoch_{epoch:03}.png\")\n"
   ],
   "execution_count": 0,
   "outputs": []
  },
  {
   "metadata": {
    "id": "gUOGXG2kcTSx",
    "colab_type": "code",
    "colab": {}
   },
   "cell_type": "code",
   "source": [
    "model = create_autoencoder()\n",
    "model.compile(tf.train.MomentumOptimizer(1e-3, 0.9), loss=loss_function)\n",
    "\n",
    "#cb = SamplingCallback(model, x_test[::23][:128].reshape(128, 28, 28, 1), \"./autoencoder\")\n",
    "hist = History()\n",
    "\n",
    "#tpu_model.fit_generator(generator(X_all, 256), steps_per_epoch=X_all.shape[0]//256, callbacks=[cb, hist], epochs=5)\n",
    "\n",
    "# save_result\n",
    "#with open(\"./autoencoder/history.dat\", \"wb\") as fp:\n",
    "#    pickle.dump(hist.history, fp)\n"
   ],
   "execution_count": 0,
   "outputs": []
  },
  {
   "metadata": {
    "id": "AtqultWaneGb",
    "colab_type": "code",
    "outputId": "ccef65e0-8783-4147-98cc-c781c3917102",
    "executionInfo": {
     "status": "ok",
     "timestamp": 1544078737491,
     "user_tz": -540,
     "elapsed": 6452,
     "user": {
      "displayName": "Kiyoshi SATOH",
      "photoUrl": "https://lh5.googleusercontent.com/-Axv1tw7iUyw/AAAAAAAAAAI/AAAAAAAAALU/27WeD4XMZh0/s64/photo.jpg",
      "userId": "17263090257850830810"
     }
    },
    "colab": {
     "base_uri": "https://localhost:8080/",
     "height": 102
    }
   },
   "cell_type": "code",
   "source": [
    "model.fit(\n",
    "    x=x_train[:100].reshape(100, 28, 28, 1), y=x_train[:100].reshape(100, 28, 28, 1),\n",
    "    batch_size=10, epochs=2,\n",
    ")"
   ],
   "execution_count": 0,
   "outputs": [
    {
     "output_type": "stream",
     "text": [
      "Epoch 1/2\n",
      "100/100 [==============================] - 4s 37ms/step - loss: 6.3754\n",
      "Epoch 2/2\n",
      "100/100 [==============================] - 1s 10ms/step - loss: 1.6994\n"
     ],
     "name": "stdout"
    },
    {
     "output_type": "execute_result",
     "data": {
      "text/plain": [
       "<tensorflow.python.keras.callbacks.History at 0x7fdc54c8e2b0>"
      ]
     },
     "metadata": {
      "tags": []
     },
     "execution_count": 18
    }
   ]
  },
  {
   "metadata": {
    "id": "NW-70Xhls8EE",
    "colab_type": "code",
    "outputId": "e0ce72d0-a1e6-464e-d478-9adfcf02f4ab",
    "executionInfo": {
     "status": "ok",
     "timestamp": 1544078288137,
     "user_tz": -540,
     "elapsed": 18601,
     "user": {
      "displayName": "Kiyoshi SATOH",
      "photoUrl": "https://lh5.googleusercontent.com/-Axv1tw7iUyw/AAAAAAAAAAI/AAAAAAAAALU/27WeD4XMZh0/s64/photo.jpg",
      "userId": "17263090257850830810"
     }
    },
    "colab": {
     "base_uri": "https://localhost:8080/",
     "height": 343
    }
   },
   "cell_type": "code",
   "source": [
    "tpu_model = tf.contrib.tpu.keras_to_tpu_model(\n",
    "    model,\n",
    "    strategy=tf.contrib.tpu.TPUDistributionStrategy(\n",
    "        tf.contrib.cluster_resolver.TPUClusterResolver(tpu='grpc://' + os.environ['COLAB_TPU_ADDR'])\n",
    "    )\n",
    ")\n",
    "\n",
    "tpu_model.compile(tf.train.MomentumOptimizer(1e-3, 0.9), loss=loss_function)"
   ],
   "execution_count": 0,
   "outputs": [
    {
     "output_type": "stream",
     "text": [
      "INFO:tensorflow:Querying Tensorflow master (b'grpc://10.65.187.194:8470') for TPU system metadata.\n",
      "INFO:tensorflow:Found TPU system:\n",
      "INFO:tensorflow:*** Num TPU Cores: 8\n",
      "INFO:tensorflow:*** Num TPU Workers: 1\n",
      "INFO:tensorflow:*** Num TPU Cores Per Worker: 8\n",
      "INFO:tensorflow:*** Available Device: _DeviceAttributes(/job:worker/replica:0/task:0/device:CPU:0, CPU, -1, 18117727418535207819)\n",
      "INFO:tensorflow:*** Available Device: _DeviceAttributes(/job:worker/replica:0/task:0/device:XLA_CPU:0, XLA_CPU, 17179869184, 8959488799339822657)\n",
      "INFO:tensorflow:*** Available Device: _DeviceAttributes(/job:worker/replica:0/task:0/device:XLA_GPU:0, XLA_GPU, 17179869184, 9126152005319478164)\n",
      "INFO:tensorflow:*** Available Device: _DeviceAttributes(/job:worker/replica:0/task:0/device:TPU:0, TPU, 17179869184, 5769335252021653343)\n",
      "INFO:tensorflow:*** Available Device: _DeviceAttributes(/job:worker/replica:0/task:0/device:TPU:1, TPU, 17179869184, 18304582892824941713)\n",
      "INFO:tensorflow:*** Available Device: _DeviceAttributes(/job:worker/replica:0/task:0/device:TPU:2, TPU, 17179869184, 14210423405634000568)\n",
      "INFO:tensorflow:*** Available Device: _DeviceAttributes(/job:worker/replica:0/task:0/device:TPU:3, TPU, 17179869184, 9184025136702915890)\n",
      "INFO:tensorflow:*** Available Device: _DeviceAttributes(/job:worker/replica:0/task:0/device:TPU:4, TPU, 17179869184, 8158012560103237761)\n",
      "INFO:tensorflow:*** Available Device: _DeviceAttributes(/job:worker/replica:0/task:0/device:TPU:5, TPU, 17179869184, 13145272900285420411)\n",
      "INFO:tensorflow:*** Available Device: _DeviceAttributes(/job:worker/replica:0/task:0/device:TPU:6, TPU, 17179869184, 11820577476936562547)\n",
      "INFO:tensorflow:*** Available Device: _DeviceAttributes(/job:worker/replica:0/task:0/device:TPU:7, TPU, 17179869184, 7736972722968853143)\n",
      "INFO:tensorflow:*** Available Device: _DeviceAttributes(/job:worker/replica:0/task:0/device:TPU_SYSTEM:0, TPU_SYSTEM, 17179869184, 3796122752087847924)\n",
      "WARNING:tensorflow:tpu_model (from tensorflow.contrib.tpu.python.tpu.keras_support) is experimental and may change or be removed at any time, and without warning.\n"
     ],
     "name": "stdout"
    }
   ]
  },
  {
   "metadata": {
    "id": "3MCs5KyDvrvO",
    "colab_type": "code",
    "colab": {}
   },
   "cell_type": "code",
   "source": [
    "cb = SamplingCallback(model, x_test[::23][:10].reshape(10, 28, 28, 1), \"./autoencoder\")\n",
    "hist = History()"
   ],
   "execution_count": 0,
   "outputs": []
  },
  {
   "metadata": {
    "id": "9WNTAuUFcyPS",
    "colab_type": "code",
    "outputId": "2ecccc41-c077-4bb8-9aeb-a44f1afba8e6",
    "executionInfo": {
     "status": "ok",
     "timestamp": 1544078504739,
     "user_tz": -540,
     "elapsed": 80594,
     "user": {
      "displayName": "Kiyoshi SATOH",
      "photoUrl": "https://lh5.googleusercontent.com/-Axv1tw7iUyw/AAAAAAAAAAI/AAAAAAAAALU/27WeD4XMZh0/s64/photo.jpg",
      "userId": "17263090257850830810"
     }
    },
    "colab": {
     "base_uri": "https://localhost:8080/",
     "height": 374
    }
   },
   "cell_type": "code",
   "source": [
    "tpu_model.fit(\n",
    "    x=x_train.reshape(60000, 28, 28, 1), y=x_train.reshape(60000, 28, 28, 1),\n",
    "    #callbacks=[cb, hist],\n",
    "    callbacks=[hist],\n",
    "    batch_size=2048, epochs=10\n",
    ")\n"
   ],
   "execution_count": 0,
   "outputs": [
    {
     "output_type": "stream",
     "text": [
      "Epoch 1/10\n",
      "60000/60000 [==============================] - 8s 134us/step - loss: 0.2448\n",
      "Epoch 2/10\n",
      "60000/60000 [==============================] - 8s 134us/step - loss: 0.2350\n",
      "Epoch 3/10\n",
      "60000/60000 [==============================] - 8s 134us/step - loss: 0.2266\n",
      "Epoch 4/10\n",
      "60000/60000 [==============================] - 8s 131us/step - loss: 0.2194\n",
      "Epoch 5/10\n",
      "60000/60000 [==============================] - 8s 134us/step - loss: 0.2127\n",
      "Epoch 6/10\n",
      "60000/60000 [==============================] - 8s 133us/step - loss: 0.2067\n",
      "Epoch 7/10\n",
      "60000/60000 [==============================] - 8s 135us/step - loss: 0.2015\n",
      "Epoch 8/10\n",
      "60000/60000 [==============================] - 8s 131us/step - loss: 0.1966\n",
      "Epoch 9/10\n",
      "60000/60000 [==============================] - 8s 132us/step - loss: 0.1924\n",
      "Epoch 10/10\n",
      "60000/60000 [==============================] - 8s 140us/step - loss: 0.1882\n"
     ],
     "name": "stdout"
    },
    {
     "output_type": "execute_result",
     "data": {
      "text/plain": [
       "<tensorflow.python.keras.callbacks.History at 0x7fdc694d60b8>"
      ]
     },
     "metadata": {
      "tags": []
     },
     "execution_count": 11
    }
   ]
  },
  {
   "metadata": {
    "id": "ojZ0Q8JbfAoT",
    "colab_type": "code",
    "colab": {}
   },
   "cell_type": "code",
   "source": [
    "# save_result\n",
    "with open(\"./autoencoder/history.dat\", \"wb\") as fp:\n",
    "    pickle.dump(hist.history, fp)\n"
   ],
   "execution_count": 0,
   "outputs": []
  },
  {
   "metadata": {
    "id": "AKG8d0WGQBuX",
    "colab_type": "code",
    "outputId": "5e9bd195-83aa-41d1-a5ca-31d9bca96c1a",
    "executionInfo": {
     "status": "ok",
     "timestamp": 1544078514090,
     "user_tz": -540,
     "elapsed": 1597,
     "user": {
      "displayName": "Kiyoshi SATOH",
      "photoUrl": "https://lh5.googleusercontent.com/-Axv1tw7iUyw/AAAAAAAAAAI/AAAAAAAAALU/27WeD4XMZh0/s64/photo.jpg",
      "userId": "17263090257850830810"
     }
    },
    "colab": {
     "base_uri": "https://localhost:8080/",
     "height": 51
    }
   },
   "cell_type": "code",
   "source": [
    "!ls -l ./autoencoder"
   ],
   "execution_count": 0,
   "outputs": [
    {
     "output_type": "stream",
     "text": [
      "total 4\n",
      "-rw-r--r-- 1 root root 335 Dec  6 06:41 history.dat\n"
     ],
     "name": "stdout"
    }
   ]
  },
  {
   "metadata": {
    "id": "DUlHJW8foqUi",
    "colab_type": "code",
    "colab": {}
   },
   "cell_type": "code",
   "source": [
    "class SamplingCallback(Callback):\n",
    "  def __init__(self, model, predict_images, output_dir):\n",
    "    self.model = model\n",
    "    self.predict_images = (predict_images[:128] / 255.0).astype(np.float32) #128の倍数にする\n",
    "    self.output_dir = output_dir\n",
    "    if os.path.exists(output_dir):\n",
    "      shutil.rmtree(output_dir)\n",
    "    os.mkdir(output_dir)\n",
    "\n",
    "  def combine_images(self, preds):\n",
    "    ny, nx, nc = preds.shape[1:]\n",
    "    combined = np.zeros((ny*10, nx*10, nc), dtype=np.float32)\n",
    "\n",
    "    for i in range(preds.shape[0]):\n",
    "      col_i = i % 10\n",
    "      row_i = i // 10\n",
    "      combined[row_i*ny:(row_i+1)*ny, col_i*nx:(col_i+1)*nx, :] = preds[i,:,:,:]\n",
    "    combined = (combined*255.0).astype(np.uint8)\n",
    "    return combined\n",
    "\n",
    "  def on_train_begin(self, logs):\n",
    "    pass\n",
    "\n",
    "  def on_epoch_end(self, epoch, logs):\n",
    "    preds = self.model.predict(self.predict_images)[:100]\n",
    "    self.output_sample_image(preds)\n",
    "\n",
    "  def output_sample_image(x):\n",
    "    test_num = 10\n",
    "    size = x.shape[1:3]\n",
    "    fig, subplts = plt.subplots(ncols=test_num, figsize=(20, 2))\n",
    "    for i in range(test_num):\n",
    "      subplts[i].imshow(x[i].reshape(size))\n"
   ],
   "execution_count": 0,
   "outputs": []
  },
  {
   "metadata": {
    "id": "5xgQh5rYxE-z",
    "colab_type": "code",
    "colab": {}
   },
   "cell_type": "code",
   "source": [
    "def print_image(x):\n",
    "    size = x.shape[1:3]\n",
    "    test_num = 10\n",
    "    fig, subplts = plt.subplots(ncols=test_num, figsize=(20, 2))\n",
    "    for i in range(test_num):\n",
    "        subplts[i].imshow(x[i].reshape(size))\n",
    "\n",
    "def test_ae(x):\n",
    "  test_num = 10\n",
    "  w = x.shape[1]\n",
    "  h = x.shape[2]\n",
    "  x_test = x[::23][:test_num].reshape(test_num, w, h, 1)\n",
    "  print_image(x_test)\n",
    "  \n",
    "  cpu_model = tpu_model.sync_to_cpu()\n",
    "  preds = cpu_model.predict(x_test)\n",
    "  print_image(preds)\n"
   ],
   "execution_count": 0,
   "outputs": []
  },
  {
   "metadata": {
    "id": "jfzmIE0ox3yg",
    "colab_type": "code",
    "outputId": "5f50dbcf-84e5-4f52-e68d-bf824e811834",
    "executionInfo": {
     "status": "ok",
     "timestamp": 1544085073773,
     "user_tz": -540,
     "elapsed": 10311,
     "user": {
      "displayName": "Kiyoshi SATOH",
      "photoUrl": "https://lh5.googleusercontent.com/-Axv1tw7iUyw/AAAAAAAAAAI/AAAAAAAAALU/27WeD4XMZh0/s64/photo.jpg",
      "userId": "17263090257850830810"
     }
    },
    "colab": {
     "base_uri": "https://localhost:8080/",
     "height": 310
    }
   },
   "cell_type": "code",
   "source": [
    "test_ae(x_test)"
   ],
   "execution_count": 0,
   "outputs": [
    {
     "output_type": "stream",
     "text": [
      "INFO:tensorflow:Copying TPU weights to the CPU\n"
     ],
     "name": "stdout"
    },
    {
     "output_type": "display_data",
     "data": {
      "image/png": "[encoded data removed]",
      "text/plain": [
       "<matplotlib.figure.Figure at 0x7fdc36310710>"
      ]
     },
     "metadata": {
      "tags": []
     }
    },
    {
     "output_type": "display_data",
     "data": {
      "image/png": "[encoded data removed]",
      "text/plain": [
       "<matplotlib.figure.Figure at 0x7fdc311df898>"
      ]
     },
     "metadata": {
      "tags": []
     }
    }
   ]
  },
  {
   "metadata": {
    "id": "L_phRlAtQNfC",
    "colab_type": "text"
   },
   "cell_type": "markdown",
   "source": [
    "## エンコーダだけ別で使えるようにして判定機を作る"
   ]
  },
  {
   "metadata": {
    "id": "VdYl0MhMQMxK",
    "colab_type": "code",
    "colab": {}
   },
   "cell_type": "code",
   "source": [
    "from tensorflow.keras.layers import Dense, Flatten"
   ],
   "execution_count": 0,
   "outputs": []
  },
  {
   "metadata": {
    "id": "NdWvLlhFTvjd",
    "colab_type": "code",
    "colab": {}
   },
   "cell_type": "code",
   "source": [
    "# encoder\n",
    "input = Input((28,28,1))\n",
    "block1 = create_block(input, 32)\n",
    "x = MaxPool2D(2)(block1)\n",
    "block2 = create_block(x, 64)\n",
    "x = MaxPool2D(2)(block2)\n",
    "block3 = create_block(x, 128)\n",
    "encoded = create_block(block3, 256)\n",
    "encoder = Model(input, encoded)\n",
    "\n",
    "# validator\n",
    "x = Flatten()(encoded)\n",
    "x = Dense(100)(x)\n",
    "validated = Dense(10)(x)\n",
    "validator = Model(input, validated)\n",
    "\n",
    "# decoder\n",
    "x = Conv2DTranspose(128, kernel_size=2, strides=2)(encoded) # TPUだとUpsamplingやK.resize_imageが使えない\n",
    "x = create_block(x, 128)\n",
    "x = Conv2DTranspose(64, kernel_size=2, strides=2)(x)\n",
    "x = create_block(x, 64)\n",
    "x = Conv2D(1, 1)(x)\n",
    "autoencoded = Activation(\"sigmoid\")(x)\n",
    "autoencoder = Model(input, autoencoded)\n"
   ],
   "execution_count": 0,
   "outputs": []
  },
  {
   "metadata": {
    "id": "VwIkSPw_cHUM",
    "colab_type": "code",
    "colab": {}
   },
   "cell_type": "code",
   "source": [
    "autoencoder.compile(tf.train.MomentumOptimizer(1e-3, 0.9), loss=loss_function)"
   ],
   "execution_count": 0,
   "outputs": []
  },
  {
   "metadata": {
    "id": "XznTs4OEcbPn",
    "colab_type": "code",
    "outputId": "edda0383-5f3e-45bc-9e92-a02f9a00ce61",
    "executionInfo": {
     "status": "ok",
     "timestamp": 1544083339275,
     "user_tz": -540,
     "elapsed": 8694,
     "user": {
      "displayName": "Kiyoshi SATOH",
      "photoUrl": "https://lh5.googleusercontent.com/-Axv1tw7iUyw/AAAAAAAAAAI/AAAAAAAAALU/27WeD4XMZh0/s64/photo.jpg",
      "userId": "17263090257850830810"
     }
    },
    "colab": {
     "base_uri": "https://localhost:8080/",
     "height": 68
    }
   },
   "cell_type": "code",
   "source": [
    "autoencoder.fit(\n",
    "    x=x_train[:100].reshape(100, 28, 28, 1), y=x_train[:100].reshape(100, 28, 28, 1),\n",
    "    batch_size=10, epochs=1,\n",
    ")"
   ],
   "execution_count": 0,
   "outputs": [
    {
     "output_type": "stream",
     "text": [
      "Epoch 1/1\n",
      "100/100 [==============================] - 7s 74ms/step - loss: 5.3125\n"
     ],
     "name": "stdout"
    },
    {
     "output_type": "execute_result",
     "data": {
      "text/plain": [
       "<tensorflow.python.keras.callbacks.History at 0x7fdc4c0660f0>"
      ]
     },
     "metadata": {
      "tags": []
     },
     "execution_count": 42
    }
   ]
  },
  {
   "metadata": {
    "id": "BG2As8dkggGE",
    "colab_type": "code",
    "colab": {}
   },
   "cell_type": "code",
   "source": [
    "validator.compile(\n",
    "    loss=tf.keras.losses.categorical_crossentropy,\n",
    "    optimizer=tf.train.AdamOptimizer(learning_rate=1e-3, ),\n",
    "    metrics=['categorical_accuracy'])"
   ],
   "execution_count": 0,
   "outputs": []
  },
  {
   "metadata": {
    "id": "7WfNGazZh1Qd",
    "colab_type": "code",
    "outputId": "ef0922ab-03f9-4881-8ff7-65af40e0f486",
    "executionInfo": {
     "status": "ok",
     "timestamp": 1544085309460,
     "user_tz": -540,
     "elapsed": 22216,
     "user": {
      "displayName": "Kiyoshi SATOH",
      "photoUrl": "https://lh5.googleusercontent.com/-Axv1tw7iUyw/AAAAAAAAAAI/AAAAAAAAALU/27WeD4XMZh0/s64/photo.jpg",
      "userId": "17263090257850830810"
     }
    },
    "colab": {
     "base_uri": "https://localhost:8080/",
     "height": 68
    }
   },
   "cell_type": "code",
   "source": [
    "validator.fit(\n",
    "    x=x_train[:100].reshape(100, 28, 28, 1),\n",
    "    y=y_train[:100],\n",
    "    batch_size=10, epochs=1,\n",
    ")"
   ],
   "execution_count": 0,
   "outputs": [
    {
     "output_type": "stream",
     "text": [
      "Epoch 1/1\n",
      "100/100 [==============================] - 20s 204ms/step - loss: 4.0313 - categorical_accuracy: 0.0500\n"
     ],
     "name": "stdout"
    },
    {
     "output_type": "execute_result",
     "data": {
      "text/plain": [
       "<tensorflow.python.keras.callbacks.History at 0x7fdc3632b080>"
      ]
     },
     "metadata": {
      "tags": []
     },
     "execution_count": 77
    }
   ]
  },
  {
   "metadata": {
    "id": "lKbcY_xLcfiB",
    "colab_type": "code",
    "outputId": "b6019410-0d45-424b-f509-10b81eaffe35",
    "executionInfo": {
     "status": "ok",
     "timestamp": 1544083405150,
     "user_tz": -540,
     "elapsed": 8986,
     "user": {
      "displayName": "Kiyoshi SATOH",
      "photoUrl": "https://lh5.googleusercontent.com/-Axv1tw7iUyw/AAAAAAAAAAI/AAAAAAAAALU/27WeD4XMZh0/s64/photo.jpg",
      "userId": "17263090257850830810"
     }
    },
    "colab": {
     "base_uri": "https://localhost:8080/",
     "height": 343
    }
   },
   "cell_type": "code",
   "source": [
    "tpu_model = tf.contrib.tpu.keras_to_tpu_model(\n",
    "    autoencoder,\n",
    "    strategy=tf.contrib.tpu.TPUDistributionStrategy(\n",
    "        tf.contrib.cluster_resolver.TPUClusterResolver(tpu='grpc://' + os.environ['COLAB_TPU_ADDR'])\n",
    "    )\n",
    ")\n",
    "\n",
    "tpu_model.compile(tf.train.MomentumOptimizer(1e-3, 0.9), loss=loss_function)"
   ],
   "execution_count": 0,
   "outputs": [
    {
     "output_type": "stream",
     "text": [
      "INFO:tensorflow:Querying Tensorflow master (b'grpc://10.65.187.194:8470') for TPU system metadata.\n",
      "INFO:tensorflow:Found TPU system:\n",
      "INFO:tensorflow:*** Num TPU Cores: 8\n",
      "INFO:tensorflow:*** Num TPU Workers: 1\n",
      "INFO:tensorflow:*** Num TPU Cores Per Worker: 8\n",
      "INFO:tensorflow:*** Available Device: _DeviceAttributes(/job:worker/replica:0/task:0/device:CPU:0, CPU, -1, 18117727418535207819)\n",
      "INFO:tensorflow:*** Available Device: _DeviceAttributes(/job:worker/replica:0/task:0/device:XLA_CPU:0, XLA_CPU, 17179869184, 8959488799339822657)\n",
      "INFO:tensorflow:*** Available Device: _DeviceAttributes(/job:worker/replica:0/task:0/device:XLA_GPU:0, XLA_GPU, 17179869184, 9126152005319478164)\n",
      "INFO:tensorflow:*** Available Device: _DeviceAttributes(/job:worker/replica:0/task:0/device:TPU:0, TPU, 17179869184, 5769335252021653343)\n",
      "INFO:tensorflow:*** Available Device: _DeviceAttributes(/job:worker/replica:0/task:0/device:TPU:1, TPU, 17179869184, 18304582892824941713)\n",
      "INFO:tensorflow:*** Available Device: _DeviceAttributes(/job:worker/replica:0/task:0/device:TPU:2, TPU, 17179869184, 14210423405634000568)\n",
      "INFO:tensorflow:*** Available Device: _DeviceAttributes(/job:worker/replica:0/task:0/device:TPU:3, TPU, 17179869184, 9184025136702915890)\n",
      "INFO:tensorflow:*** Available Device: _DeviceAttributes(/job:worker/replica:0/task:0/device:TPU:4, TPU, 17179869184, 8158012560103237761)\n",
      "INFO:tensorflow:*** Available Device: _DeviceAttributes(/job:worker/replica:0/task:0/device:TPU:5, TPU, 17179869184, 13145272900285420411)\n",
      "INFO:tensorflow:*** Available Device: _DeviceAttributes(/job:worker/replica:0/task:0/device:TPU:6, TPU, 17179869184, 11820577476936562547)\n",
      "INFO:tensorflow:*** Available Device: _DeviceAttributes(/job:worker/replica:0/task:0/device:TPU:7, TPU, 17179869184, 7736972722968853143)\n",
      "INFO:tensorflow:*** Available Device: _DeviceAttributes(/job:worker/replica:0/task:0/device:TPU_SYSTEM:0, TPU_SYSTEM, 17179869184, 3796122752087847924)\n",
      "WARNING:tensorflow:tpu_model (from tensorflow.contrib.tpu.python.tpu.keras_support) is experimental and may change or be removed at any time, and without warning.\n"
     ],
     "name": "stdout"
    }
   ]
  },
  {
   "metadata": {
    "id": "lTlIiMercueE",
    "colab_type": "code",
    "outputId": "96302108-64ce-405c-8725-30193ef536d8",
    "executionInfo": {
     "status": "ok",
     "timestamp": 1544083562112,
     "user_tz": -540,
     "elapsed": 152909,
     "user": {
      "displayName": "Kiyoshi SATOH",
      "photoUrl": "https://lh5.googleusercontent.com/-Axv1tw7iUyw/AAAAAAAAAAI/AAAAAAAAALU/27WeD4XMZh0/s64/photo.jpg",
      "userId": "17263090257850830810"
     }
    },
    "colab": {
     "base_uri": "https://localhost:8080/",
     "height": 581
    }
   },
   "cell_type": "code",
   "source": [
    "tpu_model.fit(\n",
    "    x=x_train.reshape(60000, 28, 28, 1), y=x_train.reshape(60000, 28, 28, 1),\n",
    "    #callbacks=[cb, hist],\n",
    "    callbacks=[hist],\n",
    "    batch_size=2048, epochs=10\n",
    ")"
   ],
   "execution_count": 0,
   "outputs": [
    {
     "output_type": "stream",
     "text": [
      "Epoch 1/10\n",
      "INFO:tensorflow:New input shapes; (re-)compiling: mode=train (# of cores 8), [TensorSpec(shape=(256,), dtype=tf.int32, name='core_id_20'), TensorSpec(shape=(256, 28, 28, 1), dtype=tf.float32, name='input_7_10'), TensorSpec(shape=(256, 28, 28, 1), dtype=tf.float32, name='activation_80_target_50')]\n",
      "INFO:tensorflow:Overriding default placeholder.\n",
      "INFO:tensorflow:Remapping placeholder for input_7\n",
      "INFO:tensorflow:Started compiling\n",
      "INFO:tensorflow:Finished compiling. Time elapsed: 21.282630443572998 secs\n",
      "INFO:tensorflow:Setting weights on TPU model.\n",
      "57344/60000 [===========================>..] - ETA: 2s - loss: 1.7803INFO:tensorflow:New input shapes; (re-)compiling: mode=train (# of cores 8), [TensorSpec(shape=(76,), dtype=tf.int32, name='core_id_20'), TensorSpec(shape=(76, 28, 28, 1), dtype=tf.float32, name='input_7_10'), TensorSpec(shape=(76, 28, 28, 1), dtype=tf.float32, name='activation_80_target_50')]\n",
      "INFO:tensorflow:Overriding default placeholder.\n",
      "INFO:tensorflow:Remapping placeholder for input_7\n",
      "INFO:tensorflow:Started compiling\n",
      "INFO:tensorflow:Finished compiling. Time elapsed: 16.452362060546875 secs\n",
      "60000/60000 [==============================] - 73s 1ms/step - loss: 1.7516\n",
      "Epoch 2/10\n",
      "60000/60000 [==============================] - 8s 135us/step - loss: 0.8595\n",
      "Epoch 3/10\n",
      "60000/60000 [==============================] - 8s 134us/step - loss: 0.5998\n",
      "Epoch 4/10\n",
      "60000/60000 [==============================] - 8s 134us/step - loss: 0.4804\n",
      "Epoch 5/10\n",
      "60000/60000 [==============================] - 8s 133us/step - loss: 0.4108\n",
      "Epoch 6/10\n",
      "60000/60000 [==============================] - 8s 135us/step - loss: 0.3652\n",
      "Epoch 7/10\n",
      "60000/60000 [==============================] - 8s 134us/step - loss: 0.3324\n",
      "Epoch 8/10\n",
      "60000/60000 [==============================] - 8s 133us/step - loss: 0.3075\n",
      "Epoch 9/10\n",
      "60000/60000 [==============================] - 8s 133us/step - loss: 0.2878\n",
      "Epoch 10/10\n",
      "60000/60000 [==============================] - 8s 133us/step - loss: 0.2719\n"
     ],
     "name": "stdout"
    },
    {
     "output_type": "execute_result",
     "data": {
      "text/plain": [
       "<tensorflow.python.keras.callbacks.History at 0x7fdc4897cac8>"
      ]
     },
     "metadata": {
      "tags": []
     },
     "execution_count": 46
    }
   ]
  },
  {
   "metadata": {
    "id": "K1aaOui4jGKy",
    "colab_type": "code",
    "outputId": "8e148a09-2d87-4165-f723-02cd60aadd08",
    "executionInfo": {
     "status": "ok",
     "timestamp": 1544085386978,
     "user_tz": -540,
     "elapsed": 22060,
     "user": {
      "displayName": "Kiyoshi SATOH",
      "photoUrl": "https://lh5.googleusercontent.com/-Axv1tw7iUyw/AAAAAAAAAAI/AAAAAAAAALU/27WeD4XMZh0/s64/photo.jpg",
      "userId": "17263090257850830810"
     }
    },
    "colab": {
     "base_uri": "https://localhost:8080/",
     "height": 343
    }
   },
   "cell_type": "code",
   "source": [
    "tpu_validator_model = tf.contrib.tpu.keras_to_tpu_model(\n",
    "    validator,\n",
    "    strategy=tf.contrib.tpu.TPUDistributionStrategy(\n",
    "        tf.contrib.cluster_resolver.TPUClusterResolver(tpu='grpc://' + os.environ['COLAB_TPU_ADDR'])\n",
    "    )\n",
    ")\n",
    "\n",
    "tpu_validator_model.compile(\n",
    "    loss=tf.keras.losses.categorical_crossentropy,\n",
    "    optimizer=tf.train.AdamOptimizer(learning_rate=1e-3, ),\n",
    "    metrics=['categorical_accuracy'])"
   ],
   "execution_count": 0,
   "outputs": [
    {
     "output_type": "stream",
     "text": [
      "INFO:tensorflow:Querying Tensorflow master (b'grpc://10.65.187.194:8470') for TPU system metadata.\n",
      "INFO:tensorflow:Found TPU system:\n",
      "INFO:tensorflow:*** Num TPU Cores: 8\n",
      "INFO:tensorflow:*** Num TPU Workers: 1\n",
      "INFO:tensorflow:*** Num TPU Cores Per Worker: 8\n",
      "INFO:tensorflow:*** Available Device: _DeviceAttributes(/job:worker/replica:0/task:0/device:CPU:0, CPU, -1, 18117727418535207819)\n",
      "INFO:tensorflow:*** Available Device: _DeviceAttributes(/job:worker/replica:0/task:0/device:XLA_CPU:0, XLA_CPU, 17179869184, 8959488799339822657)\n",
      "INFO:tensorflow:*** Available Device: _DeviceAttributes(/job:worker/replica:0/task:0/device:XLA_GPU:0, XLA_GPU, 17179869184, 9126152005319478164)\n",
      "INFO:tensorflow:*** Available Device: _DeviceAttributes(/job:worker/replica:0/task:0/device:TPU:0, TPU, 17179869184, 5769335252021653343)\n",
      "INFO:tensorflow:*** Available Device: _DeviceAttributes(/job:worker/replica:0/task:0/device:TPU:1, TPU, 17179869184, 18304582892824941713)\n",
      "INFO:tensorflow:*** Available Device: _DeviceAttributes(/job:worker/replica:0/task:0/device:TPU:2, TPU, 17179869184, 14210423405634000568)\n",
      "INFO:tensorflow:*** Available Device: _DeviceAttributes(/job:worker/replica:0/task:0/device:TPU:3, TPU, 17179869184, 9184025136702915890)\n",
      "INFO:tensorflow:*** Available Device: _DeviceAttributes(/job:worker/replica:0/task:0/device:TPU:4, TPU, 17179869184, 8158012560103237761)\n",
      "INFO:tensorflow:*** Available Device: _DeviceAttributes(/job:worker/replica:0/task:0/device:TPU:5, TPU, 17179869184, 13145272900285420411)\n",
      "INFO:tensorflow:*** Available Device: _DeviceAttributes(/job:worker/replica:0/task:0/device:TPU:6, TPU, 17179869184, 11820577476936562547)\n",
      "INFO:tensorflow:*** Available Device: _DeviceAttributes(/job:worker/replica:0/task:0/device:TPU:7, TPU, 17179869184, 7736972722968853143)\n",
      "INFO:tensorflow:*** Available Device: _DeviceAttributes(/job:worker/replica:0/task:0/device:TPU_SYSTEM:0, TPU_SYSTEM, 17179869184, 3796122752087847924)\n",
      "WARNING:tensorflow:tpu_model (from tensorflow.contrib.tpu.python.tpu.keras_support) is experimental and may change or be removed at any time, and without warning.\n"
     ],
     "name": "stdout"
    }
   ]
  },
  {
   "metadata": {
    "id": "SIrwMWevjoOv",
    "colab_type": "code",
    "outputId": "7c55dade-f321-427e-852c-25200a74598a",
    "executionInfo": {
     "status": "ok",
     "timestamp": 1544085547617,
     "user_tz": -540,
     "elapsed": 155249,
     "user": {
      "displayName": "Kiyoshi SATOH",
      "photoUrl": "https://lh5.googleusercontent.com/-Axv1tw7iUyw/AAAAAAAAAAI/AAAAAAAAALU/27WeD4XMZh0/s64/photo.jpg",
      "userId": "17263090257850830810"
     }
    },
    "colab": {
     "base_uri": "https://localhost:8080/",
     "height": 581
    }
   },
   "cell_type": "code",
   "source": [
    "tpu_validator_model.fit(\n",
    "    x=x_train.reshape(60000, 28, 28, 1),\n",
    "    y=y_train,\n",
    "    callbacks=[hist],\n",
    "    batch_size=2048, epochs=10\n",
    ")"
   ],
   "execution_count": 0,
   "outputs": [
    {
     "output_type": "stream",
     "text": [
      "Epoch 1/10\n",
      "INFO:tensorflow:New input shapes; (re-)compiling: mode=train (# of cores 8), [TensorSpec(shape=(256,), dtype=tf.int32, name='core_id_50'), TensorSpec(shape=(256, 28, 28, 1), dtype=tf.float32, name='input_8_10'), TensorSpec(shape=(256, 10), dtype=tf.float32, name='dense_3_target_60')]\n",
      "INFO:tensorflow:Overriding default placeholder.\n",
      "INFO:tensorflow:Remapping placeholder for input_8\n",
      "INFO:tensorflow:Started compiling\n",
      "INFO:tensorflow:Finished compiling. Time elapsed: 32.446099281311035 secs\n",
      "INFO:tensorflow:Setting weights on TPU model.\n",
      "57344/60000 [===========================>..] - ETA: 2s - loss: 8.9063 - categorical_accuracy: 0.1039INFO:tensorflow:New input shapes; (re-)compiling: mode=train (# of cores 8), [TensorSpec(shape=(76,), dtype=tf.int32, name='core_id_50'), TensorSpec(shape=(76, 28, 28, 1), dtype=tf.float32, name='input_8_10'), TensorSpec(shape=(76, 10), dtype=tf.float32, name='dense_3_target_60')]\n",
      "INFO:tensorflow:Overriding default placeholder.\n",
      "INFO:tensorflow:Remapping placeholder for input_8\n",
      "INFO:tensorflow:Started compiling\n",
      "INFO:tensorflow:Finished compiling. Time elapsed: 27.390814781188965 secs\n",
      "60000/60000 [==============================] - 95s 2ms/step - loss: 8.9394 - categorical_accuracy: 0.1041\n",
      "Epoch 2/10\n",
      "60000/60000 [==============================] - 5s 76us/step - loss: 10.9469 - categorical_accuracy: 0.1022\n",
      "Epoch 3/10\n",
      "60000/60000 [==============================] - 5s 77us/step - loss: 10.2850 - categorical_accuracy: 0.1022\n",
      "Epoch 4/10\n",
      "60000/60000 [==============================] - 4s 73us/step - loss: 10.4665 - categorical_accuracy: 0.1022\n",
      "Epoch 5/10\n",
      "60000/60000 [==============================] - 5s 75us/step - loss: 10.5460 - categorical_accuracy: 0.1022\n",
      "Epoch 6/10\n",
      "60000/60000 [==============================] - 5s 76us/step - loss: 10.5568 - categorical_accuracy: 0.1022\n",
      "Epoch 7/10\n",
      "60000/60000 [==============================] - 4s 74us/step - loss: 10.5847 - categorical_accuracy: 0.1022\n",
      "Epoch 8/10\n",
      "60000/60000 [==============================] - 5s 75us/step - loss: 10.5828 - categorical_accuracy: 0.1022\n",
      "Epoch 9/10\n",
      "60000/60000 [==============================] - 5s 77us/step - loss: 10.5845 - categorical_accuracy: 0.1022\n",
      "Epoch 10/10\n",
      "60000/60000 [==============================] - 4s 73us/step - loss: 10.5839 - categorical_accuracy: 0.1022\n"
     ],
     "name": "stdout"
    },
    {
     "output_type": "execute_result",
     "data": {
      "text/plain": [
       "<tensorflow.python.keras.callbacks.History at 0x7fdc30b41828>"
      ]
     },
     "metadata": {
      "tags": []
     },
     "execution_count": 79
    }
   ]
  },
  {
   "metadata": {
    "id": "9mTjwh_5lGUO",
    "colab_type": "code",
    "colab": {}
   },
   "cell_type": "code",
   "source": [
    "import math\n",
    "def test_autoencoder_validator(scale=0.5):\n",
    "    size = 28\n",
    "    test_num = 10\n",
    "    x  = np.zeros((test_num, size, size), dtype = 'float32')\n",
    "    start = np.random.randint(x_test.shape[0] - test_num)\n",
    "    x_orig = x_test[start:start+test_num]\n",
    "    y = y_test[start:start+test_num]\n",
    "    for i in range(10):\n",
    "      padding_size = math.floor(size - size*scale)\n",
    "      x0 = np.random.randint(padding_size) - math.floor(padding_size/2) + math.floor(size/2) \n",
    "      y0 = np.random.randint(padding_size) - math.floor(padding_size/2) + math.floor(size/2)\n",
    "      #x[i] = affine_image(x_orig[i], x0, y0, 0, scale)\n",
    "      x[i] = affine_image(x_orig[i], 10, 10, 0, scale)\n",
    "\n",
    "    fig, subplts = plt.subplots(ncols=10, figsize=(20, 2))\n",
    "    for i in range(10):\n",
    "        subplts[i].imshow(x[i])\n",
    "\n",
    "    print(np.argmax(y, axis=1))\n",
    "\n",
    "    cpu_model = tpu_validator_model.sync_to_cpu()\n",
    "    preds = cpu_model.predict(x.reshape(test_num,28,28,1))\n",
    "    print(np.argmax(preds, axis=1))\n"
   ],
   "execution_count": 0,
   "outputs": []
  },
  {
   "metadata": {
    "id": "-3MKpU2Wl1eF",
    "colab_type": "code",
    "outputId": "3e81f56c-7f29-4cae-db50-2b1183666307",
    "executionInfo": {
     "status": "ok",
     "timestamp": 1544085613625,
     "user_tz": -540,
     "elapsed": 14076,
     "user": {
      "displayName": "Kiyoshi SATOH",
      "photoUrl": "https://lh5.googleusercontent.com/-Axv1tw7iUyw/AAAAAAAAAAI/AAAAAAAAALU/27WeD4XMZh0/s64/photo.jpg",
      "userId": "17263090257850830810"
     }
    },
    "colab": {
     "base_uri": "https://localhost:8080/",
     "height": 216
    }
   },
   "cell_type": "code",
   "source": [
    "test_autoencoder_validator(0.9)"
   ],
   "execution_count": 0,
   "outputs": [
    {
     "output_type": "stream",
     "text": [
      "[3 6 0 2 7 6 6 1 2 8]\n",
      "INFO:tensorflow:Copying TPU weights to the CPU\n",
      "[3 3 3 3 3 3 3 3 3 3]\n"
     ],
     "name": "stdout"
    },
    {
     "output_type": "display_data",
     "data": {
      "image/png": "[encoded data removed]",
      "text/plain": [
       "<matplotlib.figure.Figure at 0x7fdc364be0b8>"
      ]
     },
     "metadata": {
      "tags": []
     }
    }
   ]
  },
  {
   "metadata": {
    "id": "6_kKxpK4IiRY",
    "colab_type": "code",
    "outputId": "d2aa79cc-2c0c-41fb-fac3-9c34113e2d5c",
    "executionInfo": {
     "status": "ok",
     "timestamp": 1543825339113,
     "user_tz": -540,
     "elapsed": 80858,
     "user": {
      "displayName": "Kiyoshi SATOH",
      "photoUrl": "https://lh5.googleusercontent.com/-Axv1tw7iUyw/AAAAAAAAAAI/AAAAAAAAALU/27WeD4XMZh0/s64/photo.jpg",
      "userId": "17263090257850830810"
     }
    },
    "colab": {
     "base_uri": "https://localhost:8080/",
     "height": 374
    }
   },
   "cell_type": "code",
   "source": [
    "tpu_model.fit(\n",
    "    x=x_train.reshape(60000, 28, 28, 1), y=x_train.reshape(60000, 28, 28, 1),\n",
    "    callbacks=[TensorBoardColabCallback(tbc)],\n",
    "    batch_size=2048, epochs=10\n",
    ")"
   ],
   "execution_count": 0,
   "outputs": [
    {
     "output_type": "stream",
     "text": [
      "Epoch 1/10\n",
      "60000/60000 [==============================] - 8s 128us/step - loss: 0.1603\n",
      "Epoch 2/10\n",
      "60000/60000 [==============================] - 8s 131us/step - loss: 0.1582\n",
      "Epoch 3/10\n",
      "60000/60000 [==============================] - 8s 132us/step - loss: 0.1564\n",
      "Epoch 4/10\n",
      "60000/60000 [==============================] - 8s 133us/step - loss: 0.1546\n",
      "Epoch 5/10\n",
      "60000/60000 [==============================] - 8s 130us/step - loss: 0.1528\n",
      "Epoch 6/10\n",
      "60000/60000 [==============================] - 8s 133us/step - loss: 0.1512\n",
      "Epoch 7/10\n",
      "60000/60000 [==============================] - 8s 131us/step - loss: 0.1497\n",
      "Epoch 8/10\n",
      "60000/60000 [==============================] - 8s 135us/step - loss: 0.1480\n",
      "Epoch 9/10\n",
      "60000/60000 [==============================] - 8s 134us/step - loss: 0.1465\n",
      "Epoch 10/10\n",
      "60000/60000 [==============================] - 8s 130us/step - loss: 0.1451\n"
     ],
     "name": "stdout"
    },
    {
     "output_type": "execute_result",
     "data": {
      "text/plain": [
       "<tensorflow.python.keras.callbacks.History at 0x7f2fe8c0b320>"
      ]
     },
     "metadata": {
      "tags": []
     },
     "execution_count": 26
    }
   ]
  },
  {
   "metadata": {
    "id": "tlVdDrkD7QHC",
    "colab_type": "text"
   },
   "cell_type": "markdown",
   "source": [
    "# 32x32にしてサイズを変えたテストデータで学習"
   ]
  },
  {
   "metadata": {
    "id": "1amG2lbz7PiZ",
    "colab_type": "code",
    "colab": {}
   },
   "cell_type": "code",
   "source": [
    ""
   ],
   "execution_count": 0,
   "outputs": []
  },
  {
   "metadata": {
    "id": "vomoaTyBU9z8",
    "colab_type": "text"
   },
   "cell_type": "markdown",
   "source": [
    "# ResNetで普通に学習させてbaselineにする"
   ]
  },
  {
   "metadata": {
    "id": "qri_vsDxVgWm",
    "colab_type": "code",
    "colab": {}
   },
   "cell_type": "code",
   "source": [
    "from tensorflow.keras.layers import Conv2D, BatchNormalization, Activation, Input, Concatenate, MaxPool2D, Conv2DTranspose, Add, Flatten, Dense\n",
    "from tensorflow.keras.models import Model\n",
    "from tensorflow.keras.callbacks import Callback, History\n",
    "import tensorflow.keras.backend as K\n",
    "from tensorflow.keras.losses import mean_squared_error\n",
    "import os\n",
    "from PIL import Image"
   ],
   "execution_count": 0,
   "outputs": []
  },
  {
   "metadata": {
    "id": "uVcIWGf4VIKz",
    "colab_type": "code",
    "colab": {}
   },
   "cell_type": "code",
   "source": [
    "input = Input((28,28,1))\n",
    "\n",
    "x = Conv2D(32, 3, padding=\"same\")(input)\n",
    "x = Activation(\"relu\")(x)\n",
    "x = BatchNormalization()(x)\n",
    "\n",
    "x = Conv2D(32, 3, padding=\"same\")(x)\n",
    "x = Activation(\"relu\")(x)\n",
    "x = BatchNormalization()(x)\n",
    "\n",
    "x = MaxPool2D(2)(x)\n",
    "\n",
    "x = Conv2D(64, 3, padding=\"same\")(x)\n",
    "x = Activation(\"relu\")(x)\n",
    "x = BatchNormalization()(x)\n",
    "\n",
    "x = Conv2D(64, 3, padding=\"same\")(x)\n",
    "x = Activation(\"relu\")(x)\n",
    "x = BatchNormalization()(x)\n",
    "\n",
    "x = MaxPool2D(2)(x)\n",
    "\n",
    "x = Conv2D(128, 3, padding=\"same\")(x)\n",
    "x = Activation(\"relu\")(x)\n",
    "x = BatchNormalization()(x)\n",
    "\n",
    "x = Conv2D(128, 3, padding=\"same\")(x)\n",
    "x = Activation(\"relu\")(x)\n",
    "x = BatchNormalization()(x)\n",
    "\n",
    "x = Flatten()(x)\n",
    "x = Dense(200)(x)\n",
    "x = Activation(\"relu\")(x)\n",
    "x = Dense(10)(x)\n",
    "predictions = Activation(\"sigmoid\")(x)\n",
    "\n",
    "validator = Model(input, predictions)"
   ],
   "execution_count": 0,
   "outputs": []
  },
  {
   "metadata": {
    "id": "stZfFcfPNYlL",
    "colab_type": "code",
    "colab": {}
   },
   "cell_type": "code",
   "source": [
    "# activationとbatchnormalizationの順番入れ替えたパターン\n",
    "input = Input((28,28,1))\n",
    "\n",
    "x = Conv2D(32, 3, padding=\"same\")(input)\n",
    "x = BatchNormalization()(x)\n",
    "x = Activation(\"relu\")(x)\n",
    "\n",
    "x = Conv2D(32, 3, padding=\"same\")(x)\n",
    "x = BatchNormalization()(x)\n",
    "x = Activation(\"relu\")(x)\n",
    "\n",
    "x = MaxPool2D(2)(x)\n",
    "\n",
    "x = Conv2D(64, 3, padding=\"same\")(x)\n",
    "x = BatchNormalization()(x)\n",
    "x = Activation(\"relu\")(x)\n",
    "\n",
    "x = Conv2D(64, 3, padding=\"same\")(x)\n",
    "x = BatchNormalization()(x)\n",
    "x = Activation(\"relu\")(x)\n",
    "\n",
    "x = MaxPool2D(2)(x)\n",
    "\n",
    "x = Conv2D(128, 3, padding=\"same\")(x)\n",
    "x = BatchNormalization()(x)\n",
    "x = Activation(\"relu\")(x)\n",
    "\n",
    "x = Conv2D(128, 3, padding=\"same\")(x)\n",
    "x = BatchNormalization()(x)\n",
    "x = Activation(\"relu\")(x)\n",
    "\n",
    "x = Flatten()(x)\n",
    "x = Dense(200, activation='relu')(x)\n",
    "predictions = Dense(10, activation='softmax')(x)\n",
    "\n",
    "validator = Model(input, predictions)"
   ],
   "execution_count": 0,
   "outputs": []
  },
  {
   "metadata": {
    "id": "yIxBDB6feTCY",
    "colab_type": "code",
    "colab": {}
   },
   "cell_type": "code",
   "source": [
    "input = Input((28,28,1))\n",
    "\n",
    "x = Conv2D(100, 3, padding='same')(input)\n",
    "x = Activation('relu')(x)\n",
    "x = BatchNormalization()(x)\n",
    "x = Dropout(0.25)(x)\n",
    "\n",
    "x = MaxPool2D(pool_size=(2, 2))(x)\n",
    "\n",
    "x = Conv2D(200, 3, padding='same')(x)\n",
    "x = Activation('relu')(x)\n",
    "x = BatchNormalization()(x)\n",
    "x = Dropout(0.25)(x)\n",
    "\n",
    "x = Conv2D(200, 3, padding='same')(x)\n",
    "x = Activation('relu')(x)\n",
    "x = BatchNormalization()(x)\n",
    "x = Dropout(0.25)(x)\n",
    "\n",
    "x = MaxPool2D(pool_size=(2, 2))(x)\n",
    "\n",
    "x = Conv2D(200, 3, padding='same')(x)\n",
    "x = Activation('relu')(x)\n",
    "x = BatchNormalization()(x)\n",
    "x = Dropout(0.25)(x)\n",
    "\n",
    "x = Conv2D(200, 3, padding='same')(x)\n",
    "x = Activation('relu')(x)\n",
    "x = BatchNormalization()(x)\n",
    "x = Dropout(0.25)(x)\n",
    "\n",
    "x = Flatten()(x)\n",
    "\n",
    "x = Dense(200, activation='relu')(x)\n",
    "predictions = Dense(10, activation='softmax')(x)\n",
    "\n",
    "validator = Model(input, predictions)"
   ],
   "execution_count": 0,
   "outputs": []
  },
  {
   "metadata": {
    "id": "RLPVE-6TTBEn",
    "colab_type": "code",
    "colab": {}
   },
   "cell_type": "code",
   "source": [
    "def make_encoder(input):\n",
    "  x = Conv2D(32, 3, padding=\"same\")(input)\n",
    "  x = Activation(\"relu\")(x)\n",
    "  x = BatchNormalization()(x)\n",
    "\n",
    "  x = Conv2D(32, 3, padding=\"same\")(x)\n",
    "  x = Activation(\"relu\")(x)\n",
    "  x = BatchNormalization()(x)\n",
    "\n",
    "  x = MaxPool2D(2)(x)\n",
    "\n",
    "  x = Conv2D(64, 3, padding=\"same\")(x)\n",
    "  x = Activation(\"relu\")(x)\n",
    "  x = BatchNormalization()(x)\n",
    "\n",
    "  x = Conv2D(64, 3, padding=\"same\")(x)\n",
    "  x = Activation(\"relu\")(x)\n",
    "  x = BatchNormalization()(x)\n",
    "\n",
    "  x = MaxPool2D(2)(x)\n",
    "\n",
    "  x = Conv2D(128, 3, padding=\"same\")(x)\n",
    "  x = Activation(\"relu\")(x)\n",
    "  x = BatchNormalization()(x)\n",
    "\n",
    "  x = Conv2D(128, 3, padding=\"same\")(x)\n",
    "  x = Activation(\"relu\")(x)\n",
    "  x = BatchNormalization()(x)\n",
    "\n",
    "  model = Model(input, x)\n",
    "  \n",
    "  return model"
   ],
   "execution_count": 0,
   "outputs": []
  },
  {
   "metadata": {
    "id": "lBa7sAnGT7Wm",
    "colab_type": "code",
    "colab": {}
   },
   "cell_type": "code",
   "source": [
    "def make_classifier(input):\n",
    "  x = Flatten()(input)\n",
    "  x = Dense(200)(x)\n",
    "  x = Activation(\"relu\")(x)\n",
    "  x = Dense(10)(x)\n",
    "  x = Activation(\"sigmoid\")(x)\n",
    "  model = Model(input, x)\n",
    "  return model"
   ],
   "execution_count": 0,
   "outputs": []
  },
  {
   "metadata": {
    "id": "DRvXRA7mTX1S",
    "colab_type": "code",
    "colab": {}
   },
   "cell_type": "code",
   "source": [
    "input = Input((28,28,1))\n",
    "encoder = make_encoder(input)\n",
    "x = Flatten()(encoder.layers[-1].output)\n",
    "x = Dense(200)(x)\n",
    "x = Activation(\"relu\")(x)\n",
    "x = Dense(10)(x)\n",
    "x = Activation(\"sigmoid\")(x)\n",
    "validator = Model(encoder.inputs, x)\n",
    "\n",
    "#classifier = make_classifier(encoder)\n",
    "#validator = Model(\n",
    "#    inputs=encoder.input,\n",
    "#    outputs=classifier.output)"
   ],
   "execution_count": 0,
   "outputs": []
  },
  {
   "metadata": {
    "id": "vSEMwmxsxtkW",
    "colab_type": "code",
    "outputId": "15404c43-aceb-484b-8bc7-53abed01e841",
    "executionInfo": {
     "status": "ok",
     "timestamp": 1545295295133,
     "user_tz": -540,
     "elapsed": 449,
     "user": {
      "displayName": "Kiyoshi SATOH",
      "photoUrl": "https://lh5.googleusercontent.com/-Axv1tw7iUyw/AAAAAAAAAAI/AAAAAAAAALU/27WeD4XMZh0/s64/photo.jpg",
      "userId": "17263090257850830810"
     }
    },
    "colab": {
     "base_uri": "https://localhost:8080/",
     "height": 34
    }
   },
   "cell_type": "code",
   "source": [
    "encoder.output"
   ],
   "execution_count": 0,
   "outputs": [
    {
     "output_type": "execute_result",
     "data": {
      "text/plain": [
       "<tf.Tensor 'batch_normalization_59/FusedBatchNorm:0' shape=(?, 7, 7, 128) dtype=float32>"
      ]
     },
     "metadata": {
      "tags": []
     },
     "execution_count": 58
    }
   ]
  },
  {
   "metadata": {
    "id": "RvRAREAhwSmQ",
    "colab_type": "code",
    "colab": {}
   },
   "cell_type": "code",
   "source": [
    "input = Input((28,28,1))\n",
    "encoder = make_encoder(input_tensor=input)\n",
    "classifier_input = Input(shape=encoder.output_shape[1:])\n",
    "x = Flatten()(classifier_input)\n",
    "x = Dense(200)(x)\n",
    "x = Activation(\"relu\")(x)\n",
    "x = Dense(10)(x)\n",
    "x = Activation(\"sigmoid\")(x)\n",
    "validator = Model(\n",
    "    inputs=encoder.input,\n",
    "    outputs=classifier(encoder.output))"
   ],
   "execution_count": 0,
   "outputs": []
  },
  {
   "metadata": {
    "id": "9qi2wHP2VS-S",
    "colab_type": "code",
    "colab": {}
   },
   "cell_type": "code",
   "source": [
    "validator.compile(\n",
    "    loss=tf.keras.losses.categorical_crossentropy,\n",
    "    optimizer=tf.train.AdamOptimizer(learning_rate=1e-3, ),\n",
    "    metrics=['categorical_accuracy'])"
   ],
   "execution_count": 0,
   "outputs": []
  },
  {
   "metadata": {
    "id": "aVnt1oJelGI7",
    "colab_type": "code",
    "colab": {}
   },
   "cell_type": "code",
   "source": [
    "validator.save_weights('my_model_weights.h5')"
   ],
   "execution_count": 0,
   "outputs": []
  },
  {
   "metadata": {
    "colab_type": "code",
    "outputId": "477d0ca6-0ad9-4a2e-ed54-1f3d1a5d2340",
    "executionInfo": {
     "status": "ok",
     "timestamp": 1546055403826,
     "user_tz": -540,
     "elapsed": 13537,
     "user": {
      "displayName": "Kiyoshi SATOH",
      "photoUrl": "https://lh5.googleusercontent.com/-Axv1tw7iUyw/AAAAAAAAAAI/AAAAAAAAALU/27WeD4XMZh0/s64/photo.jpg",
      "userId": "17263090257850830810"
     }
    },
    "id": "4pJUG0I9XoMd",
    "colab": {
     "base_uri": "https://localhost:8080/",
     "height": 68
    }
   },
   "cell_type": "code",
   "source": [
    "validator.fit(\n",
    "    x=x_train[:1000].reshape(1000, 28, 28, 1),\n",
    "    y=y_train[:1000],\n",
    "    batch_size=100, epochs=1,\n",
    "    #callbacks=[TensorBoardColabCallback(tbc)],\n",
    "    #validation_data=(x_test[:100].reshape(100, 28, 28, 1), y_test[:100])\n",
    ")"
   ],
   "execution_count": 0,
   "outputs": [
    {
     "output_type": "stream",
     "text": [
      "Epoch 1/1\n",
      "1000/1000 [==============================] - 12s 12ms/step - loss: 1.1548 - categorical_accuracy: 0.6450\n"
     ],
     "name": "stdout"
    },
    {
     "output_type": "execute_result",
     "data": {
      "text/plain": [
       "<tensorflow.python.keras.callbacks.History at 0x7f5e76bcbcf8>"
      ]
     },
     "metadata": {
      "tags": []
     },
     "execution_count": 15
    }
   ]
  },
  {
   "metadata": {
    "id": "VWtk26SFf2J_",
    "colab_type": "code",
    "colab": {}
   },
   "cell_type": "code",
   "source": [
    "validator.load_weights('my_model_weights.h5')"
   ],
   "execution_count": 0,
   "outputs": []
  },
  {
   "metadata": {
    "colab_type": "code",
    "outputId": "8f709661-0d75-4aa4-b3a4-943e3941179a",
    "executionInfo": {
     "status": "ok",
     "timestamp": 1546056051207,
     "user_tz": -540,
     "elapsed": 4456,
     "user": {
      "displayName": "Kiyoshi SATOH",
      "photoUrl": "https://lh5.googleusercontent.com/-Axv1tw7iUyw/AAAAAAAAAAI/AAAAAAAAALU/27WeD4XMZh0/s64/photo.jpg",
      "userId": "17263090257850830810"
     }
    },
    "id": "9x0DRVOSXoMk",
    "colab": {
     "base_uri": "https://localhost:8080/",
     "height": 343
    }
   },
   "cell_type": "code",
   "source": [
    "tpu_model = tf.contrib.tpu.keras_to_tpu_model(\n",
    "    validator,\n",
    "    strategy=tf.contrib.tpu.TPUDistributionStrategy(\n",
    "        tf.contrib.cluster_resolver.TPUClusterResolver(tpu='grpc://' + os.environ['COLAB_TPU_ADDR'])\n",
    "    )\n",
    ")\n",
    "\n",
    "tpu_model.compile(\n",
    "    loss=tf.keras.losses.categorical_crossentropy,\n",
    "    optimizer=tf.train.AdamOptimizer(learning_rate=1e-3, ),\n",
    "    metrics=['categorical_accuracy'])"
   ],
   "execution_count": 0,
   "outputs": [
    {
     "output_type": "stream",
     "text": [
      "INFO:tensorflow:Querying Tensorflow master (b'grpc://10.43.198.202:8470') for TPU system metadata.\n",
      "INFO:tensorflow:Found TPU system:\n",
      "INFO:tensorflow:*** Num TPU Cores: 8\n",
      "INFO:tensorflow:*** Num TPU Workers: 1\n",
      "INFO:tensorflow:*** Num TPU Cores Per Worker: 8\n",
      "INFO:tensorflow:*** Available Device: _DeviceAttributes(/job:worker/replica:0/task:0/device:CPU:0, CPU, -1, 7321861937527409554)\n",
      "INFO:tensorflow:*** Available Device: _DeviceAttributes(/job:worker/replica:0/task:0/device:XLA_CPU:0, XLA_CPU, 17179869184, 12535145989370964041)\n",
      "INFO:tensorflow:*** Available Device: _DeviceAttributes(/job:worker/replica:0/task:0/device:XLA_GPU:0, XLA_GPU, 17179869184, 5166179787055120119)\n",
      "INFO:tensorflow:*** Available Device: _DeviceAttributes(/job:worker/replica:0/task:0/device:TPU:0, TPU, 17179869184, 9614282540622008967)\n",
      "INFO:tensorflow:*** Available Device: _DeviceAttributes(/job:worker/replica:0/task:0/device:TPU:1, TPU, 17179869184, 11963628341253245733)\n",
      "INFO:tensorflow:*** Available Device: _DeviceAttributes(/job:worker/replica:0/task:0/device:TPU:2, TPU, 17179869184, 10915534061094028626)\n",
      "INFO:tensorflow:*** Available Device: _DeviceAttributes(/job:worker/replica:0/task:0/device:TPU:3, TPU, 17179869184, 6278827008939303564)\n",
      "INFO:tensorflow:*** Available Device: _DeviceAttributes(/job:worker/replica:0/task:0/device:TPU:4, TPU, 17179869184, 1042600308196589104)\n",
      "INFO:tensorflow:*** Available Device: _DeviceAttributes(/job:worker/replica:0/task:0/device:TPU:5, TPU, 17179869184, 17939932053337509212)\n",
      "INFO:tensorflow:*** Available Device: _DeviceAttributes(/job:worker/replica:0/task:0/device:TPU:6, TPU, 17179869184, 5448147130871693870)\n",
      "INFO:tensorflow:*** Available Device: _DeviceAttributes(/job:worker/replica:0/task:0/device:TPU:7, TPU, 17179869184, 13876751328658693499)\n",
      "INFO:tensorflow:*** Available Device: _DeviceAttributes(/job:worker/replica:0/task:0/device:TPU_SYSTEM:0, TPU_SYSTEM, 17179869184, 13925529408178225497)\n",
      "WARNING:tensorflow:tpu_model (from tensorflow.contrib.tpu.python.tpu.keras_support) is experimental and may change or be removed at any time, and without warning.\n"
     ],
     "name": "stdout"
    }
   ]
  },
  {
   "metadata": {
    "id": "w1XjnWv4YePt",
    "colab_type": "code",
    "colab": {}
   },
   "cell_type": "code",
   "source": [
    "hist = History()"
   ],
   "execution_count": 0,
   "outputs": []
  },
  {
   "metadata": {
    "colab_type": "code",
    "outputId": "8c548c1c-e591-4308-ee43-05225838db13",
    "executionInfo": {
     "status": "ok",
     "timestamp": 1546056126577,
     "user_tz": -540,
     "elapsed": 19401,
     "user": {
      "displayName": "Kiyoshi SATOH",
      "photoUrl": "https://lh5.googleusercontent.com/-Axv1tw7iUyw/AAAAAAAAAAI/AAAAAAAAALU/27WeD4XMZh0/s64/photo.jpg",
      "userId": "17263090257850830810"
     }
    },
    "id": "muRsT3ajXoMo",
    "colab": {
     "base_uri": "https://localhost:8080/",
     "height": 136
    }
   },
   "cell_type": "code",
   "source": [
    "tpu_model.fit(\n",
    "    x=x_train.reshape(60000, 28, 28, 1), y=y_train,\n",
    "    callbacks=[TensorBoardColabCallback(tbc)],\n",
    "    batch_size=1024, epochs=3\n",
    ")"
   ],
   "execution_count": 0,
   "outputs": [
    {
     "output_type": "stream",
     "text": [
      "Epoch 1/3\n",
      "60000/60000 [==============================] - 6s 96us/step - loss: 0.0183 - categorical_accuracy: 0.9952\n",
      "Epoch 2/3\n",
      "60000/60000 [==============================] - 6s 95us/step - loss: 0.0131 - categorical_accuracy: 0.9962\n",
      "Epoch 3/3\n",
      "60000/60000 [==============================] - 6s 96us/step - loss: 0.0086 - categorical_accuracy: 0.9978\n"
     ],
     "name": "stdout"
    },
    {
     "output_type": "execute_result",
     "data": {
      "text/plain": [
       "<tensorflow.python.keras.callbacks.History at 0x7f5e649d7a20>"
      ]
     },
     "metadata": {
      "tags": []
     },
     "execution_count": 24
    }
   ]
  },
  {
   "metadata": {
    "colab_type": "code",
    "id": "T2YJ2Hh6XoNA",
    "colab": {}
   },
   "cell_type": "code",
   "source": [
    "import math\n",
    "def test_validator(scale=0.5):\n",
    "    size = 28\n",
    "    test_num = 10\n",
    "    x  = np.zeros((test_num, size, size), dtype = 'float32')\n",
    "    start = np.random.randint(x_test.shape[0] - test_num)\n",
    "    x_orig = x_test[start:start+test_num]\n",
    "    y = y_test[start:start+test_num]\n",
    "    for i in range(10):\n",
    "      padding_size = math.floor(size - size*scale)\n",
    "      x0 = np.random.randint(padding_size) - math.floor(padding_size/2) + math.floor(size/2) \n",
    "      y0 = np.random.randint(padding_size) - math.floor(padding_size/2) + math.floor(size/2)\n",
    "      #x[i] = affine_image(x_orig[i], x0, y0, 0, scale)\n",
    "      x[i] = affine_image(x_orig[i], 10, 10, 0, scale)\n",
    "\n",
    "    fig, subplts = plt.subplots(ncols=10, figsize=(20, 2))\n",
    "    for i in range(10):\n",
    "        subplts[i].imshow(x[i])\n",
    "\n",
    "    print(np.argmax(y, axis=1))\n",
    "\n",
    "    cpu_model = tpu_model.sync_to_cpu()\n",
    "    preds = cpu_model.predict(x.reshape(test_num,28,28,1))\n",
    "    print(np.argmax(preds, axis=1))\n"
   ],
   "execution_count": 0,
   "outputs": []
  },
  {
   "metadata": {
    "colab_type": "code",
    "outputId": "7a5b6286-6085-447d-d19a-ce8490a30a3d",
    "executionInfo": {
     "status": "ok",
     "timestamp": 1544937126240,
     "user_tz": -540,
     "elapsed": 4627,
     "user": {
      "displayName": "Kiyoshi SATOH",
      "photoUrl": "https://lh5.googleusercontent.com/-Axv1tw7iUyw/AAAAAAAAAAI/AAAAAAAAALU/27WeD4XMZh0/s64/photo.jpg",
      "userId": "17263090257850830810"
     }
    },
    "id": "f3sFFw5JXoNF",
    "colab": {
     "base_uri": "https://localhost:8080/",
     "height": 216
    }
   },
   "cell_type": "code",
   "source": [
    "test_validator(0.9)"
   ],
   "execution_count": 0,
   "outputs": [
    {
     "output_type": "stream",
     "text": [
      "[1 9 8 9 2 3 5 5 9 4]\n",
      "INFO:tensorflow:Copying TPU weights to the CPU\n",
      "[5 5 5 5 5 5 5 5 5 5]\n"
     ],
     "name": "stdout"
    },
    {
     "output_type": "display_data",
     "data": {
      "image/png": "[encoded data removed]",
      "text/plain": [
       "<matplotlib.figure.Figure at 0x7f05aed38358>"
      ]
     },
     "metadata": {
      "tags": []
     }
    }
   ]
  },
  {
   "metadata": {
    "id": "o499Fgn_J1Gn",
    "colab_type": "text"
   },
   "cell_type": "markdown",
   "source": [
    "# VAEサンプル\n",
    "\n",
    "https://blog.keras.io/building-autoencoders-in-keras.html\n"
   ]
  },
  {
   "metadata": {
    "id": "ne__1nVeJ_7-",
    "colab_type": "code",
    "colab": {}
   },
   "cell_type": "code",
   "source": [
    "from tensorflow.keras.layers import Conv2D, BatchNormalization, Activation, Input, Concatenate, MaxPool2D, Conv2DTranspose, Add, Flatten, Dense\n",
    "from tensorflow.keras.models import Model\n",
    "from tensorflow.keras.callbacks import Callback, History\n",
    "import tensorflow.keras.backend as K\n",
    "from tensorflow.keras.losses import mean_squared_error\n",
    "import os\n",
    "from PIL import Image"
   ],
   "execution_count": 0,
   "outputs": []
  },
  {
   "metadata": {
    "id": "cUsHeFJ-LN7s",
    "colab_type": "code",
    "colab": {}
   },
   "cell_type": "code",
   "source": [
    "expression_dim = 30\n",
    "\n",
    "#input = Input((28,28,1))\n",
    "input = Input(shape=(784,))\n",
    "\n",
    "x = Dense(expression_dim)(input)\n",
    "encoded = Activation('relu')(x)\n",
    "\n",
    "x = Dense(784)(encoded)\n",
    "decoded = Activation('sigmoid')(x)\n",
    "autoencoder = Model(input, decoded)\n",
    "\n",
    "encoder = Model(input, encoded)"
   ],
   "execution_count": 0,
   "outputs": []
  },
  {
   "metadata": {
    "id": "Hvx4jTfJPDYS",
    "colab_type": "code",
    "colab": {}
   },
   "cell_type": "code",
   "source": [
    "expression_input = Input((expression_dim,))\n",
    "decoder_layer = autoencoder.layers[-1] # 最後のレイヤー1層がdecoder\n",
    "decoder = Model(expression_input, decoder_layer(expression_input))"
   ],
   "execution_count": 0,
   "outputs": []
  },
  {
   "metadata": {
    "id": "0kWUHHhcQUWf",
    "colab_type": "code",
    "colab": {}
   },
   "cell_type": "code",
   "source": [
    "autoencoder.compile(\n",
    "    loss=tf.keras.losses.binary_crossentropy,\n",
    "    optimizer=tf.train.AdamOptimizer(learning_rate=1e-3, ))"
   ],
   "execution_count": 0,
   "outputs": []
  },
  {
   "metadata": {
    "id": "PO4OlgegVXPi",
    "colab_type": "code",
    "colab": {}
   },
   "cell_type": "code",
   "source": [
    "x_train_flatten = x_train.reshape(60000, 784)\n",
    "x_test_flatten = x_test.reshape(10000, 784)"
   ],
   "execution_count": 0,
   "outputs": []
  },
  {
   "metadata": {
    "id": "d7HNQS4WQ8HB",
    "colab_type": "code",
    "outputId": "da2e56b7-61b5-4773-dcc0-b42fa972e89a",
    "executionInfo": {
     "status": "ok",
     "timestamp": 1546059689907,
     "user_tz": -540,
     "elapsed": 12314,
     "user": {
      "displayName": "Kiyoshi SATOH",
      "photoUrl": "https://lh5.googleusercontent.com/-Axv1tw7iUyw/AAAAAAAAAAI/AAAAAAAAALU/27WeD4XMZh0/s64/photo.jpg",
      "userId": "17263090257850830810"
     }
    },
    "colab": {
     "base_uri": "https://localhost:8080/",
     "height": 68
    }
   },
   "cell_type": "code",
   "source": [
    "autoencoder.fit(\n",
    "    x=x_train_flatten, y=x_train_flatten,\n",
    "    epochs=1)"
   ],
   "execution_count": 0,
   "outputs": [
    {
     "output_type": "stream",
     "text": [
      "Epoch 1/1\n",
      "60000/60000 [==============================] - 12s 199us/step - loss: 0.1082\n"
     ],
     "name": "stdout"
    },
    {
     "output_type": "execute_result",
     "data": {
      "text/plain": [
       "<tensorflow.python.keras.callbacks.History at 0x7f5e61391ba8>"
      ]
     },
     "metadata": {
      "tags": []
     },
     "execution_count": 60
    }
   ]
  },
  {
   "metadata": {
    "id": "UXnyQTVsV_hh",
    "colab_type": "code",
    "outputId": "c0cd2275-3f2a-415a-bb52-e4f9e890df3f",
    "executionInfo": {
     "status": "error",
     "timestamp": 1546495720967,
     "user_tz": -540,
     "elapsed": 9583,
     "user": {
      "displayName": "Kiyoshi SATOH",
      "photoUrl": "https://lh5.googleusercontent.com/-Axv1tw7iUyw/AAAAAAAAAAI/AAAAAAAAALU/27WeD4XMZh0/s64/photo.jpg",
      "userId": "17263090257850830810"
     }
    },
    "colab": {
     "base_uri": "https://localhost:8080/",
     "height": 1038
    }
   },
   "cell_type": "code",
   "source": [
    "tpu_model = tf.contrib.tpu.keras_to_tpu_model(\n",
    "    autoencoder,\n",
    "    strategy=tf.contrib.tpu.TPUDistributionStrategy(\n",
    "        tf.contrib.cluster_resolver.TPUClusterResolver(tpu='grpc://' + os.environ['COLAB_TPU_ADDR'])\n",
    "    )\n",
    ")\n",
    "\n",
    "tpu_model.compile(\n",
    "    loss=tf.keras.losses.binary_crossentropy,\n",
    "    optimizer=tf.train.AdamOptimizer(learning_rate=1e-3, ))"
   ],
   "execution_count": 0,
   "outputs": [
    {
     "output_type": "stream",
     "text": [
      "INFO:tensorflow:Querying Tensorflow master (b'grpc://10.32.74.10:8470') for TPU system metadata.\n",
      "INFO:tensorflow:Found TPU system:\n",
      "INFO:tensorflow:*** Num TPU Cores: 8\n",
      "INFO:tensorflow:*** Num TPU Workers: 1\n",
      "INFO:tensorflow:*** Num TPU Cores Per Worker: 8\n",
      "INFO:tensorflow:*** Available Device: _DeviceAttributes(/job:worker/replica:0/task:0/device:CPU:0, CPU, -1, 11590439381290850286)\n",
      "INFO:tensorflow:*** Available Device: _DeviceAttributes(/job:worker/replica:0/task:0/device:XLA_CPU:0, XLA_CPU, 17179869184, 13471779200105244428)\n",
      "INFO:tensorflow:*** Available Device: _DeviceAttributes(/job:worker/replica:0/task:0/device:XLA_GPU:0, XLA_GPU, 17179869184, 11072163633374787605)\n",
      "INFO:tensorflow:*** Available Device: _DeviceAttributes(/job:worker/replica:0/task:0/device:TPU:0, TPU, 17179869184, 16645369205575527650)\n",
      "INFO:tensorflow:*** Available Device: _DeviceAttributes(/job:worker/replica:0/task:0/device:TPU:1, TPU, 17179869184, 12354500239125362269)\n",
      "INFO:tensorflow:*** Available Device: _DeviceAttributes(/job:worker/replica:0/task:0/device:TPU:2, TPU, 17179869184, 10120261532545140852)\n",
      "INFO:tensorflow:*** Available Device: _DeviceAttributes(/job:worker/replica:0/task:0/device:TPU:3, TPU, 17179869184, 12141695870364326943)\n",
      "INFO:tensorflow:*** Available Device: _DeviceAttributes(/job:worker/replica:0/task:0/device:TPU:4, TPU, 17179869184, 2580332993643750171)\n",
      "INFO:tensorflow:*** Available Device: _DeviceAttributes(/job:worker/replica:0/task:0/device:TPU:5, TPU, 17179869184, 9349384885818046678)\n",
      "INFO:tensorflow:*** Available Device: _DeviceAttributes(/job:worker/replica:0/task:0/device:TPU:6, TPU, 17179869184, 12213866414921788936)\n",
      "INFO:tensorflow:*** Available Device: _DeviceAttributes(/job:worker/replica:0/task:0/device:TPU:7, TPU, 17179869184, 15719342221735241266)\n",
      "INFO:tensorflow:*** Available Device: _DeviceAttributes(/job:worker/replica:0/task:0/device:TPU_SYSTEM:0, TPU_SYSTEM, 17179869184, 853108883816259561)\n",
      "WARNING:tensorflow:tpu_model (from tensorflow.contrib.tpu.python.tpu.keras_support) is experimental and may change or be removed at any time, and without warning.\n"
     ],
     "name": "stdout"
    },
    {
     "output_type": "error",
     "ename": "AttributeError",
     "evalue": "ignored",
     "traceback": [
      "\u001b[0;31m---------------------------------------------------------------------------\u001b[0m",
      "\u001b[0;31mAttributeError\u001b[0m                            Traceback (most recent call last)",
      "\u001b[0;32m<ipython-input-7-819c4fb9f030>\u001b[0m in \u001b[0;36m<module>\u001b[0;34m()\u001b[0m\n\u001b[1;32m      2\u001b[0m     \u001b[0mautoencoder\u001b[0m\u001b[0;34m,\u001b[0m\u001b[0;34m\u001b[0m\u001b[0;34m\u001b[0m\u001b[0m\n\u001b[1;32m      3\u001b[0m     strategy=tf.contrib.tpu.TPUDistributionStrategy(\n\u001b[0;32m----> 4\u001b[0;31m         \u001b[0mtf\u001b[0m\u001b[0;34m.\u001b[0m\u001b[0mcontrib\u001b[0m\u001b[0;34m.\u001b[0m\u001b[0mcluster_resolver\u001b[0m\u001b[0;34m.\u001b[0m\u001b[0mTPUClusterResolver\u001b[0m\u001b[0;34m(\u001b[0m\u001b[0mtpu\u001b[0m\u001b[0;34m=\u001b[0m\u001b[0;34m'grpc://'\u001b[0m \u001b[0;34m+\u001b[0m \u001b[0mos\u001b[0m\u001b[0;34m.\u001b[0m\u001b[0menviron\u001b[0m\u001b[0;34m[\u001b[0m\u001b[0;34m'COLAB_TPU_ADDR'\u001b[0m\u001b[0;34m]\u001b[0m\u001b[0;34m)\u001b[0m\u001b[0;34m\u001b[0m\u001b[0;34m\u001b[0m\u001b[0m\n\u001b[0m\u001b[1;32m      5\u001b[0m     )\n\u001b[1;32m      6\u001b[0m )\n",
      "\u001b[0;32m/usr/local/lib/python3.6/dist-packages/tensorflow/contrib/framework/python/framework/experimental.py\u001b[0m in \u001b[0;36mnew_func\u001b[0;34m(*args, **kwargs)\u001b[0m\n\u001b[1;32m     62\u001b[0m         \u001b[0;34m'any time, and without warning.'\u001b[0m\u001b[0;34m,\u001b[0m\u001b[0;34m\u001b[0m\u001b[0;34m\u001b[0m\u001b[0m\n\u001b[1;32m     63\u001b[0m         decorator_utils.get_qualified_name(func), func.__module__)\n\u001b[0;32m---> 64\u001b[0;31m     \u001b[0;32mreturn\u001b[0m \u001b[0mfunc\u001b[0m\u001b[0;34m(\u001b[0m\u001b[0;34m*\u001b[0m\u001b[0margs\u001b[0m\u001b[0;34m,\u001b[0m \u001b[0;34m**\u001b[0m\u001b[0mkwargs\u001b[0m\u001b[0;34m)\u001b[0m\u001b[0;34m\u001b[0m\u001b[0;34m\u001b[0m\u001b[0m\n\u001b[0m\u001b[1;32m     65\u001b[0m   new_func.__doc__ = _add_experimental_function_notice_to_docstring(\n\u001b[1;32m     66\u001b[0m       func.__doc__)\n",
      "\u001b[0;32m/usr/local/lib/python3.6/dist-packages/tensorflow/contrib/tpu/python/tpu/keras_support.py\u001b[0m in \u001b[0;36mtpu_model\u001b[0;34m(model, strategy)\u001b[0m\n\u001b[1;32m   2139\u001b[0m     \u001b[0mA\u001b[0m \u001b[0mnew\u001b[0m\u001b[0;31m \u001b[0m\u001b[0;31m`\u001b[0m\u001b[0mKerasTPUModel\u001b[0m\u001b[0;31m`\u001b[0m \u001b[0minstance\u001b[0m\u001b[0;34m.\u001b[0m\u001b[0;34m\u001b[0m\u001b[0;34m\u001b[0m\u001b[0m\n\u001b[1;32m   2140\u001b[0m   \"\"\"\n\u001b[0;32m-> 2141\u001b[0;31m   \u001b[0m_validate_shapes\u001b[0m\u001b[0;34m(\u001b[0m\u001b[0mmodel\u001b[0m\u001b[0;34m)\u001b[0m\u001b[0;34m\u001b[0m\u001b[0;34m\u001b[0m\u001b[0m\n\u001b[0m\u001b[1;32m   2142\u001b[0m   \u001b[0;31m# TODO(xiejw): Validate TPU model. TPUModel only?\u001b[0m\u001b[0;34m\u001b[0m\u001b[0;34m\u001b[0m\u001b[0;34m\u001b[0m\u001b[0m\n\u001b[1;32m   2143\u001b[0m   \u001b[0;31m# TODO(xiejw): Validate replicas. Full or 1. Shall we allow subset?\u001b[0m\u001b[0;34m\u001b[0m\u001b[0;34m\u001b[0m\u001b[0;34m\u001b[0m\u001b[0m\n",
      "\u001b[0;32m/usr/local/lib/python3.6/dist-packages/tensorflow/contrib/tpu/python/tpu/keras_support.py\u001b[0m in \u001b[0;36m_validate_shapes\u001b[0;34m(model)\u001b[0m\n\u001b[1;32m   2077\u001b[0m   \u001b[0;34m\"\"\"Validate that all layers in `model` have constant shape.\"\"\"\u001b[0m\u001b[0;34m\u001b[0m\u001b[0;34m\u001b[0m\u001b[0m\n\u001b[1;32m   2078\u001b[0m   \u001b[0;32mfor\u001b[0m \u001b[0mlayer\u001b[0m \u001b[0;32min\u001b[0m \u001b[0mmodel\u001b[0m\u001b[0;34m.\u001b[0m\u001b[0mlayers\u001b[0m\u001b[0;34m:\u001b[0m\u001b[0;34m\u001b[0m\u001b[0;34m\u001b[0m\u001b[0m\n\u001b[0;32m-> 2079\u001b[0;31m     \u001b[0;32mif\u001b[0m \u001b[0misinstance\u001b[0m\u001b[0;34m(\u001b[0m\u001b[0mlayer\u001b[0m\u001b[0;34m.\u001b[0m\u001b[0minput_shape\u001b[0m\u001b[0;34m,\u001b[0m \u001b[0mtuple\u001b[0m\u001b[0;34m)\u001b[0m\u001b[0;34m:\u001b[0m\u001b[0;34m\u001b[0m\u001b[0;34m\u001b[0m\u001b[0m\n\u001b[0m\u001b[1;32m   2080\u001b[0m       \u001b[0minput_shapes\u001b[0m \u001b[0;34m=\u001b[0m \u001b[0;34m[\u001b[0m\u001b[0mlayer\u001b[0m\u001b[0;34m.\u001b[0m\u001b[0minput_shape\u001b[0m\u001b[0;34m]\u001b[0m\u001b[0;34m\u001b[0m\u001b[0;34m\u001b[0m\u001b[0m\n\u001b[1;32m   2081\u001b[0m     \u001b[0;32melse\u001b[0m\u001b[0;34m:\u001b[0m\u001b[0;34m\u001b[0m\u001b[0;34m\u001b[0m\u001b[0m\n",
      "\u001b[0;32m/usr/local/lib/python3.6/dist-packages/tensorflow/python/keras/engine/base_layer.py\u001b[0m in \u001b[0;36minput_shape\u001b[0;34m(self)\u001b[0m\n\u001b[1;32m   1351\u001b[0m     \u001b[0;32melse\u001b[0m\u001b[0;34m:\u001b[0m\u001b[0;34m\u001b[0m\u001b[0;34m\u001b[0m\u001b[0m\n\u001b[1;32m   1352\u001b[0m       raise AttributeError('The layer \"' + str(self.name) +\n\u001b[0;32m-> 1353\u001b[0;31m                            \u001b[0;34m' has multiple inbound nodes, '\u001b[0m\u001b[0;34m\u001b[0m\u001b[0;34m\u001b[0m\u001b[0m\n\u001b[0m\u001b[1;32m   1354\u001b[0m                            \u001b[0;34m'with different input shapes. Hence '\u001b[0m\u001b[0;34m\u001b[0m\u001b[0;34m\u001b[0m\u001b[0m\n\u001b[1;32m   1355\u001b[0m                            \u001b[0;34m'the notion of \"input shape\" is '\u001b[0m\u001b[0;34m\u001b[0m\u001b[0;34m\u001b[0m\u001b[0m\n",
      "\u001b[0;31mAttributeError\u001b[0m: The layer \"activation_1 has multiple inbound nodes, with different input shapes. Hence the notion of \"input shape\" is ill-defined for the layer. Use `get_input_shape_at(node_index)` instead."
     ]
    }
   ]
  },
  {
   "metadata": {
    "id": "hgauFsTPKFu5",
    "colab_type": "code",
    "colab": {}
   },
   "cell_type": "code",
   "source": [
    "def make_encoder():\n",
    "  input = Input((28,28,1))\n",
    "  x = Dense(30)(input)\n",
    "  return Model(input, x)\n",
    "\n",
    "def make_decoder(dim):\n",
    "  input = Input(30)\n",
    "  x = Dense((28,28,1))(input)\n",
    "  return Model(input, x)\n"
   ],
   "execution_count": 0,
   "outputs": []
  },
  {
   "metadata": {
    "id": "Xj_kMLuLW-IL",
    "colab_type": "text"
   },
   "cell_type": "markdown",
   "source": [
    "# LSTMサンプル\n",
    "\n",
    "https://keras.io/getting-started/functional-api-guide/"
   ]
  },
  {
   "metadata": {
    "id": "ArPSM-OTXCUu",
    "colab_type": "code",
    "outputId": "379957dc-8e5e-4221-f9e5-f3c44c9be976",
    "executionInfo": {
     "status": "error",
     "timestamp": 1546497029266,
     "user_tz": -540,
     "elapsed": 1109,
     "user": {
      "displayName": "Kiyoshi SATOH",
      "photoUrl": "https://lh5.googleusercontent.com/-Axv1tw7iUyw/AAAAAAAAAAI/AAAAAAAAALU/27WeD4XMZh0/s64/photo.jpg",
      "userId": "17263090257850830810"
     }
    },
    "colab": {
     "base_uri": "https://localhost:8080/",
     "height": 593
    }
   },
   "cell_type": "code",
   "source": [
    "import tensorflow.keras\n",
    "from tensorflow.keras.layers import Input, LSTM, Dense\n",
    "from tensorflow.keras.models import Model\n",
    "\n",
    "tweet_a = Input(shape=(280, 256))\n",
    "tweet_b = Input(shape=(280, 256))\n",
    "\n",
    "# This layer can take as input a matrix\n",
    "# and will return a vector of size 64\n",
    "shared_lstm = LSTM(64)\n",
    "\n",
    "# When we reuse the same layer instance\n",
    "# multiple times, the weights of the layer\n",
    "# are also being reused\n",
    "# (it is effectively *the same* layer)\n",
    "encoded_a = shared_lstm(tweet_a)\n",
    "encoded_b = shared_lstm(tweet_b)\n",
    "\n",
    "# We can then concatenate the two vectors:\n",
    "merged_vector = keras.layers.concatenate([encoded_a, encoded_b], axis=-1)\n",
    "\n",
    "# And add a logistic regression on top\n",
    "predictions = Dense(1, activation='sigmoid')(merged_vector)\n",
    "\n",
    "# We define a trainable model linking the\n",
    "# tweet inputs to the predictions\n",
    "model = Model(inputs=[tweet_a, tweet_b], outputs=predictions)\n",
    "\n",
    "model.compile(optimizer='rmsprop',\n",
    "              loss='binary_crossentropy',\n",
    "              metrics=['accuracy'])\n",
    "\n",
    "#model.fit([data_a, data_b], labels, epochs=10)\n"
   ],
   "execution_count": 0,
   "outputs": [
    {
     "output_type": "error",
     "ename": "AttributeError",
     "evalue": "ignored",
     "traceback": [
      "\u001b[0;31m---------------------------------------------------------------------------\u001b[0m",
      "\u001b[0;31mAttributeError\u001b[0m                            Traceback (most recent call last)",
      "\u001b[0;32m<ipython-input-13-aa3664390979>\u001b[0m in \u001b[0;36m<module>\u001b[0;34m()\u001b[0m\n\u001b[1;32m     18\u001b[0m \u001b[0;34m\u001b[0m\u001b[0m\n\u001b[1;32m     19\u001b[0m \u001b[0;31m# We can then concatenate the two vectors:\u001b[0m\u001b[0;34m\u001b[0m\u001b[0;34m\u001b[0m\u001b[0;34m\u001b[0m\u001b[0m\n\u001b[0;32m---> 20\u001b[0;31m \u001b[0mmerged_vector\u001b[0m \u001b[0;34m=\u001b[0m \u001b[0mkeras\u001b[0m\u001b[0;34m.\u001b[0m\u001b[0mlayers\u001b[0m\u001b[0;34m.\u001b[0m\u001b[0mconcatenate\u001b[0m\u001b[0;34m(\u001b[0m\u001b[0;34m[\u001b[0m\u001b[0mencoded_a\u001b[0m\u001b[0;34m,\u001b[0m \u001b[0mencoded_b\u001b[0m\u001b[0;34m]\u001b[0m\u001b[0;34m,\u001b[0m \u001b[0maxis\u001b[0m\u001b[0;34m=\u001b[0m\u001b[0;34m-\u001b[0m\u001b[0;36m1\u001b[0m\u001b[0;34m)\u001b[0m\u001b[0;34m\u001b[0m\u001b[0;34m\u001b[0m\u001b[0m\n\u001b[0m\u001b[1;32m     21\u001b[0m \u001b[0;34m\u001b[0m\u001b[0m\n\u001b[1;32m     22\u001b[0m \u001b[0;31m# And add a logistic regression on top\u001b[0m\u001b[0;34m\u001b[0m\u001b[0;34m\u001b[0m\u001b[0;34m\u001b[0m\u001b[0m\n",
      "\u001b[0;32m/usr/local/lib/python3.6/dist-packages/keras/layers/merge.py\u001b[0m in \u001b[0;36mconcatenate\u001b[0;34m(inputs, axis, **kwargs)\u001b[0m\n\u001b[1;32m    647\u001b[0m         \u001b[0mA\u001b[0m \u001b[0mtensor\u001b[0m\u001b[0;34m,\u001b[0m \u001b[0mthe\u001b[0m \u001b[0mconcatenation\u001b[0m \u001b[0mof\u001b[0m \u001b[0mthe\u001b[0m \u001b[0minputs\u001b[0m \u001b[0malongside\u001b[0m \u001b[0maxis\u001b[0m\u001b[0;31m \u001b[0m\u001b[0;31m`\u001b[0m\u001b[0maxis\u001b[0m\u001b[0;31m`\u001b[0m\u001b[0;34m.\u001b[0m\u001b[0;34m\u001b[0m\u001b[0;34m\u001b[0m\u001b[0m\n\u001b[1;32m    648\u001b[0m     \"\"\"\n\u001b[0;32m--> 649\u001b[0;31m     \u001b[0;32mreturn\u001b[0m \u001b[0mConcatenate\u001b[0m\u001b[0;34m(\u001b[0m\u001b[0maxis\u001b[0m\u001b[0;34m=\u001b[0m\u001b[0maxis\u001b[0m\u001b[0;34m,\u001b[0m \u001b[0;34m**\u001b[0m\u001b[0mkwargs\u001b[0m\u001b[0;34m)\u001b[0m\u001b[0;34m(\u001b[0m\u001b[0minputs\u001b[0m\u001b[0;34m)\u001b[0m\u001b[0;34m\u001b[0m\u001b[0;34m\u001b[0m\u001b[0m\n\u001b[0m\u001b[1;32m    650\u001b[0m \u001b[0;34m\u001b[0m\u001b[0m\n\u001b[1;32m    651\u001b[0m \u001b[0;34m\u001b[0m\u001b[0m\n",
      "\u001b[0;32m/usr/local/lib/python3.6/dist-packages/keras/engine/base_layer.py\u001b[0m in \u001b[0;36m__call__\u001b[0;34m(self, inputs, **kwargs)\u001b[0m\n\u001b[1;32m    441\u001b[0m \u001b[0;34m\u001b[0m\u001b[0m\n\u001b[1;32m    442\u001b[0m             \u001b[0;31m# Handle mask propagation.\u001b[0m\u001b[0;34m\u001b[0m\u001b[0;34m\u001b[0m\u001b[0;34m\u001b[0m\u001b[0m\n\u001b[0;32m--> 443\u001b[0;31m             \u001b[0mprevious_mask\u001b[0m \u001b[0;34m=\u001b[0m \u001b[0m_collect_previous_mask\u001b[0m\u001b[0;34m(\u001b[0m\u001b[0minputs\u001b[0m\u001b[0;34m)\u001b[0m\u001b[0;34m\u001b[0m\u001b[0;34m\u001b[0m\u001b[0m\n\u001b[0m\u001b[1;32m    444\u001b[0m             \u001b[0muser_kwargs\u001b[0m \u001b[0;34m=\u001b[0m \u001b[0mcopy\u001b[0m\u001b[0;34m.\u001b[0m\u001b[0mcopy\u001b[0m\u001b[0;34m(\u001b[0m\u001b[0mkwargs\u001b[0m\u001b[0;34m)\u001b[0m\u001b[0;34m\u001b[0m\u001b[0;34m\u001b[0m\u001b[0m\n\u001b[1;32m    445\u001b[0m             \u001b[0;32mif\u001b[0m \u001b[0;32mnot\u001b[0m \u001b[0mis_all_none\u001b[0m\u001b[0;34m(\u001b[0m\u001b[0mprevious_mask\u001b[0m\u001b[0;34m)\u001b[0m\u001b[0;34m:\u001b[0m\u001b[0;34m\u001b[0m\u001b[0;34m\u001b[0m\u001b[0m\n",
      "\u001b[0;32m/usr/local/lib/python3.6/dist-packages/keras/engine/base_layer.py\u001b[0m in \u001b[0;36m_collect_previous_mask\u001b[0;34m(input_tensors)\u001b[0m\n\u001b[1;32m   1309\u001b[0m             \u001b[0minbound_layer\u001b[0m\u001b[0;34m,\u001b[0m \u001b[0mnode_index\u001b[0m\u001b[0;34m,\u001b[0m \u001b[0mtensor_index\u001b[0m \u001b[0;34m=\u001b[0m \u001b[0mx\u001b[0m\u001b[0;34m.\u001b[0m\u001b[0m_keras_history\u001b[0m\u001b[0;34m\u001b[0m\u001b[0;34m\u001b[0m\u001b[0m\n\u001b[1;32m   1310\u001b[0m             \u001b[0mnode\u001b[0m \u001b[0;34m=\u001b[0m \u001b[0minbound_layer\u001b[0m\u001b[0;34m.\u001b[0m\u001b[0m_inbound_nodes\u001b[0m\u001b[0;34m[\u001b[0m\u001b[0mnode_index\u001b[0m\u001b[0;34m]\u001b[0m\u001b[0;34m\u001b[0m\u001b[0;34m\u001b[0m\u001b[0m\n\u001b[0;32m-> 1311\u001b[0;31m             \u001b[0mmask\u001b[0m \u001b[0;34m=\u001b[0m \u001b[0mnode\u001b[0m\u001b[0;34m.\u001b[0m\u001b[0moutput_masks\u001b[0m\u001b[0;34m[\u001b[0m\u001b[0mtensor_index\u001b[0m\u001b[0;34m]\u001b[0m\u001b[0;34m\u001b[0m\u001b[0;34m\u001b[0m\u001b[0m\n\u001b[0m\u001b[1;32m   1312\u001b[0m             \u001b[0mmasks\u001b[0m\u001b[0;34m.\u001b[0m\u001b[0mappend\u001b[0m\u001b[0;34m(\u001b[0m\u001b[0mmask\u001b[0m\u001b[0;34m)\u001b[0m\u001b[0;34m\u001b[0m\u001b[0;34m\u001b[0m\u001b[0m\n\u001b[1;32m   1313\u001b[0m         \u001b[0;32melse\u001b[0m\u001b[0;34m:\u001b[0m\u001b[0;34m\u001b[0m\u001b[0;34m\u001b[0m\u001b[0m\n",
      "\u001b[0;31mAttributeError\u001b[0m: 'Node' object has no attribute 'output_masks'"
     ]
    }
   ]
  },
  {
   "metadata": {
    "id": "JgQ4xQAzXlyF",
    "colab_type": "code",
    "outputId": "dc266d34-39ba-4034-a0ec-a668ccf7edec",
    "executionInfo": {
     "status": "ok",
     "timestamp": 1546498489816,
     "user_tz": -540,
     "elapsed": 663,
     "user": {
      "displayName": "Kiyoshi SATOH",
      "photoUrl": "https://lh5.googleusercontent.com/-Axv1tw7iUyw/AAAAAAAAAAI/AAAAAAAAALU/27WeD4XMZh0/s64/photo.jpg",
      "userId": "17263090257850830810"
     }
    },
    "colab": {
     "base_uri": "https://localhost:8080/",
     "height": 34
    }
   },
   "cell_type": "code",
   "source": [
    "print(tensorflow.keras.__version__)"
   ],
   "execution_count": 0,
   "outputs": [
    {
     "output_type": "stream",
     "text": [
      "2.1.6-tf\n"
     ],
     "name": "stdout"
    }
   ]
  },
  {
   "metadata": {
    "id": "ni3e2ltUfUO9",
    "colab_type": "code",
    "outputId": "d4522d92-700b-4a2b-89db-45c33cf6966b",
    "executionInfo": {
     "status": "ok",
     "timestamp": 1546498493252,
     "user_tz": -540,
     "elapsed": 719,
     "user": {
      "displayName": "Kiyoshi SATOH",
      "photoUrl": "https://lh5.googleusercontent.com/-Axv1tw7iUyw/AAAAAAAAAAI/AAAAAAAAALU/27WeD4XMZh0/s64/photo.jpg",
      "userId": "17263090257850830810"
     }
    },
    "colab": {
     "base_uri": "https://localhost:8080/",
     "height": 34
    }
   },
   "cell_type": "code",
   "source": [
    "import keras\n",
    "print(keras.__version__)"
   ],
   "execution_count": 0,
   "outputs": [
    {
     "output_type": "stream",
     "text": [
      "2.2.4\n"
     ],
     "name": "stdout"
    }
   ]
  },
  {
   "metadata": {
    "id": "EMX_-zHofQni",
    "colab_type": "text"
   },
   "cell_type": "markdown",
   "source": [
    "# GANサンプル"
   ]
  },
  {
   "metadata": {
    "id": "J15xlVSxZ5dl",
    "colab_type": "code",
    "outputId": "dd1435bf-2b57-44f4-cdaf-7a3d2b052eff",
    "executionInfo": {
     "status": "ok",
     "timestamp": 1546497262799,
     "user_tz": -540,
     "elapsed": 3001,
     "user": {
      "displayName": "Kiyoshi SATOH",
      "photoUrl": "https://lh5.googleusercontent.com/-Axv1tw7iUyw/AAAAAAAAAAI/AAAAAAAAALU/27WeD4XMZh0/s64/photo.jpg",
      "userId": "17263090257850830810"
     }
    },
    "colab": {
     "base_uri": "https://localhost:8080/",
     "height": 102
    }
   },
   "cell_type": "code",
   "source": [
    "!git clone https://github.com/bstriner/keras_adversarial.git"
   ],
   "execution_count": 0,
   "outputs": [
    {
     "output_type": "stream",
     "text": [
      "Cloning into 'keras_adversarial'...\n",
      "remote: Enumerating objects: 506, done.\u001b[K\n",
      "remote: Total 506 (delta 0), reused 0 (delta 0), pack-reused 506\u001b[K\n",
      "Receiving objects: 100% (506/506), 5.14 MiB | 21.77 MiB/s, done.\n",
      "Resolving deltas: 100% (318/318), done.\n"
     ],
     "name": "stdout"
    }
   ]
  },
  {
   "metadata": {
    "id": "bnOjJHE6a3gv",
    "colab_type": "code",
    "outputId": "8d53f5eb-89cd-4ff0-e8e7-ff02503ae449",
    "executionInfo": {
     "status": "ok",
     "timestamp": 1546497325183,
     "user_tz": -540,
     "elapsed": 2841,
     "user": {
      "displayName": "Kiyoshi SATOH",
      "photoUrl": "https://lh5.googleusercontent.com/-Axv1tw7iUyw/AAAAAAAAAAI/AAAAAAAAALU/27WeD4XMZh0/s64/photo.jpg",
      "userId": "17263090257850830810"
     }
    },
    "colab": {
     "base_uri": "https://localhost:8080/",
     "height": 1992
    }
   },
   "cell_type": "code",
   "source": [
    "!(cd keras_adversarial; python setup.py install)"
   ],
   "execution_count": 0,
   "outputs": [
    {
     "output_type": "stream",
     "text": [
      "running install\n",
      "running bdist_egg\n",
      "running egg_info\n",
      "creating keras_adversarial.egg-info\n",
      "writing keras_adversarial.egg-info/PKG-INFO\n",
      "writing dependency_links to keras_adversarial.egg-info/dependency_links.txt\n",
      "writing requirements to keras_adversarial.egg-info/requires.txt\n",
      "writing top-level names to keras_adversarial.egg-info/top_level.txt\n",
      "writing manifest file 'keras_adversarial.egg-info/SOURCES.txt'\n",
      "reading manifest file 'keras_adversarial.egg-info/SOURCES.txt'\n",
      "writing manifest file 'keras_adversarial.egg-info/SOURCES.txt'\n",
      "installing library code to build/bdist.linux-x86_64/egg\n",
      "running install_lib\n",
      "running build_py\n",
      "creating build\n",
      "creating build/lib\n",
      "creating build/lib/keras_adversarial\n",
      "copying keras_adversarial/image_grid_callback.py -> build/lib/keras_adversarial\n",
      "copying keras_adversarial/__init__.py -> build/lib/keras_adversarial\n",
      "copying keras_adversarial/unrolled_optimizer.py -> build/lib/keras_adversarial\n",
      "copying keras_adversarial/adversarial_utils.py -> build/lib/keras_adversarial\n",
      "copying keras_adversarial/adversarial_optimizers.py -> build/lib/keras_adversarial\n",
      "copying keras_adversarial/legacy.py -> build/lib/keras_adversarial\n",
      "copying keras_adversarial/image_grid.py -> build/lib/keras_adversarial\n",
      "copying keras_adversarial/adversarial_model.py -> build/lib/keras_adversarial\n",
      "creating build/lib/keras_adversarial/backend\n",
      "copying keras_adversarial/backend/tensorflow_monkeypatch.py -> build/lib/keras_adversarial/backend\n",
      "copying keras_adversarial/backend/__init__.py -> build/lib/keras_adversarial/backend\n",
      "copying keras_adversarial/backend/tensorflow_backend.py -> build/lib/keras_adversarial/backend\n",
      "copying keras_adversarial/backend/theano_backend.py -> build/lib/keras_adversarial/backend\n",
      "creating build/bdist.linux-x86_64\n",
      "creating build/bdist.linux-x86_64/egg\n",
      "creating build/bdist.linux-x86_64/egg/keras_adversarial\n",
      "copying build/lib/keras_adversarial/image_grid_callback.py -> build/bdist.linux-x86_64/egg/keras_adversarial\n",
      "copying build/lib/keras_adversarial/__init__.py -> build/bdist.linux-x86_64/egg/keras_adversarial\n",
      "copying build/lib/keras_adversarial/unrolled_optimizer.py -> build/bdist.linux-x86_64/egg/keras_adversarial\n",
      "copying build/lib/keras_adversarial/adversarial_utils.py -> build/bdist.linux-x86_64/egg/keras_adversarial\n",
      "copying build/lib/keras_adversarial/adversarial_optimizers.py -> build/bdist.linux-x86_64/egg/keras_adversarial\n",
      "copying build/lib/keras_adversarial/legacy.py -> build/bdist.linux-x86_64/egg/keras_adversarial\n",
      "creating build/bdist.linux-x86_64/egg/keras_adversarial/backend\n",
      "copying build/lib/keras_adversarial/backend/tensorflow_monkeypatch.py -> build/bdist.linux-x86_64/egg/keras_adversarial/backend\n",
      "copying build/lib/keras_adversarial/backend/__init__.py -> build/bdist.linux-x86_64/egg/keras_adversarial/backend\n",
      "copying build/lib/keras_adversarial/backend/tensorflow_backend.py -> build/bdist.linux-x86_64/egg/keras_adversarial/backend\n",
      "copying build/lib/keras_adversarial/backend/theano_backend.py -> build/bdist.linux-x86_64/egg/keras_adversarial/backend\n",
      "copying build/lib/keras_adversarial/image_grid.py -> build/bdist.linux-x86_64/egg/keras_adversarial\n",
      "copying build/lib/keras_adversarial/adversarial_model.py -> build/bdist.linux-x86_64/egg/keras_adversarial\n",
      "byte-compiling build/bdist.linux-x86_64/egg/keras_adversarial/image_grid_callback.py to image_grid_callback.cpython-36.pyc\n",
      "byte-compiling build/bdist.linux-x86_64/egg/keras_adversarial/__init__.py to __init__.cpython-36.pyc\n",
      "byte-compiling build/bdist.linux-x86_64/egg/keras_adversarial/unrolled_optimizer.py to unrolled_optimizer.cpython-36.pyc\n",
      "byte-compiling build/bdist.linux-x86_64/egg/keras_adversarial/adversarial_utils.py to adversarial_utils.cpython-36.pyc\n",
      "byte-compiling build/bdist.linux-x86_64/egg/keras_adversarial/adversarial_optimizers.py to adversarial_optimizers.cpython-36.pyc\n",
      "byte-compiling build/bdist.linux-x86_64/egg/keras_adversarial/legacy.py to legacy.cpython-36.pyc\n",
      "byte-compiling build/bdist.linux-x86_64/egg/keras_adversarial/backend/tensorflow_monkeypatch.py to tensorflow_monkeypatch.cpython-36.pyc\n",
      "byte-compiling build/bdist.linux-x86_64/egg/keras_adversarial/backend/__init__.py to __init__.cpython-36.pyc\n",
      "byte-compiling build/bdist.linux-x86_64/egg/keras_adversarial/backend/tensorflow_backend.py to tensorflow_backend.cpython-36.pyc\n",
      "byte-compiling build/bdist.linux-x86_64/egg/keras_adversarial/backend/theano_backend.py to theano_backend.cpython-36.pyc\n",
      "byte-compiling build/bdist.linux-x86_64/egg/keras_adversarial/image_grid.py to image_grid.cpython-36.pyc\n",
      "byte-compiling build/bdist.linux-x86_64/egg/keras_adversarial/adversarial_model.py to adversarial_model.cpython-36.pyc\n",
      "creating build/bdist.linux-x86_64/egg/EGG-INFO\n",
      "copying keras_adversarial.egg-info/PKG-INFO -> build/bdist.linux-x86_64/egg/EGG-INFO\n",
      "copying keras_adversarial.egg-info/SOURCES.txt -> build/bdist.linux-x86_64/egg/EGG-INFO\n",
      "copying keras_adversarial.egg-info/dependency_links.txt -> build/bdist.linux-x86_64/egg/EGG-INFO\n",
      "copying keras_adversarial.egg-info/requires.txt -> build/bdist.linux-x86_64/egg/EGG-INFO\n",
      "copying keras_adversarial.egg-info/top_level.txt -> build/bdist.linux-x86_64/egg/EGG-INFO\n",
      "zip_safe flag not set; analyzing archive contents...\n",
      "creating dist\n",
      "creating 'dist/keras_adversarial-0.0.3-py3.6.egg' and adding 'build/bdist.linux-x86_64/egg' to it\n",
      "removing 'build/bdist.linux-x86_64/egg' (and everything under it)\n",
      "Processing keras_adversarial-0.0.3-py3.6.egg\n",
      "Copying keras_adversarial-0.0.3-py3.6.egg to /usr/local/lib/python3.6/dist-packages\n",
      "Adding keras-adversarial 0.0.3 to easy-install.pth file\n",
      "\n",
      "Installed /usr/local/lib/python3.6/dist-packages/keras_adversarial-0.0.3-py3.6.egg\n",
      "Processing dependencies for keras-adversarial==0.0.3\n",
      "Searching for Keras==2.2.4\n",
      "Best match: Keras 2.2.4\n",
      "Adding Keras 2.2.4 to easy-install.pth file\n",
      "\n",
      "Using /usr/local/lib/python3.6/dist-packages\n",
      "Searching for numpy==1.14.6\n",
      "Best match: numpy 1.14.6\n",
      "Adding numpy 1.14.6 to easy-install.pth file\n",
      "\n",
      "Using /usr/local/lib/python3.6/dist-packages\n",
      "Searching for scipy==1.1.0\n",
      "Best match: scipy 1.1.0\n",
      "Adding scipy 1.1.0 to easy-install.pth file\n",
      "\n",
      "Using /usr/local/lib/python3.6/dist-packages\n",
      "Searching for h5py==2.8.0\n",
      "Best match: h5py 2.8.0\n",
      "Adding h5py 2.8.0 to easy-install.pth file\n",
      "\n",
      "Using /usr/local/lib/python3.6/dist-packages\n",
      "Searching for six==1.11.0\n",
      "Best match: six 1.11.0\n",
      "Adding six 1.11.0 to easy-install.pth file\n",
      "\n",
      "Using /usr/local/lib/python3.6/dist-packages\n",
      "Searching for Keras-Preprocessing==1.0.5\n",
      "Best match: Keras-Preprocessing 1.0.5\n",
      "Adding Keras-Preprocessing 1.0.5 to easy-install.pth file\n",
      "\n",
      "Using /usr/local/lib/python3.6/dist-packages\n",
      "Searching for Keras-Applications==1.0.6\n",
      "Best match: Keras-Applications 1.0.6\n",
      "Adding Keras-Applications 1.0.6 to easy-install.pth file\n",
      "\n",
      "Using /usr/local/lib/python3.6/dist-packages\n",
      "Searching for PyYAML==3.13\n",
      "Best match: PyYAML 3.13\n",
      "Adding PyYAML 3.13 to easy-install.pth file\n",
      "\n",
      "Using /usr/local/lib/python3.6/dist-packages\n",
      "Finished processing dependencies for keras-adversarial==0.0.3\n"
     ],
     "name": "stdout"
    }
   ]
  },
  {
   "metadata": {
    "id": "i9J7ukHOcWBr",
    "colab_type": "code",
    "outputId": "0c5e70e9-35ab-4dbb-a184-943a792046d6",
    "executionInfo": {
     "status": "ok",
     "timestamp": 1546497690596,
     "user_tz": -540,
     "elapsed": 7061,
     "user": {
      "displayName": "Kiyoshi SATOH",
      "photoUrl": "https://lh5.googleusercontent.com/-Axv1tw7iUyw/AAAAAAAAAAI/AAAAAAAAALU/27WeD4XMZh0/s64/photo.jpg",
      "userId": "17263090257850830810"
     }
    },
    "colab": {
     "base_uri": "https://localhost:8080/",
     "height": 292
    }
   },
   "cell_type": "code",
   "source": [
    "!pip install git+https://github.com/bstriner/keras-adversarial.git"
   ],
   "execution_count": 0,
   "outputs": [
    {
     "output_type": "stream",
     "text": [
      "Collecting git+https://github.com/bstriner/keras-adversarial.git\n",
      "  Cloning https://github.com/bstriner/keras-adversarial.git to /tmp/pip-req-build-zzzxc8tc\n",
      "Requirement already satisfied (use --upgrade to upgrade): keras-adversarial==0.0.3 from git+https://github.com/bstriner/keras-adversarial.git in /usr/local/lib/python3.6/dist-packages/keras_adversarial-0.0.3-py3.6.egg\n",
      "Requirement already satisfied: Keras in /usr/local/lib/python3.6/dist-packages (from keras-adversarial==0.0.3) (2.2.4)\n",
      "Requirement already satisfied: six>=1.9.0 in /usr/local/lib/python3.6/dist-packages (from Keras->keras-adversarial==0.0.3) (1.11.0)\n",
      "Requirement already satisfied: pyyaml in /usr/local/lib/python3.6/dist-packages (from Keras->keras-adversarial==0.0.3) (3.13)\n",
      "Requirement already satisfied: keras-applications>=1.0.6 in /usr/local/lib/python3.6/dist-packages (from Keras->keras-adversarial==0.0.3) (1.0.6)\n",
      "Requirement already satisfied: keras-preprocessing>=1.0.5 in /usr/local/lib/python3.6/dist-packages (from Keras->keras-adversarial==0.0.3) (1.0.5)\n",
      "Requirement already satisfied: h5py in /usr/local/lib/python3.6/dist-packages (from Keras->keras-adversarial==0.0.3) (2.8.0)\n",
      "Requirement already satisfied: scipy>=0.14 in /usr/local/lib/python3.6/dist-packages (from Keras->keras-adversarial==0.0.3) (1.1.0)\n",
      "Requirement already satisfied: numpy>=1.9.1 in /usr/local/lib/python3.6/dist-packages (from Keras->keras-adversarial==0.0.3) (1.14.6)\n",
      "Building wheels for collected packages: keras-adversarial\n",
      "  Running setup.py bdist_wheel for keras-adversarial ... \u001b[?25l-\b \bdone\n",
      "\u001b[?25h  Stored in directory: /tmp/pip-ephem-wheel-cache-jdvh0ory/wheels/f4/34/ba/6041a92244597803d1f8954d649e7899d011d46f33c02dc476\n",
      "Successfully built keras-adversarial\n"
     ],
     "name": "stdout"
    }
   ]
  },
  {
   "metadata": {
    "id": "QjChF9mzb3QB",
    "colab_type": "code",
    "outputId": "cd3f336a-eb2b-4880-cd30-a32996e58898",
    "executionInfo": {
     "status": "error",
     "timestamp": 1546497701588,
     "user_tz": -540,
     "elapsed": 790,
     "user": {
      "displayName": "Kiyoshi SATOH",
      "photoUrl": "https://lh5.googleusercontent.com/-Axv1tw7iUyw/AAAAAAAAAAI/AAAAAAAAALU/27WeD4XMZh0/s64/photo.jpg",
      "userId": "17263090257850830810"
     }
    },
    "colab": {
     "base_uri": "https://localhost:8080/",
     "height": 304
    }
   },
   "cell_type": "code",
   "source": [
    "from keras_adversarial import AdversarialModel, simple_gan, gan_targets"
   ],
   "execution_count": 0,
   "outputs": [
    {
     "output_type": "error",
     "ename": "ImportError",
     "evalue": "ignored",
     "traceback": [
      "\u001b[0;31m---------------------------------------------------------------------------\u001b[0m",
      "\u001b[0;31mImportError\u001b[0m                               Traceback (most recent call last)",
      "\u001b[0;32m<ipython-input-20-9eb56049885d>\u001b[0m in \u001b[0;36m<module>\u001b[0;34m()\u001b[0m\n\u001b[0;32m----> 1\u001b[0;31m \u001b[0;32mfrom\u001b[0m \u001b[0mkeras_adversarial\u001b[0m \u001b[0;32mimport\u001b[0m \u001b[0mAdversarialModel\u001b[0m\u001b[0;34m,\u001b[0m \u001b[0msimple_gan\u001b[0m\u001b[0;34m,\u001b[0m \u001b[0mgan_targets\u001b[0m\u001b[0;34m\u001b[0m\u001b[0;34m\u001b[0m\u001b[0m\n\u001b[0m",
      "\u001b[0;31mImportError\u001b[0m: cannot import name 'AdversarialModel'",
      "",
      "\u001b[0;31m---------------------------------------------------------------------------\u001b[0;32m\nNOTE: If your import is failing due to a missing package, you can\nmanually install dependencies using either !pip or !apt.\n\nTo view examples of installing some common dependencies, click the\n\"Open Examples\" button below.\n\u001b[0;31m---------------------------------------------------------------------------\u001b[0m\n"
     ]
    }
   ]
  },
  {
   "metadata": {
    "id": "Om7B3WR6bGyA",
    "colab_type": "code",
    "outputId": "cabd434a-4cec-4ba2-da14-93377d8455c1",
    "executionInfo": {
     "status": "error",
     "timestamp": 1546497497998,
     "user_tz": -540,
     "elapsed": 698,
     "user": {
      "displayName": "Kiyoshi SATOH",
      "photoUrl": "https://lh5.googleusercontent.com/-Axv1tw7iUyw/AAAAAAAAAAI/AAAAAAAAALU/27WeD4XMZh0/s64/photo.jpg",
      "userId": "17263090257850830810"
     }
    },
    "colab": {
     "base_uri": "https://localhost:8080/",
     "height": 188
    }
   },
   "cell_type": "code",
   "source": [
    "adversarial_model = AdversarialModel(base_model=M, player_params=[generator.trainable_weights, discriminator.trainable_weights], player_names=[\"generator\", \"discriminator\"])"
   ],
   "execution_count": 0,
   "outputs": [
    {
     "output_type": "error",
     "ename": "NameError",
     "evalue": "ignored",
     "traceback": [
      "\u001b[0;31m---------------------------------------------------------------------------\u001b[0m",
      "\u001b[0;31mNameError\u001b[0m                                 Traceback (most recent call last)",
      "\u001b[0;32m<ipython-input-16-aa2339ac16ba>\u001b[0m in \u001b[0;36m<module>\u001b[0;34m()\u001b[0m\n\u001b[0;32m----> 1\u001b[0;31m \u001b[0madversarial_model\u001b[0m \u001b[0;34m=\u001b[0m \u001b[0mAdversarialModel\u001b[0m\u001b[0;34m(\u001b[0m\u001b[0mbase_model\u001b[0m\u001b[0;34m=\u001b[0m\u001b[0mM\u001b[0m\u001b[0;34m,\u001b[0m \u001b[0mplayer_params\u001b[0m\u001b[0;34m=\u001b[0m\u001b[0;34m[\u001b[0m\u001b[0mgenerator\u001b[0m\u001b[0;34m.\u001b[0m\u001b[0mtrainable_weights\u001b[0m\u001b[0;34m,\u001b[0m \u001b[0mdiscriminator\u001b[0m\u001b[0;34m.\u001b[0m\u001b[0mtrainable_weights\u001b[0m\u001b[0;34m]\u001b[0m\u001b[0;34m,\u001b[0m \u001b[0mplayer_names\u001b[0m\u001b[0;34m=\u001b[0m\u001b[0;34m[\u001b[0m\u001b[0;34m\"generator\"\u001b[0m\u001b[0;34m,\u001b[0m \u001b[0;34m\"discriminator\"\u001b[0m\u001b[0;34m]\u001b[0m\u001b[0;34m)\u001b[0m\u001b[0;34m\u001b[0m\u001b[0;34m\u001b[0m\u001b[0m\n\u001b[0m",
      "\u001b[0;31mNameError\u001b[0m: name 'AdversarialModel' is not defined"
     ]
    }
   ]
  },
  {
   "metadata": {
    "id": "Lj6ie0PVbxfz",
    "colab_type": "code",
    "outputId": "f52ae04e-03c4-43bb-ed6f-4cb70f3d0f2d",
    "executionInfo": {
     "status": "error",
     "timestamp": 1546498050887,
     "user_tz": -540,
     "elapsed": 778,
     "user": {
      "displayName": "Kiyoshi SATOH",
      "photoUrl": "https://lh5.googleusercontent.com/-Axv1tw7iUyw/AAAAAAAAAAI/AAAAAAAAALU/27WeD4XMZh0/s64/photo.jpg",
      "userId": "17263090257850830810"
     }
    },
    "colab": {
     "base_uri": "https://localhost:8080/",
     "height": 1018
    }
   },
   "cell_type": "code",
   "source": [
    "import matplotlib as mpl\n",
    "\n",
    "# This line allows mpl to run with no DISPLAY defined\n",
    "mpl.use('Agg')\n",
    "\n",
    "import pandas as pd\n",
    "import numpy as np\n",
    "import os\n",
    "from keras.layers import Reshape, Flatten, LeakyReLU, Activation\n",
    "from keras.models import Sequential\n",
    "from keras.optimizers import Adam\n",
    "from keras.callbacks import TensorBoard\n",
    "from keras_adversarial.image_grid_callback import ImageGridCallback\n",
    "from keras_adversarial import AdversarialModel, simple_gan, gan_targets\n",
    "from keras_adversarial import normal_latent_sampling, AdversarialOptimizerSimultaneous\n",
    "from keras_adversarial.legacy import l1l2, Dense, fit\n",
    "import keras.backend as K\n",
    "from mnist_utils import mnist_data\n",
    "\n",
    "\n",
    "def model_generator(latent_dim, input_shape, hidden_dim=1024, reg=lambda: l1l2(1e-5, 1e-5)):\n",
    "    return Sequential([\n",
    "        Dense(int(hidden_dim / 4), name=\"generator_h1\", input_dim=latent_dim, W_regularizer=reg()),\n",
    "        LeakyReLU(0.2),\n",
    "        Dense(int(hidden_dim / 2), name=\"generator_h2\", W_regularizer=reg()),\n",
    "        LeakyReLU(0.2),\n",
    "        Dense(hidden_dim, name=\"generator_h3\", W_regularizer=reg()),\n",
    "        LeakyReLU(0.2),\n",
    "        Dense(np.prod(input_shape), name=\"generator_x_flat\", W_regularizer=reg()),\n",
    "        Activation('sigmoid'),\n",
    "        Reshape(input_shape, name=\"generator_x\")],\n",
    "        name=\"generator\")\n",
    "\n",
    "\n",
    "def model_discriminator(input_shape, hidden_dim=1024, reg=lambda: l1l2(1e-5, 1e-5), output_activation=\"sigmoid\"):\n",
    "    return Sequential([\n",
    "        Flatten(name=\"discriminator_flatten\", input_shape=input_shape),\n",
    "        Dense(hidden_dim, name=\"discriminator_h1\", W_regularizer=reg()),\n",
    "        LeakyReLU(0.2),\n",
    "        Dense(int(hidden_dim / 2), name=\"discriminator_h2\", W_regularizer=reg()),\n",
    "        LeakyReLU(0.2),\n",
    "        Dense(int(hidden_dim / 4), name=\"discriminator_h3\", W_regularizer=reg()),\n",
    "        LeakyReLU(0.2),\n",
    "        Dense(1, name=\"discriminator_y\", W_regularizer=reg()),\n",
    "        Activation(output_activation)],\n",
    "        name=\"discriminator\")\n",
    "\n",
    "\n",
    "def example_gan(adversarial_optimizer, path, opt_g, opt_d, nb_epoch, generator, discriminator, latent_dim,\n",
    "                targets=gan_targets, loss='binary_crossentropy'):\n",
    "    csvpath = os.path.join(path, \"history.csv\")\n",
    "    if os.path.exists(csvpath):\n",
    "        print(\"Already exists: {}\".format(csvpath))\n",
    "        return\n",
    "\n",
    "    print(\"Training: {}\".format(csvpath))\n",
    "    # gan (x - > yfake, yreal), z generated on GPU\n",
    "    gan = simple_gan(generator, discriminator, normal_latent_sampling((latent_dim,)))\n",
    "\n",
    "    # print summary of models\n",
    "    generator.summary()\n",
    "    discriminator.summary()\n",
    "    gan.summary()\n",
    "\n",
    "    # build adversarial model\n",
    "    model = AdversarialModel(base_model=gan,\n",
    "                             player_params=[generator.trainable_weights, discriminator.trainable_weights],\n",
    "                             player_names=[\"generator\", \"discriminator\"])\n",
    "    model.adversarial_compile(adversarial_optimizer=adversarial_optimizer,\n",
    "                              player_optimizers=[opt_g, opt_d],\n",
    "                              loss=loss)\n",
    "\n",
    "    # create callback to generate images\n",
    "    zsamples = np.random.normal(size=(10 * 10, latent_dim))\n",
    "\n",
    "    def generator_sampler():\n",
    "        return generator.predict(zsamples).reshape((10, 10, 28, 28))\n",
    "\n",
    "    generator_cb = ImageGridCallback(os.path.join(path, \"epoch-{:03d}.png\"), generator_sampler)\n",
    "\n",
    "    # train model\n",
    "    xtrain, xtest = mnist_data()\n",
    "    y = targets(xtrain.shape[0])\n",
    "    ytest = targets(xtest.shape[0])\n",
    "    callbacks = [generator_cb]\n",
    "    if K.backend() == \"tensorflow\":\n",
    "        callbacks.append(\n",
    "            TensorBoard(log_dir=os.path.join(path, 'logs'), histogram_freq=0, write_graph=True, write_images=True))\n",
    "    history = fit(model, x=xtrain, y=y, validation_data=(xtest, ytest), callbacks=callbacks, nb_epoch=nb_epoch,\n",
    "                  batch_size=32)\n",
    "\n",
    "    # save history to CSV\n",
    "    df = pd.DataFrame(history.history)\n",
    "    df.to_csv(csvpath)\n",
    "\n",
    "    # save models\n",
    "    generator.save(os.path.join(path, \"generator.h5\"))\n",
    "    discriminator.save(os.path.join(path, \"discriminator.h5\"))\n",
    "\n",
    "\n",
    "def main():\n",
    "    # z \\in R^100\n",
    "    latent_dim = 100\n",
    "    # x \\in R^{28x28}\n",
    "    input_shape = (28, 28)\n",
    "    # generator (z -> x)\n",
    "    generator = model_generator(latent_dim, input_shape)\n",
    "    # discriminator (x -> y)\n",
    "    discriminator = model_discriminator(input_shape)\n",
    "    example_gan(AdversarialOptimizerSimultaneous(), \"output/gan\",\n",
    "                opt_g=Adam(1e-4, decay=1e-4),\n",
    "                opt_d=Adam(1e-3, decay=1e-4),\n",
    "                nb_epoch=100, generator=generator, discriminator=discriminator,\n",
    "                latent_dim=latent_dim)\n",
    "\n",
    "\n",
    "if __name__ == \"__main__\":\n",
    "  main()"
   ],
   "execution_count": 0,
   "outputs": [
    {
     "output_type": "stream",
     "text": [
      "/usr/local/lib/python3.6/dist-packages/ipykernel_launcher.py:4: UserWarning: \n",
      "This call to matplotlib.use() has no effect because the backend has already\n",
      "been chosen; matplotlib.use() must be called *before* pylab, matplotlib.pyplot,\n",
      "or matplotlib.backends is imported for the first time.\n",
      "\n",
      "The backend was *originally* set to 'module://ipykernel.pylab.backend_inline' by the following code:\n",
      "  File \"/usr/lib/python3.6/runpy.py\", line 193, in _run_module_as_main\n",
      "    \"__main__\", mod_spec)\n",
      "  File \"/usr/lib/python3.6/runpy.py\", line 85, in _run_code\n",
      "    exec(code, run_globals)\n",
      "  File \"/usr/local/lib/python3.6/dist-packages/ipykernel_launcher.py\", line 16, in <module>\n",
      "    app.launch_new_instance()\n",
      "  File \"/usr/local/lib/python3.6/dist-packages/traitlets/config/application.py\", line 657, in launch_instance\n",
      "    app.initialize(argv)\n",
      "  File \"<decorator-gen-121>\", line 2, in initialize\n",
      "  File \"/usr/local/lib/python3.6/dist-packages/traitlets/config/application.py\", line 87, in catch_config_error\n",
      "    return method(app, *args, **kwargs)\n",
      "  File \"/usr/local/lib/python3.6/dist-packages/ipykernel/kernelapp.py\", line 462, in initialize\n",
      "    self.init_gui_pylab()\n",
      "  File \"/usr/local/lib/python3.6/dist-packages/ipykernel/kernelapp.py\", line 403, in init_gui_pylab\n",
      "    InteractiveShellApp.init_gui_pylab(self)\n",
      "  File \"/usr/local/lib/python3.6/dist-packages/IPython/core/shellapp.py\", line 213, in init_gui_pylab\n",
      "    r = enable(key)\n",
      "  File \"/usr/local/lib/python3.6/dist-packages/IPython/core/interactiveshell.py\", line 2950, in enable_matplotlib\n",
      "    pt.activate_matplotlib(backend)\n",
      "  File \"/usr/local/lib/python3.6/dist-packages/IPython/core/pylabtools.py\", line 309, in activate_matplotlib\n",
      "    matplotlib.pyplot.switch_backend(backend)\n",
      "  File \"/usr/local/lib/python3.6/dist-packages/matplotlib/pyplot.py\", line 232, in switch_backend\n",
      "    matplotlib.use(newbackend, warn=False, force=True)\n",
      "  File \"/usr/local/lib/python3.6/dist-packages/matplotlib/__init__.py\", line 1305, in use\n",
      "    reload(sys.modules['matplotlib.backends'])\n",
      "  File \"/usr/lib/python3.6/importlib/__init__.py\", line 166, in reload\n",
      "    _bootstrap._exec(spec, module)\n",
      "  File \"/usr/local/lib/python3.6/dist-packages/matplotlib/backends/__init__.py\", line 14, in <module>\n",
      "    line for line in traceback.format_stack()\n",
      "\n",
      "\n",
      "  after removing the cwd from sys.path.\n"
     ],
     "name": "stderr"
    },
    {
     "output_type": "error",
     "ename": "ModuleNotFoundError",
     "evalue": "ignored",
     "traceback": [
      "\u001b[0;31m---------------------------------------------------------------------------\u001b[0m",
      "\u001b[0;31mModuleNotFoundError\u001b[0m                       Traceback (most recent call last)",
      "\u001b[0;32m<ipython-input-22-28acd40d5858>\u001b[0m in \u001b[0;36m<module>\u001b[0;34m()\u001b[0m\n\u001b[1;32m     11\u001b[0m \u001b[0;32mfrom\u001b[0m \u001b[0mkeras\u001b[0m\u001b[0;34m.\u001b[0m\u001b[0moptimizers\u001b[0m \u001b[0;32mimport\u001b[0m \u001b[0mAdam\u001b[0m\u001b[0;34m\u001b[0m\u001b[0;34m\u001b[0m\u001b[0m\n\u001b[1;32m     12\u001b[0m \u001b[0;32mfrom\u001b[0m \u001b[0mkeras\u001b[0m\u001b[0;34m.\u001b[0m\u001b[0mcallbacks\u001b[0m \u001b[0;32mimport\u001b[0m \u001b[0mTensorBoard\u001b[0m\u001b[0;34m\u001b[0m\u001b[0;34m\u001b[0m\u001b[0m\n\u001b[0;32m---> 13\u001b[0;31m \u001b[0;32mfrom\u001b[0m \u001b[0mkeras_adversarial\u001b[0m\u001b[0;34m.\u001b[0m\u001b[0mimage_grid_callback\u001b[0m \u001b[0;32mimport\u001b[0m \u001b[0mImageGridCallback\u001b[0m\u001b[0;34m\u001b[0m\u001b[0;34m\u001b[0m\u001b[0m\n\u001b[0m\u001b[1;32m     14\u001b[0m \u001b[0;32mfrom\u001b[0m \u001b[0mkeras_adversarial\u001b[0m \u001b[0;32mimport\u001b[0m \u001b[0mAdversarialModel\u001b[0m\u001b[0;34m,\u001b[0m \u001b[0msimple_gan\u001b[0m\u001b[0;34m,\u001b[0m \u001b[0mgan_targets\u001b[0m\u001b[0;34m\u001b[0m\u001b[0;34m\u001b[0m\u001b[0m\n\u001b[1;32m     15\u001b[0m \u001b[0;32mfrom\u001b[0m \u001b[0mkeras_adversarial\u001b[0m \u001b[0;32mimport\u001b[0m \u001b[0mnormal_latent_sampling\u001b[0m\u001b[0;34m,\u001b[0m \u001b[0mAdversarialOptimizerSimultaneous\u001b[0m\u001b[0;34m\u001b[0m\u001b[0;34m\u001b[0m\u001b[0m\n",
      "\u001b[0;31mModuleNotFoundError\u001b[0m: No module named 'keras_adversarial.image_grid_callback'",
      "",
      "\u001b[0;31m---------------------------------------------------------------------------\u001b[0;32m\nNOTE: If your import is failing due to a missing package, you can\nmanually install dependencies using either !pip or !apt.\n\nTo view examples of installing some common dependencies, click the\n\"Open Examples\" button below.\n\u001b[0;31m---------------------------------------------------------------------------\u001b[0m\n"
     ]
    }
   ]
  },
  {
   "metadata": {
    "id": "2yP6IlzSZYNc",
    "colab_type": "text"
   },
   "cell_type": "markdown",
   "source": [
    "# TPUの制限テスト"
   ]
  },
  {
   "metadata": {
    "id": "6HwSFbuLdxR4",
    "colab_type": "code",
    "colab": {}
   },
   "cell_type": "code",
   "source": [
    "from tensorflow.keras.layers import Conv2D, BatchNormalization, Activation, Input, Concatenate, MaxPool2D, Conv2DTranspose, Add, Flatten, Dense\n",
    "from tensorflow.keras.models import Model\n",
    "from tensorflow.keras.callbacks import Callback, History\n",
    "import tensorflow.keras.backend as K\n",
    "from tensorflow.keras.losses import mean_squared_error\n",
    "import os\n"
   ],
   "execution_count": 0,
   "outputs": []
  },
  {
   "metadata": {
    "id": "ntguqo8U8XbO",
    "colab_type": "code",
    "colab": {}
   },
   "cell_type": "code",
   "source": [
    "tpu_model = tf.contrib.tpu.keras_to_tpu_model(\n",
    "    model,\n",
    "    strategy=tf.contrib.tpu.TPUDistributionStrategy(\n",
    "        tf.contrib.cluster_resolver.TPUClusterResolver(tpu='grpc://' + os.environ['COLAB_TPU_ADDR'])\n",
    "    )\n",
    ")\n",
    "\n",
    "tpu_model.compile(tf.train.MomentumOptimizer(1e-3, 0.9), loss=loss_function)"
   ],
   "execution_count": 0,
   "outputs": []
  }
 ]
}
