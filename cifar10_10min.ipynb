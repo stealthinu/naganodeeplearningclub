{
 "nbformat": 4,
 "nbformat_minor": 0,
 "metadata": {
  "colab": {
   "name": "cifar10_10min",
   "version": "0.3.2",
   "provenance": [],
   "collapsed_sections": []
  },
  "kernelspec": {
   "name": "python3",
   "display_name": "Python 3"
  },
  "accelerator": "GPU"
 },
 "cells": [
  {
   "metadata": {
    "id": "MYEk56H7Hh-a",
    "colab_type": "text"
   },
   "cell_type": "markdown",
   "source": [
    "# CIFAR10を10分で学習\n",
    "\n",
    "CIFAR10をColabのGPU環境で10分だけ学習し、テストデータで一番認識率が高くなるものを目指します。"
   ]
  },
  {
   "metadata": {
    "id": "Dd42HoIOBEBX",
    "colab_type": "text"
   },
   "cell_type": "markdown",
   "source": [
    "## 初期設定"
   ]
  },
  {
   "metadata": {
    "id": "PZrd9lCH4coU",
    "colab_type": "code",
    "colab": {}
   },
   "cell_type": "code",
   "source": [
    "import numpy as np\n",
    "import matplotlib.pyplot as plt\n",
    "from scipy.misc import toimage\n",
    "import tensorflow as tf\n",
    "from tensorflow.keras.datasets import mnist\n",
    "from tensorflow.keras.datasets import fashion_mnist\n",
    "from tensorflow.keras.datasets import cifar10\n",
    "from tensorflow.keras.models import Sequential\n",
    "from tensorflow.keras.layers import Dense, Activation, Flatten, Dropout\n",
    "from tensorflow.keras.layers import Conv2D, MaxPooling2D\n",
    "from tensorflow.keras.layers import BatchNormalization\n",
    "from tensorflow.keras.optimizers import SGD, Adam\n",
    "from tensorflow.keras.losses import mean_squared_error\n",
    "from tensorflow.keras.utils import to_categorical\n",
    "\n",
    "def plot_history(history):\n",
    "    plt.plot(history.history['acc'])\n",
    "    plt.plot(history.history['val_acc'])\n",
    "    plt.legend(['acc', 'val_acc'], loc='lower right')\n",
    "    plt.show()\n",
    "    plt.plot(history.history['loss'])\n",
    "    plt.plot(history.history['val_loss'])\n",
    "    plt.legend(['loss', 'val_loss'], loc='lower right')\n",
    "    plt.show()\n",
    "\n",
    "def test_cifar10():\n",
    "    test_num = 10\n",
    "    start = np.random.randint(X_test.shape[0] - test_num)\n",
    "    x_test = X_test[start:start+test_num]\n",
    "    y_test = Y_test[start:start+test_num]\n",
    "\n",
    "    fig, subplts = plt.subplots(ncols=10, figsize=(20, 2))\n",
    "    for i in range(10):\n",
    "        image = x_test[i]\n",
    "        two_d = (np.reshape(image, (32, 32, 3)) * 255).astype(np.uint8)\n",
    "        subplts[i].axis('off')\n",
    "        subplts[i].imshow(two_d, interpolation='nearest')\n",
    "\n",
    "    print(np.argmax(y_test, axis=1))\n",
    "\n",
    "    preds = model.predict(x_test)\n",
    "    print(np.argmax(preds, axis=1))\n",
    "    \n",
    "# CIFAR10データ読み込み\n",
    "(X_train, y_train), (X_test, y_test) = cifar10.load_data()\n",
    "\n",
    "X_train = X_train.astype('float32')\n",
    "X_test = X_test.astype('float32')\n",
    "X_train /= 255.0\n",
    "X_test /= 255.0\n",
    "\n",
    "Y_train = to_categorical(y_train, 10)\n",
    "Y_test = to_categorical(y_test, 10)"
   ],
   "execution_count": 0,
   "outputs": []
  },
  {
   "metadata": {
    "id": "k9F_W_Ne-1qh",
    "colab_type": "text"
   },
   "cell_type": "markdown",
   "source": [
    "## ベースライン\n",
    "\n",
    "LeNet のCNN  \n",
    "LeNetは1998にLeCun先生が作られたCNNの直接の先祖となったネットワーク"
   ]
  },
  {
   "metadata": {
    "id": "5w61cYN99TJE",
    "colab_type": "code",
    "colab": {}
   },
   "cell_type": "code",
   "source": [
    "model = Sequential()\n",
    "\n",
    "model.add(Conv2D(20, (5, 5), padding='same', input_shape=(32, 32, 3)))\n",
    "model.add(Activation('relu'))\n",
    "\n",
    "model.add(MaxPooling2D(pool_size=(2, 2)))\n",
    "\n",
    "model.add(Conv2D(50, (5, 5), padding='same'))\n",
    "model.add(Activation('relu'))\n",
    "\n",
    "model.add(MaxPooling2D(pool_size=(2, 2)))\n",
    "\n",
    "model.add(Flatten())\n",
    "model.add(Dense(500))\n",
    "model.add(Activation('relu'))\n",
    "\n",
    "model.add(Dense(10))\n",
    "model.add(Activation('softmax'))"
   ],
   "execution_count": 0,
   "outputs": []
  },
  {
   "metadata": {
    "id": "eaZA5YSZ5CrS",
    "colab_type": "code",
    "colab": {}
   },
   "cell_type": "code",
   "source": [
    "model.compile(loss='categorical_crossentropy',\n",
    "              optimizer=SGD(momentum=0.9, nesterov=True),\n",
    "              metrics=['accuracy'])"
   ],
   "execution_count": 0,
   "outputs": []
  },
  {
   "metadata": {
    "id": "qzpUDxLG5Ge8",
    "colab_type": "code",
    "outputId": "0fb410ba-4aef-4be4-f09c-3985c4d50261",
    "executionInfo": {
     "status": "error",
     "timestamp": 1553589534946,
     "user_tz": -540,
     "elapsed": 14374,
     "user": {
      "displayName": "Kiyoshi SATOH",
      "photoUrl": "https://lh5.googleusercontent.com/-Axv1tw7iUyw/AAAAAAAAAAI/AAAAAAAAALU/27WeD4XMZh0/s64/photo.jpg",
      "userId": "17263090257850830810"
     }
    },
    "colab": {
     "base_uri": "https://localhost:8080/",
     "height": 932
    }
   },
   "cell_type": "code",
   "source": [
    "history = model.fit(X_train, Y_train,\n",
    "                    validation_data=(X_test, Y_test),\n",
    "                    batch_size=1000, epochs=5)"
   ],
   "execution_count": 0,
   "outputs": [
    {
     "output_type": "stream",
     "text": [
      "Train on 50000 samples, validate on 10000 samples\n",
      "Epoch 1/20\n",
      "50000/50000 [==============================] - 4s 90us/sample - loss: 2.1791 - acc: 0.2047 - val_loss: 1.9596 - val_acc: 0.3226\n",
      "Epoch 2/20\n",
      "50000/50000 [==============================] - 4s 83us/sample - loss: 1.8673 - acc: 0.3444 - val_loss: 1.9063 - val_acc: 0.3321\n",
      "Epoch 3/20\n",
      "49000/50000 [============================>.] - ETA: 0s - loss: 1.7106 - acc: 0.3994"
     ],
     "name": "stdout"
    },
    {
     "output_type": "error",
     "ename": "KeyboardInterrupt",
     "evalue": "ignored",
     "traceback": [
      "\u001b[0;31m---------------------------------------------------------------------------\u001b[0m",
      "\u001b[0;31mKeyboardInterrupt\u001b[0m                         Traceback (most recent call last)",
      "\u001b[0;32m<ipython-input-30-015be857b32a>\u001b[0m in \u001b[0;36m<module>\u001b[0;34m()\u001b[0m\n\u001b[1;32m      1\u001b[0m history = model.fit(X_train, Y_train,\n\u001b[1;32m      2\u001b[0m                     \u001b[0mvalidation_data\u001b[0m\u001b[0;34m=\u001b[0m\u001b[0;34m(\u001b[0m\u001b[0mX_test\u001b[0m\u001b[0;34m,\u001b[0m \u001b[0mY_test\u001b[0m\u001b[0;34m)\u001b[0m\u001b[0;34m,\u001b[0m\u001b[0;34m\u001b[0m\u001b[0;34m\u001b[0m\u001b[0m\n\u001b[0;32m----> 3\u001b[0;31m                     batch_size=1000, epochs=20)\n\u001b[0m",
      "\u001b[0;32m/usr/local/lib/python3.6/dist-packages/tensorflow/python/keras/engine/training.py\u001b[0m in \u001b[0;36mfit\u001b[0;34m(self, x, y, batch_size, epochs, verbose, callbacks, validation_split, validation_data, shuffle, class_weight, sample_weight, initial_epoch, steps_per_epoch, validation_steps, max_queue_size, workers, use_multiprocessing, **kwargs)\u001b[0m\n\u001b[1;32m    878\u001b[0m           \u001b[0minitial_epoch\u001b[0m\u001b[0;34m=\u001b[0m\u001b[0minitial_epoch\u001b[0m\u001b[0;34m,\u001b[0m\u001b[0;34m\u001b[0m\u001b[0;34m\u001b[0m\u001b[0m\n\u001b[1;32m    879\u001b[0m           \u001b[0msteps_per_epoch\u001b[0m\u001b[0;34m=\u001b[0m\u001b[0msteps_per_epoch\u001b[0m\u001b[0;34m,\u001b[0m\u001b[0;34m\u001b[0m\u001b[0;34m\u001b[0m\u001b[0m\n\u001b[0;32m--> 880\u001b[0;31m           validation_steps=validation_steps)\n\u001b[0m\u001b[1;32m    881\u001b[0m \u001b[0;34m\u001b[0m\u001b[0m\n\u001b[1;32m    882\u001b[0m   def evaluate(self,\n",
      "\u001b[0;32m/usr/local/lib/python3.6/dist-packages/tensorflow/python/keras/engine/training_arrays.py\u001b[0m in \u001b[0;36mmodel_iteration\u001b[0;34m(model, inputs, targets, sample_weights, batch_size, epochs, verbose, callbacks, val_inputs, val_targets, val_sample_weights, shuffle, initial_epoch, steps_per_epoch, validation_steps, mode, validation_in_fit, **kwargs)\u001b[0m\n\u001b[1;32m    362\u001b[0m           \u001b[0mverbose\u001b[0m\u001b[0;34m=\u001b[0m\u001b[0;36m0\u001b[0m\u001b[0;34m,\u001b[0m\u001b[0;34m\u001b[0m\u001b[0;34m\u001b[0m\u001b[0m\n\u001b[1;32m    363\u001b[0m           \u001b[0mmode\u001b[0m\u001b[0;34m=\u001b[0m\u001b[0;34m'test'\u001b[0m\u001b[0;34m,\u001b[0m\u001b[0;34m\u001b[0m\u001b[0;34m\u001b[0m\u001b[0m\n\u001b[0;32m--> 364\u001b[0;31m           validation_in_fit=True)\n\u001b[0m\u001b[1;32m    365\u001b[0m       \u001b[0;32mif\u001b[0m \u001b[0;32mnot\u001b[0m \u001b[0misinstance\u001b[0m\u001b[0;34m(\u001b[0m\u001b[0mval_results\u001b[0m\u001b[0;34m,\u001b[0m \u001b[0mlist\u001b[0m\u001b[0;34m)\u001b[0m\u001b[0;34m:\u001b[0m\u001b[0;34m\u001b[0m\u001b[0;34m\u001b[0m\u001b[0m\n\u001b[1;32m    366\u001b[0m         \u001b[0mval_results\u001b[0m \u001b[0;34m=\u001b[0m \u001b[0;34m[\u001b[0m\u001b[0mval_results\u001b[0m\u001b[0;34m]\u001b[0m\u001b[0;34m\u001b[0m\u001b[0;34m\u001b[0m\u001b[0m\n",
      "\u001b[0;32m/usr/local/lib/python3.6/dist-packages/tensorflow/python/keras/engine/training_arrays.py\u001b[0m in \u001b[0;36mmodel_iteration\u001b[0;34m(model, inputs, targets, sample_weights, batch_size, epochs, verbose, callbacks, val_inputs, val_targets, val_sample_weights, shuffle, initial_epoch, steps_per_epoch, validation_steps, mode, validation_in_fit, **kwargs)\u001b[0m\n\u001b[1;32m    327\u001b[0m \u001b[0;34m\u001b[0m\u001b[0m\n\u001b[1;32m    328\u001b[0m         \u001b[0;31m# Get outputs.\u001b[0m\u001b[0;34m\u001b[0m\u001b[0;34m\u001b[0m\u001b[0;34m\u001b[0m\u001b[0m\n\u001b[0;32m--> 329\u001b[0;31m         \u001b[0mbatch_outs\u001b[0m \u001b[0;34m=\u001b[0m \u001b[0mf\u001b[0m\u001b[0;34m(\u001b[0m\u001b[0mins_batch\u001b[0m\u001b[0;34m)\u001b[0m\u001b[0;34m\u001b[0m\u001b[0;34m\u001b[0m\u001b[0m\n\u001b[0m\u001b[1;32m    330\u001b[0m         \u001b[0;32mif\u001b[0m \u001b[0;32mnot\u001b[0m \u001b[0misinstance\u001b[0m\u001b[0;34m(\u001b[0m\u001b[0mbatch_outs\u001b[0m\u001b[0;34m,\u001b[0m \u001b[0mlist\u001b[0m\u001b[0;34m)\u001b[0m\u001b[0;34m:\u001b[0m\u001b[0;34m\u001b[0m\u001b[0;34m\u001b[0m\u001b[0m\n\u001b[1;32m    331\u001b[0m           \u001b[0mbatch_outs\u001b[0m \u001b[0;34m=\u001b[0m \u001b[0;34m[\u001b[0m\u001b[0mbatch_outs\u001b[0m\u001b[0;34m]\u001b[0m\u001b[0;34m\u001b[0m\u001b[0;34m\u001b[0m\u001b[0m\n",
      "\u001b[0;32m/usr/local/lib/python3.6/dist-packages/tensorflow/python/keras/backend.py\u001b[0m in \u001b[0;36m__call__\u001b[0;34m(self, inputs)\u001b[0m\n\u001b[1;32m   3074\u001b[0m \u001b[0;34m\u001b[0m\u001b[0m\n\u001b[1;32m   3075\u001b[0m     fetched = self._callable_fn(*array_vals,\n\u001b[0;32m-> 3076\u001b[0;31m                                 run_metadata=self.run_metadata)\n\u001b[0m\u001b[1;32m   3077\u001b[0m     \u001b[0mself\u001b[0m\u001b[0;34m.\u001b[0m\u001b[0m_call_fetch_callbacks\u001b[0m\u001b[0;34m(\u001b[0m\u001b[0mfetched\u001b[0m\u001b[0;34m[\u001b[0m\u001b[0;34m-\u001b[0m\u001b[0mlen\u001b[0m\u001b[0;34m(\u001b[0m\u001b[0mself\u001b[0m\u001b[0;34m.\u001b[0m\u001b[0m_fetches\u001b[0m\u001b[0;34m)\u001b[0m\u001b[0;34m:\u001b[0m\u001b[0;34m]\u001b[0m\u001b[0;34m)\u001b[0m\u001b[0;34m\u001b[0m\u001b[0;34m\u001b[0m\u001b[0m\n\u001b[1;32m   3078\u001b[0m     return nest.pack_sequence_as(self._outputs_structure,\n",
      "\u001b[0;32m/usr/local/lib/python3.6/dist-packages/tensorflow/python/client/session.py\u001b[0m in \u001b[0;36m__call__\u001b[0;34m(self, *args, **kwargs)\u001b[0m\n\u001b[1;32m   1437\u001b[0m           ret = tf_session.TF_SessionRunCallable(\n\u001b[1;32m   1438\u001b[0m               \u001b[0mself\u001b[0m\u001b[0;34m.\u001b[0m\u001b[0m_session\u001b[0m\u001b[0;34m.\u001b[0m\u001b[0m_session\u001b[0m\u001b[0;34m,\u001b[0m \u001b[0mself\u001b[0m\u001b[0;34m.\u001b[0m\u001b[0m_handle\u001b[0m\u001b[0;34m,\u001b[0m \u001b[0margs\u001b[0m\u001b[0;34m,\u001b[0m \u001b[0mstatus\u001b[0m\u001b[0;34m,\u001b[0m\u001b[0;34m\u001b[0m\u001b[0;34m\u001b[0m\u001b[0m\n\u001b[0;32m-> 1439\u001b[0;31m               run_metadata_ptr)\n\u001b[0m\u001b[1;32m   1440\u001b[0m         \u001b[0;32mif\u001b[0m \u001b[0mrun_metadata\u001b[0m\u001b[0;34m:\u001b[0m\u001b[0;34m\u001b[0m\u001b[0;34m\u001b[0m\u001b[0m\n\u001b[1;32m   1441\u001b[0m           \u001b[0mproto_data\u001b[0m \u001b[0;34m=\u001b[0m \u001b[0mtf_session\u001b[0m\u001b[0;34m.\u001b[0m\u001b[0mTF_GetBuffer\u001b[0m\u001b[0;34m(\u001b[0m\u001b[0mrun_metadata_ptr\u001b[0m\u001b[0;34m)\u001b[0m\u001b[0;34m\u001b[0m\u001b[0;34m\u001b[0m\u001b[0m\n",
      "\u001b[0;31mKeyboardInterrupt\u001b[0m: "
     ]
    }
   ]
  },
  {
   "metadata": {
    "id": "8WkZro2B5NK2",
    "colab_type": "code",
    "outputId": "3f6250d9-8f3c-4d40-b61b-fc7357da3367",
    "executionInfo": {
     "status": "ok",
     "timestamp": 1553589345058,
     "user_tz": -540,
     "elapsed": 1462,
     "user": {
      "displayName": "Kiyoshi SATOH",
      "photoUrl": "https://lh5.googleusercontent.com/-Axv1tw7iUyw/AAAAAAAAAAI/AAAAAAAAALU/27WeD4XMZh0/s64/photo.jpg",
      "userId": "17263090257850830810"
     }
    },
    "colab": {
     "base_uri": "https://localhost:8080/",
     "height": 677
    }
   },
   "cell_type": "code",
   "source": [
    "plot_history(history)"
   ],
   "execution_count": 0,
   "outputs": [
    {
     "output_type": "display_data",
     "data": {
      "image/png": "[encoded data removed]",
      "text/plain": [
       "<Figure size 576x396 with 1 Axes>"
      ]
     },
     "metadata": {
      "tags": []
     }
    },
    {
     "output_type": "display_data",
     "data": {
      "image/png": "[encoded data removed]",
      "text/plain": [
       "<Figure size 576x396 with 1 Axes>"
      ]
     },
     "metadata": {
      "tags": []
     }
    }
   ]
  },
  {
   "metadata": {
    "id": "HhnwNKVl5Taj",
    "colab_type": "code",
    "outputId": "7a7fbc38-15d2-49ab-8701-299edbcd143a",
    "executionInfo": {
     "status": "ok",
     "timestamp": 1553659249903,
     "user_tz": -540,
     "elapsed": 2273,
     "user": {
      "displayName": "Kiyoshi SATOH",
      "photoUrl": "https://lh5.googleusercontent.com/-Axv1tw7iUyw/AAAAAAAAAAI/AAAAAAAAALU/27WeD4XMZh0/s64/photo.jpg",
      "userId": "17263090257850830810"
     }
    },
    "colab": {
     "base_uri": "https://localhost:8080/",
     "height": 179
    }
   },
   "cell_type": "code",
   "source": [
    "test_cifar10()\n",
    "# 0:airplane, 1:automobile, 2:bird, 3:cat, 4:deer, 5:dog, 6:frog, 7:horse, 8:ship, 9:truck"
   ],
   "execution_count": 21,
   "outputs": [
    {
     "output_type": "stream",
     "text": [
      "[8 5 3 9 3 5 7 1 8 5]\n",
      "[8 5 4 9 9 5 4 1 8 3]\n"
     ],
     "name": "stdout"
    },
    {
     "output_type": "display_data",
     "data": {
      "image/png": "[encoded data removed]",
      "text/plain": [
       "<Figure size 1440x144 with 10 Axes>"
      ]
     },
     "metadata": {
      "tags": []
     }
    }
   ]
  },
  {
   "metadata": {
    "id": "C6_56Km0IYnx",
    "colab_type": "text"
   },
   "cell_type": "markdown",
   "source": [
    "#### LeNet結果\n",
    "4.1s/epoch  \n",
    "150epoch/10m  \n",
    "68%"
   ]
  },
  {
   "metadata": {
    "id": "jh3PMZ7kCX97",
    "colab_type": "text"
   },
   "cell_type": "markdown",
   "source": [
    "## オプティマイザー変更\n",
    "\n",
    "重みの変更手法をSGDより高速に学習するものを利用します。  "
   ]
  },
  {
   "metadata": {
    "id": "7SS3CSUbLWhU",
    "colab_type": "text"
   },
   "cell_type": "markdown",
   "source": [
    "### Adam\n",
    "\n",
    "よく使われているAdamを利用してみます。"
   ]
  },
  {
   "metadata": {
    "id": "wmBpmBGfDiAE",
    "colab_type": "code",
    "colab": {}
   },
   "cell_type": "code",
   "source": [
    "model.compile(loss='categorical_crossentropy',\n",
    "              optimizer=Adam(),\n",
    "              metrics=['accuracy'])"
   ],
   "execution_count": 0,
   "outputs": []
  },
  {
   "metadata": {
    "id": "6i3tyTQgEqvt",
    "colab_type": "code",
    "outputId": "b1fdeb0f-9869-4b37-c88c-49d11fe0369f",
    "executionInfo": {
     "status": "ok",
     "timestamp": 1553590269047,
     "user_tz": -540,
     "elapsed": 551517,
     "user": {
      "displayName": "Kiyoshi SATOH",
      "photoUrl": "https://lh5.googleusercontent.com/-Axv1tw7iUyw/AAAAAAAAAAI/AAAAAAAAALU/27WeD4XMZh0/s64/photo.jpg",
      "userId": "17263090257850830810"
     }
    },
    "colab": {
     "base_uri": "https://localhost:8080/",
     "height": 4454
    }
   },
   "cell_type": "code",
   "source": [
    "history = model.fit(X_train, Y_train,\n",
    "                    validation_data=(X_test, Y_test),\n",
    "                    batch_size=1000, epochs=5)"
   ],
   "execution_count": 0,
   "outputs": [
    {
     "output_type": "stream",
     "text": [
      "Train on 50000 samples, validate on 10000 samples\n",
      "Epoch 1/130\n",
      "50000/50000 [==============================] - 4s 86us/sample - loss: 0.5931 - acc: 0.7997 - val_loss: 0.8782 - val_acc: 0.7049\n",
      "Epoch 2/130\n",
      "50000/50000 [==============================] - 4s 85us/sample - loss: 0.5713 - acc: 0.8069 - val_loss: 0.9263 - val_acc: 0.6888\n",
      "Epoch 3/130\n",
      "50000/50000 [==============================] - 4s 85us/sample - loss: 0.5556 - acc: 0.8114 - val_loss: 0.8779 - val_acc: 0.7054\n",
      "Epoch 4/130\n",
      "50000/50000 [==============================] - 4s 85us/sample - loss: 0.5270 - acc: 0.8227 - val_loss: 0.9030 - val_acc: 0.7055\n",
      "Epoch 5/130\n",
      "50000/50000 [==============================] - 4s 85us/sample - loss: 0.5106 - acc: 0.8286 - val_loss: 0.8947 - val_acc: 0.7082\n",
      "Epoch 6/130\n",
      "50000/50000 [==============================] - 4s 85us/sample - loss: 0.4915 - acc: 0.8341 - val_loss: 0.9092 - val_acc: 0.7014\n",
      "Epoch 7/130\n",
      "50000/50000 [==============================] - 4s 85us/sample - loss: 0.4564 - acc: 0.8485 - val_loss: 0.9024 - val_acc: 0.7068\n",
      "Epoch 8/130\n",
      "50000/50000 [==============================] - 4s 85us/sample - loss: 0.4244 - acc: 0.8605 - val_loss: 0.9255 - val_acc: 0.7038\n",
      "Epoch 9/130\n",
      "50000/50000 [==============================] - 4s 85us/sample - loss: 0.4013 - acc: 0.8688 - val_loss: 0.9388 - val_acc: 0.7066\n",
      "Epoch 10/130\n",
      "50000/50000 [==============================] - 4s 85us/sample - loss: 0.3763 - acc: 0.8774 - val_loss: 0.9243 - val_acc: 0.7082\n",
      "Epoch 11/130\n",
      "50000/50000 [==============================] - 4s 84us/sample - loss: 0.3597 - acc: 0.8839 - val_loss: 0.9475 - val_acc: 0.7083\n",
      "Epoch 12/130\n",
      "50000/50000 [==============================] - 4s 84us/sample - loss: 0.3376 - acc: 0.8909 - val_loss: 0.9750 - val_acc: 0.7066\n",
      "Epoch 13/130\n",
      "50000/50000 [==============================] - 4s 84us/sample - loss: 0.3294 - acc: 0.8930 - val_loss: 0.9733 - val_acc: 0.7091\n",
      "Epoch 14/130\n",
      "50000/50000 [==============================] - 4s 85us/sample - loss: 0.2991 - acc: 0.9051 - val_loss: 1.0108 - val_acc: 0.7027\n",
      "Epoch 15/130\n",
      "50000/50000 [==============================] - 4s 85us/sample - loss: 0.2710 - acc: 0.9173 - val_loss: 1.0385 - val_acc: 0.7014\n",
      "Epoch 16/130\n",
      "50000/50000 [==============================] - 4s 85us/sample - loss: 0.2577 - acc: 0.9217 - val_loss: 1.0449 - val_acc: 0.7047\n",
      "Epoch 17/130\n",
      "50000/50000 [==============================] - 4s 85us/sample - loss: 0.2353 - acc: 0.9294 - val_loss: 1.0832 - val_acc: 0.6981\n",
      "Epoch 18/130\n",
      "50000/50000 [==============================] - 4s 85us/sample - loss: 0.2085 - acc: 0.9409 - val_loss: 1.0731 - val_acc: 0.7080\n",
      "Epoch 19/130\n",
      "50000/50000 [==============================] - 4s 86us/sample - loss: 0.1924 - acc: 0.9459 - val_loss: 1.1019 - val_acc: 0.7097\n",
      "Epoch 20/130\n",
      "50000/50000 [==============================] - 4s 85us/sample - loss: 0.1731 - acc: 0.9522 - val_loss: 1.1393 - val_acc: 0.7041\n",
      "Epoch 21/130\n",
      "50000/50000 [==============================] - 4s 85us/sample - loss: 0.1612 - acc: 0.9563 - val_loss: 1.1657 - val_acc: 0.7041\n",
      "Epoch 22/130\n",
      "50000/50000 [==============================] - 4s 84us/sample - loss: 0.1431 - acc: 0.9643 - val_loss: 1.1622 - val_acc: 0.7093\n",
      "Epoch 23/130\n",
      "50000/50000 [==============================] - 4s 85us/sample - loss: 0.1240 - acc: 0.9707 - val_loss: 1.2155 - val_acc: 0.7037\n",
      "Epoch 24/130\n",
      "50000/50000 [==============================] - 4s 85us/sample - loss: 0.1198 - acc: 0.9709 - val_loss: 1.2221 - val_acc: 0.7037\n",
      "Epoch 25/130\n",
      "50000/50000 [==============================] - 4s 85us/sample - loss: 0.1078 - acc: 0.9755 - val_loss: 1.2696 - val_acc: 0.7020\n",
      "Epoch 26/130\n",
      "50000/50000 [==============================] - 4s 84us/sample - loss: 0.0927 - acc: 0.9820 - val_loss: 1.2775 - val_acc: 0.7057\n",
      "Epoch 27/130\n",
      "50000/50000 [==============================] - 4s 84us/sample - loss: 0.0729 - acc: 0.9885 - val_loss: 1.3168 - val_acc: 0.7063\n",
      "Epoch 28/130\n",
      "50000/50000 [==============================] - 4s 84us/sample - loss: 0.0671 - acc: 0.9902 - val_loss: 1.3496 - val_acc: 0.7048\n",
      "Epoch 29/130\n",
      "50000/50000 [==============================] - 4s 84us/sample - loss: 0.0633 - acc: 0.9903 - val_loss: 1.3915 - val_acc: 0.7024\n",
      "Epoch 30/130\n",
      "50000/50000 [==============================] - 4s 85us/sample - loss: 0.0581 - acc: 0.9920 - val_loss: 1.4132 - val_acc: 0.7044\n",
      "Epoch 31/130\n",
      "50000/50000 [==============================] - 4s 84us/sample - loss: 0.0526 - acc: 0.9926 - val_loss: 1.5047 - val_acc: 0.6874\n",
      "Epoch 32/130\n",
      "50000/50000 [==============================] - 4s 85us/sample - loss: 0.0628 - acc: 0.9873 - val_loss: 1.6132 - val_acc: 0.6797\n",
      "Epoch 33/130\n",
      "50000/50000 [==============================] - 4s 85us/sample - loss: 0.0936 - acc: 0.9742 - val_loss: 1.4601 - val_acc: 0.7042\n",
      "Epoch 34/130\n",
      "50000/50000 [==============================] - 4s 85us/sample - loss: 0.0373 - acc: 0.9961 - val_loss: 1.4898 - val_acc: 0.7055\n",
      "Epoch 35/130\n",
      "50000/50000 [==============================] - 4s 84us/sample - loss: 0.0268 - acc: 0.9985 - val_loss: 1.5304 - val_acc: 0.7032\n",
      "Epoch 36/130\n",
      "50000/50000 [==============================] - 4s 84us/sample - loss: 0.0228 - acc: 0.9987 - val_loss: 1.5631 - val_acc: 0.7050\n",
      "Epoch 37/130\n",
      "50000/50000 [==============================] - 4s 84us/sample - loss: 0.0206 - acc: 0.9992 - val_loss: 1.5697 - val_acc: 0.7032\n",
      "Epoch 38/130\n",
      "50000/50000 [==============================] - 4s 84us/sample - loss: 0.0179 - acc: 0.9994 - val_loss: 1.6008 - val_acc: 0.7051\n",
      "Epoch 39/130\n",
      "50000/50000 [==============================] - 4s 84us/sample - loss: 0.0154 - acc: 0.9996 - val_loss: 1.6301 - val_acc: 0.7028\n",
      "Epoch 40/130\n",
      "50000/50000 [==============================] - 4s 85us/sample - loss: 0.0145 - acc: 0.9997 - val_loss: 1.6504 - val_acc: 0.7038\n",
      "Epoch 41/130\n",
      "50000/50000 [==============================] - 4s 85us/sample - loss: 0.0141 - acc: 0.9998 - val_loss: 1.6636 - val_acc: 0.7046\n",
      "Epoch 42/130\n",
      "50000/50000 [==============================] - 4s 85us/sample - loss: 0.0130 - acc: 0.9996 - val_loss: 1.6843 - val_acc: 0.7029\n",
      "Epoch 43/130\n",
      "50000/50000 [==============================] - 4s 84us/sample - loss: 0.0109 - acc: 0.9998 - val_loss: 1.7252 - val_acc: 0.7041\n",
      "Epoch 44/130\n",
      "50000/50000 [==============================] - 4s 85us/sample - loss: 0.0101 - acc: 0.9999 - val_loss: 1.7269 - val_acc: 0.7051\n",
      "Epoch 45/130\n",
      "50000/50000 [==============================] - 4s 84us/sample - loss: 0.0090 - acc: 0.9999 - val_loss: 1.7472 - val_acc: 0.7030\n",
      "Epoch 46/130\n",
      "50000/50000 [==============================] - 4s 84us/sample - loss: 0.0082 - acc: 0.9999 - val_loss: 1.7569 - val_acc: 0.7044\n",
      "Epoch 47/130\n",
      "50000/50000 [==============================] - 4s 85us/sample - loss: 0.0072 - acc: 0.9999 - val_loss: 1.7736 - val_acc: 0.7050\n",
      "Epoch 48/130\n",
      "50000/50000 [==============================] - 4s 84us/sample - loss: 0.0069 - acc: 0.9999 - val_loss: 1.7948 - val_acc: 0.7031\n",
      "Epoch 49/130\n",
      "50000/50000 [==============================] - 4s 84us/sample - loss: 0.0064 - acc: 0.9999 - val_loss: 1.8126 - val_acc: 0.7046\n",
      "Epoch 50/130\n",
      "50000/50000 [==============================] - 4s 85us/sample - loss: 0.0058 - acc: 0.9999 - val_loss: 1.8191 - val_acc: 0.7045\n",
      "Epoch 51/130\n",
      "50000/50000 [==============================] - 4s 84us/sample - loss: 0.0056 - acc: 0.9999 - val_loss: 1.8305 - val_acc: 0.7045\n",
      "Epoch 52/130\n",
      "50000/50000 [==============================] - 4s 84us/sample - loss: 0.0051 - acc: 0.9999 - val_loss: 1.8535 - val_acc: 0.7048\n",
      "Epoch 53/130\n",
      "50000/50000 [==============================] - 4s 84us/sample - loss: 0.0048 - acc: 1.0000 - val_loss: 1.8628 - val_acc: 0.7042\n",
      "Epoch 54/130\n",
      "50000/50000 [==============================] - 4s 84us/sample - loss: 0.0043 - acc: 1.0000 - val_loss: 1.8771 - val_acc: 0.7044\n",
      "Epoch 55/130\n",
      "50000/50000 [==============================] - 4s 85us/sample - loss: 0.0040 - acc: 1.0000 - val_loss: 1.8909 - val_acc: 0.7028\n",
      "Epoch 56/130\n",
      "50000/50000 [==============================] - 4s 84us/sample - loss: 0.0040 - acc: 1.0000 - val_loss: 1.9029 - val_acc: 0.7051\n",
      "Epoch 57/130\n",
      "50000/50000 [==============================] - 4s 84us/sample - loss: 0.0036 - acc: 1.0000 - val_loss: 1.9147 - val_acc: 0.7048\n",
      "Epoch 58/130\n",
      "50000/50000 [==============================] - 4s 84us/sample - loss: 0.0035 - acc: 1.0000 - val_loss: 1.9209 - val_acc: 0.7056\n",
      "Epoch 59/130\n",
      "50000/50000 [==============================] - 4s 84us/sample - loss: 0.0031 - acc: 1.0000 - val_loss: 1.9400 - val_acc: 0.7024\n",
      "Epoch 60/130\n",
      "50000/50000 [==============================] - 4s 84us/sample - loss: 0.0029 - acc: 1.0000 - val_loss: 1.9540 - val_acc: 0.7044\n",
      "Epoch 61/130\n",
      "50000/50000 [==============================] - 4s 84us/sample - loss: 0.0027 - acc: 1.0000 - val_loss: 1.9584 - val_acc: 0.7048\n",
      "Epoch 62/130\n",
      "50000/50000 [==============================] - 4s 84us/sample - loss: 0.0026 - acc: 1.0000 - val_loss: 1.9732 - val_acc: 0.7058\n",
      "Epoch 63/130\n",
      "50000/50000 [==============================] - 4s 85us/sample - loss: 0.0025 - acc: 1.0000 - val_loss: 1.9849 - val_acc: 0.7043\n",
      "Epoch 64/130\n",
      "50000/50000 [==============================] - 4s 84us/sample - loss: 0.0023 - acc: 1.0000 - val_loss: 1.9966 - val_acc: 0.7037\n",
      "Epoch 65/130\n",
      "50000/50000 [==============================] - 4s 84us/sample - loss: 0.0023 - acc: 1.0000 - val_loss: 2.0067 - val_acc: 0.7037\n",
      "Epoch 66/130\n",
      "50000/50000 [==============================] - 4s 84us/sample - loss: 0.0021 - acc: 1.0000 - val_loss: 2.0196 - val_acc: 0.7040\n",
      "Epoch 67/130\n",
      "50000/50000 [==============================] - 4s 84us/sample - loss: 0.0020 - acc: 1.0000 - val_loss: 2.0269 - val_acc: 0.7039\n",
      "Epoch 68/130\n",
      "50000/50000 [==============================] - 4s 84us/sample - loss: 0.0021 - acc: 1.0000 - val_loss: 2.0343 - val_acc: 0.7032\n",
      "Epoch 69/130\n",
      "50000/50000 [==============================] - 4s 84us/sample - loss: 0.0019 - acc: 1.0000 - val_loss: 2.0494 - val_acc: 0.7038\n",
      "Epoch 70/130\n",
      "50000/50000 [==============================] - 4s 84us/sample - loss: 0.0018 - acc: 1.0000 - val_loss: 2.0617 - val_acc: 0.7015\n",
      "Epoch 71/130\n",
      "50000/50000 [==============================] - 4s 84us/sample - loss: 0.0019 - acc: 1.0000 - val_loss: 2.0645 - val_acc: 0.7058\n",
      "Epoch 72/130\n",
      "50000/50000 [==============================] - 4s 85us/sample - loss: 0.0016 - acc: 1.0000 - val_loss: 2.0763 - val_acc: 0.7045\n",
      "Epoch 73/130\n",
      "50000/50000 [==============================] - 4s 85us/sample - loss: 0.0015 - acc: 1.0000 - val_loss: 2.0848 - val_acc: 0.7043\n",
      "Epoch 74/130\n",
      "50000/50000 [==============================] - 4s 84us/sample - loss: 0.0014 - acc: 1.0000 - val_loss: 2.1003 - val_acc: 0.7040\n",
      "Epoch 75/130\n",
      "50000/50000 [==============================] - 4s 84us/sample - loss: 0.0013 - acc: 1.0000 - val_loss: 2.1032 - val_acc: 0.7049\n",
      "Epoch 76/130\n",
      "50000/50000 [==============================] - 4s 84us/sample - loss: 0.0013 - acc: 1.0000 - val_loss: 2.1200 - val_acc: 0.7027\n",
      "Epoch 77/130\n",
      "50000/50000 [==============================] - 4s 84us/sample - loss: 0.0012 - acc: 1.0000 - val_loss: 2.1187 - val_acc: 0.7050\n",
      "Epoch 78/130\n",
      "50000/50000 [==============================] - 4s 84us/sample - loss: 0.0011 - acc: 1.0000 - val_loss: 2.1293 - val_acc: 0.7043\n",
      "Epoch 79/130\n",
      "50000/50000 [==============================] - 4s 84us/sample - loss: 0.0011 - acc: 1.0000 - val_loss: 2.1358 - val_acc: 0.7039\n",
      "Epoch 80/130\n",
      "50000/50000 [==============================] - 4s 84us/sample - loss: 0.0010 - acc: 1.0000 - val_loss: 2.1487 - val_acc: 0.7037\n",
      "Epoch 81/130\n",
      "50000/50000 [==============================] - 4s 84us/sample - loss: 9.9196e-04 - acc: 1.0000 - val_loss: 2.1559 - val_acc: 0.7041\n",
      "Epoch 82/130\n",
      "50000/50000 [==============================] - 4s 85us/sample - loss: 9.7140e-04 - acc: 1.0000 - val_loss: 2.1619 - val_acc: 0.7044\n",
      "Epoch 83/130\n",
      "50000/50000 [==============================] - 4s 84us/sample - loss: 9.3528e-04 - acc: 1.0000 - val_loss: 2.1664 - val_acc: 0.7035\n",
      "Epoch 84/130\n",
      "50000/50000 [==============================] - 4s 84us/sample - loss: 8.9295e-04 - acc: 1.0000 - val_loss: 2.1776 - val_acc: 0.7050\n",
      "Epoch 85/130\n",
      "50000/50000 [==============================] - 4s 84us/sample - loss: 8.7993e-04 - acc: 1.0000 - val_loss: 2.1890 - val_acc: 0.7041\n",
      "Epoch 86/130\n",
      "50000/50000 [==============================] - 4s 84us/sample - loss: 8.2454e-04 - acc: 1.0000 - val_loss: 2.1921 - val_acc: 0.7038\n",
      "Epoch 87/130\n",
      "50000/50000 [==============================] - 4s 84us/sample - loss: 7.7856e-04 - acc: 1.0000 - val_loss: 2.2003 - val_acc: 0.7041\n",
      "Epoch 88/130\n",
      "50000/50000 [==============================] - 4s 84us/sample - loss: 7.4956e-04 - acc: 1.0000 - val_loss: 2.2064 - val_acc: 0.7032\n",
      "Epoch 89/130\n",
      "50000/50000 [==============================] - 4s 84us/sample - loss: 7.2641e-04 - acc: 1.0000 - val_loss: 2.2140 - val_acc: 0.7032\n",
      "Epoch 90/130\n",
      "50000/50000 [==============================] - 4s 85us/sample - loss: 7.5409e-04 - acc: 1.0000 - val_loss: 2.2289 - val_acc: 0.7030\n",
      "Epoch 91/130\n",
      "50000/50000 [==============================] - 4s 86us/sample - loss: 7.2451e-04 - acc: 1.0000 - val_loss: 2.2277 - val_acc: 0.7041\n",
      "Epoch 92/130\n",
      "50000/50000 [==============================] - 4s 85us/sample - loss: 6.7836e-04 - acc: 1.0000 - val_loss: 2.2355 - val_acc: 0.7036\n",
      "Epoch 93/130\n",
      "50000/50000 [==============================] - 4s 85us/sample - loss: 6.4095e-04 - acc: 1.0000 - val_loss: 2.2478 - val_acc: 0.7025\n",
      "Epoch 94/130\n",
      "50000/50000 [==============================] - 4s 85us/sample - loss: 5.9590e-04 - acc: 1.0000 - val_loss: 2.2501 - val_acc: 0.7032\n",
      "Epoch 95/130\n",
      "50000/50000 [==============================] - 4s 85us/sample - loss: 5.6496e-04 - acc: 1.0000 - val_loss: 2.2571 - val_acc: 0.7037\n",
      "Epoch 96/130\n",
      "50000/50000 [==============================] - 4s 85us/sample - loss: 5.3930e-04 - acc: 1.0000 - val_loss: 2.2710 - val_acc: 0.7035\n",
      "Epoch 97/130\n",
      "50000/50000 [==============================] - 4s 85us/sample - loss: 5.2950e-04 - acc: 1.0000 - val_loss: 2.2717 - val_acc: 0.7032\n",
      "Epoch 98/130\n",
      "50000/50000 [==============================] - 4s 85us/sample - loss: 5.1855e-04 - acc: 1.0000 - val_loss: 2.2771 - val_acc: 0.7056\n",
      "Epoch 99/130\n",
      "50000/50000 [==============================] - 4s 84us/sample - loss: 5.0117e-04 - acc: 1.0000 - val_loss: 2.2827 - val_acc: 0.7044\n",
      "Epoch 100/130\n",
      "50000/50000 [==============================] - 4s 84us/sample - loss: 4.6717e-04 - acc: 1.0000 - val_loss: 2.2893 - val_acc: 0.7043\n",
      "Epoch 101/130\n",
      "50000/50000 [==============================] - 4s 84us/sample - loss: 4.5017e-04 - acc: 1.0000 - val_loss: 2.2954 - val_acc: 0.7035\n",
      "Epoch 102/130\n",
      "50000/50000 [==============================] - 4s 84us/sample - loss: 4.3460e-04 - acc: 1.0000 - val_loss: 2.3010 - val_acc: 0.7037\n",
      "Epoch 103/130\n",
      "50000/50000 [==============================] - 4s 84us/sample - loss: 4.1795e-04 - acc: 1.0000 - val_loss: 2.3117 - val_acc: 0.7033\n",
      "Epoch 104/130\n",
      "50000/50000 [==============================] - 4s 84us/sample - loss: 4.0715e-04 - acc: 1.0000 - val_loss: 2.3160 - val_acc: 0.7044\n",
      "Epoch 105/130\n",
      "50000/50000 [==============================] - 4s 85us/sample - loss: 3.8914e-04 - acc: 1.0000 - val_loss: 2.3203 - val_acc: 0.7015\n",
      "Epoch 106/130\n",
      "50000/50000 [==============================] - 4s 84us/sample - loss: 3.8550e-04 - acc: 1.0000 - val_loss: 2.3330 - val_acc: 0.7032\n",
      "Epoch 107/130\n",
      "50000/50000 [==============================] - 4s 85us/sample - loss: 3.6863e-04 - acc: 1.0000 - val_loss: 2.3336 - val_acc: 0.7045\n",
      "Epoch 108/130\n",
      "50000/50000 [==============================] - 4s 84us/sample - loss: 3.4920e-04 - acc: 1.0000 - val_loss: 2.3378 - val_acc: 0.7025\n",
      "Epoch 109/130\n",
      "50000/50000 [==============================] - 4s 85us/sample - loss: 3.3501e-04 - acc: 1.0000 - val_loss: 2.3463 - val_acc: 0.7028\n",
      "Epoch 110/130\n",
      "50000/50000 [==============================] - 4s 85us/sample - loss: 3.2258e-04 - acc: 1.0000 - val_loss: 2.3553 - val_acc: 0.7026\n",
      "Epoch 111/130\n",
      "50000/50000 [==============================] - 4s 85us/sample - loss: 3.1324e-04 - acc: 1.0000 - val_loss: 2.3601 - val_acc: 0.7029\n",
      "Epoch 112/130\n",
      "50000/50000 [==============================] - 4s 84us/sample - loss: 3.0457e-04 - acc: 1.0000 - val_loss: 2.3661 - val_acc: 0.7045\n",
      "Epoch 113/130\n",
      "50000/50000 [==============================] - 4s 84us/sample - loss: 2.8630e-04 - acc: 1.0000 - val_loss: 2.3705 - val_acc: 0.7034\n",
      "Epoch 114/130\n",
      "50000/50000 [==============================] - 4s 84us/sample - loss: 2.8047e-04 - acc: 1.0000 - val_loss: 2.3788 - val_acc: 0.7024\n",
      "Epoch 115/130\n",
      "50000/50000 [==============================] - 4s 85us/sample - loss: 2.7281e-04 - acc: 1.0000 - val_loss: 2.3822 - val_acc: 0.7022\n",
      "Epoch 116/130\n",
      "50000/50000 [==============================] - 4s 85us/sample - loss: 2.6572e-04 - acc: 1.0000 - val_loss: 2.3848 - val_acc: 0.7017\n",
      "Epoch 117/130\n",
      "50000/50000 [==============================] - 4s 85us/sample - loss: 2.5701e-04 - acc: 1.0000 - val_loss: 2.3938 - val_acc: 0.7050\n",
      "Epoch 118/130\n",
      "50000/50000 [==============================] - 4s 86us/sample - loss: 2.4414e-04 - acc: 1.0000 - val_loss: 2.3975 - val_acc: 0.7036\n",
      "Epoch 119/130\n",
      "50000/50000 [==============================] - 4s 85us/sample - loss: 2.3834e-04 - acc: 1.0000 - val_loss: 2.4043 - val_acc: 0.7031\n",
      "Epoch 120/130\n",
      "50000/50000 [==============================] - 4s 86us/sample - loss: 2.2950e-04 - acc: 1.0000 - val_loss: 2.4126 - val_acc: 0.7030\n",
      "Epoch 121/130\n",
      "50000/50000 [==============================] - 4s 85us/sample - loss: 2.2017e-04 - acc: 1.0000 - val_loss: 2.4122 - val_acc: 0.7037\n",
      "Epoch 122/130\n",
      "50000/50000 [==============================] - 4s 85us/sample - loss: 2.1154e-04 - acc: 1.0000 - val_loss: 2.4205 - val_acc: 0.7037\n",
      "Epoch 123/130\n",
      "50000/50000 [==============================] - 4s 85us/sample - loss: 2.0583e-04 - acc: 1.0000 - val_loss: 2.4268 - val_acc: 0.7026\n",
      "Epoch 124/130\n",
      "50000/50000 [==============================] - 4s 85us/sample - loss: 2.0077e-04 - acc: 1.0000 - val_loss: 2.4319 - val_acc: 0.7034\n",
      "Epoch 125/130\n",
      "50000/50000 [==============================] - 4s 85us/sample - loss: 1.9353e-04 - acc: 1.0000 - val_loss: 2.4342 - val_acc: 0.7027\n",
      "Epoch 126/130\n",
      "50000/50000 [==============================] - 4s 85us/sample - loss: 1.8693e-04 - acc: 1.0000 - val_loss: 2.4422 - val_acc: 0.7034\n",
      "Epoch 127/130\n",
      "50000/50000 [==============================] - 4s 85us/sample - loss: 1.7977e-04 - acc: 1.0000 - val_loss: 2.4445 - val_acc: 0.7036\n",
      "Epoch 128/130\n",
      "50000/50000 [==============================] - 4s 84us/sample - loss: 1.7887e-04 - acc: 1.0000 - val_loss: 2.4511 - val_acc: 0.7031\n",
      "Epoch 129/130\n",
      "50000/50000 [==============================] - 4s 84us/sample - loss: 4.0579 - acc: 0.7475 - val_loss: 14.5063 - val_acc: 0.1000\n",
      "Epoch 130/130\n",
      "50000/50000 [==============================] - 4s 84us/sample - loss: 14.5063 - acc: 0.1000 - val_loss: 14.5063 - val_acc: 0.1000\n"
     ],
     "name": "stdout"
    }
   ]
  },
  {
   "metadata": {
    "id": "UmMv0_wAEvzm",
    "colab_type": "code",
    "outputId": "69c93e9d-e0e4-4446-cfba-9aa45b74402e",
    "executionInfo": {
     "status": "ok",
     "timestamp": 1553590298644,
     "user_tz": -540,
     "elapsed": 2425,
     "user": {
      "displayName": "Kiyoshi SATOH",
      "photoUrl": "https://lh5.googleusercontent.com/-Axv1tw7iUyw/AAAAAAAAAAI/AAAAAAAAALU/27WeD4XMZh0/s64/photo.jpg",
      "userId": "17263090257850830810"
     }
    },
    "colab": {
     "base_uri": "https://localhost:8080/",
     "height": 677
    }
   },
   "cell_type": "code",
   "source": [
    "plot_history(history)"
   ],
   "execution_count": 0,
   "outputs": [
    {
     "output_type": "display_data",
     "data": {
      "image/png": "[encoded data removed]",
      "text/plain": [
       "<Figure size 576x396 with 1 Axes>"
      ]
     },
     "metadata": {
      "tags": []
     }
    },
    {
     "output_type": "display_data",
     "data": {
      "image/png": "[encoded data removed]",
      "text/plain": [
       "<Figure size 576x396 with 1 Axes>"
      ]
     },
     "metadata": {
      "tags": []
     }
    }
   ]
  },
  {
   "metadata": {
    "id": "15Xq7nllLo4b",
    "colab_type": "text"
   },
   "cell_type": "markdown",
   "source": [
    "#### LeNet-Adam結果\n",
    "4.1s/epoch  \n",
    "30epoch程で上限  \n",
    "70%"
   ]
  },
  {
   "metadata": {
    "id": "okCIyoRPGapk",
    "colab_type": "text"
   },
   "cell_type": "markdown",
   "source": [
    "### Adabound\n",
    "\n",
    "Adam は学習速度が高いが汎化能力がSGDよりも悪くなると言われています。  \n",
    "Adaboundという改良手法が最近出て注目されているので試してみましょう。\n",
    "\n",
    "https://qiita.com/Phoeboooo/items/f610affdcaaae0a28f34  \n",
    "https://github.com/CyberZHG/keras-adabound"
   ]
  },
  {
   "metadata": {
    "id": "CnWWx5R-OqJM",
    "colab_type": "code",
    "colab": {}
   },
   "cell_type": "code",
   "source": [
    "import tensorflow.keras as keras\n",
    "import tensorflow.keras.backend as K\n",
    "\n",
    "\n",
    "class AdaBound(keras.optimizers.Optimizer):\n",
    "    \"\"\"AdamBound optimizer.\n",
    "    # Arguments\n",
    "        lr: float >= 0. Learning rate.\n",
    "        final_lr: float >= 0. Final (SGD) learning rate.\n",
    "        base_lr: float >= 0. Used for loading the optimizer. Do not set the argument manually.\n",
    "        beta_1: float, 0 < beta < 1. Generally close to 1.\n",
    "        beta_2: float, 0 < beta < 1. Generally close to 1.\n",
    "        gamma: float, 0 < gamma < 1. Convergence speed of the bound functions.\n",
    "        epsilon: float >= 0. Fuzz factor. If `None`, defaults to `K.epsilon()`.\n",
    "        decay: float >= 0. Learning rate decay over each update.\n",
    "        amsgrad: boolean. Whether to apply the AMSGrad variant of this algorithm.\n",
    "    # References\n",
    "        - [Adaptive Gradient Methods with Dynamic Bound of Learning Rate]\n",
    "          (https://openreview.net/forum?id=Bkg3g2R9FX)\n",
    "    \"\"\"\n",
    "\n",
    "    def __init__(self, lr=0.001, final_lr=0.1, base_lr=None,\n",
    "                 beta_1=0.9, beta_2=0.999, gamma=0.001,\n",
    "                 epsilon=None, decay=0., amsgrad=False, **kwargs):\n",
    "        super(AdaBound, self).__init__(**kwargs)\n",
    "        with K.name_scope(self.__class__.__name__):\n",
    "            self.iterations = K.variable(0, dtype='int64', name='iterations')\n",
    "            self.lr = K.variable(lr, name='lr')\n",
    "            self.final_lr = K.variable(final_lr, name='final_lr')\n",
    "            self.beta_1 = K.variable(beta_1, name='beta_1')\n",
    "            self.beta_2 = K.variable(beta_2, name='beta_2')\n",
    "            self.gamma = K.variable(gamma, name='gamma')\n",
    "            self.decay = K.variable(decay, name='decay')\n",
    "        if epsilon is None:\n",
    "            epsilon = K.epsilon()\n",
    "        if base_lr is None:\n",
    "            self.base_lr = lr\n",
    "        else:\n",
    "            self.base_lr = base_lr\n",
    "        self.epsilon = epsilon\n",
    "        self.initial_decay = decay\n",
    "        self.amsgrad = amsgrad\n",
    "\n",
    "    def get_updates(self, loss, params):\n",
    "        grads = self.get_gradients(loss, params)\n",
    "        self.updates = [K.update_add(self.iterations, 1)]\n",
    "\n",
    "        lr = self.lr\n",
    "        if self.initial_decay > 0:\n",
    "            lr = lr * (1. / (1. + self.decay * K.cast(self.iterations,\n",
    "                                                      K.dtype(self.decay))))\n",
    "\n",
    "        t = K.cast(self.iterations, K.floatx()) + 1\n",
    "        lr_t = lr * (K.sqrt(1. - K.pow(self.beta_2, t)) /\n",
    "                     (1. - K.pow(self.beta_1, t)))\n",
    "        final_lr = self.final_lr * lr / self.base_lr\n",
    "        lower_bound = final_lr * (1.0 - 1.0 / (self.gamma * t + 1.0))\n",
    "        upper_bound = final_lr * (1.0 + 1.0 / (self.gamma * t))\n",
    "\n",
    "        ms = [K.zeros(K.int_shape(p), dtype=K.dtype(p)) for p in params]\n",
    "        vs = [K.zeros(K.int_shape(p), dtype=K.dtype(p)) for p in params]\n",
    "        if self.amsgrad:\n",
    "            vhats = [K.zeros(K.int_shape(p), dtype=K.dtype(p)) for p in params]\n",
    "        else:\n",
    "            vhats = [K.zeros(1) for _ in params]\n",
    "        self.weights = [self.iterations] + ms + vs + vhats\n",
    "\n",
    "        for p, g, m, v, vhat in zip(params, grads, ms, vs, vhats):\n",
    "            m_t = (self.beta_1 * m) + (1. - self.beta_1) * g\n",
    "            v_t = (self.beta_2 * v) + (1. - self.beta_2) * K.square(g)\n",
    "\n",
    "            if self.amsgrad:\n",
    "                vhat_t = K.maximum(vhat, v_t)\n",
    "                step = lr_t / (K.sqrt(vhat_t) + self.epsilon)\n",
    "                self.updates.append(K.update(vhat, vhat_t))\n",
    "            else:\n",
    "                step = lr_t / (K.sqrt(v_t) + self.epsilon)\n",
    "            p_t = p - K.minimum(K.maximum(step, lower_bound), upper_bound) * m_t\n",
    "\n",
    "            self.updates.append(K.update(m, m_t))\n",
    "            self.updates.append(K.update(v, v_t))\n",
    "            new_p = p_t\n",
    "\n",
    "            # Apply constraints.\n",
    "            if getattr(p, 'constraint', None) is not None:\n",
    "                new_p = p.constraint(new_p)\n",
    "\n",
    "            self.updates.append(K.update(p, new_p))\n",
    "        return self.updates\n",
    "\n",
    "    def get_config(self):\n",
    "        config = {'lr': float(K.get_value(self.lr)),\n",
    "                  'final_lr': float(K.get_value(self.final_lr)),\n",
    "                  'base_lr': self.base_lr,\n",
    "                  'beta_1': float(K.get_value(self.beta_1)),\n",
    "                  'beta_2': float(K.get_value(self.beta_2)),\n",
    "                  'gamma': float(K.get_value(self.gamma)),\n",
    "                  'decay': float(K.get_value(self.decay)),\n",
    "                  'epsilon': self.epsilon,\n",
    "                  'amsgrad': self.amsgrad}\n",
    "        base_config = super(AdaBound, self).get_config()\n",
    "        return dict(list(base_config.items()) + list(config.items()))\n",
    "      "
   ],
   "execution_count": 0,
   "outputs": []
  },
  {
   "metadata": {
    "id": "QcLKKaQqGXc5",
    "colab_type": "code",
    "colab": {}
   },
   "cell_type": "code",
   "source": [
    "model.compile(loss='categorical_crossentropy',\n",
    "              optimizer=AdaBound(lr=1e-3, final_lr=0.1),\n",
    "              metrics=['accuracy'])"
   ],
   "execution_count": 0,
   "outputs": []
  },
  {
   "metadata": {
    "id": "AfL-fZu_PFe9",
    "colab_type": "code",
    "outputId": "0f9becdf-ea17-4268-f251-567624afd1b2",
    "executionInfo": {
     "status": "ok",
     "timestamp": 1553591262510,
     "user_tz": -540,
     "elapsed": 128782,
     "user": {
      "displayName": "Kiyoshi SATOH",
      "photoUrl": "https://lh5.googleusercontent.com/-Axv1tw7iUyw/AAAAAAAAAAI/AAAAAAAAALU/27WeD4XMZh0/s64/photo.jpg",
      "userId": "17263090257850830810"
     }
    },
    "colab": {
     "base_uri": "https://localhost:8080/",
     "height": 1054
    }
   },
   "cell_type": "code",
   "source": [
    "history = model.fit(X_train, Y_train,\n",
    "                    validation_data=(X_test, Y_test),\n",
    "                    batch_size=1000, epochs=5)"
   ],
   "execution_count": 0,
   "outputs": [
    {
     "output_type": "stream",
     "text": [
      "Train on 50000 samples, validate on 10000 samples\n",
      "Epoch 1/30\n",
      "50000/50000 [==============================] - 4s 87us/sample - loss: 0.5775 - acc: 0.8053 - val_loss: 0.8994 - val_acc: 0.7039\n",
      "Epoch 2/30\n",
      "50000/50000 [==============================] - 4s 86us/sample - loss: 0.5538 - acc: 0.8129 - val_loss: 0.9019 - val_acc: 0.6984\n",
      "Epoch 3/30\n",
      "50000/50000 [==============================] - 4s 86us/sample - loss: 0.5369 - acc: 0.8196 - val_loss: 0.8800 - val_acc: 0.7109\n",
      "Epoch 4/30\n",
      "50000/50000 [==============================] - 4s 86us/sample - loss: 0.5181 - acc: 0.8256 - val_loss: 0.9032 - val_acc: 0.7047\n",
      "Epoch 5/30\n",
      "50000/50000 [==============================] - 4s 85us/sample - loss: 0.4990 - acc: 0.8325 - val_loss: 0.9073 - val_acc: 0.7039\n",
      "Epoch 6/30\n",
      "50000/50000 [==============================] - 4s 86us/sample - loss: 0.4672 - acc: 0.8472 - val_loss: 0.9177 - val_acc: 0.7098\n",
      "Epoch 7/30\n",
      "50000/50000 [==============================] - 4s 86us/sample - loss: 0.4610 - acc: 0.8487 - val_loss: 0.9005 - val_acc: 0.7125\n",
      "Epoch 8/30\n",
      "50000/50000 [==============================] - 4s 86us/sample - loss: 0.4490 - acc: 0.8484 - val_loss: 0.9301 - val_acc: 0.7099\n",
      "Epoch 9/30\n",
      "50000/50000 [==============================] - 4s 86us/sample - loss: 0.4197 - acc: 0.8623 - val_loss: 0.9416 - val_acc: 0.7038\n",
      "Epoch 10/30\n",
      "50000/50000 [==============================] - 4s 86us/sample - loss: 0.3980 - acc: 0.8701 - val_loss: 0.9507 - val_acc: 0.7038\n",
      "Epoch 11/30\n",
      "50000/50000 [==============================] - 4s 86us/sample - loss: 0.3877 - acc: 0.8730 - val_loss: 0.9391 - val_acc: 0.7139\n",
      "Epoch 12/30\n",
      "50000/50000 [==============================] - 4s 86us/sample - loss: 0.3543 - acc: 0.8875 - val_loss: 0.9852 - val_acc: 0.7075\n",
      "Epoch 13/30\n",
      "50000/50000 [==============================] - 4s 86us/sample - loss: 0.3465 - acc: 0.8887 - val_loss: 0.9745 - val_acc: 0.7121\n",
      "Epoch 14/30\n",
      "50000/50000 [==============================] - 4s 85us/sample - loss: 0.3182 - acc: 0.8989 - val_loss: 0.9937 - val_acc: 0.7030\n",
      "Epoch 15/30\n",
      "50000/50000 [==============================] - 4s 85us/sample - loss: 0.3021 - acc: 0.9041 - val_loss: 0.9815 - val_acc: 0.7110\n",
      "Epoch 16/30\n",
      "50000/50000 [==============================] - 4s 85us/sample - loss: 0.2925 - acc: 0.9079 - val_loss: 1.0018 - val_acc: 0.7093\n",
      "Epoch 17/30\n",
      "50000/50000 [==============================] - 4s 84us/sample - loss: 0.2633 - acc: 0.9204 - val_loss: 1.0409 - val_acc: 0.7076\n",
      "Epoch 18/30\n",
      "50000/50000 [==============================] - 4s 84us/sample - loss: 0.2519 - acc: 0.9233 - val_loss: 1.0392 - val_acc: 0.7105\n",
      "Epoch 19/30\n",
      "50000/50000 [==============================] - 4s 85us/sample - loss: 0.2306 - acc: 0.9326 - val_loss: 1.0959 - val_acc: 0.7028\n",
      "Epoch 20/30\n",
      "50000/50000 [==============================] - 4s 84us/sample - loss: 0.2274 - acc: 0.9310 - val_loss: 1.0953 - val_acc: 0.7102\n",
      "Epoch 21/30\n",
      "50000/50000 [==============================] - 4s 85us/sample - loss: 0.2007 - acc: 0.9437 - val_loss: 1.1240 - val_acc: 0.7035\n",
      "Epoch 22/30\n",
      "50000/50000 [==============================] - 4s 84us/sample - loss: 0.1802 - acc: 0.9517 - val_loss: 1.1273 - val_acc: 0.7073\n",
      "Epoch 23/30\n",
      "50000/50000 [==============================] - 4s 85us/sample - loss: 0.1660 - acc: 0.9565 - val_loss: 1.1906 - val_acc: 0.6980\n",
      "Epoch 24/30\n",
      "50000/50000 [==============================] - 4s 85us/sample - loss: 0.1611 - acc: 0.9575 - val_loss: 1.1825 - val_acc: 0.7062\n",
      "Epoch 25/30\n",
      "50000/50000 [==============================] - 4s 85us/sample - loss: 0.1451 - acc: 0.9640 - val_loss: 1.2466 - val_acc: 0.6985\n",
      "Epoch 26/30\n",
      "50000/50000 [==============================] - 4s 84us/sample - loss: 0.1348 - acc: 0.9665 - val_loss: 1.2147 - val_acc: 0.7060\n",
      "Epoch 27/30\n",
      "50000/50000 [==============================] - 4s 85us/sample - loss: 0.1139 - acc: 0.9753 - val_loss: 1.2659 - val_acc: 0.6994\n",
      "Epoch 28/30\n",
      "50000/50000 [==============================] - 4s 85us/sample - loss: 0.1093 - acc: 0.9761 - val_loss: 1.3099 - val_acc: 0.7007\n",
      "Epoch 29/30\n",
      "50000/50000 [==============================] - 4s 85us/sample - loss: 0.1027 - acc: 0.9774 - val_loss: 1.3029 - val_acc: 0.7037\n",
      "Epoch 30/30\n",
      "50000/50000 [==============================] - 4s 85us/sample - loss: 0.0898 - acc: 0.9815 - val_loss: 1.3239 - val_acc: 0.7020\n"
     ],
     "name": "stdout"
    }
   ]
  },
  {
   "metadata": {
    "id": "kKfD75lHLtGx",
    "colab_type": "text"
   },
   "cell_type": "markdown",
   "source": [
    "#### LeNet-Adabound結果\n",
    "4.1s/epoch  \n",
    "30epoch程で上限  \n",
    "70%"
   ]
  },
  {
   "metadata": {
    "id": "I13rkK76C5d2",
    "colab_type": "text"
   },
   "cell_type": "markdown",
   "source": [
    "## Batch Normalization の利用\n",
    "\n",
    "Batch Normalizationは学習時のバックプロパゲーションの値を、バッチ毎によい分布になるように変換します。  \n",
    "Batch Normalizationを利用することで高速に学習が進み認識率も高まります。"
   ]
  },
  {
   "metadata": {
    "id": "V84RLDzU5gDZ",
    "colab_type": "code",
    "colab": {}
   },
   "cell_type": "code",
   "source": [
    "model = Sequential()\n",
    "\n",
    "model.add(Conv2D(20, (5, 5), padding='same', input_shape=(32, 32, 3)))\n",
    "model.add(Activation('relu'))\n",
    "model.add(BatchNormalization())\n",
    "\n",
    "model.add(MaxPooling2D(pool_size=(2, 2)))\n",
    "\n",
    "model.add(Conv2D(50, (5, 5), padding='same'))\n",
    "model.add(Activation('relu'))\n",
    "model.add(BatchNormalization())\n",
    "\n",
    "model.add(MaxPooling2D(pool_size=(2, 2)))\n",
    "\n",
    "model.add(Flatten())\n",
    "model.add(Dense(500))\n",
    "model.add(Activation('relu'))\n",
    "model.add(BatchNormalization())\n",
    "\n",
    "model.add(Dense(10))\n",
    "model.add(Activation('softmax'))"
   ],
   "execution_count": 0,
   "outputs": []
  },
  {
   "metadata": {
    "id": "ElGe6EzGElAd",
    "colab_type": "code",
    "colab": {}
   },
   "cell_type": "code",
   "source": [
    "model.compile(loss='categorical_crossentropy',\n",
    "              optimizer=Adam(),\n",
    "              metrics=['accuracy'])"
   ],
   "execution_count": 0,
   "outputs": []
  },
  {
   "metadata": {
    "id": "OpZbz74gEl1-",
    "colab_type": "code",
    "outputId": "a2491b20-f02c-46e4-da6b-a608389b2f40",
    "executionInfo": {
     "status": "ok",
     "timestamp": 1553591565269,
     "user_tz": -540,
     "elapsed": 158250,
     "user": {
      "displayName": "Kiyoshi SATOH",
      "photoUrl": "https://lh5.googleusercontent.com/-Axv1tw7iUyw/AAAAAAAAAAI/AAAAAAAAALU/27WeD4XMZh0/s64/photo.jpg",
      "userId": "17263090257850830810"
     }
    },
    "colab": {
     "base_uri": "https://localhost:8080/",
     "height": 1054
    }
   },
   "cell_type": "code",
   "source": [
    "history = model.fit(X_train, Y_train,\n",
    "                    validation_data=(X_test, Y_test),\n",
    "                    batch_size=1000, epochs=5)"
   ],
   "execution_count": 0,
   "outputs": [
    {
     "output_type": "stream",
     "text": [
      "Train on 50000 samples, validate on 10000 samples\n",
      "Epoch 1/30\n",
      "50000/50000 [==============================] - 6s 118us/sample - loss: 1.4817 - acc: 0.5126 - val_loss: 2.3684 - val_acc: 0.1273\n",
      "Epoch 2/30\n",
      "50000/50000 [==============================] - 5s 102us/sample - loss: 0.9485 - acc: 0.6701 - val_loss: 3.1797 - val_acc: 0.1258\n",
      "Epoch 3/30\n",
      "50000/50000 [==============================] - 5s 103us/sample - loss: 0.7621 - acc: 0.7381 - val_loss: 4.1771 - val_acc: 0.1133\n",
      "Epoch 4/30\n",
      "50000/50000 [==============================] - 5s 103us/sample - loss: 0.6005 - acc: 0.7963 - val_loss: 5.1980 - val_acc: 0.1669\n",
      "Epoch 5/30\n",
      "50000/50000 [==============================] - 5s 103us/sample - loss: 0.4403 - acc: 0.8609 - val_loss: 5.8501 - val_acc: 0.1660\n",
      "Epoch 6/30\n",
      "50000/50000 [==============================] - 5s 103us/sample - loss: 0.2960 - acc: 0.9169 - val_loss: 6.1063 - val_acc: 0.1949\n",
      "Epoch 7/30\n",
      "50000/50000 [==============================] - 5s 103us/sample - loss: 0.1781 - acc: 0.9614 - val_loss: 6.3145 - val_acc: 0.2255\n",
      "Epoch 8/30\n",
      "50000/50000 [==============================] - 5s 103us/sample - loss: 0.0947 - acc: 0.9874 - val_loss: 4.9861 - val_acc: 0.3188\n",
      "Epoch 9/30\n",
      "50000/50000 [==============================] - 5s 103us/sample - loss: 0.0469 - acc: 0.9973 - val_loss: 3.5081 - val_acc: 0.4078\n",
      "Epoch 10/30\n",
      "50000/50000 [==============================] - 5s 103us/sample - loss: 0.0239 - acc: 0.9995 - val_loss: 2.5790 - val_acc: 0.4987\n",
      "Epoch 11/30\n",
      "50000/50000 [==============================] - 5s 103us/sample - loss: 0.0133 - acc: 0.9999 - val_loss: 1.8272 - val_acc: 0.5812\n",
      "Epoch 12/30\n",
      "50000/50000 [==============================] - 5s 103us/sample - loss: 0.0087 - acc: 1.0000 - val_loss: 1.4871 - val_acc: 0.6437\n",
      "Epoch 13/30\n",
      "50000/50000 [==============================] - 5s 104us/sample - loss: 0.0066 - acc: 1.0000 - val_loss: 1.3058 - val_acc: 0.6803\n",
      "Epoch 14/30\n",
      "50000/50000 [==============================] - 5s 103us/sample - loss: 0.0053 - acc: 1.0000 - val_loss: 1.2505 - val_acc: 0.6926\n",
      "Epoch 15/30\n",
      "50000/50000 [==============================] - 5s 103us/sample - loss: 0.0044 - acc: 1.0000 - val_loss: 1.2215 - val_acc: 0.7032\n",
      "Epoch 16/30\n",
      "50000/50000 [==============================] - 5s 103us/sample - loss: 0.0038 - acc: 1.0000 - val_loss: 1.2096 - val_acc: 0.7066\n",
      "Epoch 17/30\n",
      "50000/50000 [==============================] - 5s 103us/sample - loss: 0.0033 - acc: 1.0000 - val_loss: 1.2307 - val_acc: 0.7060\n",
      "Epoch 18/30\n",
      "50000/50000 [==============================] - 5s 103us/sample - loss: 0.0029 - acc: 1.0000 - val_loss: 1.2208 - val_acc: 0.7070\n",
      "Epoch 19/30\n",
      "50000/50000 [==============================] - 5s 103us/sample - loss: 0.0025 - acc: 1.0000 - val_loss: 1.2319 - val_acc: 0.7075\n",
      "Epoch 20/30\n",
      "50000/50000 [==============================] - 5s 103us/sample - loss: 0.0023 - acc: 1.0000 - val_loss: 1.2464 - val_acc: 0.7068\n",
      "Epoch 21/30\n",
      "50000/50000 [==============================] - 5s 103us/sample - loss: 0.0020 - acc: 1.0000 - val_loss: 1.2577 - val_acc: 0.7060\n",
      "Epoch 22/30\n",
      "50000/50000 [==============================] - 5s 103us/sample - loss: 0.0018 - acc: 1.0000 - val_loss: 1.2721 - val_acc: 0.7068\n",
      "Epoch 23/30\n",
      "50000/50000 [==============================] - 5s 103us/sample - loss: 0.0016 - acc: 1.0000 - val_loss: 1.2750 - val_acc: 0.7071\n",
      "Epoch 24/30\n",
      "50000/50000 [==============================] - 5s 103us/sample - loss: 0.0015 - acc: 1.0000 - val_loss: 1.2882 - val_acc: 0.7076\n",
      "Epoch 25/30\n",
      "50000/50000 [==============================] - 5s 103us/sample - loss: 0.0014 - acc: 1.0000 - val_loss: 1.2939 - val_acc: 0.7068\n",
      "Epoch 26/30\n",
      "50000/50000 [==============================] - 5s 103us/sample - loss: 0.0013 - acc: 1.0000 - val_loss: 1.3051 - val_acc: 0.7067\n",
      "Epoch 27/30\n",
      "50000/50000 [==============================] - 5s 103us/sample - loss: 0.0012 - acc: 1.0000 - val_loss: 1.3133 - val_acc: 0.7070\n",
      "Epoch 28/30\n",
      "50000/50000 [==============================] - 5s 103us/sample - loss: 0.0011 - acc: 1.0000 - val_loss: 1.3188 - val_acc: 0.7082\n",
      "Epoch 29/30\n",
      "50000/50000 [==============================] - 5s 103us/sample - loss: 0.0010 - acc: 1.0000 - val_loss: 1.3242 - val_acc: 0.7069\n",
      "Epoch 30/30\n",
      "50000/50000 [==============================] - 5s 103us/sample - loss: 9.3845e-04 - acc: 1.0000 - val_loss: 1.3214 - val_acc: 0.7067\n"
     ],
     "name": "stdout"
    }
   ]
  },
  {
   "metadata": {
    "id": "-KuscUZ9Eu8H",
    "colab_type": "code",
    "colab": {
     "base_uri": "https://localhost:8080/",
     "height": 677
    },
    "outputId": "eaf9f410-41ec-4d54-fee8-6883ba9ff147",
    "executionInfo": {
     "status": "ok",
     "timestamp": 1553653683348,
     "user_tz": -540,
     "elapsed": 1771,
     "user": {
      "displayName": "Kiyoshi SATOH",
      "photoUrl": "https://lh5.googleusercontent.com/-Axv1tw7iUyw/AAAAAAAAAAI/AAAAAAAAALU/27WeD4XMZh0/s64/photo.jpg",
      "userId": "17263090257850830810"
     }
    }
   },
   "cell_type": "code",
   "source": [
    "plot_history(history)"
   ],
   "execution_count": 8,
   "outputs": [
    {
     "output_type": "display_data",
     "data": {
      "image/png": "[encoded data removed]",
      "text/plain": [
       "<Figure size 576x396 with 1 Axes>"
      ]
     },
     "metadata": {
      "tags": []
     }
    },
    {
     "output_type": "display_data",
     "data": {
      "image/png": "[encoded data removed]",
      "text/plain": [
       "<Figure size 576x396 with 1 Axes>"
      ]
     },
     "metadata": {
      "tags": []
     }
    }
   ]
  },
  {
   "metadata": {
    "id": "wgS1pNiHRR1Y",
    "colab_type": "text"
   },
   "cell_type": "markdown",
   "source": [
    "#### LeNet-BN-Adam結果\n",
    "30epoch程で上限  \n",
    "71%\n",
    "\n",
    "学習データでは10エポック強でほぼ100%になっていることがわかります。"
   ]
  },
  {
   "metadata": {
    "id": "J5Ud5fziGvbn",
    "colab_type": "text"
   },
   "cell_type": "markdown",
   "source": [
    "## 層を広くする\n",
    "\n",
    "特徴を分類するニューロンを増やして、層を広く(wide)することで性能が上がることがあります。  \n",
    "ここでは中間層のニューロンをすべて4倍にしてみます。"
   ]
  },
  {
   "metadata": {
    "id": "ODUT73jSI94d",
    "colab_type": "code",
    "colab": {
     "base_uri": "https://localhost:8080/",
     "height": 88
    },
    "outputId": "24c8382d-b108-4b1b-b995-cf1f05969388",
    "executionInfo": {
     "status": "ok",
     "timestamp": 1553652895933,
     "user_tz": -540,
     "elapsed": 1076,
     "user": {
      "displayName": "Kiyoshi SATOH",
      "photoUrl": "https://lh5.googleusercontent.com/-Axv1tw7iUyw/AAAAAAAAAAI/AAAAAAAAALU/27WeD4XMZh0/s64/photo.jpg",
      "userId": "17263090257850830810"
     }
    }
   },
   "cell_type": "code",
   "source": [
    "model = Sequential()\n",
    "\n",
    "model.add(Conv2D(80, (5, 5), padding='same', input_shape=(32, 32, 3)))\n",
    "model.add(Activation('relu'))\n",
    "\n",
    "model.add(MaxPooling2D(pool_size=(2, 2)))\n",
    "\n",
    "model.add(Conv2D(200, (5, 5), padding='same'))\n",
    "model.add(Activation('relu'))\n",
    "\n",
    "model.add(MaxPooling2D(pool_size=(2, 2)))\n",
    "\n",
    "model.add(Flatten())\n",
    "model.add(Dense(2000))\n",
    "model.add(Activation('relu'))\n",
    "\n",
    "model.add(Dense(10))\n",
    "model.add(Activation('softmax'))"
   ],
   "execution_count": 4,
   "outputs": [
    {
     "output_type": "stream",
     "text": [
      "WARNING:tensorflow:From /usr/local/lib/python3.6/dist-packages/tensorflow/python/ops/resource_variable_ops.py:435: colocate_with (from tensorflow.python.framework.ops) is deprecated and will be removed in a future version.\n",
      "Instructions for updating:\n",
      "Colocations handled automatically by placer.\n"
     ],
     "name": "stdout"
    }
   ]
  },
  {
   "metadata": {
    "id": "iJGnSMHZ6qea",
    "colab_type": "code",
    "colab": {}
   },
   "cell_type": "code",
   "source": [
    "model.compile(loss='categorical_crossentropy',\n",
    "              optimizer=Adam(),\n",
    "              metrics=['accuracy'])"
   ],
   "execution_count": 0,
   "outputs": []
  },
  {
   "metadata": {
    "id": "s14_10BG7olf",
    "colab_type": "code",
    "colab": {
     "base_uri": "https://localhost:8080/",
     "height": 714
    },
    "outputId": "6ada49cd-69f4-4b1b-b6a8-83affd3ec394",
    "executionInfo": {
     "status": "ok",
     "timestamp": 1553653674098,
     "user_tz": -540,
     "elapsed": 336467,
     "user": {
      "displayName": "Kiyoshi SATOH",
      "photoUrl": "https://lh5.googleusercontent.com/-Axv1tw7iUyw/AAAAAAAAAAI/AAAAAAAAALU/27WeD4XMZh0/s64/photo.jpg",
      "userId": "17263090257850830810"
     }
    }
   },
   "cell_type": "code",
   "source": [
    "history = model.fit(X_train, Y_train,\n",
    "                    validation_data=(X_test, Y_test),\n",
    "                    batch_size=1000, epochs=5)"
   ],
   "execution_count": 7,
   "outputs": [
    {
     "output_type": "stream",
     "text": [
      "Train on 50000 samples, validate on 10000 samples\n",
      "Epoch 1/20\n",
      "50000/50000 [==============================] - 17s 337us/sample - loss: 0.8832 - acc: 0.6925 - val_loss: 0.9545 - val_acc: 0.6631\n",
      "Epoch 2/20\n",
      "50000/50000 [==============================] - 17s 334us/sample - loss: 0.8194 - acc: 0.7139 - val_loss: 0.9408 - val_acc: 0.6759\n",
      "Epoch 3/20\n",
      "50000/50000 [==============================] - 17s 336us/sample - loss: 0.7429 - acc: 0.7433 - val_loss: 0.8690 - val_acc: 0.7010\n",
      "Epoch 4/20\n",
      "50000/50000 [==============================] - 17s 336us/sample - loss: 0.6883 - acc: 0.7626 - val_loss: 0.8486 - val_acc: 0.7129\n",
      "Epoch 5/20\n",
      "50000/50000 [==============================] - 17s 336us/sample - loss: 0.6234 - acc: 0.7850 - val_loss: 0.8404 - val_acc: 0.7121\n",
      "Epoch 6/20\n",
      "50000/50000 [==============================] - 17s 335us/sample - loss: 0.5715 - acc: 0.8054 - val_loss: 0.8377 - val_acc: 0.7211\n",
      "Epoch 7/20\n",
      "50000/50000 [==============================] - 17s 336us/sample - loss: 0.4968 - acc: 0.8322 - val_loss: 0.8559 - val_acc: 0.7211\n",
      "Epoch 8/20\n",
      "50000/50000 [==============================] - 17s 337us/sample - loss: 0.4387 - acc: 0.8531 - val_loss: 0.8778 - val_acc: 0.7235\n",
      "Epoch 9/20\n",
      "50000/50000 [==============================] - 17s 335us/sample - loss: 0.3854 - acc: 0.8714 - val_loss: 0.8804 - val_acc: 0.7225\n",
      "Epoch 10/20\n",
      "50000/50000 [==============================] - 17s 336us/sample - loss: 0.3153 - acc: 0.8997 - val_loss: 0.9092 - val_acc: 0.7253\n",
      "Epoch 11/20\n",
      "50000/50000 [==============================] - 17s 334us/sample - loss: 0.2606 - acc: 0.9202 - val_loss: 0.9338 - val_acc: 0.7241\n",
      "Epoch 12/20\n",
      "50000/50000 [==============================] - 17s 334us/sample - loss: 0.2149 - acc: 0.9358 - val_loss: 0.9790 - val_acc: 0.7248\n",
      "Epoch 13/20\n",
      "50000/50000 [==============================] - 17s 336us/sample - loss: 0.1681 - acc: 0.9535 - val_loss: 1.0220 - val_acc: 0.7204\n",
      "Epoch 14/20\n",
      "50000/50000 [==============================] - 17s 336us/sample - loss: 0.1254 - acc: 0.9682 - val_loss: 1.0787 - val_acc: 0.7285\n",
      "Epoch 15/20\n",
      "50000/50000 [==============================] - 17s 335us/sample - loss: 0.0936 - acc: 0.9781 - val_loss: 1.1249 - val_acc: 0.7294\n",
      "Epoch 16/20\n",
      "50000/50000 [==============================] - 17s 336us/sample - loss: 0.0664 - acc: 0.9866 - val_loss: 1.2093 - val_acc: 0.7279\n",
      "Epoch 17/20\n",
      "50000/50000 [==============================] - 17s 336us/sample - loss: 0.0514 - acc: 0.9908 - val_loss: 1.2663 - val_acc: 0.7260\n",
      "Epoch 18/20\n",
      "50000/50000 [==============================] - 17s 335us/sample - loss: 0.0350 - acc: 0.9952 - val_loss: 1.3058 - val_acc: 0.7294\n",
      "Epoch 19/20\n",
      "50000/50000 [==============================] - 17s 336us/sample - loss: 0.0227 - acc: 0.9980 - val_loss: 1.3827 - val_acc: 0.7271\n",
      "Epoch 20/20\n",
      "50000/50000 [==============================] - 17s 334us/sample - loss: 0.0168 - acc: 0.9987 - val_loss: 1.4326 - val_acc: 0.7243\n"
     ],
     "name": "stdout"
    }
   ]
  },
  {
   "metadata": {
    "id": "hdPJ55Vp84tg",
    "colab_type": "text"
   },
   "cell_type": "markdown",
   "source": [
    "#### LeNet-4wide-Adam結果\n",
    "17.3s/epoch  \n",
    "30epoch程で上限  \n",
    "73%"
   ]
  },
  {
   "metadata": {
    "id": "vy6kArvdFZVj",
    "colab_type": "text"
   },
   "cell_type": "markdown",
   "source": [
    "## 層を深くする"
   ]
  },
  {
   "metadata": {
    "id": "nxgUFgJHFh3h",
    "colab_type": "code",
    "colab": {}
   },
   "cell_type": "code",
   "source": [
    ""
   ],
   "execution_count": 0,
   "outputs": []
  },
  {
   "metadata": {
    "id": "jy_dJY0e6vqH",
    "colab_type": "text"
   },
   "cell_type": "markdown",
   "source": [
    "## Conv2Dを軽量化する"
   ]
  },
  {
   "metadata": {
    "id": "dG0kuBkR6u1m",
    "colab_type": "code",
    "colab": {}
   },
   "cell_type": "code",
   "source": [
    ""
   ],
   "execution_count": 0,
   "outputs": []
  },
  {
   "metadata": {
    "id": "FX_A-gjuIu5y",
    "colab_type": "text"
   },
   "cell_type": "markdown",
   "source": [
    "## ResNet"
   ]
  },
  {
   "metadata": {
    "id": "p_L9NpyIJHqb",
    "colab_type": "code",
    "colab": {}
   },
   "cell_type": "code",
   "source": [
    ""
   ],
   "execution_count": 0,
   "outputs": []
  },
  {
   "metadata": {
    "id": "7XIK9ivL-iQ5",
    "colab_type": "text"
   },
   "cell_type": "markdown",
   "source": [
    "## バッチサイズを小さくする\n",
    "\n",
    "バッチサイズが大きいほうが計算速度が速い  \n",
    "しかしバッチサイズが大きすぎると汎化能力が落ちる  \n",
    "\n",
    "https://tech.nikkeibp.co.jp/dm/atcl/mag/15/00144/00002/"
   ]
  },
  {
   "metadata": {
    "id": "71IOYaLu-24K",
    "colab_type": "code",
    "colab": {}
   },
   "cell_type": "code",
   "source": [
    ""
   ],
   "execution_count": 0,
   "outputs": []
  },
  {
   "metadata": {
    "id": "NK_c91ahJh50",
    "colab_type": "text"
   },
   "cell_type": "markdown",
   "source": [
    "## Dropout の利用"
   ]
  },
  {
   "metadata": {
    "id": "Xf3ab6xRJmZ5",
    "colab_type": "code",
    "colab": {}
   },
   "cell_type": "code",
   "source": [
    ""
   ],
   "execution_count": 0,
   "outputs": []
  },
  {
   "metadata": {
    "id": "MT7bEbYzFVh2",
    "colab_type": "text"
   },
   "cell_type": "markdown",
   "source": [
    "## データ拡張"
   ]
  },
  {
   "metadata": {
    "id": "0272eVOtFX1y",
    "colab_type": "code",
    "colab": {}
   },
   "cell_type": "code",
   "source": [
    "    # This will do preprocessing and realtime data augmentation:\n",
    "    datagen = ImageDataGenerator(\n",
    "        featurewise_center=False,  # set input mean to 0 over the dataset\n",
    "        samplewise_center=False,  # set each sample mean to 0\n",
    "        featurewise_std_normalization=False,  # divide inputs by std of the dataset\n",
    "        samplewise_std_normalization=False,  # divide each input by its std\n",
    "        zca_whitening=False,  # apply ZCA whitening\n",
    "        zca_epsilon=1e-06,  # epsilon for ZCA whitening\n",
    "        rotation_range=0,  # randomly rotate images in the range (degrees, 0 to 180)\n",
    "        # randomly shift images horizontally (fraction of total width)\n",
    "        width_shift_range=0.1,\n",
    "        # randomly shift images vertically (fraction of total height)\n",
    "        height_shift_range=0.1,\n",
    "        shear_range=0.,  # set range for random shear\n",
    "        zoom_range=0.,  # set range for random zoom\n",
    "        channel_shift_range=0.,  # set range for random channel shifts\n",
    "        # set mode for filling points outside the input boundaries\n",
    "        fill_mode='nearest',\n",
    "        cval=0.,  # value used for fill_mode = \"constant\"\n",
    "        horizontal_flip=True,  # randomly flip images\n",
    "        vertical_flip=False,  # randomly flip images\n",
    "        # set rescaling factor (applied before any other transformation)\n",
    "        rescale=None,\n",
    "        # set function that will be applied on each input\n",
    "        preprocessing_function=None,\n",
    "        # image data format, either \"channels_first\" or \"channels_last\"\n",
    "        data_format=None,\n",
    "        # fraction of images reserved for validation (strictly between 0 and 1)\n",
    "        validation_split=0.0)\n",
    "\n",
    "    # Compute quantities required for feature-wise normalization\n",
    "    # (std, mean, and principal components if ZCA whitening is applied).\n",
    "    datagen.fit(x_train)\n",
    "\n",
    "    # Fit the model on the batches generated by datagen.flow().\n",
    "    model.fit_generator(datagen.flow(x_train, y_train,\n",
    "                                     batch_size=batch_size),\n",
    "                        epochs=epochs,\n",
    "                        validation_data=(x_test, y_test),\n",
    "                        workers=4)\n"
   ],
   "execution_count": 0,
   "outputs": []
  },
  {
   "metadata": {
    "id": "UmmTinYlJs0p",
    "colab_type": "text"
   },
   "cell_type": "markdown",
   "source": [
    "## Mixup"
   ]
  },
  {
   "metadata": {
    "id": "ux38reTdJuuJ",
    "colab_type": "code",
    "colab": {}
   },
   "cell_type": "code",
   "source": [
    ""
   ],
   "execution_count": 0,
   "outputs": []
  },
  {
   "metadata": {
    "id": "y_rgLyjf5d-y",
    "colab_type": "text"
   },
   "cell_type": "markdown",
   "source": [
    "## KerasのFashion-MNIST用のsample\n",
    "\n",
    "KerasからTPUを使うためのサンプルでFasion-MNISTを学習するためのサンプル用ネットワークがありますので参考に。  \n",
    "https://colab.research.google.com/github/tensorflow/tpu/blob/master/tools/colab/fashion_mnist.ipynb"
   ]
  },
  {
   "metadata": {
    "id": "4V8EQ1Hy5uFM",
    "colab_type": "code",
    "colab": {}
   },
   "cell_type": "code",
   "source": [
    "model = Sequential()\n",
    "model.add(BatchNormalization(input_shape=X_train.shape[1:]))\n",
    "model.add(Conv2D(256, (5, 5), padding='same', activation='elu'))\n",
    "model.add(MaxPooling2D(pool_size=(2, 2), strides=(2,2)))\n",
    "model.add(Dropout(0.25))\n",
    "\n",
    "model.add(BatchNormalization(input_shape=X_train.shape[1:]))\n",
    "model.add(Conv2D(256, (5, 5), padding='same', activation='elu'))\n",
    "model.add(MaxPooling2D(pool_size=(2, 2)))\n",
    "model.add(Dropout(0.25))\n",
    "\n",
    "model.add(BatchNormalization(input_shape=X_train.shape[1:]))\n",
    "model.add(Conv2D(256, (5, 5), padding='same', activation='elu'))\n",
    "model.add(MaxPooling2D(pool_size=(2, 2), strides=(2,2)))\n",
    "model.add(Dropout(0.25))\n",
    "\n",
    "model.add(Flatten())\n",
    "model.add(Dense(256))\n",
    "model.add(Activation('elu'))\n",
    "model.add(Dropout(0.5))\n",
    "model.add(Dense(10))\n",
    "model.add(Activation('softmax'))\n",
    "\n",
    "model.compile(\n",
    "    loss='categorical_crossentropy',\n",
    "    optimizer=Adam(),\n",
    "    metrics=['accuracy']\n",
    ")\n"
   ],
   "execution_count": 0,
   "outputs": []
  },
  {
   "metadata": {
    "id": "ot5i3AnyCfR5",
    "colab_type": "code",
    "colab": {
     "base_uri": "https://localhost:8080/",
     "height": 714
    },
    "outputId": "7246f1a2-3dd6-4623-fe8d-4bbb2dd35da6",
    "executionInfo": {
     "status": "ok",
     "timestamp": 1553655545574,
     "user_tz": -540,
     "elapsed": 798304,
     "user": {
      "displayName": "Kiyoshi SATOH",
      "photoUrl": "https://lh5.googleusercontent.com/-Axv1tw7iUyw/AAAAAAAAAAI/AAAAAAAAALU/27WeD4XMZh0/s64/photo.jpg",
      "userId": "17263090257850830810"
     }
    }
   },
   "cell_type": "code",
   "source": [
    "history = model.fit(X_train, Y_train,\n",
    "                    validation_data=(X_test, Y_test),\n",
    "                    batch_size=1000, epochs=20)"
   ],
   "execution_count": 20,
   "outputs": [
    {
     "output_type": "stream",
     "text": [
      "Train on 50000 samples, validate on 10000 samples\n",
      "Epoch 1/20\n",
      "50000/50000 [==============================] - 47s 931us/sample - loss: 3.3343 - acc: 0.2458 - val_loss: 3.2731 - val_acc: 0.1263\n",
      "Epoch 2/20\n",
      "50000/50000 [==============================] - 39s 788us/sample - loss: 1.9068 - acc: 0.3783 - val_loss: 6.9602 - val_acc: 0.1002\n",
      "Epoch 3/20\n",
      "50000/50000 [==============================] - 39s 789us/sample - loss: 1.6488 - acc: 0.4465 - val_loss: 6.9621 - val_acc: 0.1007\n",
      "Epoch 4/20\n",
      "50000/50000 [==============================] - 39s 790us/sample - loss: 1.4405 - acc: 0.5035 - val_loss: 6.8882 - val_acc: 0.1063\n",
      "Epoch 5/20\n",
      "50000/50000 [==============================] - 39s 788us/sample - loss: 1.2811 - acc: 0.5560 - val_loss: 6.0621 - val_acc: 0.1494\n",
      "Epoch 6/20\n",
      "50000/50000 [==============================] - 39s 788us/sample - loss: 1.1148 - acc: 0.6093 - val_loss: 3.6777 - val_acc: 0.2180\n",
      "Epoch 7/20\n",
      "50000/50000 [==============================] - 39s 787us/sample - loss: 0.9952 - acc: 0.6498 - val_loss: 2.2345 - val_acc: 0.3634\n",
      "Epoch 8/20\n",
      "50000/50000 [==============================] - 39s 790us/sample - loss: 0.8971 - acc: 0.6846 - val_loss: 1.8638 - val_acc: 0.4480\n",
      "Epoch 9/20\n",
      "50000/50000 [==============================] - 40s 791us/sample - loss: 0.8048 - acc: 0.7184 - val_loss: 1.0238 - val_acc: 0.6443\n",
      "Epoch 10/20\n",
      "50000/50000 [==============================] - 39s 790us/sample - loss: 0.7435 - acc: 0.7384 - val_loss: 0.9016 - val_acc: 0.6932\n",
      "Epoch 11/20\n",
      "50000/50000 [==============================] - 39s 786us/sample - loss: 0.6760 - acc: 0.7621 - val_loss: 0.7307 - val_acc: 0.7531\n",
      "Epoch 12/20\n",
      "50000/50000 [==============================] - 39s 788us/sample - loss: 0.6183 - acc: 0.7824 - val_loss: 0.7473 - val_acc: 0.7425\n",
      "Epoch 13/20\n",
      "50000/50000 [==============================] - 39s 786us/sample - loss: 0.5555 - acc: 0.8059 - val_loss: 0.7564 - val_acc: 0.7462\n",
      "Epoch 14/20\n",
      "50000/50000 [==============================] - 39s 786us/sample - loss: 0.5030 - acc: 0.8245 - val_loss: 0.6636 - val_acc: 0.7799\n",
      "Epoch 15/20\n",
      "50000/50000 [==============================] - 39s 784us/sample - loss: 0.4651 - acc: 0.8348 - val_loss: 0.5992 - val_acc: 0.7989\n",
      "Epoch 16/20\n",
      "50000/50000 [==============================] - 39s 789us/sample - loss: 0.4070 - acc: 0.8561 - val_loss: 0.6292 - val_acc: 0.7955\n",
      "Epoch 17/20\n",
      "50000/50000 [==============================] - 39s 787us/sample - loss: 0.3741 - acc: 0.8675 - val_loss: 0.6148 - val_acc: 0.8018\n",
      "Epoch 18/20\n",
      "50000/50000 [==============================] - 39s 789us/sample - loss: 0.3374 - acc: 0.8797 - val_loss: 0.6310 - val_acc: 0.8032\n",
      "Epoch 19/20\n",
      "50000/50000 [==============================] - 39s 787us/sample - loss: 0.3140 - acc: 0.8892 - val_loss: 0.6345 - val_acc: 0.8050\n",
      "Epoch 20/20\n",
      "50000/50000 [==============================] - 39s 788us/sample - loss: 0.2896 - acc: 0.8973 - val_loss: 0.6705 - val_acc: 0.8073\n"
     ],
     "name": "stdout"
    }
   ]
  },
  {
   "metadata": {
    "id": "CcOHupEPEMah",
    "colab_type": "text"
   },
   "cell_type": "markdown",
   "source": [
    "#### Keras Fashion-MNIST sample\n",
    "40s/epoch  \n",
    "10分で15epoch  \n",
    "80%"
   ]
  },
  {
   "metadata": {
    "id": "-IUvzrMD_4Na",
    "colab_type": "code",
    "colab": {}
   },
   "cell_type": "code",
   "source": [
    ""
   ],
   "execution_count": 0,
   "outputs": []
  }
 ]
}
