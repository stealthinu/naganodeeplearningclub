{
 "nbformat": 4,
 "nbformat_minor": 0,
 "metadata": {
  "colab": {
   "name": "ndlclub4.ipynb",
   "version": "0.3.2",
   "provenance": [],
   "collapsed_sections": []
  },
  "kernelspec": {
   "name": "python3",
   "display_name": "Python 3"
  },
  "accelerator": "TPU"
 },
 "cells": [
  {
   "metadata": {
    "id": "wMPEqPVxpmq0",
    "colab_type": "code",
    "colab": {}
   },
   "cell_type": "code",
   "source": [
    "import numpy as np\n",
    "import tensorflow as tf\n",
    "import matplotlib.pyplot as plt\n",
    "from scipy.misc import toimage\n",
    "from tensorflow.keras.datasets import mnist"
   ],
   "execution_count": 0,
   "outputs": []
  },
  {
   "metadata": {
    "id": "ZoETQ-mmXwBp",
    "colab_type": "code",
    "colab": {}
   },
   "cell_type": "code",
   "source": [
    "from tensorflow.keras.utils import to_categorical"
   ],
   "execution_count": 0,
   "outputs": []
  },
  {
   "metadata": {
    "id": "lHdGaJACp3VK",
    "colab_type": "code",
    "colab": {
     "base_uri": "https://localhost:8080/",
     "height": 51
    },
    "outputId": "a23fe4af-aaae-4ce1-e1b3-1600fe81f98d",
    "executionInfo": {
     "status": "ok",
     "timestamp": 1541584767983,
     "user_tz": -540,
     "elapsed": 7600,
     "user": {
      "displayName": "Kiyoshi SATOH",
      "photoUrl": "https://lh5.googleusercontent.com/-Axv1tw7iUyw/AAAAAAAAAAI/AAAAAAAAALU/27WeD4XMZh0/s64/photo.jpg",
      "userId": "17263090257850830810"
     }
    }
   },
   "cell_type": "code",
   "source": [
    "(X_train, Y_train), (X_test, Y_test) = tf.keras.datasets.mnist.load_data()\n",
    "\n",
    "x_train = X_train.astype('float32')\n",
    "x_test = X_test.astype('float32')\n",
    "x_train /= 255\n",
    "x_test /= 255\n",
    "y_train = to_categorical(Y_train, 10)\n",
    "y_test = to_categorical(Y_test, 10)"
   ],
   "execution_count": 3,
   "outputs": [
    {
     "output_type": "stream",
     "text": [
      "Downloading data from https://storage.googleapis.com/tensorflow/tf-keras-datasets/mnist.npz\n",
      "11493376/11490434 [==============================] - 0s 0us/step\n"
     ],
     "name": "stdout"
    }
   ]
  },
  {
   "metadata": {
    "id": "sD4S2SFkqMb2",
    "colab_type": "code",
    "colab": {}
   },
   "cell_type": "code",
   "source": [
    "import cv2"
   ],
   "execution_count": 0,
   "outputs": []
  },
  {
   "metadata": {
    "id": "W1OJL3WzsEo-",
    "colab_type": "code",
    "outputId": "cca63551-26fe-477c-8c46-4c3c25683737",
    "executionInfo": {
     "status": "ok",
     "timestamp": 1541584771184,
     "user_tz": -540,
     "elapsed": 1172,
     "user": {
      "displayName": "Kiyoshi SATOH",
      "photoUrl": "https://lh5.googleusercontent.com/-Axv1tw7iUyw/AAAAAAAAAAI/AAAAAAAAALU/27WeD4XMZh0/s64/photo.jpg",
      "userId": "17263090257850830810"
     }
    },
    "colab": {
     "base_uri": "https://localhost:8080/",
     "height": 364
    }
   },
   "cell_type": "code",
   "source": [
    "plt.imshow(X_train[0])"
   ],
   "execution_count": 5,
   "outputs": [
    {
     "output_type": "execute_result",
     "data": {
      "text/plain": [
       "<matplotlib.image.AxesImage at 0x7f22a45f1278>"
      ]
     },
     "metadata": {
      "tags": []
     },
     "execution_count": 5
    },
    {
     "output_type": "display_data",
     "data": {
      "image/png": "[encoded data removed]",
      "text/plain": [
       "<matplotlib.figure.Figure at 0x7f22a468c6d8>"
      ]
     },
     "metadata": {
      "tags": []
     }
    }
   ]
  },
  {
   "metadata": {
    "id": "FoW-cYArtmv_",
    "colab_type": "code",
    "colab": {}
   },
   "cell_type": "code",
   "source": [
    "img = cv2.resize(X_train[0], (28,28))"
   ],
   "execution_count": 0,
   "outputs": []
  },
  {
   "metadata": {
    "id": "TflQLw1swM-Y",
    "colab_type": "code",
    "colab": {}
   },
   "cell_type": "code",
   "source": [
    "def affine_image(img, x, y, angle, scale=1.0):\n",
    "  w = 28\n",
    "  h = 28\n",
    "\n",
    "  center = (w/2, h/2)\n",
    "  rotation_matrix = cv2.getRotationMatrix2D(center, angle, scale)\n",
    "\n",
    "  # 平行移動して(x, y)の位置に置く\n",
    "  affine_matrix = rotation_matrix.copy()\n",
    "  affine_matrix[0][2] = affine_matrix[0][2] - w/2 + x\n",
    "  affine_matrix[1][2] = affine_matrix[1][2] - h/2 + y\n",
    "\n",
    "  img_rot = cv2.warpAffine(img, affine_matrix, (w, h), flags=cv2.INTER_CUBIC)\n",
    "\n",
    "  return img_rot"
   ],
   "execution_count": 0,
   "outputs": []
  },
  {
   "metadata": {
    "id": "27WLcV82xajR",
    "colab_type": "code",
    "colab": {}
   },
   "cell_type": "code",
   "source": [
    "img_rot = affine_image(img, 8, 8, 0, 0.8)"
   ],
   "execution_count": 0,
   "outputs": []
  },
  {
   "metadata": {
    "id": "kj-FcCsKth3P",
    "colab_type": "code",
    "outputId": "9c1fb919-971a-4a6f-9aa1-1ef78925aa7b",
    "executionInfo": {
     "status": "ok",
     "timestamp": 1541585600454,
     "user_tz": -540,
     "elapsed": 978,
     "user": {
      "displayName": "Kiyoshi SATOH",
      "photoUrl": "https://lh5.googleusercontent.com/-Axv1tw7iUyw/AAAAAAAAAAI/AAAAAAAAALU/27WeD4XMZh0/s64/photo.jpg",
      "userId": "17263090257850830810"
     }
    },
    "colab": {
     "base_uri": "https://localhost:8080/",
     "height": 364
    }
   },
   "cell_type": "code",
   "source": [
    "plt.imshow(img_rot)"
   ],
   "execution_count": 33,
   "outputs": [
    {
     "output_type": "execute_result",
     "data": {
      "text/plain": [
       "<matplotlib.image.AxesImage at 0x7f2297d60e10>"
      ]
     },
     "metadata": {
      "tags": []
     },
     "execution_count": 33
    },
    {
     "output_type": "display_data",
     "data": {
      "image/png": "[encoded data removed]",
      "text/plain": [
       "<matplotlib.figure.Figure at 0x7f22971aa278>"
      ]
     },
     "metadata": {
      "tags": []
     }
    }
   ]
  },
  {
   "metadata": {
    "id": "dbv-XOcFx5Zv",
    "colab_type": "code",
    "colab": {}
   },
   "cell_type": "code",
   "source": [
    "from tensorflow.keras.models import Sequential\n",
    "from tensorflow.keras.layers import Dense, Dropout, Activation, Flatten\n",
    "from tensorflow.keras.layers import Conv2D, MaxPooling2D\n",
    "from tensorflow.keras.layers import BatchNormalization, Dropout\n",
    "from tensorflow.keras.optimizers import SGD, Adam"
   ],
   "execution_count": 0,
   "outputs": []
  },
  {
   "metadata": {
    "id": "WLjBKidLx9A-",
    "colab_type": "code",
    "colab": {}
   },
   "cell_type": "code",
   "source": [
    "model = Sequential()\n",
    "\n",
    "model.add(Conv2D(100, 3, padding='same', input_shape=(28, 28, 1)))\n",
    "model.add(Activation('relu'))\n",
    "model.add(BatchNormalization())\n",
    "model.add(Dropout(0.25))\n",
    "\n",
    "model.add(MaxPooling2D(pool_size=(2, 2)))\n",
    "\n",
    "model.add(Conv2D(200, 3, padding='same'))\n",
    "model.add(Activation('relu'))\n",
    "model.add(BatchNormalization())\n",
    "model.add(Dropout(0.25))\n",
    "\n",
    "model.add(Conv2D(200, 3, padding='same'))\n",
    "model.add(Activation('relu'))\n",
    "model.add(BatchNormalization())\n",
    "model.add(Dropout(0.25))\n",
    "\n",
    "model.add(MaxPooling2D(pool_size=(2, 2)))\n",
    "\n",
    "model.add(Conv2D(200, 3, padding='same'))\n",
    "model.add(Activation('relu'))\n",
    "model.add(BatchNormalization())\n",
    "model.add(Dropout(0.25))\n",
    "\n",
    "model.add(Conv2D(200, 3, padding='same'))\n",
    "model.add(Activation('relu'))\n",
    "model.add(BatchNormalization())\n",
    "model.add(Dropout(0.25))\n",
    "\n",
    "model.add(Flatten())\n",
    "\n",
    "model.add(Dense(200))\n",
    "\n",
    "model.add(Dense(10))\n",
    "model.add(Activation('softmax'))"
   ],
   "execution_count": 0,
   "outputs": []
  },
  {
   "metadata": {
    "id": "4sSLPWzYyxfo",
    "colab_type": "code",
    "colab": {}
   },
   "cell_type": "code",
   "source": [
    "model.compile(loss='categorical_crossentropy',\n",
    "              optimizer=SGD(momentum=0.9, nesterov=True),\n",
    "              metrics=['accuracy'])\n"
   ],
   "execution_count": 0,
   "outputs": []
  },
  {
   "metadata": {
    "id": "h0AVOnXly8ho",
    "colab_type": "code",
    "outputId": "519adb87-41f8-4d6d-b404-b92d176fd0df",
    "executionInfo": {
     "status": "ok",
     "timestamp": 1541590829909,
     "user_tz": -540,
     "elapsed": 12602,
     "user": {
      "displayName": "Kiyoshi SATOH",
      "photoUrl": "https://lh5.googleusercontent.com/-Axv1tw7iUyw/AAAAAAAAAAI/AAAAAAAAALU/27WeD4XMZh0/s64/photo.jpg",
      "userId": "17263090257850830810"
     }
    },
    "colab": {
     "base_uri": "https://localhost:8080/",
     "height": 357
    }
   },
   "cell_type": "code",
   "source": [
    "import os\n",
    "tpu_model = tf.contrib.tpu.keras_to_tpu_model(\n",
    "    model,\n",
    "    strategy=tf.contrib.tpu.TPUDistributionStrategy(\n",
    "        tf.contrib.cluster_resolver.TPUClusterResolver(tpu='grpc://' + os.environ['COLAB_TPU_ADDR'])\n",
    "    )\n",
    ")"
   ],
   "execution_count": 201,
   "outputs": [
    {
     "output_type": "stream",
     "text": [
      "INFO:tensorflow:Querying Tensorflow master (b'grpc://10.121.243.10:8470') for TPU system metadata.\n",
      "INFO:tensorflow:Found TPU system:\n",
      "INFO:tensorflow:*** Num TPU Cores: 8\n",
      "INFO:tensorflow:*** Num TPU Workers: 1\n",
      "INFO:tensorflow:*** Num TPU Cores Per Worker: 8\n",
      "INFO:tensorflow:*** Available Device: _DeviceAttributes(/job:worker/replica:0/task:0/device:CPU:0, CPU, -1, 8838957305458532334)\n",
      "INFO:tensorflow:*** Available Device: _DeviceAttributes(/job:worker/replica:0/task:0/device:XLA_CPU:0, XLA_CPU, 17179869184, 2530041724264914035)\n",
      "INFO:tensorflow:*** Available Device: _DeviceAttributes(/job:worker/replica:0/task:0/device:XLA_GPU:0, XLA_GPU, 17179869184, 6630727728733918605)\n",
      "INFO:tensorflow:*** Available Device: _DeviceAttributes(/job:worker/replica:0/task:0/device:TPU:0, TPU, 17179869184, 13456143427456486380)\n",
      "INFO:tensorflow:*** Available Device: _DeviceAttributes(/job:worker/replica:0/task:0/device:TPU:1, TPU, 17179869184, 14699039102163209343)\n",
      "INFO:tensorflow:*** Available Device: _DeviceAttributes(/job:worker/replica:0/task:0/device:TPU:2, TPU, 17179869184, 3232183405448200577)\n",
      "INFO:tensorflow:*** Available Device: _DeviceAttributes(/job:worker/replica:0/task:0/device:TPU:3, TPU, 17179869184, 12427582998566876048)\n",
      "INFO:tensorflow:*** Available Device: _DeviceAttributes(/job:worker/replica:0/task:0/device:TPU:4, TPU, 17179869184, 13724123828866569912)\n",
      "INFO:tensorflow:*** Available Device: _DeviceAttributes(/job:worker/replica:0/task:0/device:TPU:5, TPU, 17179869184, 1950400266248719268)\n",
      "INFO:tensorflow:*** Available Device: _DeviceAttributes(/job:worker/replica:0/task:0/device:TPU:6, TPU, 17179869184, 13759326936093641119)\n",
      "INFO:tensorflow:*** Available Device: _DeviceAttributes(/job:worker/replica:0/task:0/device:TPU:7, TPU, 17179869184, 16457865180266542884)\n",
      "INFO:tensorflow:*** Available Device: _DeviceAttributes(/job:worker/replica:0/task:0/device:TPU_SYSTEM:0, TPU_SYSTEM, 17179869184, 510938297098667331)\n",
      "WARNING:tensorflow:tpu_model (from tensorflow.contrib.tpu.python.tpu.keras_support) is experimental and may change or be removed at any time, and without warning.\n",
      "INFO:tensorflow:Cloning SGD {'lr': 0.009999999776482582, 'momentum': 0.8999999761581421, 'decay': 0.0, 'nesterov': True}\n",
      "INFO:tensorflow:Cloning SGD {'lr': 0.009999999776482582, 'momentum': 0.8999999761581421, 'decay': 0.0, 'nesterov': True}\n"
     ],
     "name": "stdout"
    }
   ]
  },
  {
   "metadata": {
    "id": "T_MFhboSZ7zx",
    "colab_type": "code",
    "colab": {}
   },
   "cell_type": "code",
   "source": [
    "tpu_model.compile(\n",
    "    loss=tf.keras.losses.categorical_crossentropy,\n",
    "    optimizer=tf.train.AdamOptimizer(learning_rate=1e-3, ),\n",
    "    metrics=['categorical_accuracy'])\n"
   ],
   "execution_count": 0,
   "outputs": []
  },
  {
   "metadata": {
    "id": "1ovx6naQ0HJO",
    "colab_type": "code",
    "outputId": "71d10018-bd15-4bf9-96cc-a604a47f0eed",
    "executionInfo": {
     "status": "ok",
     "timestamp": 1541587423509,
     "user_tz": -540,
     "elapsed": 26705,
     "user": {
      "displayName": "Kiyoshi SATOH",
      "photoUrl": "https://lh5.googleusercontent.com/-Axv1tw7iUyw/AAAAAAAAAAI/AAAAAAAAALU/27WeD4XMZh0/s64/photo.jpg",
      "userId": "17263090257850830810"
     }
    },
    "colab": {
     "base_uri": "https://localhost:8080/",
     "height": 221
    }
   },
   "cell_type": "code",
   "source": [
    "tpu_model.fit(\n",
    "    x=x_train.reshape(60000, 28, 28, 1), y=y_train,\n",
    "    batch_size=1000, epochs=5,\n",
    "    validation_data=(x_test.reshape(10000, 28, 28, 1), y_test)\n",
    ")\n"
   ],
   "execution_count": 81,
   "outputs": [
    {
     "output_type": "stream",
     "text": [
      "Train on 60000 samples, validate on 10000 samples\n",
      "Epoch 1/5\n",
      "60000/60000 [==============================] - 5s 88us/step - loss: 0.0143 - categorical_accuracy: 0.9955 - val_loss: 0.0303 - val_categorical_accuracy: 0.9910\n",
      "Epoch 2/5\n",
      "60000/60000 [==============================] - 5s 87us/step - loss: 0.0120 - categorical_accuracy: 0.9960 - val_loss: 0.0257 - val_categorical_accuracy: 0.9926\n",
      "Epoch 3/5\n",
      "60000/60000 [==============================] - 5s 87us/step - loss: 0.0120 - categorical_accuracy: 0.9958 - val_loss: 0.0251 - val_categorical_accuracy: 0.9936\n",
      "Epoch 4/5\n",
      "60000/60000 [==============================] - 5s 88us/step - loss: 0.0113 - categorical_accuracy: 0.9962 - val_loss: 0.0308 - val_categorical_accuracy: 0.9923\n",
      "Epoch 5/5\n",
      "60000/60000 [==============================] - 5s 85us/step - loss: 0.0110 - categorical_accuracy: 0.9965 - val_loss: 0.0355 - val_categorical_accuracy: 0.9912\n"
     ],
     "name": "stdout"
    },
    {
     "output_type": "execute_result",
     "data": {
      "text/plain": [
       "<tensorflow.python.keras.callbacks.History at 0x7f2293433710>"
      ]
     },
     "metadata": {
      "tags": []
     },
     "execution_count": 81
    }
   ]
  },
  {
   "metadata": {
    "id": "GnMvxhkkd5EE",
    "colab_type": "code",
    "outputId": "e2121e18-4ec7-4a7f-b370-824bcbc203d9",
    "executionInfo": {
     "status": "ok",
     "timestamp": 1541587429421,
     "user_tz": -540,
     "elapsed": 1677,
     "user": {
      "displayName": "Kiyoshi SATOH",
      "photoUrl": "https://lh5.googleusercontent.com/-Axv1tw7iUyw/AAAAAAAAAAI/AAAAAAAAALU/27WeD4XMZh0/s64/photo.jpg",
      "userId": "17263090257850830810"
     }
    },
    "colab": {
     "base_uri": "https://localhost:8080/",
     "height": 34
    }
   },
   "cell_type": "code",
   "source": [
    "cpu_model = tpu_model.sync_to_cpu()"
   ],
   "execution_count": 82,
   "outputs": [
    {
     "output_type": "stream",
     "text": [
      "INFO:tensorflow:Copying TPU weights to the CPU\n"
     ],
     "name": "stdout"
    }
   ]
  },
  {
   "metadata": {
    "id": "y3jZZ147Olwk",
    "colab_type": "code",
    "colab": {}
   },
   "cell_type": "code",
   "source": [
    "def test_mnist_cnn(x_test, y_test):\n",
    "    test_num = 10\n",
    "    start = np.random.randint(x_test.shape[0] - test_num)\n",
    "    x = x_test[start:start+test_num]\n",
    "    y = y_test[start:start+test_num]\n",
    "\n",
    "    fig, subplts = plt.subplots(ncols=10, figsize=(20, 2))\n",
    "    for i in range(10):\n",
    "        subplts[i].imshow(x[i])\n",
    "\n",
    "    print(np.argmax(y, axis=1))\n",
    "\n",
    "    preds = cpu_model.predict(x.reshape(test_num,28,28,1))\n",
    "    print(np.argmax(preds, axis=1))"
   ],
   "execution_count": 0,
   "outputs": []
  },
  {
   "metadata": {
    "id": "qwOkxzgxOotU",
    "colab_type": "code",
    "outputId": "9a6a8e1c-ddfb-4dab-c075-6ef50672f547",
    "executionInfo": {
     "status": "ok",
     "timestamp": 1541589859602,
     "user_tz": -540,
     "elapsed": 1260,
     "user": {
      "displayName": "Kiyoshi SATOH",
      "photoUrl": "https://lh5.googleusercontent.com/-Axv1tw7iUyw/AAAAAAAAAAI/AAAAAAAAALU/27WeD4XMZh0/s64/photo.jpg",
      "userId": "17263090257850830810"
     }
    },
    "colab": {
     "base_uri": "https://localhost:8080/",
     "height": 179
    }
   },
   "cell_type": "code",
   "source": [
    "test_mnist_cnn(x_test, y_test)"
   ],
   "execution_count": 158,
   "outputs": [
    {
     "output_type": "stream",
     "text": [
      "[4 7 4 2 7 4 9 1 0 6]\n",
      "[4 7 4 2 7 4 9 1 0 6]\n"
     ],
     "name": "stdout"
    },
    {
     "output_type": "display_data",
     "data": {
      "image/png": "[encoded data removed]",
      "text/plain": [
       "<matplotlib.figure.Figure at 0x7f229029a208>"
      ]
     },
     "metadata": {
      "tags": []
     }
    }
   ]
  },
  {
   "metadata": {
    "id": "8ox8ESetfXkR",
    "colab_type": "code",
    "colab": {}
   },
   "cell_type": "code",
   "source": [
    "import math\n",
    "def test2_mnist_cnn(scale=0.5):\n",
    "    size = 28\n",
    "    test_num = 10\n",
    "    x  = np.zeros((test_num, size, size), dtype = 'float32')\n",
    "    start = np.random.randint(x_test.shape[0] - test_num)\n",
    "    x_orig = x_test[start:start+test_num]\n",
    "    y = y_test[start:start+test_num]\n",
    "    for i in range(10):\n",
    "      padding_size = math.floor(size - size*scale)\n",
    "      x0 = np.random.randint(padding_size) - math.floor(padding_size/2) + math.floor(size/2) \n",
    "      y0 = np.random.randint(padding_size) - math.floor(padding_size/2) + math.floor(size/2)\n",
    "      #x[i] = affine_image(x_orig[i], x0, y0, 0, scale)\n",
    "      x[i] = affine_image(x_orig[i], 10, 10, 0, scale)\n",
    "\n",
    "    fig, subplts = plt.subplots(ncols=10, figsize=(20, 2))\n",
    "    for i in range(10):\n",
    "        subplts[i].imshow(x[i])\n",
    "\n",
    "    print(np.argmax(y, axis=1))\n",
    "\n",
    "    preds = cpu_model.predict(x.reshape(test_num,28,28,1))\n",
    "    print(np.argmax(preds, axis=1))"
   ],
   "execution_count": 0,
   "outputs": []
  },
  {
   "metadata": {
    "id": "B03RuOmT4Gxn",
    "colab_type": "code",
    "outputId": "7cdda541-b29e-43c5-9ba8-62537f4ab57f",
    "executionInfo": {
     "status": "ok",
     "timestamp": 1541589830175,
     "user_tz": -540,
     "elapsed": 1273,
     "user": {
      "displayName": "Kiyoshi SATOH",
      "photoUrl": "https://lh5.googleusercontent.com/-Axv1tw7iUyw/AAAAAAAAAAI/AAAAAAAAALU/27WeD4XMZh0/s64/photo.jpg",
      "userId": "17263090257850830810"
     }
    },
    "colab": {
     "base_uri": "https://localhost:8080/",
     "height": 179
    }
   },
   "cell_type": "code",
   "source": [
    "test2_mnist_cnn(0.6)"
   ],
   "execution_count": 156,
   "outputs": [
    {
     "output_type": "stream",
     "text": [
      "[6 6 3 4 4 2 8 1 0 6]\n",
      "[9 9 9 1 1 9 9 6 9 9]\n"
     ],
     "name": "stdout"
    },
    {
     "output_type": "display_data",
     "data": {
      "image/png": "[encoded data removed]",
      "text/plain": [
       "<matplotlib.figure.Figure at 0x7f22900d9048>"
      ]
     },
     "metadata": {
      "tags": []
     }
    }
   ]
  },
  {
   "metadata": {
    "id": "H6l0a5M4UOrD",
    "colab_type": "code",
    "colab": {}
   },
   "cell_type": "code",
   "source": [
    "def test3_mnist_cnn(scale=0.8):\n",
    "    size = 28\n",
    "    test_num = 10\n",
    "    x  = np.zeros((test_num, size, size), dtype = 'float32')\n",
    "    start = np.random.randint(x_test.shape[0] - test_num)\n",
    "    x_orig = x_test[start:start+test_num]\n",
    "    y = y_test[start:start+test_num]\n",
    "    for i in range(10):\n",
    "      padding_size = math.floor(size - size*scale)\n",
    "      x0 = np.random.randint(padding_size) - math.floor(padding_size/2) + math.floor(size/2) \n",
    "      y0 = np.random.randint(padding_size) - math.floor(padding_size/2) + math.floor(size/2)\n",
    "      x[i] = affine_image(x_orig[i], x0, y0, 0, scale)\n",
    "\n",
    "    fig, subplts = plt.subplots(ncols=10, figsize=(20, 2))\n",
    "    for i in range(10):\n",
    "        subplts[i].imshow(x[i])\n"
   ],
   "execution_count": 0,
   "outputs": []
  },
  {
   "metadata": {
    "id": "b-idErYHp377",
    "colab_type": "code",
    "colab": {
     "base_uri": "https://localhost:8080/",
     "height": 145
    },
    "outputId": "bed254f3-567f-4454-d56c-61a5b0403574",
    "executionInfo": {
     "status": "ok",
     "timestamp": 1541589763777,
     "user_tz": -540,
     "elapsed": 1397,
     "user": {
      "displayName": "Kiyoshi SATOH",
      "photoUrl": "https://lh5.googleusercontent.com/-Axv1tw7iUyw/AAAAAAAAAAI/AAAAAAAAALU/27WeD4XMZh0/s64/photo.jpg",
      "userId": "17263090257850830810"
     }
    }
   },
   "cell_type": "code",
   "source": [
    "test3_mnist_cnn(0.5)"
   ],
   "execution_count": 153,
   "outputs": [
    {
     "output_type": "display_data",
     "data": {
      "image/png": "[encoded data removed]",
      "text/plain": [
       "<matplotlib.figure.Figure at 0x7f228f591198>"
      ]
     },
     "metadata": {
      "tags": []
     }
    }
   ]
  },
  {
   "metadata": {
    "id": "I2iRW92Dp6SK",
    "colab_type": "code",
    "colab": {}
   },
   "cell_type": "code",
   "source": [
    ""
   ],
   "execution_count": 0,
   "outputs": []
  },
  {
   "metadata": {
    "id": "wd9WqeXDzTlt",
    "colab_type": "code",
    "colab": {}
   },
   "cell_type": "code",
   "source": [
    "def make_train_mnist(X_orig):\n",
    "  size = 28\n",
    "  num = X_orig.shape[0]\n",
    "  affined_x = np.zeros((num, size, size), dtype = 'float32')\n",
    "  for i in range(num):\n",
    "    scale = 1.0 - np.random.rand()*0.6 # scale = 0.0 ... 0.6\n",
    "    padding_size = math.floor(size - size*scale)\n",
    "    if padding_size >= 1:\n",
    "      x0 = np.random.randint(padding_size) - math.floor(padding_size/2) + math.floor(size/2) \n",
    "      y0 = np.random.randint(padding_size) - math.floor(padding_size/2) + math.floor(size/2)\n",
    "    else:\n",
    "      x0 = math.floor(size/2) \n",
    "      y0 = math.floor(size/2) \n",
    "    affined_x[i] = affine_image(X_orig[i], x0, y0, 0, scale)\n",
    "  return affined_x"
   ],
   "execution_count": 0,
   "outputs": []
  },
  {
   "metadata": {
    "id": "iNIUiT9C0Kiw",
    "colab_type": "code",
    "colab": {}
   },
   "cell_type": "code",
   "source": [
    "affined_x_train = make_train_mnist(x_train)\n",
    "affined_x_test = make_train_mnist(x_test)"
   ],
   "execution_count": 0,
   "outputs": []
  },
  {
   "metadata": {
    "id": "aj6eaV4K0L8F",
    "colab_type": "code",
    "colab": {
     "base_uri": "https://localhost:8080/",
     "height": 364
    },
    "outputId": "d6f96e96-5504-4a14-c9bf-543ddacac299",
    "executionInfo": {
     "status": "ok",
     "timestamp": 1541589354752,
     "user_tz": -540,
     "elapsed": 990,
     "user": {
      "displayName": "Kiyoshi SATOH",
      "photoUrl": "https://lh5.googleusercontent.com/-Axv1tw7iUyw/AAAAAAAAAAI/AAAAAAAAALU/27WeD4XMZh0/s64/photo.jpg",
      "userId": "17263090257850830810"
     }
    }
   },
   "cell_type": "code",
   "source": [
    "plt.imshow(affined_x_train[119])"
   ],
   "execution_count": 143,
   "outputs": [
    {
     "output_type": "execute_result",
     "data": {
      "text/plain": [
       "<matplotlib.image.AxesImage at 0x7f228fc84438>"
      ]
     },
     "metadata": {
      "tags": []
     },
     "execution_count": 143
    },
    {
     "output_type": "display_data",
     "data": {
      "image/png": "[encoded data removed]",
      "text/plain": [
       "<matplotlib.figure.Figure at 0x7f2297365710>"
      ]
     },
     "metadata": {
      "tags": []
     }
    }
   ]
  },
  {
   "metadata": {
    "id": "kvomEpP703cn",
    "colab_type": "code",
    "colab": {
     "base_uri": "https://localhost:8080/",
     "height": 119
    },
    "outputId": "f3d032bb-207d-4509-92c4-56c48c2327cc",
    "executionInfo": {
     "status": "ok",
     "timestamp": 1541591080038,
     "user_tz": -540,
     "elapsed": 17537,
     "user": {
      "displayName": "Kiyoshi SATOH",
      "photoUrl": "https://lh5.googleusercontent.com/-Axv1tw7iUyw/AAAAAAAAAAI/AAAAAAAAALU/27WeD4XMZh0/s64/photo.jpg",
      "userId": "17263090257850830810"
     }
    }
   },
   "cell_type": "code",
   "source": [
    "affined_x_train = make_train_mnist(x_train)\n",
    "affined_x_test = make_train_mnist(x_test)\n",
    "\n",
    "tpu_model.fit(\n",
    "    x=affined_x_train.reshape(60000, 28, 28, 1), y=y_train,\n",
    "    batch_size=1000, epochs=2,\n",
    "    validation_data=(affined_x_test.reshape(10000, 28, 28, 1), y_test)\n",
    ")"
   ],
   "execution_count": 211,
   "outputs": [
    {
     "output_type": "stream",
     "text": [
      "Train on 60000 samples, validate on 10000 samples\n",
      "Epoch 1/2\n",
      "60000/60000 [==============================] - 7s 117us/step - loss: 0.0714 - categorical_accuracy: 0.9825 - val_loss: 5.5711 - val_categorical_accuracy: 0.6159\n",
      "Epoch 2/2\n",
      "60000/60000 [==============================] - 7s 113us/step - loss: 0.0529 - categorical_accuracy: 0.9859 - val_loss: 1.8604 - val_categorical_accuracy: 0.8472\n"
     ],
     "name": "stdout"
    },
    {
     "output_type": "execute_result",
     "data": {
      "text/plain": [
       "<tensorflow.python.keras.callbacks.History at 0x7f2285991e48>"
      ]
     },
     "metadata": {
      "tags": []
     },
     "execution_count": 211
    }
   ]
  },
  {
   "metadata": {
    "id": "qNfb6qX7-pT3",
    "colab_type": "code",
    "colab": {
     "base_uri": "https://localhost:8080/",
     "height": 34
    },
    "outputId": "abd1a3f3-17f6-48d6-c1d3-341476656669",
    "executionInfo": {
     "status": "ok",
     "timestamp": 1541591085327,
     "user_tz": -540,
     "elapsed": 3346,
     "user": {
      "displayName": "Kiyoshi SATOH",
      "photoUrl": "https://lh5.googleusercontent.com/-Axv1tw7iUyw/AAAAAAAAAAI/AAAAAAAAALU/27WeD4XMZh0/s64/photo.jpg",
      "userId": "17263090257850830810"
     }
    }
   },
   "cell_type": "code",
   "source": [
    "cpu_model = tpu_model.sync_to_cpu()"
   ],
   "execution_count": 212,
   "outputs": [
    {
     "output_type": "stream",
     "text": [
      "INFO:tensorflow:Copying TPU weights to the CPU\n"
     ],
     "name": "stdout"
    }
   ]
  },
  {
   "metadata": {
    "id": "p3Kv1RK83Ng5",
    "colab_type": "code",
    "colab": {
     "base_uri": "https://localhost:8080/",
     "height": 179
    },
    "outputId": "a699d70b-cba4-423a-9035-0cf84dd411c4",
    "executionInfo": {
     "status": "ok",
     "timestamp": 1541591142184,
     "user_tz": -540,
     "elapsed": 1540,
     "user": {
      "displayName": "Kiyoshi SATOH",
      "photoUrl": "https://lh5.googleusercontent.com/-Axv1tw7iUyw/AAAAAAAAAAI/AAAAAAAAALU/27WeD4XMZh0/s64/photo.jpg",
      "userId": "17263090257850830810"
     }
    }
   },
   "cell_type": "code",
   "source": [
    "test_mnist_cnn(affined_x_test, y_test)"
   ],
   "execution_count": 219,
   "outputs": [
    {
     "output_type": "stream",
     "text": [
      "[3 9 3 3 5 5 0 7 9 5]\n",
      "[3 9 3 3 5 5 0 7 0 8]\n"
     ],
     "name": "stdout"
    },
    {
     "output_type": "display_data",
     "data": {
      "image/png": "[encoded data removed]",
      "text/plain": [
       "<matplotlib.figure.Figure at 0x7f2284a86828>"
      ]
     },
     "metadata": {
      "tags": []
     }
    }
   ]
  },
  {
   "metadata": {
    "id": "TO87uffi5r5K",
    "colab_type": "code",
    "colab": {}
   },
   "cell_type": "code",
   "source": [
    ""
   ],
   "execution_count": 0,
   "outputs": []
  }
 ]
}
