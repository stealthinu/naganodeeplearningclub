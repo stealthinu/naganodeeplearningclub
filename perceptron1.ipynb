{
 "nbformat": 4,
 "nbformat_minor": 0,
 "metadata": {
  "colab": {
   "name": "perceptron1.ipynb",
   "version": "0.3.2",
   "provenance": [],
   "collapsed_sections": [],
   "toc_visible": true
  },
  "kernelspec": {
   "name": "python3",
   "display_name": "Python 3"
  },
  "accelerator": "GPU"
 },
 "cells": [
  {
   "metadata": {
    "id": "PsF1TNLA_hTk",
    "colab_type": "text"
   },
   "cell_type": "markdown",
   "source": [
    "# 1 Google Colab(Jupyter)とPythonについて"
   ]
  },
  {
   "metadata": {
    "id": "HeCklrj1_4wf",
    "colab_type": "text"
   },
   "cell_type": "markdown",
   "source": [
    "今から使うこのGoogle Colabというツールについて簡単に説明します。\n",
    "\n",
    "* クラウドサービスとは\n",
    "* Jupyterとは\n",
    "* Pythonとは\n",
    "* Google Colabとは\n",
    "* Google Driveとは\n"
   ]
  },
  {
   "metadata": {
    "id": "_dAPUMPE6B80",
    "colab_type": "text"
   },
   "cell_type": "markdown",
   "source": [
    "## 1.1 Colabの簡単な使い方を解説します"
   ]
  },
  {
   "metadata": {
    "id": "hS-Pp7Uv9txR",
    "colab_type": "text"
   },
   "cell_type": "markdown",
   "source": [
    "* 項目が「セル」というまとまりになっています\n",
    "* マウスカーソルで選択するか、カーソルキーで移動できます\n",
    "* 移動してみましょう"
   ]
  },
  {
   "metadata": {
    "id": "E0QPZGl48G85",
    "colab_type": "text"
   },
   "cell_type": "markdown",
   "source": [
    "* 背景が灰色のセルは「コードセル」です\n",
    "* コードセルは実行可能なプログラムを書きます\n",
    "*  「▶️」か「Shift+Enter」でそのセルの実行が出来ます\n",
    "* 下のコードを実行してみましょう"
   ]
  },
  {
   "metadata": {
    "id": "epEp80zd9Cjf",
    "colab_type": "code",
    "colab": {}
   },
   "cell_type": "code",
   "source": [
    "print(\"Hello World\")"
   ],
   "execution_count": 0,
   "outputs": []
  },
  {
   "metadata": {
    "id": "-WqiMm9uCP9a",
    "colab_type": "text"
   },
   "cell_type": "markdown",
   "source": [
    "* 背景が灰色でないセルは「テキストセル」です\n",
    "* 説明文を書いたりするのに使います\n",
    "* このセルもテキストセルです"
   ]
  },
  {
   "metadata": {
    "id": "DkWYl4Bf-QKR",
    "colab_type": "text"
   },
   "cell_type": "markdown",
   "source": [
    "* コードセルを追加することができます\n",
    "* セルの間にマウスを移動してでる「＋コード」か上メニューの「＋コード」を押します\n",
    "* 下にコードセルを追加して「print(\"Hello Jupyter\")」と入力してみましょう\n",
    "* 「Shift+Enter」で入力したコードを実行してみましょう"
   ]
  },
  {
   "metadata": {
    "id": "bAqvDAob9Y4T",
    "colab_type": "text"
   },
   "cell_type": "markdown",
   "source": [
    "* コードセルの削除は右にポップアップする「ゴミ箱🗑」で削除できます\n",
    "* 間違って削除した場合は上部メニュー「編集」の一番上「〜を元に戻す」で戻せます\n",
    "* 下のコードセルを消して戻してみましょう"
   ]
  },
  {
   "metadata": {
    "id": "TlPaasWB9k2B",
    "colab_type": "code",
    "colab": {}
   },
   "cell_type": "code",
   "source": [
    "print(\"このコードを消してみましょう\")"
   ],
   "execution_count": 0,
   "outputs": []
  },
  {
   "metadata": {
    "id": "qWvYDOBv941J",
    "colab_type": "text"
   },
   "cell_type": "markdown",
   "source": [
    ""
   ]
  },
  {
   "metadata": {
    "id": "RQG__1_GBMXo",
    "colab_type": "text"
   },
   "cell_type": "markdown",
   "source": [
    "## 1.2 pythonの書き方を簡単に解説します"
   ]
  },
  {
   "metadata": {
    "id": "Tmfbgxa1DiW1",
    "colab_type": "text"
   },
   "cell_type": "markdown",
   "source": [
    "### 1.2.1 変数への代入や値の表示、配列など"
   ]
  },
  {
   "metadata": {
    "id": "U-stdHHX-ncS",
    "colab_type": "code",
    "colab": {}
   },
   "cell_type": "code",
   "source": [
    "a = 10"
   ],
   "execution_count": 0,
   "outputs": []
  },
  {
   "metadata": {
    "id": "yfDhA8K0Aav2",
    "colab_type": "code",
    "colab": {}
   },
   "cell_type": "code",
   "source": [
    "print(a)"
   ],
   "execution_count": 0,
   "outputs": []
  },
  {
   "metadata": {
    "id": "PG_Xnl4nEuW3",
    "colab_type": "code",
    "colab": {}
   },
   "cell_type": "code",
   "source": [
    "# 「シャープ」以降はコメントです\n",
    "# 大文字と小文字は別として扱われます\n",
    "A = 100"
   ],
   "execution_count": 0,
   "outputs": []
  },
  {
   "metadata": {
    "id": "RctFV2DqE0gX",
    "colab_type": "code",
    "colab": {}
   },
   "cell_type": "code",
   "source": [
    "A"
   ],
   "execution_count": 0,
   "outputs": []
  },
  {
   "metadata": {
    "id": "e0p84YmhBMXq",
    "colab_type": "code",
    "colab": {}
   },
   "cell_type": "code",
   "source": [
    "# 複数行を書くことができます\n",
    "# 「;」などは不要です\n",
    "a = 12\n",
    "b = a + 10"
   ],
   "execution_count": 0,
   "outputs": []
  },
  {
   "metadata": {
    "id": "7fDfRdodBMXw",
    "colab_type": "code",
    "colab": {}
   },
   "cell_type": "code",
   "source": [
    "print(a, b, a*b)"
   ],
   "execution_count": 0,
   "outputs": []
  },
  {
   "metadata": {
    "id": "bBoRZZeDBMX2",
    "colab_type": "code",
    "colab": {}
   },
   "cell_type": "code",
   "source": [
    "# 配列は「[ ]」でくくります\n",
    "a = [2, 3, 4, 5]"
   ],
   "execution_count": 0,
   "outputs": []
  },
  {
   "metadata": {
    "id": "_TfmNGJ2BMX8",
    "colab_type": "code",
    "colab": {}
   },
   "cell_type": "code",
   "source": [
    "print(a)"
   ],
   "execution_count": 0,
   "outputs": []
  },
  {
   "metadata": {
    "id": "XRxf9KtQEUIq",
    "colab_type": "code",
    "colab": {}
   },
   "cell_type": "code",
   "source": [
    "#aの最初（0番)の配列\n",
    "a[0]"
   ],
   "execution_count": 0,
   "outputs": []
  },
  {
   "metadata": {
    "id": "NHSWtOQrBMYC",
    "colab_type": "code",
    "colab": {}
   },
   "cell_type": "code",
   "source": [
    "a[3]"
   ],
   "execution_count": 0,
   "outputs": []
  },
  {
   "metadata": {
    "id": "U4JlnaFvEeIG",
    "colab_type": "code",
    "colab": {}
   },
   "cell_type": "code",
   "source": [
    "# 4番の要素は存在しないためエラーになる\n",
    "a[4]"
   ],
   "execution_count": 0,
   "outputs": []
  },
  {
   "metadata": {
    "id": "Feql4H_yDy_G",
    "colab_type": "text"
   },
   "cell_type": "markdown",
   "source": [
    "### 1.2.2 numpyという数学用ライブラリの利用"
   ]
  },
  {
   "metadata": {
    "id": "US14JjnfBMYI",
    "colab_type": "code",
    "colab": {}
   },
   "cell_type": "code",
   "source": [
    "import numpy as np"
   ],
   "execution_count": 0,
   "outputs": []
  },
  {
   "metadata": {
    "id": "HPVuWqK4BMYQ",
    "colab_type": "code",
    "colab": {}
   },
   "cell_type": "code",
   "source": [
    "A = np.array([2, -1])"
   ],
   "execution_count": 0,
   "outputs": []
  },
  {
   "metadata": {
    "id": "2IkwTuCzBMYY",
    "colab_type": "code",
    "colab": {}
   },
   "cell_type": "code",
   "source": [
    "print(A)"
   ],
   "execution_count": 0,
   "outputs": []
  },
  {
   "metadata": {
    "id": "9qsRKunQBMYe",
    "colab_type": "code",
    "colab": {}
   },
   "cell_type": "code",
   "source": [
    "print(A + 2)"
   ],
   "execution_count": 0,
   "outputs": []
  },
  {
   "metadata": {
    "id": "ZjJr4u-qBMYk",
    "colab_type": "code",
    "colab": {}
   },
   "cell_type": "code",
   "source": [
    "print(A * 3)"
   ],
   "execution_count": 0,
   "outputs": []
  },
  {
   "metadata": {
    "id": "ZR4DTVInBMYq",
    "colab_type": "code",
    "colab": {}
   },
   "cell_type": "code",
   "source": [
    "B = np.array([2, 3])\n",
    "print(A * 3 + B)"
   ],
   "execution_count": 0,
   "outputs": []
  },
  {
   "metadata": {
    "id": "kNEcTLMBBMYw",
    "colab_type": "code",
    "colab": {}
   },
   "cell_type": "code",
   "source": [
    "C = np.array([[1, 2],[2, 3]])"
   ],
   "execution_count": 0,
   "outputs": []
  },
  {
   "metadata": {
    "id": "HIJQAI2mBMY0",
    "colab_type": "code",
    "colab": {}
   },
   "cell_type": "code",
   "source": [
    "print(C)"
   ],
   "execution_count": 0,
   "outputs": []
  },
  {
   "metadata": {
    "id": "ReDfeKC2BMY4",
    "colab_type": "code",
    "colab": {}
   },
   "cell_type": "code",
   "source": [
    "print(C[0][1])"
   ],
   "execution_count": 0,
   "outputs": []
  },
  {
   "metadata": {
    "id": "PMJThJfIJOub",
    "colab_type": "text"
   },
   "cell_type": "markdown",
   "source": [
    "### 1.2.3 if文による条件制御とインデントによるブロック\n",
    "\n",
    "pythonではCやJavaでいう「{ }」によるブロックをインデントで行うので要注意！"
   ]
  },
  {
   "metadata": {
    "id": "z8ZNb2dUJGsc",
    "colab_type": "code",
    "colab": {}
   },
   "cell_type": "code",
   "source": [
    "a = 10\n",
    "if a >= 5:\n",
    "  print(\"aは5以上\")\n",
    "else:\n",
    "  print(\"aは5より小さい\")"
   ],
   "execution_count": 0,
   "outputs": []
  },
  {
   "metadata": {
    "id": "GYWLs70zJs9Q",
    "colab_type": "code",
    "colab": {}
   },
   "cell_type": "code",
   "source": [
    "# インデントでブロックを制御するためこれはエラーになる\n",
    "a = 10\n",
    "if a >= 5:\n",
    "print(\"aは5以上\")\n",
    "else:\n",
    "print(\"aは5より小さい\")"
   ],
   "execution_count": 0,
   "outputs": []
  },
  {
   "metadata": {
    "id": "d9z7SCo_LVDR",
    "colab_type": "text"
   },
   "cell_type": "markdown",
   "source": [
    "インデントを深くする場合\n",
    "*  「Tab」キー\n",
    "インデントを浅くする場合\n",
    "* 「Shift+Tab」キー"
   ]
  },
  {
   "metadata": {
    "id": "sHB7-7xPKxtr",
    "colab_type": "text"
   },
   "cell_type": "markdown",
   "source": [
    "### 1.2.4 for文によるループ\n",
    "* Cの場合  \n",
    "for(i=0; i < 10; i++)　{\n",
    "* Pythonの場合  \n",
    "for i in range(10):"
   ]
  },
  {
   "metadata": {
    "id": "B-JfC6tyKWGu",
    "colab_type": "code",
    "colab": {}
   },
   "cell_type": "code",
   "source": [
    "for i in range(10):\n",
    "  print(\"i=\", i)"
   ],
   "execution_count": 0,
   "outputs": []
  },
  {
   "metadata": {
    "id": "QLJCbLJak3ud",
    "colab_type": "code",
    "colab": {}
   },
   "cell_type": "code",
   "source": [
    "# 2重ループ インデントを深くする\n",
    "for i in range(3):\n",
    "  for j in range(4):\n",
    "    print(\"i=\", i, \" j=\", j)"
   ],
   "execution_count": 0,
   "outputs": []
  },
  {
   "metadata": {
    "id": "Bw3yp-liIMkT",
    "colab_type": "text"
   },
   "cell_type": "markdown",
   "source": [
    "### 1.2.5 関数の定義と利用"
   ]
  },
  {
   "metadata": {
    "id": "j2EexlBSITjt",
    "colab_type": "code",
    "colab": {}
   },
   "cell_type": "code",
   "source": [
    "def nibai(x):\n",
    "  return x*2"
   ],
   "execution_count": 0,
   "outputs": []
  },
  {
   "metadata": {
    "id": "dCJn8RDYIfcP",
    "colab_type": "code",
    "colab": {}
   },
   "cell_type": "code",
   "source": [
    "nibai(4)"
   ],
   "execution_count": 0,
   "outputs": []
  },
  {
   "metadata": {
    "id": "xPT2ot52Ijj1",
    "colab_type": "code",
    "colab": {}
   },
   "cell_type": "code",
   "source": [
    "x = 6\n",
    "y = nibai(x)\n",
    "print(y)"
   ],
   "execution_count": 0,
   "outputs": []
  },
  {
   "metadata": {
    "id": "vdlIvsQwBMY-",
    "colab_type": "code",
    "colab": {}
   },
   "cell_type": "code",
   "source": [
    "def h(x):\n",
    "  if x > 0.0:\n",
    "    return 1.0\n",
    "  else:\n",
    "    return 0.0"
   ],
   "execution_count": 0,
   "outputs": []
  },
  {
   "metadata": {
    "id": "3oh6wTPoBMZM",
    "colab_type": "code",
    "colab": {}
   },
   "cell_type": "code",
   "source": [
    "h(-1)"
   ],
   "execution_count": 0,
   "outputs": []
  },
  {
   "metadata": {
    "id": "8O0OOUhJBMZU",
    "colab_type": "code",
    "colab": {}
   },
   "cell_type": "code",
   "source": [
    "h(10)"
   ],
   "execution_count": 0,
   "outputs": []
  },
  {
   "metadata": {
    "id": "SDelQjqHBMZa",
    "colab_type": "code",
    "colab": {}
   },
   "cell_type": "code",
   "source": [
    "for i in range(-2, 2):\n",
    "  print(i, h(i))"
   ],
   "execution_count": 0,
   "outputs": []
  },
  {
   "metadata": {
    "id": "mQ3TN0x_yJse",
    "colab_type": "text"
   },
   "cell_type": "markdown",
   "source": [
    "# 2 パーセプトロンを実装します"
   ]
  },
  {
   "metadata": {
    "id": "MUK6SN1WBMZe",
    "colab_type": "text"
   },
   "cell_type": "markdown",
   "source": [
    "## 2.1 人力ニューロンを試します\n",
    "\n",
    "2パラメータのもの  \n",
    "あめ：70円  \n",
    "チョコ：120円  \n",
    "おやつ最大：300円まで  \n",
    "閾値：16  \n",
    "重さ初期値：[1, 2]  \n",
    "入力と教師：あめ個数 チョコ個数 300円超えるか  \n",
    "5\t0\t1  \n",
    "0\t4\t1  \n",
    "1\t1\t0  \n",
    "3\t4\t1  \n",
    "2\t0\t0  \n",
    "2\t3\t1  \n",
    "1\t3\t1  \n",
    "0\t2\t0  \n",
    "2\t2\t1  \n",
    "2\t1\t0  \n",
    "3\t0\t0  \n",
    "0\t3\t1  \n",
    "1\t2\t1  \n",
    "3\t1\t1  "
   ]
  },
  {
   "metadata": {
    "id": "wvMv32gcq6_B",
    "colab_type": "text"
   },
   "cell_type": "markdown",
   "source": [
    "## 2.2 人力ニューロンの動きを実装します"
   ]
  },
  {
   "metadata": {
    "id": "J2Hne4avBMZg",
    "colab_type": "code",
    "colab": {}
   },
   "cell_type": "code",
   "source": [
    "X = np.array([5, 0])"
   ],
   "execution_count": 0,
   "outputs": []
  },
  {
   "metadata": {
    "id": "1rscsa4vBMZo",
    "colab_type": "code",
    "colab": {}
   },
   "cell_type": "code",
   "source": [
    "W = np.array([1, 2])"
   ],
   "execution_count": 0,
   "outputs": []
  },
  {
   "metadata": {
    "id": "FQqPJMvMBMZs",
    "colab_type": "code",
    "colab": {}
   },
   "cell_type": "code",
   "source": [
    "b = 16"
   ],
   "execution_count": 0,
   "outputs": []
  },
  {
   "metadata": {
    "id": "Rl9mCWZXltUN",
    "colab_type": "code",
    "colab": {}
   },
   "cell_type": "code",
   "source": [
    "for i in range(2):\n",
    "  print(i)"
   ],
   "execution_count": 0,
   "outputs": []
  },
  {
   "metadata": {
    "id": "4f0v-ezMl28w",
    "colab_type": "code",
    "colab": {}
   },
   "cell_type": "code",
   "source": [
    "for i in range(2):\n",
    "  print(\"i:\", i, \"X:\", X[i], \" W:\", W[i])"
   ],
   "execution_count": 0,
   "outputs": []
  },
  {
   "metadata": {
    "id": "mp0U7L9DBMZy",
    "colab_type": "code",
    "colab": {}
   },
   "cell_type": "code",
   "source": [
    "def h(x):\n",
    "  if x > 0.0:\n",
    "    return 1.0\n",
    "  else:\n",
    "    return 0.0"
   ],
   "execution_count": 0,
   "outputs": []
  },
  {
   "metadata": {
    "id": "ccEBnc4ZBMZ0",
    "colab_type": "code",
    "colab": {}
   },
   "cell_type": "code",
   "source": [
    "def output_perceptron(w, x):\n",
    "  s = 0\n",
    "  for i in range(len(w)):\n",
    "    s += w[i] * x[i]\n",
    "  y = h(s - b)\n",
    "  #print(\"W:\" + str(w) + \" X:\" + str(x) + \" y:\" + str(y))\n",
    "  return y"
   ],
   "execution_count": 0,
   "outputs": []
  },
  {
   "metadata": {
    "id": "2bYxgWgaBMaG",
    "colab_type": "code",
    "colab": {}
   },
   "cell_type": "code",
   "source": [
    "output_perceptron(W, X)"
   ],
   "execution_count": 0,
   "outputs": []
  },
  {
   "metadata": {
    "id": "yYEUxmw2BMaI",
    "colab_type": "code",
    "colab": {}
   },
   "cell_type": "code",
   "source": [
    "alpha = 1"
   ],
   "execution_count": 0,
   "outputs": []
  },
  {
   "metadata": {
    "id": "3bSbCWFynHCO",
    "colab_type": "code",
    "colab": {}
   },
   "cell_type": "code",
   "source": [
    "def return_1_if_plus(x):\n",
    "  if x > 0:\n",
    "    return 1\n",
    "  else:\n",
    "    return 0"
   ],
   "execution_count": 0,
   "outputs": []
  },
  {
   "metadata": {
    "id": "sIDNShbCBMaK",
    "colab_type": "code",
    "colab": {}
   },
   "cell_type": "code",
   "source": [
    "def train_perceptron(w, x, t):\n",
    "  y = output_perceptron(w, x)\n",
    "  for i in range(len(w)):\n",
    "    x1 = return_1_if_plus(x[i])\n",
    "    dw = alpha*(y - t)*x1 # 本来のパーセプトロンでは alpha*(y - t)*x[i]\n",
    "    w[i] -= dw\n",
    "    print(\"dw:\" + str(dw) + \" t:\" + str(t) + \" y:\" + str(y) + \" xi:\" + str(x[i]))\n",
    "    print(\"t:\" + str(t) + \" y:\" + str(y) + \" x:\" + str(x[i]) + \" h(x):\" + str(h(x[i])) + \" dw:\" + str(dw))"
   ],
   "execution_count": 0,
   "outputs": []
  },
  {
   "metadata": {
    "id": "AiIE9HdSBMaQ",
    "colab_type": "code",
    "colab": {}
   },
   "cell_type": "code",
   "source": [
    "train_perceptron(W, X, 1)"
   ],
   "execution_count": 0,
   "outputs": []
  },
  {
   "metadata": {
    "id": "MkR7nJXZBMaU",
    "colab_type": "code",
    "colab": {}
   },
   "cell_type": "code",
   "source": [
    "print(W)"
   ],
   "execution_count": 0,
   "outputs": []
  },
  {
   "metadata": {
    "id": "2pq10GgdBMaY",
    "colab_type": "code",
    "colab": {}
   },
   "cell_type": "code",
   "source": [
    "data    = np.array([[5,0],[0,4],[1,1],[3,4],[2,0],[2,3],[1,3],[0,2],[2,2],[2,1],[3,0],[0,3],[1,2],[3,1]])\n",
    "teacher = np.array([   1,    1,    0,    1,    0,    1,    1,    0,    1,    0,    0,    1,    1,    1])"
   ],
   "execution_count": 0,
   "outputs": []
  },
  {
   "metadata": {
    "id": "YENC6Pi-BMaa",
    "colab_type": "code",
    "colab": {}
   },
   "cell_type": "code",
   "source": [
    "def train(train_count):\n",
    "  for count in range(train_count):\n",
    "    i = np.random.randint(14)\n",
    "    x = data[i]\n",
    "    t = teacher[i]\n",
    "    train_perceptron(W, x, t)\n",
    "    print(W)"
   ],
   "execution_count": 0,
   "outputs": []
  },
  {
   "metadata": {
    "id": "xNqQzhkmBMae",
    "colab_type": "code",
    "colab": {}
   },
   "cell_type": "code",
   "source": [
    "W = np.array([1, 3])\n",
    "b = 16\n",
    "alpha = 1\n",
    "train(30)"
   ],
   "execution_count": 0,
   "outputs": []
  },
  {
   "metadata": {
    "id": "BvZ77eHwBMag",
    "colab_type": "code",
    "colab": {}
   },
   "cell_type": "code",
   "source": [
    "W = np.array([0.0, 1.0])\n",
    "b = 16\n",
    "alpha = 0.1\n",
    "train(100)"
   ],
   "execution_count": 0,
   "outputs": []
  },
  {
   "metadata": {
    "id": "rRMldmdq2v_e",
    "colab_type": "code",
    "colab": {}
   },
   "cell_type": "code",
   "source": [
    "train(100)"
   ],
   "execution_count": 0,
   "outputs": []
  },
  {
   "metadata": {
    "id": "8DpWzsHoBMak",
    "colab_type": "text"
   },
   "cell_type": "markdown",
   "source": [
    "## 2.3 MNISTの手書き数字を使えるようにします"
   ]
  },
  {
   "metadata": {
    "id": "SeXdZ05LBMak",
    "colab_type": "code",
    "colab": {}
   },
   "cell_type": "code",
   "source": [
    "from tensorflow.examples.tutorials.mnist import input_data\n",
    "mnist = input_data.read_data_sets(\"/tmp/data/\", one_hot=True)"
   ],
   "execution_count": 0,
   "outputs": []
  },
  {
   "metadata": {
    "id": "IscHppG6BMam",
    "colab_type": "code",
    "colab": {}
   },
   "cell_type": "code",
   "source": [
    "images, labels = mnist.train.next_batch(10)"
   ],
   "execution_count": 0,
   "outputs": []
  },
  {
   "metadata": {
    "id": "Or4FjzAWBMaq",
    "colab_type": "text"
   },
   "cell_type": "markdown",
   "source": [
    "28x28の画素データが784個の数字1列で並んでいて、答のラベルは0～9で何番目が1になっているかで判断できます。"
   ]
  },
  {
   "metadata": {
    "id": "hY8MX8VCBMaq",
    "colab_type": "code",
    "colab": {}
   },
   "cell_type": "code",
   "source": [
    "print(images[1])\n",
    "print(labels[1])"
   ],
   "execution_count": 0,
   "outputs": []
  },
  {
   "metadata": {
    "id": "YScPT0saBMay",
    "colab_type": "code",
    "colab": {}
   },
   "cell_type": "code",
   "source": [
    "import matplotlib.pyplot as plt"
   ],
   "execution_count": 0,
   "outputs": []
  },
  {
   "metadata": {
    "id": "ZuY2X8AFBMa0",
    "colab_type": "code",
    "colab": {}
   },
   "cell_type": "code",
   "source": [
    "fig = plt.figure(figsize=(8,4))\n",
    "plt.title(labels[1])\n",
    "plt.imshow(images[1].reshape((28,28)), vmin=0, vmax=1,\n",
    "           cmap=plt.cm.gray_r, interpolation=\"nearest\")\n",
    "print(np.argmax(labels[1]))"
   ],
   "execution_count": 0,
   "outputs": []
  },
  {
   "metadata": {
    "id": "ebM2VNlKBMa2",
    "colab_type": "text"
   },
   "cell_type": "markdown",
   "source": [
    "## 2.4 ほぼそのままでMNISTの学習してみます\n",
    "\n",
    "修正点は\n",
    "- 学習で入力の大きさを重みの変更量に掛ける（一般的なパーセプトロン）に変更\n",
    "- 学習時のパラメータ表示削除\n",
    "- 二乗誤差を算出して学習の進み具合を表示"
   ]
  },
  {
   "metadata": {
    "id": "Qam7kDbcBMa4",
    "colab_type": "code",
    "colab": {}
   },
   "cell_type": "code",
   "source": [
    "def h(x):\n",
    "  if x > 0.0:\n",
    "    return 1.0\n",
    "  else:\n",
    "    return 0.0"
   ],
   "execution_count": 0,
   "outputs": []
  },
  {
   "metadata": {
    "id": "DtFomXNEBMa6",
    "colab_type": "code",
    "colab": {}
   },
   "cell_type": "code",
   "source": [
    "def output_perceptron(w, x):\n",
    "  s = 0.0\n",
    "  for i in range(len(w)):\n",
    "    s += w[i] * x[i]\n",
    "  y = h(s - b)\n",
    "  return y"
   ],
   "execution_count": 0,
   "outputs": []
  },
  {
   "metadata": {
    "id": "riDyzyPSBMa8",
    "colab_type": "code",
    "colab": {}
   },
   "cell_type": "code",
   "source": [
    "def train_perceptron(w, x, t):\n",
    "  y = output_perceptron(w, x)\n",
    "  for i in range(len(w)):\n",
    "    dw = alpha*(y - t)*x[i]\n",
    "    w[i] -= dw\n",
    "  square_error = np.square(y - t)\n",
    "  return square_error"
   ],
   "execution_count": 0,
   "outputs": []
  },
  {
   "metadata": {
    "id": "0Uz6VGgGBMbC",
    "colab_type": "code",
    "colab": {}
   },
   "cell_type": "code",
   "source": [
    "def train_layer(neurons_w, data, teacher):\n",
    "  square_error = 0.0\n",
    "  for i in range(len(neurons_w)):\n",
    "    square_error += train_perceptron(neurons_w[i], data, teacher[i])\n",
    "  return square_error"
   ],
   "execution_count": 0,
   "outputs": []
  },
  {
   "metadata": {
    "id": "nKQO9M6hBMbE",
    "colab_type": "code",
    "colab": {}
   },
   "cell_type": "code",
   "source": [
    "def train_mnist(train_count):\n",
    "  images, labels = mnist.train.next_batch(train_count)\n",
    "  square_error = 0.0\n",
    "  for i in range(len(images)):\n",
    "    x = images[i]\n",
    "    t = labels[i]\n",
    "    square_error += train_layer(neurons_w, x, t)\n",
    "  print(square_error/train_count/10) # 1ニューロンあたりの誤差"
   ],
   "execution_count": 0,
   "outputs": []
  },
  {
   "metadata": {
    "id": "H8K2WYM6BMbG",
    "colab_type": "text"
   },
   "cell_type": "markdown",
   "source": [
    "余力のある方は写経するか、同じことをするもっと良いコードを書いてみてください。"
   ]
  },
  {
   "metadata": {
    "id": "Xkjv12hjBMbG",
    "colab_type": "code",
    "colab": {}
   },
   "cell_type": "code",
   "source": [
    ""
   ],
   "execution_count": 0,
   "outputs": []
  },
  {
   "metadata": {
    "id": "ZVfELMawBMbI",
    "colab_type": "text"
   },
   "cell_type": "markdown",
   "source": [
    "## 2.5 初期値を設定して学習させます"
   ]
  },
  {
   "metadata": {
    "id": "TF1J6OwWBMbK",
    "colab_type": "code",
    "colab": {}
   },
   "cell_type": "code",
   "source": [
    "neurons_w = np.random.rand(10, 28*28) * 0.1\n",
    "b = 0.1\n",
    "alpha = 0.01\n",
    "train_mnist(1)"
   ],
   "execution_count": 0,
   "outputs": []
  },
  {
   "metadata": {
    "id": "htsaF320BMbM",
    "colab_type": "text"
   },
   "cell_type": "markdown",
   "source": [
    "何度か学習させてみます。学習が進んだら学習係数を小さくしてすすめてみます。"
   ]
  },
  {
   "metadata": {
    "id": "2J3rrR84BMbM",
    "colab_type": "code",
    "colab": {}
   },
   "cell_type": "code",
   "source": [
    "train_mnist(100)"
   ],
   "execution_count": 0,
   "outputs": []
  },
  {
   "metadata": {
    "id": "bdr1kwjWBMbO",
    "colab_type": "code",
    "colab": {}
   },
   "cell_type": "code",
   "source": [
    "train_mnist(1000)"
   ],
   "execution_count": 0,
   "outputs": []
  },
  {
   "metadata": {
    "id": "gBZyXZLHBMbU",
    "colab_type": "code",
    "colab": {}
   },
   "cell_type": "code",
   "source": [
    "alpha = 0.001\n",
    "train_mnist(1000)"
   ],
   "execution_count": 0,
   "outputs": []
  },
  {
   "metadata": {
    "id": "P0NjLtelBMbW",
    "colab_type": "text"
   },
   "cell_type": "markdown",
   "source": [
    "## 2.6 テストデータで識別を試します"
   ]
  },
  {
   "metadata": {
    "id": "p_hR6y8LBMbW",
    "colab_type": "code",
    "colab": {}
   },
   "cell_type": "code",
   "source": [
    "def test_mnist():\n",
    "  images, labels = mnist.test.next_batch(1)\n",
    "  x = images[0]\n",
    "  t = labels[0]\n",
    "  y = np.zeros(10)\n",
    "  for i in range(len(neurons_w)):\n",
    "    y[i] = output_perceptron(neurons_w[i], x)\n",
    "  print(t)\n",
    "  print(y)\n",
    "  print(np.argmax(y))\n",
    "  # イメージ表示\n",
    "  fig = plt.figure(figsize=(8,4))\n",
    "  plt.imshow(x.reshape((28,28)), vmin=0, vmax=1,cmap=plt.cm.gray_r, interpolation=\"nearest\")\n"
   ],
   "execution_count": 0,
   "outputs": []
  },
  {
   "metadata": {
    "id": "jsdYHK8aBMba",
    "colab_type": "code",
    "colab": {}
   },
   "cell_type": "code",
   "source": [
    "test_mnist()"
   ],
   "execution_count": 0,
   "outputs": []
  },
  {
   "metadata": {
    "id": "VzrBlBA-BMbc",
    "colab_type": "code",
    "colab": {}
   },
   "cell_type": "code",
   "source": [
    "def test_mnist_error():\n",
    "  test_count = 1000\n",
    "  images, labels = mnist.test.next_batch(test_count)\n",
    "  ng = 0\n",
    "  for j in range(len(images)):\n",
    "    x = images[j]\n",
    "    t = labels[j]\n",
    "    y = np.zeros(10)\n",
    "    for i in range(len(neurons_w)):\n",
    "      y[i] = output_perceptron(neurons_w[i], x)\n",
    "    if np.argmax(t) != np.argmax(y):\n",
    "      ng += 1\n",
    "  print(ng / test_count)"
   ],
   "execution_count": 0,
   "outputs": []
  },
  {
   "metadata": {
    "id": "uOC5RJb2BMbe",
    "colab_type": "code",
    "colab": {}
   },
   "cell_type": "code",
   "source": [
    "test_mnist_error()"
   ],
   "execution_count": 0,
   "outputs": []
  },
  {
   "metadata": {
    "id": "r2ZKLmouI9eJ",
    "colab_type": "text"
   },
   "cell_type": "markdown",
   "source": [
    "## 2.7 numpyを使って少し高速化します。\n",
    "\n",
    "numpyを使うとforでループせずに配列（ベクトル）で直接、高速に計算出来ます。"
   ]
  },
  {
   "metadata": {
    "id": "gnphmlsJJTGK",
    "colab_type": "code",
    "colab": {}
   },
   "cell_type": "code",
   "source": [
    "def output_perceptron(w, x):\n",
    "# s = 0.0\n",
    "# for i in range(len(w)):\n",
    "#   s += w[i] * x[i]\n",
    "  s = np.sum(w*x)\n",
    "  y = h(s - b)\n",
    "  return y"
   ],
   "execution_count": 0,
   "outputs": []
  },
  {
   "metadata": {
    "id": "LkY9yzEzJU4s",
    "colab_type": "code",
    "colab": {}
   },
   "cell_type": "code",
   "source": [
    "def train_perceptron(w, x, t):\n",
    "  y = output_perceptron(w, x)\n",
    "# for i in range(len(w)):\n",
    "#   dw = alpha*(y - t)*x[i]\n",
    "#   w[i] -= dw\n",
    "  dw = alpha*(y - t)*x\n",
    "  w -= dw\n",
    "  square_error = np.square(y - t)\n",
    "  return square_error"
   ],
   "execution_count": 0,
   "outputs": []
  },
  {
   "metadata": {
    "id": "T1admDyPKC-e",
    "colab_type": "text"
   },
   "cell_type": "markdown",
   "source": [
    "# 3 勾配降下法と誤差関数でアナログ値対応"
   ]
  },
  {
   "metadata": {
    "id": "PKfkGe2xI9eL",
    "colab_type": "text"
   },
   "cell_type": "markdown",
   "source": [
    "## 3.1 シグモイド関数を作ってグラフを表示してみます"
   ]
  },
  {
   "metadata": {
    "id": "j98bdeU2I9eO",
    "colab_type": "code",
    "colab": {}
   },
   "cell_type": "code",
   "source": [
    "def sigmoid(x):\n",
    "  return 1 / (1 + np.exp(-x))"
   ],
   "execution_count": 0,
   "outputs": []
  },
  {
   "metadata": {
    "id": "77hgMbw4I9eU",
    "colab_type": "code",
    "colab": {}
   },
   "cell_type": "code",
   "source": [
    "x = np.arange(-5.0, 5.0, 0.1)\n",
    "y = sigmoid(x)\n",
    "plt.plot(x, y)\n",
    "plt.ylim(-0.1, 1.1)\n",
    "plt.show()"
   ],
   "execution_count": 0,
   "outputs": []
  },
  {
   "metadata": {
    "id": "DX8oowm0I9ec",
    "colab_type": "code",
    "colab": {}
   },
   "cell_type": "code",
   "source": [
    "def dsigmoid(x):\n",
    "  return x*(1 - x)"
   ],
   "execution_count": 0,
   "outputs": []
  },
  {
   "metadata": {
    "id": "SlHXlmp6QqH3",
    "colab_type": "code",
    "colab": {}
   },
   "cell_type": "code",
   "source": [
    "x = np.arange(-5.0, 5.0, 0.1)\n",
    "y = dsigmoid(sigmoid(x))\n",
    "plt.plot(x, y)\n",
    "plt.ylim(-0.1, 1.1)\n",
    "plt.show()"
   ],
   "execution_count": 0,
   "outputs": []
  },
  {
   "metadata": {
    "id": "NO0ByZQ2I9ei",
    "colab_type": "text"
   },
   "cell_type": "markdown",
   "source": [
    "## 3.2 活性化関数と学習式の変更\n",
    "\n",
    "なぜこの形に出来るのか？\n",
    "\n",
    "誤差を少なくする→微分して値が小さくなる方向へパラメータを修正する\n",
    "\n",
    "という考え方を説明します。"
   ]
  },
  {
   "metadata": {
    "id": "lU-V-l1tI9ek",
    "colab_type": "code",
    "colab": {}
   },
   "cell_type": "code",
   "source": [
    "def h(x):\n",
    "    return sigmoid(x)"
   ],
   "execution_count": 0,
   "outputs": []
  },
  {
   "metadata": {
    "id": "JYY2NyMII9er",
    "colab_type": "code",
    "colab": {}
   },
   "cell_type": "code",
   "source": [
    "def dh(x):\n",
    "    return dsigmoid(x)"
   ],
   "execution_count": 0,
   "outputs": []
  },
  {
   "metadata": {
    "id": "D2Y5uiT3KskA",
    "colab_type": "code",
    "colab": {}
   },
   "cell_type": "code",
   "source": [
    "def train_perceptron(w, x, t):\n",
    "  y = output_perceptron(w, x)\n",
    "#   dw = alpha*(y - t)*x\n",
    "  dw = alpha*(y - t)*x*dh(y)\n",
    "  w -= dw\n",
    "  square_error = np.square(y - t)\n",
    "  return square_error"
   ],
   "execution_count": 0,
   "outputs": []
  },
  {
   "metadata": {
    "id": "ZOG0IS3cSw2Q",
    "colab_type": "code",
    "colab": {}
   },
   "cell_type": "code",
   "source": [
    "neurons_w = np.random.rand(10, 28*28) * 0.1\n",
    "b = 0.1\n",
    "alpha = 0.01\n",
    "train_mnist(1)"
   ],
   "execution_count": 0,
   "outputs": []
  },
  {
   "metadata": {
    "id": "KvmcyjOhSym5",
    "colab_type": "code",
    "colab": {}
   },
   "cell_type": "code",
   "source": [
    "alpha = 0.01\n",
    "train_mnist(1000)"
   ],
   "execution_count": 0,
   "outputs": []
  },
  {
   "metadata": {
    "id": "pZkTkinsS4Sn",
    "colab_type": "code",
    "colab": {}
   },
   "cell_type": "code",
   "source": [
    "alpha = 0.001\n",
    "train_mnist(10000)"
   ],
   "execution_count": 0,
   "outputs": []
  },
  {
   "metadata": {
    "id": "RA8QLm_9S_-U",
    "colab_type": "code",
    "colab": {}
   },
   "cell_type": "code",
   "source": [
    "test_mnist()"
   ],
   "execution_count": 0,
   "outputs": []
  },
  {
   "metadata": {
    "id": "4nNmYUGZTDVt",
    "colab_type": "code",
    "colab": {}
   },
   "cell_type": "code",
   "source": [
    "test_mnist_error()"
   ],
   "execution_count": 0,
   "outputs": []
  },
  {
   "metadata": {
    "id": "sskaL5EN9U2k",
    "colab_type": "code",
    "colab": {}
   },
   "cell_type": "code",
   "source": [
    ""
   ],
   "execution_count": 0,
   "outputs": []
  }
 ]
}
