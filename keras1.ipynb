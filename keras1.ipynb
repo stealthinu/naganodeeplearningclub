{
 "nbformat": 4,
 "nbformat_minor": 0,
 "metadata": {
  "colab": {
   "name": "keras1.ipynb",
   "version": "0.3.2",
   "provenance": [],
   "collapsed_sections": []
  },
  "kernelspec": {
   "display_name": "Python 3",
   "language": "python",
   "name": "python3"
  },
  "accelerator": "GPU"
 },
 "cells": [
  {
   "metadata": {
    "id": "dVVQipMMlJQ8",
    "colab_type": "text"
   },
   "cell_type": "markdown",
   "source": [
    "## 使用するライブラリとデータセットの読み込み"
   ]
  },
  {
   "metadata": {
    "id": "hBipI-33lJQ-",
    "colab_type": "code",
    "colab": {}
   },
   "cell_type": "code",
   "source": [
    "import numpy as np\n",
    "import tensorflow as tf\n",
    "import matplotlib.pyplot as plt\n",
    "from scipy.misc import toimage\n",
    "from keras.datasets import mnist\n",
    "from keras.utils import np_utils"
   ],
   "execution_count": 0,
   "outputs": []
  },
  {
   "metadata": {
    "id": "IXeamDRjlJRC",
    "colab_type": "code",
    "colab": {}
   },
   "cell_type": "code",
   "source": [
    "from keras.datasets import mnist\n",
    "from keras.datasets import fashion_mnist\n",
    "from keras.datasets import cifar10"
   ],
   "execution_count": 0,
   "outputs": []
  },
  {
   "metadata": {
    "id": "BsEt4AkplJRK",
    "colab_type": "text"
   },
   "cell_type": "markdown",
   "source": [
    "## KerasのサンプルデータセットのMNISTのデータ読み込み"
   ]
  },
  {
   "metadata": {
    "id": "mJ6vODb6lJRL",
    "colab_type": "code",
    "colab": {}
   },
   "cell_type": "code",
   "source": [
    "(X_train, y_train), (X_test, y_test) = mnist.load_data()"
   ],
   "execution_count": 0,
   "outputs": []
  },
  {
   "metadata": {
    "id": "oQig_rTulJRQ",
    "colab_type": "code",
    "colab": {}
   },
   "cell_type": "code",
   "source": [
    "X_train.shape"
   ],
   "execution_count": 0,
   "outputs": []
  },
  {
   "metadata": {
    "id": "qTH9x1KhlJRT",
    "colab_type": "code",
    "colab": {}
   },
   "cell_type": "code",
   "source": [
    "X_train[1]"
   ],
   "execution_count": 0,
   "outputs": []
  },
  {
   "metadata": {
    "id": "P9I3cnb2lJRW",
    "colab_type": "code",
    "colab": {}
   },
   "cell_type": "code",
   "source": [
    "X_train = X_train.astype('float32')\n",
    "X_test = X_test.astype('float32')\n",
    "X_train /= 255\n",
    "X_test /= 255"
   ],
   "execution_count": 0,
   "outputs": []
  },
  {
   "metadata": {
    "id": "HFgJoZg-y2yM",
    "colab_type": "code",
    "colab": {}
   },
   "cell_type": "code",
   "source": [
    "def print_mnist_image(data):\n",
    "  fig, subplts = plt.subplots(ncols=10, figsize=(20, 2))\n",
    "  for i in range(10):\n",
    "    image = data[i]\n",
    "    two_d = (np.reshape(image, (28, 28)) * 255).astype(np.uint8)\n",
    "    subplts[i].axis('off')\n",
    "    subplts[i].imshow(two_d, interpolation='nearest')\n",
    "  \n",
    "print_mnist_image(X_train)"
   ],
   "execution_count": 0,
   "outputs": []
  },
  {
   "metadata": {
    "id": "ddl5iOtalJRa",
    "colab_type": "code",
    "colab": {}
   },
   "cell_type": "code",
   "source": [
    "y_train[1]"
   ],
   "execution_count": 0,
   "outputs": []
  },
  {
   "metadata": {
    "id": "iV43MrPclJRg",
    "colab_type": "code",
    "colab": {}
   },
   "cell_type": "code",
   "source": [
    "Y_train = np_utils.to_categorical(y_train, 10)"
   ],
   "execution_count": 0,
   "outputs": []
  },
  {
   "metadata": {
    "id": "9_WsczyolJRk",
    "colab_type": "code",
    "colab": {}
   },
   "cell_type": "code",
   "source": [
    "Y_train[1]"
   ],
   "execution_count": 0,
   "outputs": []
  },
  {
   "metadata": {
    "id": "-3823yoolJRn",
    "colab_type": "code",
    "colab": {}
   },
   "cell_type": "code",
   "source": [
    "Y_test = np_utils.to_categorical(y_test, 10)"
   ],
   "execution_count": 0,
   "outputs": []
  },
  {
   "metadata": {
    "id": "xbsWQBQrlJRp",
    "colab_type": "text"
   },
   "cell_type": "markdown",
   "source": [
    "\n",
    "## Kerasでパーセプトロンの実装とMNISTのテスト"
   ]
  },
  {
   "metadata": {
    "id": "2k1JFr1LlJRq",
    "colab_type": "code",
    "colab": {}
   },
   "cell_type": "code",
   "source": [
    "from keras.models import Sequential\n",
    "from keras.layers import Dense, Dropout, Activation\n",
    "from keras.layers import BatchNormalization\n",
    "from keras.optimizers import SGD, Adam"
   ],
   "execution_count": 0,
   "outputs": []
  },
  {
   "metadata": {
    "id": "9oziD2BSlJRt",
    "colab_type": "code",
    "colab": {}
   },
   "cell_type": "code",
   "source": [
    "def plot_history(history):\n",
    "    plt.plot(history.history['acc'])\n",
    "    plt.plot(history.history['val_acc'])\n",
    "    plt.legend(['acc', 'val_acc'], loc='lower right')\n",
    "    plt.show()\n",
    "    plt.plot(history.history['loss'])\n",
    "    plt.plot(history.history['val_loss'])\n",
    "    plt.legend(['loss', 'val_loss'], loc='lower right')\n",
    "    plt.show()"
   ],
   "execution_count": 0,
   "outputs": []
  },
  {
   "metadata": {
    "id": "Ru2SsvVglJRw",
    "colab_type": "code",
    "colab": {}
   },
   "cell_type": "code",
   "source": [
    "def test_mnist():\n",
    "    test_num = 10\n",
    "    start = np.random.randint(X_test.shape[0] - test_num)\n",
    "    x_test = X_test[start:start+test_num]\n",
    "    y_test = Y_test[start:start+test_num]\n",
    "\n",
    "    fig, subplts = plt.subplots(ncols=10, figsize=(20, 2))\n",
    "    for i in range(10):\n",
    "        image = x_test[i]\n",
    "        two_d = (np.reshape(image, (28, 28)) * 255).astype(np.uint8)\n",
    "        subplts[i].axis('off')\n",
    "        subplts[i].imshow(two_d, interpolation='nearest')\n",
    "\n",
    "    print(np.argmax(y_test, axis=1))\n",
    "\n",
    "    preds = model.predict(x_test.reshape(test_num,784))\n",
    "    print(np.argmax(preds, axis=1))"
   ],
   "execution_count": 0,
   "outputs": []
  },
  {
   "metadata": {
    "id": "9nR8cfJGlJRx",
    "colab_type": "code",
    "colab": {}
   },
   "cell_type": "code",
   "source": [
    "model = Sequential()\n",
    "model.add(Dense(10, input_shape=(784,)))\n",
    "model.add(Activation('sigmoid'))"
   ],
   "execution_count": 0,
   "outputs": []
  },
  {
   "metadata": {
    "id": "K76_uEETlJRz",
    "colab_type": "code",
    "colab": {}
   },
   "cell_type": "code",
   "source": [
    "model.summary()"
   ],
   "execution_count": 0,
   "outputs": []
  },
  {
   "metadata": {
    "id": "KgJ_c0EHlJR2",
    "colab_type": "code",
    "colab": {}
   },
   "cell_type": "code",
   "source": [
    "model.compile(optimizer='SGD',\n",
    "              loss='mean_squared_error',\n",
    "              metrics=['accuracy'])"
   ],
   "execution_count": 0,
   "outputs": []
  },
  {
   "metadata": {
    "id": "XDxyhjz3lJR5",
    "colab_type": "code",
    "colab": {}
   },
   "cell_type": "code",
   "source": [
    "history = model.fit(X_train.reshape(60000, 784), Y_train,\n",
    "                    validation_data=(X_test.reshape(10000, 784), Y_test),\n",
    "                    batch_size=10, epochs=5)"
   ],
   "execution_count": 0,
   "outputs": []
  },
  {
   "metadata": {
    "id": "KPjeARVilJR8",
    "colab_type": "code",
    "colab": {}
   },
   "cell_type": "code",
   "source": [
    "plot_history(history)"
   ],
   "execution_count": 0,
   "outputs": []
  },
  {
   "metadata": {
    "id": "oE7_pyh3qGcj",
    "colab_type": "code",
    "colab": {}
   },
   "cell_type": "code",
   "source": [
    ""
   ],
   "execution_count": 0,
   "outputs": []
  },
  {
   "metadata": {
    "id": "KvDJjalRlJR-",
    "colab_type": "code",
    "colab": {}
   },
   "cell_type": "code",
   "source": [
    "test_mnist()"
   ],
   "execution_count": 0,
   "outputs": []
  },
  {
   "metadata": {
    "id": "NLO-nzH2lJSA",
    "colab_type": "text"
   },
   "cell_type": "markdown",
   "source": [
    "## Kerasでバックプロパゲーションの実装とMNISTのテスト"
   ]
  },
  {
   "metadata": {
    "id": "QHlfI0pMlJSC",
    "colab_type": "code",
    "colab": {}
   },
   "cell_type": "code",
   "source": [
    "model = Sequential()\n",
    "model.add(Dense(200, input_dim=784)) # 28x28\n",
    "model.add(Activation(\"tanh\"))\n",
    "model.add(Dense(100))\n",
    "model.add(Activation(\"tanh\"))\n",
    "model.add(Dense(10))\n",
    "model.add(Activation(\"sigmoid\"))"
   ],
   "execution_count": 0,
   "outputs": []
  },
  {
   "metadata": {
    "id": "V3TnUUh_lJSE",
    "colab_type": "code",
    "colab": {}
   },
   "cell_type": "code",
   "source": [
    "model.summary()"
   ],
   "execution_count": 0,
   "outputs": []
  },
  {
   "metadata": {
    "id": "_1y_OK1alJSG",
    "colab_type": "code",
    "colab": {}
   },
   "cell_type": "code",
   "source": [
    "model.compile(optimizer='SGD',\n",
    "              loss='mean_squared_error',\n",
    "              metrics=['accuracy'])"
   ],
   "execution_count": 0,
   "outputs": []
  },
  {
   "metadata": {
    "id": "pPq6ZDqSlJSJ",
    "colab_type": "code",
    "colab": {}
   },
   "cell_type": "code",
   "source": [
    "history = model.fit(X_train.reshape(60000, 784), Y_train,\n",
    "                    validation_data=(X_test.reshape(10000, 784), Y_test),\n",
    "                    batch_size=100, epochs=5)"
   ],
   "execution_count": 0,
   "outputs": []
  },
  {
   "metadata": {
    "id": "f6CVr8VdlJSL",
    "colab_type": "code",
    "colab": {}
   },
   "cell_type": "code",
   "source": [
    "plot_history(history)"
   ],
   "execution_count": 0,
   "outputs": []
  },
  {
   "metadata": {
    "id": "KYwKTytmlJSQ",
    "colab_type": "code",
    "colab": {}
   },
   "cell_type": "code",
   "source": [
    "test_mnist()"
   ],
   "execution_count": 0,
   "outputs": []
  },
  {
   "metadata": {
    "id": "DsT5W5krlJST",
    "colab_type": "code",
    "colab": {}
   },
   "cell_type": "code",
   "source": [
    "model = Sequential()\n",
    "model.add(Dense(200, input_dim=784)) # 28x28\n",
    "model.add(Activation(\"relu\"))\n",
    "model.add(BatchNormalization())\n",
    "model.add(Dense(100))\n",
    "model.add(Activation(\"relu\"))\n",
    "model.add(BatchNormalization())\n",
    "model.add(Dense(10))\n",
    "model.add(Activation(\"sigmoid\"))"
   ],
   "execution_count": 0,
   "outputs": []
  },
  {
   "metadata": {
    "id": "piqrtyh3lJTE",
    "colab_type": "code",
    "colab": {}
   },
   "cell_type": "code",
   "source": [
    "model.compile(optimizer='SGD',\n",
    "              loss='mean_squared_error',\n",
    "              metrics=['accuracy'])"
   ],
   "execution_count": 0,
   "outputs": []
  },
  {
   "metadata": {
    "id": "KX0rly_klJTG",
    "colab_type": "code",
    "colab": {}
   },
   "cell_type": "code",
   "source": [
    "history = model.fit(X_train.reshape(60000, 784), Y_train,\n",
    "                    validation_data=(X_test.reshape(10000, 784), Y_test),\n",
    "                    batch_size=100, epochs=5)"
   ],
   "execution_count": 0,
   "outputs": []
  },
  {
   "metadata": {
    "id": "3jW81m73lJTI",
    "colab_type": "code",
    "colab": {}
   },
   "cell_type": "code",
   "source": [
    "plot_history(history)"
   ],
   "execution_count": 0,
   "outputs": []
  },
  {
   "metadata": {
    "id": "qgEyrBhelJTQ",
    "colab_type": "code",
    "colab": {}
   },
   "cell_type": "code",
   "source": [
    "test_mnist()"
   ],
   "execution_count": 0,
   "outputs": []
  },
  {
   "metadata": {
    "id": "L0gt_F0JlJTS",
    "colab_type": "code",
    "colab": {}
   },
   "cell_type": "code",
   "source": [
    "model.compile(optimizer=Adam(),\n",
    "              loss='categorical_crossentropy',\n",
    "              metrics=['accuracy'])"
   ],
   "execution_count": 0,
   "outputs": []
  },
  {
   "metadata": {
    "id": "ed6JWtCylJTU",
    "colab_type": "code",
    "colab": {}
   },
   "cell_type": "code",
   "source": [
    "history = model.fit(X_train.reshape(60000, 784), Y_train,\n",
    "                    validation_data=(X_test.reshape(10000, 784), Y_test),\n",
    "                    batch_size=1000, epochs=5)"
   ],
   "execution_count": 0,
   "outputs": []
  },
  {
   "metadata": {
    "id": "c_G3Gja9lJTX",
    "colab_type": "code",
    "colab": {}
   },
   "cell_type": "code",
   "source": [
    "plot_history(history)"
   ],
   "execution_count": 0,
   "outputs": []
  },
  {
   "metadata": {
    "id": "ZiBrq6A-lJTZ",
    "colab_type": "code",
    "colab": {}
   },
   "cell_type": "code",
   "source": [
    "test_mnist()"
   ],
   "execution_count": 0,
   "outputs": []
  },
  {
   "metadata": {
    "id": "-J80nQPwlJTc",
    "colab_type": "text"
   },
   "cell_type": "markdown",
   "source": [
    "## Kerasで小さなCNNの実装とMNISTのテスト"
   ]
  },
  {
   "metadata": {
    "id": "1ZDvoVFZlJTd",
    "colab_type": "code",
    "colab": {}
   },
   "cell_type": "code",
   "source": [
    "from keras.layers import Dense, Dropout, Activation, Flatten\n",
    "from keras.layers import Convolution2D, MaxPooling2D"
   ],
   "execution_count": 0,
   "outputs": []
  },
  {
   "metadata": {
    "id": "QJFTWhhalJTh",
    "colab_type": "code",
    "colab": {}
   },
   "cell_type": "code",
   "source": [
    "model = Sequential()\n",
    "\n",
    "model.add(Convolution2D(20, 3, 3, border_mode='same', input_shape=(28, 28, 1)))\n",
    "model.add(Activation('relu'))\n",
    "model.add(BatchNormalization())\n",
    "\n",
    "model.add(MaxPooling2D(pool_size=(2, 2)))\n",
    "\n",
    "model.add(Convolution2D(40, 3, 3, border_mode='same'))\n",
    "model.add(Activation('relu'))\n",
    "model.add(BatchNormalization())\n",
    "\n",
    "model.add(MaxPooling2D(pool_size=(2, 2)))\n",
    "\n",
    "model.add(Flatten())\n",
    "model.add(Dense(50))\n",
    "model.add(Activation('relu'))\n",
    "model.add(BatchNormalization())\n",
    "\n",
    "model.add(Dense(10))\n",
    "model.add(Activation('softmax'))"
   ],
   "execution_count": 0,
   "outputs": []
  },
  {
   "metadata": {
    "id": "JFI_5GKxlJTk",
    "colab_type": "code",
    "colab": {}
   },
   "cell_type": "code",
   "source": [
    "model.compile(loss='categorical_crossentropy',\n",
    "              optimizer=SGD(momentum=0.9, nesterov=True),\n",
    "              metrics=['accuracy'])\n",
    "model.summary()"
   ],
   "execution_count": 0,
   "outputs": []
  },
  {
   "metadata": {
    "id": "xSzu37BJlJTm",
    "colab_type": "code",
    "colab": {}
   },
   "cell_type": "code",
   "source": [
    "history = model.fit(X_train.reshape(60000, 28, 28, 1), Y_train,\n",
    "                    validation_data=(X_test.reshape(10000, 28, 28, 1), Y_test),\n",
    "                    batch_size=1000, epochs=5)"
   ],
   "execution_count": 0,
   "outputs": []
  },
  {
   "metadata": {
    "id": "HKwmSVrElJTo",
    "colab_type": "code",
    "colab": {}
   },
   "cell_type": "code",
   "source": [
    "plot_history(history)"
   ],
   "execution_count": 0,
   "outputs": []
  },
  {
   "metadata": {
    "id": "Zu3rb9LulJTq",
    "colab_type": "code",
    "colab": {}
   },
   "cell_type": "code",
   "source": [
    "def test_mnist_cnn():\n",
    "    test_num = 10\n",
    "    start = np.random.randint(X_test.shape[0] - test_num)\n",
    "    x_test = X_test[start:start+test_num]\n",
    "    y_test = Y_test[start:start+test_num]\n",
    "\n",
    "    fig, subplts = plt.subplots(ncols=10, figsize=(20, 2))\n",
    "    for i in range(10):\n",
    "        image = x_test[i]\n",
    "        two_d = (np.reshape(image, (28, 28)) * 255).astype(np.uint8)\n",
    "        subplts[i].axis('off')\n",
    "        subplts[i].imshow(two_d, interpolation='nearest')\n",
    "\n",
    "    print(np.argmax(y_test, axis=1))\n",
    "\n",
    "    preds = model.predict(x_test.reshape(test_num,28,28,1))\n",
    "    print(np.argmax(preds, axis=1))"
   ],
   "execution_count": 0,
   "outputs": []
  },
  {
   "metadata": {
    "id": "Nk03PXthlJTs",
    "colab_type": "code",
    "colab": {}
   },
   "cell_type": "code",
   "source": [
    "test_mnist_cnn()"
   ],
   "execution_count": 0,
   "outputs": []
  },
  {
   "metadata": {
    "id": "AiquMGJnlJTv",
    "colab_type": "code",
    "colab": {}
   },
   "cell_type": "code",
   "source": [
    "from sklearn.preprocessing import MinMaxScaler\n",
    "\n",
    "# http://aidiary.hatenablog.com/entry/20161120/1479640534\n",
    "def visualize_filter(model):\n",
    "    W = model.layers[0].get_weights()[0]\n",
    "    # (nb_filter, nb_channel, nb_row, nb_col)\n",
    "    W = W.transpose(3, 2, 0, 1)\n",
    "    (nb_filter, nb_channel, nb_row, nb_col) = W.shape\n",
    "\n",
    "    plt.figure()\n",
    "    for i in range(nb_filter):\n",
    "        im = W[i, 0]\n",
    "        scaler = MinMaxScaler(feature_range=(0, 255))\n",
    "        im = scaler.fit_transform(im)\n",
    "\n",
    "        plt.subplot(4, 8, i + 1)\n",
    "        plt.axis('off')\n",
    "        plt.imshow(im, cmap=\"gray\")\n",
    "    plt.show()"
   ],
   "execution_count": 0,
   "outputs": []
  },
  {
   "metadata": {
    "id": "oLJ5JuOOlJTz",
    "colab_type": "code",
    "colab": {}
   },
   "cell_type": "code",
   "source": [
    "visualize_filter(model)"
   ],
   "execution_count": 0,
   "outputs": []
  },
  {
   "metadata": {
    "id": "Um4TxTqS3vGN",
    "colab_type": "text"
   },
   "cell_type": "markdown",
   "source": [
    "## fashion_mnistでテスト"
   ]
  },
  {
   "metadata": {
    "id": "cOJ4I4Fnysu0",
    "colab_type": "code",
    "colab": {}
   },
   "cell_type": "code",
   "source": [
    "(X_train, y_train), (X_test, y_test) = fashion_mnist.load_data()"
   ],
   "execution_count": 0,
   "outputs": []
  },
  {
   "metadata": {
    "id": "c0sA9ErqzDN5",
    "colab_type": "code",
    "colab": {}
   },
   "cell_type": "code",
   "source": [
    "X_train = X_train.astype('float32')\n",
    "X_test = X_test.astype('float32')\n",
    "X_train /= 255\n",
    "X_test /= 255\n",
    "Y_train = np_utils.to_categorical(y_train, 10)\n",
    "Y_test = np_utils.to_categorical(y_test, 10)"
   ],
   "execution_count": 0,
   "outputs": []
  },
  {
   "metadata": {
    "id": "S-CexcCF5Crm",
    "colab_type": "text"
   },
   "cell_type": "markdown",
   "source": [
    "0 \tTシャツ/トップス  \n",
    "1 \tズボン  \n",
    "2 \tプルオーバー  \n",
    "3 \tドレス  \n",
    "4 \tコート  \n",
    "5 \tサンダル  \n",
    "6 \tシャツ  \n",
    "7 \tスニーカー  \n",
    "8 \tバッグ  \n",
    "9 \tアンクルブーツ  "
   ]
  },
  {
   "metadata": {
    "id": "xnV-kDUr0_Bi",
    "colab_type": "code",
    "colab": {}
   },
   "cell_type": "code",
   "source": [
    "print_mnist_image(X_train)"
   ],
   "execution_count": 0,
   "outputs": []
  },
  {
   "metadata": {
    "id": "BN-AYpLnlJT0",
    "colab_type": "text"
   },
   "cell_type": "markdown",
   "source": [
    "## Kerasで小さなCNNでCIFAR10のテスト"
   ]
  },
  {
   "metadata": {
    "id": "sUV5PTsplJT1",
    "colab_type": "code",
    "colab": {}
   },
   "cell_type": "code",
   "source": [
    "(X_train, y_train), (X_test, y_test) = cifar10.load_data()\n",
    "\n",
    "X_train = X_train.astype('float32')\n",
    "X_test = X_test.astype('float32')\n",
    "X_train /= 255.0\n",
    "X_test /= 255.0\n",
    "\n",
    "Y_train = np_utils.to_categorical(y_train, 10)\n",
    "Y_test = np_utils.to_categorical(y_test, 10)"
   ],
   "execution_count": 0,
   "outputs": []
  },
  {
   "metadata": {
    "id": "NnGp5M9VlJT3",
    "colab_type": "code",
    "colab": {}
   },
   "cell_type": "code",
   "source": [
    "model = Sequential()\n",
    "\n",
    "model.add(Convolution2D(20, 3, 3, border_mode='same', input_shape=(32, 32, 3)))\n",
    "model.add(Activation('relu'))\n",
    "model.add(BatchNormalization())\n",
    "\n",
    "model.add(MaxPooling2D(pool_size=(2, 2)))\n",
    "\n",
    "model.add(Convolution2D(40, 3, 3, border_mode='same'))\n",
    "model.add(Activation('relu'))\n",
    "model.add(BatchNormalization())\n",
    "\n",
    "model.add(MaxPooling2D(pool_size=(2, 2)))\n",
    "\n",
    "model.add(Flatten())\n",
    "model.add(Dense(50))\n",
    "model.add(Activation('relu'))\n",
    "model.add(BatchNormalization())\n",
    "\n",
    "model.add(Dense(10))\n",
    "model.add(Activation('softmax'))"
   ],
   "execution_count": 0,
   "outputs": []
  },
  {
   "metadata": {
    "id": "bx0zFP4glJT5",
    "colab_type": "code",
    "colab": {}
   },
   "cell_type": "code",
   "source": [
    "model.compile(loss='categorical_crossentropy',\n",
    "              optimizer=SGD(momentum=0.9, nesterov=True),\n",
    "              metrics=['accuracy'])\n",
    "model.summary()"
   ],
   "execution_count": 0,
   "outputs": []
  },
  {
   "metadata": {
    "id": "z42TPFmylJT9",
    "colab_type": "code",
    "colab": {}
   },
   "cell_type": "code",
   "source": [
    "history = model.fit(X_train, Y_train,\n",
    "                    validation_data=(X_test, Y_test),\n",
    "                    batch_size=1000, epochs=5)"
   ],
   "execution_count": 0,
   "outputs": []
  },
  {
   "metadata": {
    "id": "KtMuIuRrejnY",
    "colab_type": "code",
    "colab": {}
   },
   "cell_type": "code",
   "source": [
    "plot_history(history)"
   ],
   "execution_count": 0,
   "outputs": []
  },
  {
   "metadata": {
    "id": "gUL5LWyHlJT_",
    "colab_type": "code",
    "colab": {}
   },
   "cell_type": "code",
   "source": [
    "def test_cifar10():\n",
    "    test_num = 10\n",
    "    start = np.random.randint(X_test.shape[0] - test_num)\n",
    "    x_test = X_test[start:start+test_num]\n",
    "    y_test = Y_test[start:start+test_num]\n",
    "\n",
    "    fig, subplts = plt.subplots(ncols=10, figsize=(20, 2))\n",
    "    for i in range(10):\n",
    "        image = x_test[i]\n",
    "        two_d = (np.reshape(image, (32, 32, 3)) * 255).astype(np.uint8)\n",
    "        subplts[i].axis('off')\n",
    "        subplts[i].imshow(two_d, interpolation='nearest')\n",
    "\n",
    "    print(np.argmax(y_test, axis=1))\n",
    "\n",
    "    preds = model.predict(x_test)\n",
    "    print(np.argmax(preds, axis=1))"
   ],
   "execution_count": 0,
   "outputs": []
  },
  {
   "metadata": {
    "id": "dpGoD-RPlJUE",
    "colab_type": "code",
    "colab": {}
   },
   "cell_type": "code",
   "source": [
    "test_cifar10()\n",
    "# 0:airplane, 1:automobile, 2:bird, 3:cat, 4:deer, 5:dog, 6:frog, 7:horse, 8:ship, 9:truck"
   ],
   "execution_count": 0,
   "outputs": []
  },
  {
   "metadata": {
    "id": "xAPty1nWlJUO",
    "colab_type": "code",
    "colab": {}
   },
   "cell_type": "code",
   "source": [
    "def visualize_filter_color(model):\n",
    "    W = model.layers[0].get_weights()[0]\n",
    "    # (nb_filter, nb_channel, nb_row, nb_col)\n",
    "    W = W.transpose(3, 2, 0, 1)\n",
    "    (nb_filter, nb_channel, nb_row, nb_col) = W.shape\n",
    "\n",
    "    plt.figure()\n",
    "    rgb_hash = {0: \"Reds\", 1: \"Greens\", 2: \"Blues\"}\n",
    "    for rgb in range(3):\n",
    "        for i in range(nb_filter):\n",
    "            im = W[i, rgb]\n",
    "            scaler = MinMaxScaler(feature_range=(0, 255))\n",
    "            im = scaler.fit_transform(im)\n",
    "\n",
    "            plt.subplot(40*3//10, 10, rgb*40 + i + 1)\n",
    "            plt.axis('off')\n",
    "            plt.imshow(im, cmap=rgb_hash[rgb])\n",
    "    plt.show()"
   ],
   "execution_count": 0,
   "outputs": []
  },
  {
   "metadata": {
    "id": "zy-romqGlJUQ",
    "colab_type": "code",
    "colab": {}
   },
   "cell_type": "code",
   "source": [
    "visualize_filter_color(model)"
   ],
   "execution_count": 0,
   "outputs": []
  },
  {
   "metadata": {
    "id": "hjFTIX5PlJUS",
    "colab_type": "text"
   },
   "cell_type": "markdown",
   "source": [
    "## 重みデータのsave/load"
   ]
  },
  {
   "metadata": {
    "id": "bowb5wDJlJUU",
    "colab_type": "code",
    "colab": {}
   },
   "cell_type": "code",
   "source": [
    "model.save_weights(\"cifar10_model_weights.h5\")"
   ],
   "execution_count": 0,
   "outputs": []
  },
  {
   "metadata": {
    "id": "D5G6oh6LlJUW",
    "colab_type": "code",
    "colab": {}
   },
   "cell_type": "code",
   "source": [
    "model.load_weights(\"cifar10_model_weights.h5\")"
   ],
   "execution_count": 0,
   "outputs": []
  },
  {
   "metadata": {
    "id": "JnAFzIggviQ-",
    "colab_type": "text"
   },
   "cell_type": "markdown",
   "source": [
    "## もっと大きなCNNでテスト"
   ]
  },
  {
   "metadata": {
    "id": "evasQjpDwAjE",
    "colab_type": "code",
    "colab": {}
   },
   "cell_type": "code",
   "source": [
    "from keras.layers import Conv2D"
   ],
   "execution_count": 0,
   "outputs": []
  },
  {
   "metadata": {
    "id": "aKR6oD4Rvl9b",
    "colab_type": "code",
    "colab": {}
   },
   "cell_type": "code",
   "source": [
    "model = Sequential()\n",
    "\n",
    "model.add(Conv2D(256, 3, padding='same', input_shape=(32, 32, 3)))\n",
    "model.add(Activation('relu'))\n",
    "model.add(BatchNormalization())\n",
    "\n",
    "model.add(MaxPooling2D(2))\n",
    "\n",
    "model.add(Conv2D(384, 3, padding='same'))\n",
    "model.add(Activation('relu'))\n",
    "model.add(BatchNormalization())\n",
    "\n",
    "model.add(MaxPooling2D(2))\n",
    "\n",
    "model.add(Conv2D(384, 3, padding='same'))\n",
    "model.add(Activation('relu'))\n",
    "model.add(BatchNormalization())\n",
    "\n",
    "model.add(MaxPooling2D(2))\n",
    "\n",
    "model.add(Conv2D(384, 3, padding='same'))\n",
    "model.add(Activation('relu'))\n",
    "model.add(BatchNormalization())\n",
    "\n",
    "model.add(Conv2D(384, 3, padding='same'))\n",
    "model.add(Activation('relu'))\n",
    "model.add(BatchNormalization())\n",
    "\n",
    "model.add(Flatten())\n",
    "model.add(Dense(50))\n",
    "model.add(Activation('relu'))\n",
    "model.add(BatchNormalization())\n",
    "\n",
    "model.add(Dense(10))\n",
    "model.add(Activation('softmax'))"
   ],
   "execution_count": 0,
   "outputs": []
  },
  {
   "metadata": {
    "id": "HoX4EDyYxHYt",
    "colab_type": "code",
    "colab": {}
   },
   "cell_type": "code",
   "source": [
    "model.compile(loss='categorical_crossentropy',\n",
    "              optimizer=SGD(momentum=0.9, nesterov=True),\n",
    "              metrics=['accuracy'])\n",
    "model.summary()"
   ],
   "execution_count": 0,
   "outputs": []
  },
  {
   "metadata": {
    "id": "2Fmy1pVsv2Pb",
    "colab_type": "code",
    "colab": {}
   },
   "cell_type": "code",
   "source": [
    "history = model.fit(X_train, Y_train,\n",
    "                    validation_data=(X_test, Y_test),\n",
    "                    batch_size=100, epochs=5)"
   ],
   "execution_count": 0,
   "outputs": []
  },
  {
   "metadata": {
    "id": "3QwY_2elM7bQ",
    "colab_type": "text"
   },
   "cell_type": "markdown",
   "source": [
    "# Fashion MNIST GPU test"
   ]
  },
  {
   "metadata": {
    "id": "Mc7FsQ5Hy3SK",
    "colab_type": "code",
    "colab": {}
   },
   "cell_type": "code",
   "source": [
    "import tensorflow as tf\n",
    "import numpy as np\n",
    "\n",
    "(x_train, y_train), (x_test, y_test) = tf.keras.datasets.fashion_mnist.load_data()\n",
    "\n",
    "# add empty color dimension\n",
    "x_train = np.expand_dims(x_train, -1)\n",
    "x_test = np.expand_dims(x_test, -1)"
   ],
   "execution_count": 0,
   "outputs": []
  },
  {
   "metadata": {
    "id": "CAsUasElNJN6",
    "colab_type": "code",
    "colab": {}
   },
   "cell_type": "code",
   "source": [
    "model = tf.keras.models.Sequential()\n",
    "model.add(tf.keras.layers.BatchNormalization(input_shape=x_train.shape[1:]))\n",
    "model.add(tf.keras.layers.Conv2D(256, (5, 5), padding='same', activation='elu'))\n",
    "model.add(tf.keras.layers.MaxPooling2D(pool_size=(2, 2), strides=(2,2)))\n",
    "model.add(tf.keras.layers.Dropout(0.25))\n",
    "\n",
    "model.add(tf.keras.layers.BatchNormalization(input_shape=x_train.shape[1:]))\n",
    "model.add(tf.keras.layers.Conv2D(256, (5, 5), padding='same', activation='elu'))\n",
    "model.add(tf.keras.layers.MaxPooling2D(pool_size=(2, 2)))\n",
    "model.add(tf.keras.layers.Dropout(0.25))\n",
    "\n",
    "model.add(tf.keras.layers.BatchNormalization(input_shape=x_train.shape[1:]))\n",
    "model.add(tf.keras.layers.Conv2D(256, (5, 5), padding='same', activation='elu'))\n",
    "model.add(tf.keras.layers.MaxPooling2D(pool_size=(2, 2), strides=(2,2)))\n",
    "model.add(tf.keras.layers.Dropout(0.25))\n",
    "\n",
    "model.add(tf.keras.layers.Flatten())\n",
    "model.add(tf.keras.layers.Dense(256))\n",
    "model.add(tf.keras.layers.Activation('elu'))\n",
    "model.add(tf.keras.layers.Dropout(0.5))\n",
    "model.add(tf.keras.layers.Dense(10))\n",
    "model.add(tf.keras.layers.Activation('softmax'))\n",
    "model.summary()"
   ],
   "execution_count": 0,
   "outputs": []
  },
  {
   "metadata": {
    "id": "_JYxUtJZNJ7V",
    "colab_type": "code",
    "colab": {}
   },
   "cell_type": "code",
   "source": [
    "model.compile(\n",
    "    optimizer=tf.train.AdamOptimizer(learning_rate=1e-3, ),\n",
    "    loss=tf.keras.losses.sparse_categorical_crossentropy,\n",
    "    metrics=['sparse_categorical_accuracy']\n",
    ")\n",
    "\n",
    "def train_gen(batch_size):\n",
    "  while True:\n",
    "    offset = np.random.randint(0, x_train.shape[0] - batch_size)\n",
    "    yield x_train[offset:offset+batch_size], y_train[offset:offset + batch_size]\n",
    "    \n",
    "\n",
    "model.fit_generator(\n",
    "    train_gen(10240),\n",
    "    epochs=2,\n",
    "    steps_per_epoch=10,\n",
    "    validation_data=(x_test, y_test),\n",
    ")"
   ],
   "execution_count": 0,
   "outputs": []
  },
  {
   "metadata": {
    "id": "BMGdteHy483z",
    "colab_type": "code",
    "colab": {}
   },
   "cell_type": "code",
   "source": [
    "model.fit_generator(\n",
    "    train_gen(10240),\n",
    "    epochs=10,\n",
    "    steps_per_epoch=10,\n",
    "    validation_data=(x_test, y_test),\n",
    ")"
   ],
   "execution_count": 0,
   "outputs": []
  },
  {
   "metadata": {
    "id": "EbYTtQPpNWL7",
    "colab_type": "code",
    "colab": {}
   },
   "cell_type": "code",
   "source": [
    "LABEL_NAMES = ['t_shirt', 'trouser', 'pullover', 'dress', 'coat', 'sandal', 'shirt', 'sneaker', 'bag', 'ankle_boots']\n",
    "\n",
    "\n",
    "from matplotlib import pyplot\n",
    "%matplotlib inline\n",
    "\n",
    "def plot_predictions(images, predictions):\n",
    "  n = images.shape[0]\n",
    "  nc = int(np.ceil(n / 4))\n",
    "  f, axes = pyplot.subplots(nc, 4)\n",
    "  for i in range(nc * 4):\n",
    "    y = i // 4\n",
    "    x = i % 4\n",
    "    axes[x, y].axis('off')\n",
    "    \n",
    "    label = LABEL_NAMES[np.argmax(predictions[i])]\n",
    "    confidence = np.max(predictions[i])\n",
    "    if i > n:\n",
    "      continue\n",
    "    axes[x, y].imshow(images[i])\n",
    "    axes[x, y].text(0.5, 0.5, label + '\\n%.3f' % confidence, fontsize=14)\n",
    "\n",
    "  pyplot.gcf().set_size_inches(8, 8)  \n",
    "\n",
    "plot_predictions(np.squeeze(x_test[:16]), \n",
    "                 model.predict(x_test[:16]))\n"
   ],
   "execution_count": 0,
   "outputs": []
  }
 ]
}
