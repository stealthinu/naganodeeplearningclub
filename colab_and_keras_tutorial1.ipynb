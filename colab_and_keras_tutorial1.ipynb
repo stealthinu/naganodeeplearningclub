{
 "nbformat": 4,
 "nbformat_minor": 0,
 "metadata": {
  "colab": {
   "name": "colab_and_keras_tutorial1.ipynb",
   "version": "0.3.2",
   "provenance": [],
   "collapsed_sections": [],
   "toc_visible": true
  },
  "kernelspec": {
   "name": "python3",
   "display_name": "Python 3"
  },
  "accelerator": "TPU"
 },
 "cells": [
  {
   "metadata": {
    "id": "UROm1IsoYIj2",
    "colab_type": "text"
   },
   "cell_type": "markdown",
   "source": [
    "# Kerasの公式ドキュメント\n",
    "\n",
    "https://keras.io/ja/"
   ]
  },
  {
   "metadata": {
    "id": "kiku6GVY4HkT",
    "colab_type": "text"
   },
   "cell_type": "markdown",
   "source": [
    "# 事前準備"
   ]
  },
  {
   "metadata": {
    "id": "dVVQipMMlJQ8",
    "colab_type": "text"
   },
   "cell_type": "markdown",
   "source": [
    "## ライブラリとデータセットの読み込み"
   ]
  },
  {
   "metadata": {
    "id": "hBipI-33lJQ-",
    "colab_type": "code",
    "colab": {}
   },
   "cell_type": "code",
   "source": [
    "  import numpy as np\n",
    "import tensorflow as tf\n",
    "import matplotlib.pyplot as plt\n",
    "from scipy.misc import toimage\n",
    "from tensorflow.keras.utils import to_categorical"
   ],
   "execution_count": 0,
   "outputs": []
  },
  {
   "metadata": {
    "id": "IXeamDRjlJRC",
    "colab_type": "code",
    "colab": {}
   },
   "cell_type": "code",
   "source": [
    "from tensorflow.keras.datasets import mnist\n",
    "from tensorflow.keras.datasets import fashion_mnist\n",
    "from tensorflow.keras.datasets import cifar10"
   ],
   "execution_count": 0,
   "outputs": []
  },
  {
   "metadata": {
    "id": "BsEt4AkplJRK",
    "colab_type": "text"
   },
   "cell_type": "markdown",
   "source": [
    "## MNISTのデータ読み込み\n",
    "\n",
    "テストです。\n",
    "\n",
    "y=x^2"
   ]
  },
  {
   "metadata": {
    "id": "mJ6vODb6lJRL",
    "colab_type": "code",
    "colab": {}
   },
   "cell_type": "code",
   "source": [
    "(X_train, y_train), (X_test, y_test) = mnist.load_data()"
   ],
   "execution_count": 0,
   "outputs": []
  },
  {
   "metadata": {
    "id": "oQig_rTulJRQ",
    "colab_type": "code",
    "colab": {
     "base_uri": "https://localhost:8080/",
     "height": 34
    },
    "outputId": "44692d80-116f-496d-9231-22c87cd67c36",
    "executionInfo": {
     "status": "ok",
     "timestamp": 1545301862285,
     "user_tz": -540,
     "elapsed": 383,
     "user": {
      "displayName": "Kiyoshi SATOH",
      "photoUrl": "https://lh5.googleusercontent.com/-Axv1tw7iUyw/AAAAAAAAAAI/AAAAAAAAALU/27WeD4XMZh0/s64/photo.jpg",
      "userId": "17263090257850830810"
     }
    }
   },
   "cell_type": "code",
   "source": [
    "X_train.shape"
   ],
   "execution_count": 18,
   "outputs": [
    {
     "output_type": "execute_result",
     "data": {
      "text/plain": [
       "(60000, 28, 28)"
      ]
     },
     "metadata": {
      "tags": []
     },
     "execution_count": 18
    }
   ]
  },
  {
   "metadata": {
    "id": "qTH9x1KhlJRT",
    "colab_type": "code",
    "colab": {
     "base_uri": "https://localhost:8080/",
     "height": 1445
    },
    "outputId": "1e91c6f8-dfb4-4ae7-d972-42edf81a9112",
    "executionInfo": {
     "status": "ok",
     "timestamp": 1545301864787,
     "user_tz": -540,
     "elapsed": 644,
     "user": {
      "displayName": "Kiyoshi SATOH",
      "photoUrl": "https://lh5.googleusercontent.com/-Axv1tw7iUyw/AAAAAAAAAAI/AAAAAAAAALU/27WeD4XMZh0/s64/photo.jpg",
      "userId": "17263090257850830810"
     }
    }
   },
   "cell_type": "code",
   "source": [
    "X_train[1]"
   ],
   "execution_count": 19,
   "outputs": [
    {
     "output_type": "execute_result",
     "data": {
      "text/plain": [
       "array([[  0,   0,   0,   0,   0,   0,   0,   0,   0,   0,   0,   0,   0,\n",
       "          0,   0,   0,   0,   0,   0,   0,   0,   0,   0,   0,   0,   0,\n",
       "          0,   0],\n",
       "       [  0,   0,   0,   0,   0,   0,   0,   0,   0,   0,   0,   0,   0,\n",
       "          0,   0,   0,   0,   0,   0,   0,   0,   0,   0,   0,   0,   0,\n",
       "          0,   0],\n",
       "       [  0,   0,   0,   0,   0,   0,   0,   0,   0,   0,   0,   0,   0,\n",
       "          0,   0,   0,   0,   0,   0,   0,   0,   0,   0,   0,   0,   0,\n",
       "          0,   0],\n",
       "       [  0,   0,   0,   0,   0,   0,   0,   0,   0,   0,   0,   0,   0,\n",
       "          0,   0,   0,   0,   0,   0,   0,   0,   0,   0,   0,   0,   0,\n",
       "          0,   0],\n",
       "       [  0,   0,   0,   0,   0,   0,   0,   0,   0,   0,   0,   0,   0,\n",
       "          0,   0,  51, 159, 253, 159,  50,   0,   0,   0,   0,   0,   0,\n",
       "          0,   0],\n",
       "       [  0,   0,   0,   0,   0,   0,   0,   0,   0,   0,   0,   0,   0,\n",
       "          0,  48, 238, 252, 252, 252, 237,   0,   0,   0,   0,   0,   0,\n",
       "          0,   0],\n",
       "       [  0,   0,   0,   0,   0,   0,   0,   0,   0,   0,   0,   0,   0,\n",
       "         54, 227, 253, 252, 239, 233, 252,  57,   6,   0,   0,   0,   0,\n",
       "          0,   0],\n",
       "       [  0,   0,   0,   0,   0,   0,   0,   0,   0,   0,   0,  10,  60,\n",
       "        224, 252, 253, 252, 202,  84, 252, 253, 122,   0,   0,   0,   0,\n",
       "          0,   0],\n",
       "       [  0,   0,   0,   0,   0,   0,   0,   0,   0,   0,   0, 163, 252,\n",
       "        252, 252, 253, 252, 252,  96, 189, 253, 167,   0,   0,   0,   0,\n",
       "          0,   0],\n",
       "       [  0,   0,   0,   0,   0,   0,   0,   0,   0,   0,  51, 238, 253,\n",
       "        253, 190, 114, 253, 228,  47,  79, 255, 168,   0,   0,   0,   0,\n",
       "          0,   0],\n",
       "       [  0,   0,   0,   0,   0,   0,   0,   0,   0,  48, 238, 252, 252,\n",
       "        179,  12,  75, 121,  21,   0,   0, 253, 243,  50,   0,   0,   0,\n",
       "          0,   0],\n",
       "       [  0,   0,   0,   0,   0,   0,   0,   0,  38, 165, 253, 233, 208,\n",
       "         84,   0,   0,   0,   0,   0,   0, 253, 252, 165,   0,   0,   0,\n",
       "          0,   0],\n",
       "       [  0,   0,   0,   0,   0,   0,   0,   7, 178, 252, 240,  71,  19,\n",
       "         28,   0,   0,   0,   0,   0,   0, 253, 252, 195,   0,   0,   0,\n",
       "          0,   0],\n",
       "       [  0,   0,   0,   0,   0,   0,   0,  57, 252, 252,  63,   0,   0,\n",
       "          0,   0,   0,   0,   0,   0,   0, 253, 252, 195,   0,   0,   0,\n",
       "          0,   0],\n",
       "       [  0,   0,   0,   0,   0,   0,   0, 198, 253, 190,   0,   0,   0,\n",
       "          0,   0,   0,   0,   0,   0,   0, 255, 253, 196,   0,   0,   0,\n",
       "          0,   0],\n",
       "       [  0,   0,   0,   0,   0,   0,  76, 246, 252, 112,   0,   0,   0,\n",
       "          0,   0,   0,   0,   0,   0,   0, 253, 252, 148,   0,   0,   0,\n",
       "          0,   0],\n",
       "       [  0,   0,   0,   0,   0,   0,  85, 252, 230,  25,   0,   0,   0,\n",
       "          0,   0,   0,   0,   0,   7, 135, 253, 186,  12,   0,   0,   0,\n",
       "          0,   0],\n",
       "       [  0,   0,   0,   0,   0,   0,  85, 252, 223,   0,   0,   0,   0,\n",
       "          0,   0,   0,   0,   7, 131, 252, 225,  71,   0,   0,   0,   0,\n",
       "          0,   0],\n",
       "       [  0,   0,   0,   0,   0,   0,  85, 252, 145,   0,   0,   0,   0,\n",
       "          0,   0,   0,  48, 165, 252, 173,   0,   0,   0,   0,   0,   0,\n",
       "          0,   0],\n",
       "       [  0,   0,   0,   0,   0,   0,  86, 253, 225,   0,   0,   0,   0,\n",
       "          0,   0, 114, 238, 253, 162,   0,   0,   0,   0,   0,   0,   0,\n",
       "          0,   0],\n",
       "       [  0,   0,   0,   0,   0,   0,  85, 252, 249, 146,  48,  29,  85,\n",
       "        178, 225, 253, 223, 167,  56,   0,   0,   0,   0,   0,   0,   0,\n",
       "          0,   0],\n",
       "       [  0,   0,   0,   0,   0,   0,  85, 252, 252, 252, 229, 215, 252,\n",
       "        252, 252, 196, 130,   0,   0,   0,   0,   0,   0,   0,   0,   0,\n",
       "          0,   0],\n",
       "       [  0,   0,   0,   0,   0,   0,  28, 199, 252, 252, 253, 252, 252,\n",
       "        233, 145,   0,   0,   0,   0,   0,   0,   0,   0,   0,   0,   0,\n",
       "          0,   0],\n",
       "       [  0,   0,   0,   0,   0,   0,   0,  25, 128, 252, 253, 252, 141,\n",
       "         37,   0,   0,   0,   0,   0,   0,   0,   0,   0,   0,   0,   0,\n",
       "          0,   0],\n",
       "       [  0,   0,   0,   0,   0,   0,   0,   0,   0,   0,   0,   0,   0,\n",
       "          0,   0,   0,   0,   0,   0,   0,   0,   0,   0,   0,   0,   0,\n",
       "          0,   0],\n",
       "       [  0,   0,   0,   0,   0,   0,   0,   0,   0,   0,   0,   0,   0,\n",
       "          0,   0,   0,   0,   0,   0,   0,   0,   0,   0,   0,   0,   0,\n",
       "          0,   0],\n",
       "       [  0,   0,   0,   0,   0,   0,   0,   0,   0,   0,   0,   0,   0,\n",
       "          0,   0,   0,   0,   0,   0,   0,   0,   0,   0,   0,   0,   0,\n",
       "          0,   0],\n",
       "       [  0,   0,   0,   0,   0,   0,   0,   0,   0,   0,   0,   0,   0,\n",
       "          0,   0,   0,   0,   0,   0,   0,   0,   0,   0,   0,   0,   0,\n",
       "          0,   0]], dtype=uint8)"
      ]
     },
     "metadata": {
      "tags": []
     },
     "execution_count": 19
    }
   ]
  },
  {
   "metadata": {
    "id": "P9I3cnb2lJRW",
    "colab_type": "code",
    "colab": {}
   },
   "cell_type": "code",
   "source": [
    "X_train = X_train.astype('float32')\n",
    "X_test = X_test.astype('float32')\n",
    "X_train /= 255\n",
    "X_test /= 255"
   ],
   "execution_count": 0,
   "outputs": []
  },
  {
   "metadata": {
    "id": "HFgJoZg-y2yM",
    "colab_type": "code",
    "colab": {
     "base_uri": "https://localhost:8080/",
     "height": 165
    },
    "outputId": "8586a6a4-9a06-423a-c127-d0c57eec3103",
    "executionInfo": {
     "status": "ok",
     "timestamp": 1545301880252,
     "user_tz": -540,
     "elapsed": 1089,
     "user": {
      "displayName": "Kiyoshi SATOH",
      "photoUrl": "https://lh5.googleusercontent.com/-Axv1tw7iUyw/AAAAAAAAAAI/AAAAAAAAALU/27WeD4XMZh0/s64/photo.jpg",
      "userId": "17263090257850830810"
     }
    }
   },
   "cell_type": "code",
   "source": [
    "def print_mnist_image(data):\n",
    "  fig, subplts = plt.subplots(ncols=10, figsize=(20, 2))\n",
    "  for i in range(10):\n",
    "    image = data[i]\n",
    "    two_d = (np.reshape(image, (28, 28)) * 255).astype(np.uint8)\n",
    "    subplts[i].axis('off')\n",
    "    subplts[i].imshow(two_d, interpolation='nearest')\n",
    "  \n",
    "print_mnist_image(X_train)"
   ],
   "execution_count": 21,
   "outputs": [
    {
     "output_type": "display_data",
     "data": {
      "image/png": "[encoded data removed]",
      "text/plain": [
       "<matplotlib.figure.Figure at 0x7ffb751d3c18>"
      ]
     },
     "metadata": {
      "tags": []
     }
    }
   ]
  },
  {
   "metadata": {
    "id": "ddl5iOtalJRa",
    "colab_type": "code",
    "colab": {
     "base_uri": "https://localhost:8080/",
     "height": 34
    },
    "outputId": "50bfb146-a743-4325-e994-95c4e75f3de2",
    "executionInfo": {
     "status": "ok",
     "timestamp": 1545301881066,
     "user_tz": -540,
     "elapsed": 392,
     "user": {
      "displayName": "Kiyoshi SATOH",
      "photoUrl": "https://lh5.googleusercontent.com/-Axv1tw7iUyw/AAAAAAAAAAI/AAAAAAAAALU/27WeD4XMZh0/s64/photo.jpg",
      "userId": "17263090257850830810"
     }
    }
   },
   "cell_type": "code",
   "source": [
    "y_train[1]"
   ],
   "execution_count": 22,
   "outputs": [
    {
     "output_type": "execute_result",
     "data": {
      "text/plain": [
       "0"
      ]
     },
     "metadata": {
      "tags": []
     },
     "execution_count": 22
    }
   ]
  },
  {
   "metadata": {
    "id": "iV43MrPclJRg",
    "colab_type": "code",
    "colab": {}
   },
   "cell_type": "code",
   "source": [
    "Y_train = to_categorical(y_train, 10)"
   ],
   "execution_count": 0,
   "outputs": []
  },
  {
   "metadata": {
    "id": "9_WsczyolJRk",
    "colab_type": "code",
    "colab": {
     "base_uri": "https://localhost:8080/",
     "height": 34
    },
    "outputId": "75c806df-c1bf-4d7e-f9e4-1791cb2542fd",
    "executionInfo": {
     "status": "ok",
     "timestamp": 1545301884111,
     "user_tz": -540,
     "elapsed": 397,
     "user": {
      "displayName": "Kiyoshi SATOH",
      "photoUrl": "https://lh5.googleusercontent.com/-Axv1tw7iUyw/AAAAAAAAAAI/AAAAAAAAALU/27WeD4XMZh0/s64/photo.jpg",
      "userId": "17263090257850830810"
     }
    }
   },
   "cell_type": "code",
   "source": [
    "Y_train[1]"
   ],
   "execution_count": 24,
   "outputs": [
    {
     "output_type": "execute_result",
     "data": {
      "text/plain": [
       "array([1., 0., 0., 0., 0., 0., 0., 0., 0., 0.], dtype=float32)"
      ]
     },
     "metadata": {
      "tags": []
     },
     "execution_count": 24
    }
   ]
  },
  {
   "metadata": {
    "id": "-3823yoolJRn",
    "colab_type": "code",
    "colab": {}
   },
   "cell_type": "code",
   "source": [
    "Y_test = to_categorical(y_test, 10)"
   ],
   "execution_count": 0,
   "outputs": []
  },
  {
   "metadata": {
    "id": "xbsWQBQrlJRp",
    "colab_type": "text"
   },
   "cell_type": "markdown",
   "source": [
    "\n",
    "# パーセプトロンでMNIST"
   ]
  },
  {
   "metadata": {
    "id": "4vviI_BL-83Y",
    "colab_type": "code",
    "colab": {}
   },
   "cell_type": "code",
   "source": [
    "from tensorflow.keras.models import Sequential\n",
    "from tensorflow.keras.layers import Dense, Activation\n",
    "from tensorflow.keras.optimizers import SGD\n",
    "from tensorflow.keras.losses import mean_squared_error"
   ],
   "execution_count": 0,
   "outputs": []
  },
  {
   "metadata": {
    "id": "ESKBcSQzAHdb",
    "colab_type": "text"
   },
   "cell_type": "markdown",
   "source": [
    "### ニューラルネットワークの作成"
   ]
  },
  {
   "metadata": {
    "id": "9nR8cfJGlJRx",
    "colab_type": "code",
    "colab": {}
   },
   "cell_type": "code",
   "source": [
    "model = Sequential()\n",
    "model.add(Dense(10, input_shape=(784,)))\n",
    "model.add(Activation('sigmoid'))"
   ],
   "execution_count": 0,
   "outputs": []
  },
  {
   "metadata": {
    "id": "K76_uEETlJRz",
    "colab_type": "code",
    "colab": {
     "base_uri": "https://localhost:8080/",
     "height": 204
    },
    "outputId": "4e4ba758-4c05-4a5a-9c39-de5e6ba7d41c",
    "executionInfo": {
     "status": "ok",
     "timestamp": 1545302283697,
     "user_tz": -540,
     "elapsed": 543,
     "user": {
      "displayName": "Kiyoshi SATOH",
      "photoUrl": "https://lh5.googleusercontent.com/-Axv1tw7iUyw/AAAAAAAAAAI/AAAAAAAAALU/27WeD4XMZh0/s64/photo.jpg",
      "userId": "17263090257850830810"
     }
    }
   },
   "cell_type": "code",
   "source": [
    "model.summary()"
   ],
   "execution_count": 29,
   "outputs": [
    {
     "output_type": "stream",
     "text": [
      "_________________________________________________________________\n",
      "Layer (type)                 Output Shape              Param #   \n",
      "=================================================================\n",
      "dense (Dense)                (None, 10)                7850      \n",
      "_________________________________________________________________\n",
      "activation (Activation)      (None, 10)                0         \n",
      "=================================================================\n",
      "Total params: 7,850\n",
      "Trainable params: 7,850\n",
      "Non-trainable params: 0\n",
      "_________________________________________________________________\n"
     ],
     "name": "stdout"
    }
   ]
  },
  {
   "metadata": {
    "id": "KgJ_c0EHlJR2",
    "colab_type": "code",
    "colab": {}
   },
   "cell_type": "code",
   "source": [
    "model.compile(\n",
    "    loss=mean_squared_error,\n",
    "    optimizer=SGD(),\n",
    "    metrics=['accuracy'])"
   ],
   "execution_count": 0,
   "outputs": []
  },
  {
   "metadata": {
    "id": "VTyysOtDAOtl",
    "colab_type": "text"
   },
   "cell_type": "markdown",
   "source": [
    "### ネットワークを学習させる"
   ]
  },
  {
   "metadata": {
    "id": "XDxyhjz3lJR5",
    "colab_type": "code",
    "colab": {
     "base_uri": "https://localhost:8080/",
     "height": 204
    },
    "outputId": "3fc36f08-353d-4659-ad88-6850b7f45feb",
    "executionInfo": {
     "status": "ok",
     "timestamp": 1545302377866,
     "user_tz": -540,
     "elapsed": 6105,
     "user": {
      "displayName": "Kiyoshi SATOH",
      "photoUrl": "https://lh5.googleusercontent.com/-Axv1tw7iUyw/AAAAAAAAAAI/AAAAAAAAALU/27WeD4XMZh0/s64/photo.jpg",
      "userId": "17263090257850830810"
     }
    }
   },
   "cell_type": "code",
   "source": [
    "history = model.fit(X_train.reshape(60000, 784), Y_train,\n",
    "                    validation_data=(X_test.reshape(10000, 784), Y_test),\n",
    "                    batch_size=100, epochs=5)"
   ],
   "execution_count": 33,
   "outputs": [
    {
     "output_type": "stream",
     "text": [
      "Train on 60000 samples, validate on 10000 samples\n",
      "Epoch 1/5\n",
      "60000/60000 [==============================] - 1s 19us/step - loss: 0.0612 - acc: 0.6833 - val_loss: 0.0596 - val_acc: 0.6972\n",
      "Epoch 2/5\n",
      "60000/60000 [==============================] - 1s 19us/step - loss: 0.0593 - acc: 0.6987 - val_loss: 0.0578 - val_acc: 0.7146\n",
      "Epoch 3/5\n",
      "60000/60000 [==============================] - 1s 19us/step - loss: 0.0576 - acc: 0.7145 - val_loss: 0.0561 - val_acc: 0.7295\n",
      "Epoch 4/5\n",
      "60000/60000 [==============================] - 1s 19us/step - loss: 0.0561 - acc: 0.7279 - val_loss: 0.0547 - val_acc: 0.7437\n",
      "Epoch 5/5\n",
      "60000/60000 [==============================] - 1s 19us/step - loss: 0.0547 - acc: 0.7412 - val_loss: 0.0533 - val_acc: 0.7566\n"
     ],
     "name": "stdout"
    }
   ]
  },
  {
   "metadata": {
    "id": "mnRta1yQAXvG",
    "colab_type": "text"
   },
   "cell_type": "markdown",
   "source": [
    "### 学習進行状況の表示\n",
    "\n",
    "accが認識率、lossが教師信号との誤差"
   ]
  },
  {
   "metadata": {
    "id": "9oziD2BSlJRt",
    "colab_type": "code",
    "colab": {}
   },
   "cell_type": "code",
   "source": [
    "def plot_history(history):\n",
    "    plt.plot(history.history['acc'])\n",
    "    plt.plot(history.history['val_acc'])\n",
    "    plt.legend(['acc', 'val_acc'], loc='lower right')\n",
    "    plt.show()\n",
    "    plt.plot(history.history['loss'])\n",
    "    plt.plot(history.history['val_loss'])\n",
    "    plt.legend(['loss', 'val_loss'], loc='lower right')\n",
    "    plt.show()"
   ],
   "execution_count": 0,
   "outputs": []
  },
  {
   "metadata": {
    "id": "KPjeARVilJR8",
    "colab_type": "code",
    "colab": {
     "base_uri": "https://localhost:8080/",
     "height": 680
    },
    "outputId": "a86c2e37-9161-4f13-f6b4-270cee99dbc7",
    "executionInfo": {
     "status": "ok",
     "timestamp": 1545302394966,
     "user_tz": -540,
     "elapsed": 1578,
     "user": {
      "displayName": "Kiyoshi SATOH",
      "photoUrl": "https://lh5.googleusercontent.com/-Axv1tw7iUyw/AAAAAAAAAAI/AAAAAAAAALU/27WeD4XMZh0/s64/photo.jpg",
      "userId": "17263090257850830810"
     }
    }
   },
   "cell_type": "code",
   "source": [
    "plot_history(history)"
   ],
   "execution_count": 35,
   "outputs": [
    {
     "output_type": "display_data",
     "data": {
      "image/png": "[encoded data removed]",
      "text/plain": [
       "<matplotlib.figure.Figure at 0x7ffb747449e8>"
      ]
     },
     "metadata": {
      "tags": []
     }
    },
    {
     "output_type": "display_data",
     "data": {
      "image/png": "[encoded data removed]",
      "text/plain": [
       "<matplotlib.figure.Figure at 0x7ffb71702be0>"
      ]
     },
     "metadata": {
      "tags": []
     }
    }
   ]
  },
  {
   "metadata": {
    "id": "Wcac-6bVBqEO",
    "colab_type": "text"
   },
   "cell_type": "markdown",
   "source": [
    "### 学習したネットワークで認識させる"
   ]
  },
  {
   "metadata": {
    "id": "Ru2SsvVglJRw",
    "colab_type": "code",
    "colab": {}
   },
   "cell_type": "code",
   "source": [
    "def test_mnist():\n",
    "    test_num = 10\n",
    "    start = np.random.randint(X_test.shape[0] - test_num)\n",
    "    x_test = X_test[start:start+test_num]\n",
    "    y_test = Y_test[start:start+test_num]\n",
    "\n",
    "    fig, subplts = plt.subplots(ncols=10, figsize=(20, 2))\n",
    "    for i in range(10):\n",
    "        image = x_test[i]\n",
    "        two_d = (np.reshape(image, (28, 28)) * 255).astype(np.uint8)\n",
    "        subplts[i].axis('off')\n",
    "        subplts[i].imshow(two_d, interpolation='nearest')\n",
    "\n",
    "    print(np.argmax(y_test, axis=1))\n",
    "\n",
    "    preds = model.predict(x_test.reshape(test_num,784))\n",
    "    print(np.argmax(preds, axis=1))"
   ],
   "execution_count": 0,
   "outputs": []
  },
  {
   "metadata": {
    "id": "KvDJjalRlJR-",
    "colab_type": "code",
    "colab": {
     "base_uri": "https://localhost:8080/",
     "height": 199
    },
    "outputId": "2c7d5fa5-6c33-4002-b7a8-c483f5575166",
    "executionInfo": {
     "status": "ok",
     "timestamp": 1545302577315,
     "user_tz": -540,
     "elapsed": 1276,
     "user": {
      "displayName": "Kiyoshi SATOH",
      "photoUrl": "https://lh5.googleusercontent.com/-Axv1tw7iUyw/AAAAAAAAAAI/AAAAAAAAALU/27WeD4XMZh0/s64/photo.jpg",
      "userId": "17263090257850830810"
     }
    }
   },
   "cell_type": "code",
   "source": [
    "test_mnist()"
   ],
   "execution_count": 38,
   "outputs": [
    {
     "output_type": "stream",
     "text": [
      "[2 6 4 0 5 9 9 8 9 5]\n",
      "[2 6 4 0 3 9 9 8 9 1]\n"
     ],
     "name": "stdout"
    },
    {
     "output_type": "display_data",
     "data": {
      "image/png": "[encoded data removed]",
      "text/plain": [
       "<matplotlib.figure.Figure at 0x7ffb713c8ba8>"
      ]
     },
     "metadata": {
      "tags": []
     }
    }
   ]
  },
  {
   "metadata": {
    "id": "NLO-nzH2lJSA",
    "colab_type": "text"
   },
   "cell_type": "markdown",
   "source": [
    "# バックプロパゲーションでMNIST"
   ]
  },
  {
   "metadata": {
    "id": "0eU3jeQK_Qu_",
    "colab_type": "code",
    "colab": {}
   },
   "cell_type": "code",
   "source": [
    "from tensorflow.keras.models import Sequential\n",
    "from tensorflow.keras.layers import Dense, Activation\n",
    "from tensorflow.keras.layers import BatchNormalization\n",
    "from tensorflow.keras.optimizers import SGD, Adam\n",
    "from tensorflow.keras.losses import mean_squared_error"
   ],
   "execution_count": 0,
   "outputs": []
  },
  {
   "metadata": {
    "id": "QHlfI0pMlJSC",
    "colab_type": "code",
    "colab": {}
   },
   "cell_type": "code",
   "source": [
    "model = Sequential()\n",
    "model.add(Dense(200, input_dim=784)) # 28x28\n",
    "model.add(Activation(\"relu\"))\n",
    "model.add(Dense(100))\n",
    "model.add(Activation(\"relu\"))\n",
    "model.add(Dense(10))\n",
    "model.add(Activation(\"sigmoid\"))"
   ],
   "execution_count": 0,
   "outputs": []
  },
  {
   "metadata": {
    "id": "V3TnUUh_lJSE",
    "colab_type": "code",
    "colab": {}
   },
   "cell_type": "code",
   "source": [
    "model.summary()"
   ],
   "execution_count": 0,
   "outputs": []
  },
  {
   "metadata": {
    "id": "_1y_OK1alJSG",
    "colab_type": "code",
    "colab": {}
   },
   "cell_type": "code",
   "source": [
    "model.compile(\n",
    "    loss=mean_squared_error,\n",
    "    optimizer=SGD(),\n",
    "    metrics=['accuracy'])"
   ],
   "execution_count": 0,
   "outputs": []
  },
  {
   "metadata": {
    "id": "pPq6ZDqSlJSJ",
    "colab_type": "code",
    "colab": {}
   },
   "cell_type": "code",
   "source": [
    "history = model.fit(\n",
    "    X_train.reshape(60000, 784), Y_train,\n",
    "     validation_data=(X_test.reshape(10000, 784), Y_test),\n",
    "     batch_size=100, epochs=5)"
   ],
   "execution_count": 0,
   "outputs": []
  },
  {
   "metadata": {
    "id": "f6CVr8VdlJSL",
    "colab_type": "code",
    "colab": {}
   },
   "cell_type": "code",
   "source": [
    "plot_history(history)"
   ],
   "execution_count": 0,
   "outputs": []
  },
  {
   "metadata": {
    "id": "KYwKTytmlJSQ",
    "colab_type": "code",
    "colab": {}
   },
   "cell_type": "code",
   "source": [
    "test_mnist()"
   ],
   "execution_count": 0,
   "outputs": []
  },
  {
   "metadata": {
    "id": "L8te5GtcA7iR",
    "colab_type": "text"
   },
   "cell_type": "markdown",
   "source": [
    "### Batch Normalizationの利用"
   ]
  },
  {
   "metadata": {
    "id": "DsT5W5krlJST",
    "colab_type": "code",
    "colab": {}
   },
   "cell_type": "code",
   "source": [
    "model = Sequential()\n",
    "model.add(Dense(200, input_dim=784)) # 28x28\n",
    "model.add(Activation(\"relu\"))\n",
    "model.add(BatchNormalization())\n",
    "model.add(Dense(100))\n",
    "model.add(Activation(\"relu\"))\n",
    "model.add(BatchNormalization())\n",
    "model.add(Dense(10))\n",
    "model.add(Activation(\"sigmoid\"))"
   ],
   "execution_count": 0,
   "outputs": []
  },
  {
   "metadata": {
    "id": "piqrtyh3lJTE",
    "colab_type": "code",
    "colab": {}
   },
   "cell_type": "code",
   "source": [
    "model.compile(\n",
    "    loss=mean_squared_error,\n",
    "    optimizer=SGD(),\n",
    "    metrics=['accuracy'])"
   ],
   "execution_count": 0,
   "outputs": []
  },
  {
   "metadata": {
    "id": "KX0rly_klJTG",
    "colab_type": "code",
    "colab": {}
   },
   "cell_type": "code",
   "source": [
    "history = model.fit(X_train.reshape(60000, 784), Y_train,\n",
    "                    validation_data=(X_test.reshape(10000, 784), Y_test),\n",
    "                    batch_size=100, epochs=5)"
   ],
   "execution_count": 0,
   "outputs": []
  },
  {
   "metadata": {
    "id": "3jW81m73lJTI",
    "colab_type": "code",
    "colab": {}
   },
   "cell_type": "code",
   "source": [
    "plot_history(history)"
   ],
   "execution_count": 0,
   "outputs": []
  },
  {
   "metadata": {
    "id": "qgEyrBhelJTQ",
    "colab_type": "code",
    "colab": {}
   },
   "cell_type": "code",
   "source": [
    "test_mnist()"
   ],
   "execution_count": 0,
   "outputs": []
  },
  {
   "metadata": {
    "id": "wDDP-xyJBJMP",
    "colab_type": "text"
   },
   "cell_type": "markdown",
   "source": [
    "学習のオプティマイザにAdamを利用する"
   ]
  },
  {
   "metadata": {
    "id": "L0gt_F0JlJTS",
    "colab_type": "code",
    "colab": {}
   },
   "cell_type": "code",
   "source": [
    "model.compile(optimizer=Adam(),\n",
    "              loss='categorical_crossentropy',\n",
    "              metrics=['accuracy'])"
   ],
   "execution_count": 0,
   "outputs": []
  },
  {
   "metadata": {
    "id": "ed6JWtCylJTU",
    "colab_type": "code",
    "colab": {}
   },
   "cell_type": "code",
   "source": [
    "history = model.fit(X_train.reshape(60000, 784), Y_train,\n",
    "                    validation_data=(X_test.reshape(10000, 784), Y_test),\n",
    "                    batch_size=1000, epochs=5)"
   ],
   "execution_count": 0,
   "outputs": []
  },
  {
   "metadata": {
    "id": "c_G3Gja9lJTX",
    "colab_type": "code",
    "colab": {}
   },
   "cell_type": "code",
   "source": [
    "plot_history(history)"
   ],
   "execution_count": 0,
   "outputs": []
  },
  {
   "metadata": {
    "id": "ZiBrq6A-lJTZ",
    "colab_type": "code",
    "colab": {}
   },
   "cell_type": "code",
   "source": [
    "test_mnist()"
   ],
   "execution_count": 0,
   "outputs": []
  },
  {
   "metadata": {
    "id": "-J80nQPwlJTc",
    "colab_type": "text"
   },
   "cell_type": "markdown",
   "source": [
    "# CNNでMNIST"
   ]
  },
  {
   "metadata": {
    "id": "1ZDvoVFZlJTd",
    "colab_type": "code",
    "colab": {}
   },
   "cell_type": "code",
   "source": [
    "from keras.layers import Dense, Dropout, Activation, Flatten\n",
    "from keras.layers import Convolution2D, MaxPooling2D"
   ],
   "execution_count": 0,
   "outputs": []
  },
  {
   "metadata": {
    "id": "QJFTWhhalJTh",
    "colab_type": "code",
    "colab": {}
   },
   "cell_type": "code",
   "source": [
    "model = Sequential()\n",
    "\n",
    "model.add(Convolution2D(20, 3, 3, border_mode='same', input_shape=(28, 28, 1)))\n",
    "model.add(Activation('relu'))\n",
    "model.add(BatchNormalization())\n",
    "\n",
    "model.add(MaxPooling2D(pool_size=(2, 2)))\n",
    "\n",
    "model.add(Convolution2D(40, 3, 3, border_mode='same'))\n",
    "model.add(Activation('relu'))\n",
    "model.add(BatchNormalization())\n",
    "\n",
    "model.add(MaxPooling2D(pool_size=(2, 2)))\n",
    "\n",
    "model.add(Flatten())\n",
    "model.add(Dense(50))\n",
    "model.add(Activation('relu'))\n",
    "model.add(BatchNormalization())\n",
    "\n",
    "model.add(Dense(10))\n",
    "model.add(Activation('softmax'))"
   ],
   "execution_count": 0,
   "outputs": []
  },
  {
   "metadata": {
    "id": "JFI_5GKxlJTk",
    "colab_type": "code",
    "colab": {}
   },
   "cell_type": "code",
   "source": [
    "model.compile(loss='categorical_crossentropy',\n",
    "              optimizer=SGD(momentum=0.9, nesterov=True),\n",
    "              metrics=['accuracy'])\n",
    "model.summary()"
   ],
   "execution_count": 0,
   "outputs": []
  },
  {
   "metadata": {
    "id": "xSzu37BJlJTm",
    "colab_type": "code",
    "colab": {}
   },
   "cell_type": "code",
   "source": [
    "history = model.fit(X_train.reshape(60000, 28, 28, 1), Y_train,\n",
    "                    validation_data=(X_test.reshape(10000, 28, 28, 1), Y_test),\n",
    "                    batch_size=1000, epochs=5)"
   ],
   "execution_count": 0,
   "outputs": []
  },
  {
   "metadata": {
    "id": "HKwmSVrElJTo",
    "colab_type": "code",
    "colab": {}
   },
   "cell_type": "code",
   "source": [
    "plot_history(history)"
   ],
   "execution_count": 0,
   "outputs": []
  },
  {
   "metadata": {
    "id": "Zu3rb9LulJTq",
    "colab_type": "code",
    "colab": {}
   },
   "cell_type": "code",
   "source": [
    "def test_mnist_cnn():\n",
    "    test_num = 10\n",
    "    start = np.random.randint(X_test.shape[0] - test_num)\n",
    "    x_test = X_test[start:start+test_num]\n",
    "    y_test = Y_test[start:start+test_num]\n",
    "\n",
    "    fig, subplts = plt.subplots(ncols=10, figsize=(20, 2))\n",
    "    for i in range(10):\n",
    "        image = x_test[i]\n",
    "        two_d = (np.reshape(image, (28, 28)) * 255).astype(np.uint8)\n",
    "        subplts[i].axis('off')\n",
    "        subplts[i].imshow(two_d, interpolation='nearest')\n",
    "\n",
    "    print(np.argmax(y_test, axis=1))\n",
    "\n",
    "    preds = model.predict(x_test.reshape(test_num,28,28,1))\n",
    "    print(np.argmax(preds, axis=1))"
   ],
   "execution_count": 0,
   "outputs": []
  },
  {
   "metadata": {
    "id": "Nk03PXthlJTs",
    "colab_type": "code",
    "colab": {}
   },
   "cell_type": "code",
   "source": [
    "test_mnist_cnn()"
   ],
   "execution_count": 0,
   "outputs": []
  },
  {
   "metadata": {
    "id": "AiquMGJnlJTv",
    "colab_type": "code",
    "colab": {}
   },
   "cell_type": "code",
   "source": [
    "from sklearn.preprocessing import MinMaxScaler\n",
    "\n",
    "# http://aidiary.hatenablog.com/entry/20161120/1479640534\n",
    "def visualize_filter(model):\n",
    "    W = model.layers[0].get_weights()[0]\n",
    "    # (nb_filter, nb_channel, nb_row, nb_col)\n",
    "    W = W.transpose(3, 2, 0, 1)\n",
    "    (nb_filter, nb_channel, nb_row, nb_col) = W.shape\n",
    "\n",
    "    plt.figure()\n",
    "    for i in range(nb_filter):\n",
    "        im = W[i, 0]\n",
    "        scaler = MinMaxScaler(feature_range=(0, 255))\n",
    "        im = scaler.fit_transform(im)\n",
    "\n",
    "        plt.subplot(4, 8, i + 1)\n",
    "        plt.axis('off')\n",
    "        plt.imshow(im, cmap=\"gray\")\n",
    "    plt.show()"
   ],
   "execution_count": 0,
   "outputs": []
  },
  {
   "metadata": {
    "id": "oLJ5JuOOlJTz",
    "colab_type": "code",
    "colab": {}
   },
   "cell_type": "code",
   "source": [
    "visualize_filter(model)"
   ],
   "execution_count": 0,
   "outputs": []
  },
  {
   "metadata": {
    "id": "Um4TxTqS3vGN",
    "colab_type": "text"
   },
   "cell_type": "markdown",
   "source": [
    "## Fashion MNISTの認識"
   ]
  },
  {
   "metadata": {
    "id": "cOJ4I4Fnysu0",
    "colab_type": "code",
    "colab": {}
   },
   "cell_type": "code",
   "source": [
    "(X_train, y_train), (X_test, y_test) = fashion_mnist.load_data()"
   ],
   "execution_count": 0,
   "outputs": []
  },
  {
   "metadata": {
    "id": "c0sA9ErqzDN5",
    "colab_type": "code",
    "colab": {}
   },
   "cell_type": "code",
   "source": [
    "X_train = X_train.astype('float32')\n",
    "X_test = X_test.astype('float32')\n",
    "X_train /= 255\n",
    "X_test /= 255\n",
    "Y_train = np_utils.to_categorical(y_train, 10)\n",
    "Y_test = np_utils.to_categorical(y_test, 10)"
   ],
   "execution_count": 0,
   "outputs": []
  },
  {
   "metadata": {
    "id": "S-CexcCF5Crm",
    "colab_type": "text"
   },
   "cell_type": "markdown",
   "source": [
    "0 \tTシャツ/トップス  \n",
    "1 \tズボン  \n",
    "2 \tプルオーバー  \n",
    "3 \tドレス  \n",
    "4 \tコート  \n",
    "5 \tサンダル  \n",
    "6 \tシャツ  \n",
    "7 \tスニーカー  \n",
    "8 \tバッグ  \n",
    "9 \tアンクルブーツ  "
   ]
  },
  {
   "metadata": {
    "id": "xnV-kDUr0_Bi",
    "colab_type": "code",
    "colab": {}
   },
   "cell_type": "code",
   "source": [
    "print_mnist_image(X_train)"
   ],
   "execution_count": 0,
   "outputs": []
  },
  {
   "metadata": {
    "id": "BN-AYpLnlJT0",
    "colab_type": "text"
   },
   "cell_type": "markdown",
   "source": [
    "## CIFAR10の認識"
   ]
  },
  {
   "metadata": {
    "id": "sUV5PTsplJT1",
    "colab_type": "code",
    "colab": {}
   },
   "cell_type": "code",
   "source": [
    "(X_train, y_train), (X_test, y_test) = cifar10.load_data()\n",
    "\n",
    "X_train = X_train.astype('float32')\n",
    "X_test = X_test.astype('float32')\n",
    "X_train /= 255.0\n",
    "X_test /= 255.0\n",
    "\n",
    "Y_train = np_utils.to_categorical(y_train, 10)\n",
    "Y_test = np_utils.to_categorical(y_test, 10)"
   ],
   "execution_count": 0,
   "outputs": []
  },
  {
   "metadata": {
    "id": "NnGp5M9VlJT3",
    "colab_type": "code",
    "colab": {}
   },
   "cell_type": "code",
   "source": [
    "model = Sequential()\n",
    "\n",
    "model.add(Convolution2D(20, 3, 3, border_mode='same', input_shape=(32, 32, 3)))\n",
    "model.add(Activation('relu'))\n",
    "model.add(BatchNormalization())\n",
    "\n",
    "model.add(MaxPooling2D(pool_size=(2, 2)))\n",
    "\n",
    "model.add(Convolution2D(40, 3, 3, border_mode='same'))\n",
    "model.add(Activation('relu'))\n",
    "model.add(BatchNormalization())\n",
    "\n",
    "model.add(MaxPooling2D(pool_size=(2, 2)))\n",
    "\n",
    "model.add(Flatten())\n",
    "model.add(Dense(50))\n",
    "model.add(Activation('relu'))\n",
    "model.add(BatchNormalization())\n",
    "\n",
    "model.add(Dense(10))\n",
    "model.add(Activation('softmax'))"
   ],
   "execution_count": 0,
   "outputs": []
  },
  {
   "metadata": {
    "id": "bx0zFP4glJT5",
    "colab_type": "code",
    "colab": {}
   },
   "cell_type": "code",
   "source": [
    "model.compile(loss='categorical_crossentropy',\n",
    "              optimizer=SGD(momentum=0.9, nesterov=True),\n",
    "              metrics=['accuracy'])\n",
    "model.summary()"
   ],
   "execution_count": 0,
   "outputs": []
  },
  {
   "metadata": {
    "id": "z42TPFmylJT9",
    "colab_type": "code",
    "colab": {}
   },
   "cell_type": "code",
   "source": [
    "history = model.fit(X_train, Y_train,\n",
    "                    validation_data=(X_test, Y_test),\n",
    "                    batch_size=1000, epochs=5)"
   ],
   "execution_count": 0,
   "outputs": []
  },
  {
   "metadata": {
    "id": "KtMuIuRrejnY",
    "colab_type": "code",
    "colab": {}
   },
   "cell_type": "code",
   "source": [
    "plot_history(history)"
   ],
   "execution_count": 0,
   "outputs": []
  },
  {
   "metadata": {
    "id": "gUL5LWyHlJT_",
    "colab_type": "code",
    "colab": {}
   },
   "cell_type": "code",
   "source": [
    "def test_cifar10():\n",
    "    test_num = 10\n",
    "    start = np.random.randint(X_test.shape[0] - test_num)\n",
    "    x_test = X_test[start:start+test_num]\n",
    "    y_test = Y_test[start:start+test_num]\n",
    "\n",
    "    fig, subplts = plt.subplots(ncols=10, figsize=(20, 2))\n",
    "    for i in range(10):\n",
    "        image = x_test[i]\n",
    "        two_d = (np.reshape(image, (32, 32, 3)) * 255).astype(np.uint8)\n",
    "        subplts[i].axis('off')\n",
    "        subplts[i].imshow(two_d, interpolation='nearest')\n",
    "\n",
    "    print(np.argmax(y_test, axis=1))\n",
    "\n",
    "    preds = model.predict(x_test)\n",
    "    print(np.argmax(preds, axis=1))"
   ],
   "execution_count": 0,
   "outputs": []
  },
  {
   "metadata": {
    "id": "dpGoD-RPlJUE",
    "colab_type": "code",
    "colab": {}
   },
   "cell_type": "code",
   "source": [
    "test_cifar10()\n",
    "# 0:airplane, 1:automobile, 2:bird, 3:cat, 4:deer, 5:dog, 6:frog, 7:horse, 8:ship, 9:truck"
   ],
   "execution_count": 0,
   "outputs": []
  },
  {
   "metadata": {
    "id": "xAPty1nWlJUO",
    "colab_type": "code",
    "colab": {}
   },
   "cell_type": "code",
   "source": [
    "def visualize_filter_color(model):\n",
    "    W = model.layers[0].get_weights()[0]\n",
    "    # (nb_filter, nb_channel, nb_row, nb_col)\n",
    "    W = W.transpose(3, 2, 0, 1)\n",
    "    (nb_filter, nb_channel, nb_row, nb_col) = W.shape\n",
    "\n",
    "    plt.figure()\n",
    "    rgb_hash = {0: \"Reds\", 1: \"Greens\", 2: \"Blues\"}\n",
    "    for rgb in range(3):\n",
    "        for i in range(nb_filter):\n",
    "            im = W[i, rgb]\n",
    "            scaler = MinMaxScaler(feature_range=(0, 255))\n",
    "            im = scaler.fit_transform(im)\n",
    "\n",
    "            plt.subplot(40*3//10, 10, rgb*40 + i + 1)\n",
    "            plt.axis('off')\n",
    "            plt.imshow(im, cmap=rgb_hash[rgb])\n",
    "    plt.show()"
   ],
   "execution_count": 0,
   "outputs": []
  },
  {
   "metadata": {
    "id": "zy-romqGlJUQ",
    "colab_type": "code",
    "colab": {}
   },
   "cell_type": "code",
   "source": [
    "visualize_filter_color(model)"
   ],
   "execution_count": 0,
   "outputs": []
  },
  {
   "metadata": {
    "id": "hjFTIX5PlJUS",
    "colab_type": "text"
   },
   "cell_type": "markdown",
   "source": [
    "## 重みデータのsave/load"
   ]
  },
  {
   "metadata": {
    "id": "bowb5wDJlJUU",
    "colab_type": "code",
    "colab": {}
   },
   "cell_type": "code",
   "source": [
    "model.save_weights(\"cifar10_model_weights.h5\")"
   ],
   "execution_count": 0,
   "outputs": []
  },
  {
   "metadata": {
    "id": "D5G6oh6LlJUW",
    "colab_type": "code",
    "colab": {}
   },
   "cell_type": "code",
   "source": [
    "model.load_weights(\"cifar10_model_weights.h5\")"
   ],
   "execution_count": 0,
   "outputs": []
  },
  {
   "metadata": {
    "id": "GvuBRDjzRqI_",
    "colab_type": "text"
   },
   "cell_type": "markdown",
   "source": [
    "# TPUを使う\n",
    "\n",
    "データサイズやネットワークが大きくなってくると学習にかかる時間が一気に増えるようになる。  \n",
    "TPUを利用することでものすごく速くなる。"
   ]
  },
  {
   "metadata": {
    "id": "JnAFzIggviQ-",
    "colab_type": "text"
   },
   "cell_type": "markdown",
   "source": [
    "## もう少し大きなCNNを構築"
   ]
  },
  {
   "metadata": {
    "id": "evasQjpDwAjE",
    "colab_type": "code",
    "colab": {}
   },
   "cell_type": "code",
   "source": [
    "from keras.layers import Conv2D"
   ],
   "execution_count": 0,
   "outputs": []
  },
  {
   "metadata": {
    "id": "aKR6oD4Rvl9b",
    "colab_type": "code",
    "colab": {}
   },
   "cell_type": "code",
   "source": [
    "model = Sequential()\n",
    "\n",
    "model.add(Conv2D(256, 3, padding='same', input_shape=(32, 32, 3)))\n",
    "model.add(Activation('relu'))\n",
    "model.add(BatchNormalization())\n",
    "\n",
    "model.add(MaxPooling2D(2))\n",
    "\n",
    "model.add(Conv2D(384, 3, padding='same'))\n",
    "model.add(Activation('relu'))\n",
    "model.add(BatchNormalization())\n",
    "\n",
    "model.add(MaxPooling2D(2))\n",
    "\n",
    "model.add(Conv2D(384, 3, padding='same'))\n",
    "model.add(Activation('relu'))\n",
    "model.add(BatchNormalization())\n",
    "\n",
    "model.add(MaxPooling2D(2))\n",
    "\n",
    "model.add(Conv2D(384, 3, padding='same'))\n",
    "model.add(Activation('relu'))\n",
    "model.add(BatchNormalization())\n",
    "\n",
    "model.add(Conv2D(384, 3, padding='same'))\n",
    "model.add(Activation('relu'))\n",
    "model.add(BatchNormalization())\n",
    "\n",
    "model.add(Flatten())\n",
    "model.add(Dense(50))\n",
    "model.add(Activation('relu'))\n",
    "model.add(BatchNormalization())\n",
    "\n",
    "model.add(Dense(10))\n",
    "model.add(Activation('softmax'))"
   ],
   "execution_count": 0,
   "outputs": []
  },
  {
   "metadata": {
    "id": "HoX4EDyYxHYt",
    "colab_type": "code",
    "colab": {}
   },
   "cell_type": "code",
   "source": [
    "model.compile(loss='categorical_crossentropy',\n",
    "              optimizer=SGD(momentum=0.9, nesterov=True),\n",
    "              metrics=['accuracy'])\n",
    "model.summary()"
   ],
   "execution_count": 0,
   "outputs": []
  },
  {
   "metadata": {
    "id": "2Fmy1pVsv2Pb",
    "colab_type": "code",
    "colab": {}
   },
   "cell_type": "code",
   "source": [
    "history = model.fit(X_train, Y_train,\n",
    "                    validation_data=(X_test, Y_test),\n",
    "                    batch_size=100, epochs=1)"
   ],
   "execution_count": 0,
   "outputs": []
  },
  {
   "metadata": {
    "id": "-n0AWqCe9nRp",
    "colab_type": "text"
   },
   "cell_type": "markdown",
   "source": [
    "## TPUで学習"
   ]
  },
  {
   "metadata": {
    "id": "BjYtM9BARvcf",
    "colab_type": "code",
    "colab": {}
   },
   "cell_type": "code",
   "source": [
    "import os\n",
    "tpu_model = tf.contrib.tpu.keras_to_tpu_model(\n",
    "    model,\n",
    "    strategy=tf.contrib.tpu.TPUDistributionStrategy(\n",
    "        tf.contrib.cluster_resolver.TPUClusterResolver(tpu='grpc://' + os.environ['COLAB_TPU_ADDR'])\n",
    "    )\n",
    ")"
   ],
   "execution_count": 0,
   "outputs": []
  },
  {
   "metadata": {
    "id": "5NrtUZmnR7kp",
    "colab_type": "code",
    "colab": {}
   },
   "cell_type": "code",
   "source": [
    "tpu_model.compile(\n",
    "    loss=tf.keras.losses.mean_squared_error,\n",
    "    optimizer=tf.keras.optimizers.SGD(lr=0.01),\n",
    "    metrics=['accuracy'])"
   ],
   "execution_count": 0,
   "outputs": []
  },
  {
   "metadata": {
    "id": "MlEcaKmcR_EC",
    "colab_type": "code",
    "colab": {}
   },
   "cell_type": "code",
   "source": [
    "history = tpu_model.fit(X_train.reshape(60000, 784), Y_train,\n",
    "                    validation_data=(X_test.reshape(10000, 784), Y_test),\n",
    "                    batch_size=1000, epochs=5)"
   ],
   "execution_count": 0,
   "outputs": []
  },
  {
   "metadata": {
    "id": "XQzRoUtGVwCe",
    "colab_type": "code",
    "colab": {}
   },
   "cell_type": "code",
   "source": [
    "model = tpu_model.sync_to_cpu()"
   ],
   "execution_count": 0,
   "outputs": []
  },
  {
   "metadata": {
    "id": "WUm6K0V9Vzw8",
    "colab_type": "code",
    "colab": {}
   },
   "cell_type": "code",
   "source": [
    "test_mnist()"
   ],
   "execution_count": 0,
   "outputs": []
  },
  {
   "metadata": {
    "id": "gjjzH8U97lyC",
    "colab_type": "text"
   },
   "cell_type": "markdown",
   "source": [
    "# FunctionalAPIを使う"
   ]
  },
  {
   "metadata": {
    "id": "sK6HbuvV7lWM",
    "colab_type": "code",
    "colab": {}
   },
   "cell_type": "code",
   "source": [
    ""
   ],
   "execution_count": 0,
   "outputs": []
  },
  {
   "metadata": {
    "id": "v4okOlOsi7hb",
    "colab_type": "text"
   },
   "cell_type": "markdown",
   "source": [
    "# data augmentation"
   ]
  },
  {
   "metadata": {
    "id": "CpJQlvGSi5u1",
    "colab_type": "code",
    "colab": {}
   },
   "cell_type": "code",
   "source": [
    "    # This will do preprocessing and realtime data augmentation:\n",
    "    datagen = ImageDataGenerator(\n",
    "        featurewise_center=False,  # set input mean to 0 over the dataset\n",
    "        samplewise_center=False,  # set each sample mean to 0\n",
    "        featurewise_std_normalization=False,  # divide inputs by std of the dataset\n",
    "        samplewise_std_normalization=False,  # divide each input by its std\n",
    "        zca_whitening=False,  # apply ZCA whitening\n",
    "        zca_epsilon=1e-06,  # epsilon for ZCA whitening\n",
    "        rotation_range=0,  # randomly rotate images in the range (degrees, 0 to 180)\n",
    "        # randomly shift images horizontally (fraction of total width)\n",
    "        width_shift_range=0.1,\n",
    "        # randomly shift images vertically (fraction of total height)\n",
    "        height_shift_range=0.1,\n",
    "        shear_range=0.,  # set range for random shear\n",
    "        zoom_range=0.,  # set range for random zoom\n",
    "        channel_shift_range=0.,  # set range for random channel shifts\n",
    "        # set mode for filling points outside the input boundaries\n",
    "        fill_mode='nearest',\n",
    "        cval=0.,  # value used for fill_mode = \"constant\"\n",
    "        horizontal_flip=True,  # randomly flip images\n",
    "        vertical_flip=False,  # randomly flip images\n",
    "        # set rescaling factor (applied before any other transformation)\n",
    "        rescale=None,\n",
    "        # set function that will be applied on each input\n",
    "        preprocessing_function=None,\n",
    "        # image data format, either \"channels_first\" or \"channels_last\"\n",
    "        data_format=None,\n",
    "        # fraction of images reserved for validation (strictly between 0 and 1)\n",
    "        validation_split=0.0)\n",
    "\n",
    "    # Compute quantities required for feature-wise normalization\n",
    "    # (std, mean, and principal components if ZCA whitening is applied).\n",
    "    datagen.fit(x_train)\n",
    "\n",
    "    # Fit the model on the batches generated by datagen.flow().\n",
    "    model.fit_generator(datagen.flow(x_train, y_train,\n",
    "                                     batch_size=batch_size),\n",
    "                        epochs=epochs,\n",
    "                        validation_data=(x_test, y_test),\n",
    "                        workers=4)\n"
   ],
   "execution_count": 0,
   "outputs": []
  },
  {
   "metadata": {
    "id": "CbTBU44fMIt-",
    "colab_type": "text"
   },
   "cell_type": "markdown",
   "source": [
    "# Google Driveのマウント方法\n",
    "\n",
    "ColabからGoogle Drive上のファイルへアクセスすることができる。  \n",
    "Google Drive上に置いてある学習データを使ったり、学習結果を保存したりできるため、必須。\n",
    "\n",
    "左「＞」から「コードスニペット」の  \n",
    "「Mounting Google Drive in your VM」の「→」選択するとすぐ貼り付けられます。"
   ]
  },
  {
   "metadata": {
    "id": "TGWTlD6MOE1G",
    "colab_type": "code",
    "colab": {}
   },
   "cell_type": "code",
   "source": [
    "from google.colab import drive\n",
    "drive.mount('/gdrive')"
   ],
   "execution_count": 0,
   "outputs": []
  },
  {
   "metadata": {
    "id": "ajExt7Q1Olmj",
    "colab_type": "code",
    "colab": {}
   },
   "cell_type": "code",
   "source": [
    "!ls /gdrive/\"My Drive\""
   ],
   "execution_count": 0,
   "outputs": []
  },
  {
   "metadata": {
    "id": "-0gj--tJV84i",
    "colab_type": "text"
   },
   "cell_type": "markdown",
   "source": [
    "# shape_commentator\n",
    "\n",
    "ソース中で扱っているテンソルのshapeを、コメントとして追加したソースを出力してくれる。  \n",
    "自分で複雑なネットワークを書いているとshapeが合わなくなることが多いため、非常に便利。"
   ]
  },
  {
   "metadata": {
    "id": "I5AjUzbn4VZn",
    "colab_type": "code",
    "colab": {}
   },
   "cell_type": "code",
   "source": [
    "!pip install shape_commentator"
   ],
   "execution_count": 0,
   "outputs": []
  },
  {
   "metadata": {
    "id": "foGKcff0NUw5",
    "colab_type": "code",
    "colab": {}
   },
   "cell_type": "code",
   "source": [
    "import shape_commentator"
   ],
   "execution_count": 0,
   "outputs": []
  },
  {
   "metadata": {
    "id": "G96ADlMRZsDK",
    "colab_type": "text"
   },
   "cell_type": "markdown",
   "source": [
    "shapeを得たいソースを一旦実行します"
   ]
  },
  {
   "metadata": {
    "id": "U8GUT4WpNMVT",
    "colab_type": "code",
    "colab": {}
   },
   "cell_type": "code",
   "source": [
    "a = np.array([1,2,3,4,5,6])"
   ],
   "execution_count": 0,
   "outputs": []
  },
  {
   "metadata": {
    "id": "PyOcoa3iZBPz",
    "colab_type": "text"
   },
   "cell_type": "markdown",
   "source": [
    "下記「In[9]」の数字「9」のところを上記行の［］の中の数字に置き換えた後実行します。"
   ]
  },
  {
   "metadata": {
    "id": "E2nA8lS0OLaE",
    "colab_type": "code",
    "colab": {}
   },
   "cell_type": "code",
   "source": [
    "shape_commentator.comment(In[9], globals(), locals())"
   ],
   "execution_count": 0,
   "outputs": []
  },
  {
   "metadata": {
    "id": "uKlWV-jRa0Zt",
    "colab_type": "text"
   },
   "cell_type": "markdown",
   "source": [
    "もう少し複雑な例"
   ]
  },
  {
   "metadata": {
    "id": "tQ246ktoWkx3",
    "colab_type": "code",
    "colab": {}
   },
   "cell_type": "code",
   "source": [
    "from tensorflow.keras.layers import Conv2D, Activation, Input, MaxPool2D, Dense, Flatten"
   ],
   "execution_count": 0,
   "outputs": []
  },
  {
   "metadata": {
    "id": "hyU5BVy0Yr8a",
    "colab_type": "code",
    "colab": {}
   },
   "cell_type": "code",
   "source": [
    "x = Input((28,28,1))\n",
    "x = Conv2D(16, 3, padding=\"same\")(x)\n",
    "x = Activation(\"relu\")(x)\n",
    "x = MaxPool2D(2)(x)\n",
    "x = Flatten()(x)\n",
    "x = Dense(10)(x)"
   ],
   "execution_count": 0,
   "outputs": []
  },
  {
   "metadata": {
    "id": "EvT-hCezWcgx",
    "colab_type": "code",
    "colab": {}
   },
   "cell_type": "code",
   "source": [
    "shape_commentator.comment(In[83], globals(), locals())"
   ],
   "execution_count": 0,
   "outputs": []
  },
  {
   "metadata": {
    "id": "yVJGKW1RXmH2",
    "colab_type": "code",
    "colab": {}
   },
   "cell_type": "code",
   "source": [
    ""
   ],
   "execution_count": 0,
   "outputs": []
  },
  {
   "metadata": {
    "id": "6aoQfBrBe9Dp",
    "colab_type": "text"
   },
   "cell_type": "markdown",
   "source": [
    "# TensorBoardColab\n",
    "\n",
    "tensorflowを利用しているもののネットワークや学習historyなどをブラウザ上で確認できる。"
   ]
  },
  {
   "metadata": {
    "id": "R4PuufIZyj9X",
    "colab_type": "code",
    "colab": {}
   },
   "cell_type": "code",
   "source": [
    "!pip install tensorboardcolab\n",
    "from tensorboardcolab import *"
   ],
   "execution_count": 0,
   "outputs": []
  },
  {
   "metadata": {
    "id": "nLITaUAfIWph",
    "colab_type": "code",
    "colab": {}
   },
   "cell_type": "code",
   "source": [
    "tbc = TensorBoardColab()\n",
    "summary_writer = tbc.get_writer()"
   ],
   "execution_count": 0,
   "outputs": []
  },
  {
   "metadata": {
    "id": "6_kKxpK4IiRY",
    "colab_type": "code",
    "colab": {}
   },
   "cell_type": "code",
   "source": [
    "tpu_model.fit(\n",
    "    x=x_train.reshape(60000, 28, 28, 1), y=x_train.reshape(60000, 28, 28, 1),\n",
    "    callbacks=[TensorBoardColabCallback(tbc)],\n",
    "    batch_size=2048, epochs=10\n",
    ")"
   ],
   "execution_count": 0,
   "outputs": []
  },
  {
   "metadata": {
    "id": "BeeA1_-00Mrx",
    "colab_type": "text"
   },
   "cell_type": "markdown",
   "source": [
    "# notify\n",
    "\n",
    "学習が終了したらスマホへ通知を送ることができる。"
   ]
  },
  {
   "metadata": {
    "id": "Eyjopy2Hf0RV",
    "colab_type": "code",
    "colab": {}
   },
   "cell_type": "code",
   "source": [
    "!pip install notify-run"
   ],
   "execution_count": 0,
   "outputs": []
  },
  {
   "metadata": {
    "id": "zbWT1Mt40TQK",
    "colab_type": "code",
    "colab": {}
   },
   "cell_type": "code",
   "source": [
    "from notify_run import Notify\n",
    "notify = Notify()\n",
    "notify.register()"
   ],
   "execution_count": 0,
   "outputs": []
  },
  {
   "metadata": {
    "id": "x6GKwWb35mAW",
    "colab_type": "text"
   },
   "cell_type": "markdown",
   "source": [
    "表示されたQRコードをスマホで読んで開いて認証すると、そのスマホにメッセージを送れるようになる。  \n",
    "下記カラムを実行するとメッセージが送られる。"
   ]
  },
  {
   "metadata": {
    "id": "3lNcRW2e1gEA",
    "colab_type": "code",
    "colab": {}
   },
   "cell_type": "code",
   "source": [
    "notify.send('Hello World.')"
   ],
   "execution_count": 0,
   "outputs": []
  },
  {
   "metadata": {
    "id": "YYHXj83j6HKh",
    "colab_type": "text"
   },
   "cell_type": "markdown",
   "source": [
    "Keras用のcallbackが準備されているため、学習が終了したらスマホへメッセージが送られる。"
   ]
  },
  {
   "metadata": {
    "id": "RHWkEoG20fXk",
    "colab_type": "code",
    "colab": {}
   },
   "cell_type": "code",
   "source": [
    "from notify_run.keras import NotifyCallback\n",
    "# model is a Keras model that you have created elsewhere.\n",
    "#model.fit(x, y, callbacks=[NotifyCallback()])"
   ],
   "execution_count": 0,
   "outputs": []
  }
 ]
}
